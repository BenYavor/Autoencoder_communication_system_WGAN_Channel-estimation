{
  "nbformat": 4,
  "nbformat_minor": 0,
  "metadata": {
    "colab": {
      "name": "GetStockData.ipynb",
      "provenance": [],
      "authorship_tag": "ABX9TyOL3qHZHCxDeCDib0eTBUhe",
      "include_colab_link": true
    },
    "kernelspec": {
      "name": "python3",
      "display_name": "Python 3"
    }
  },
  "cells": [
    {
      "cell_type": "markdown",
      "metadata": {
        "id": "view-in-github",
        "colab_type": "text"
      },
      "source": [
        "<a href=\"https://colab.research.google.com/github/BenYavor/Autoencoder_communication_system_WGAN_Channel-estimation/blob/master/GetStockData.ipynb\" target=\"_parent\"><img src=\"https://colab.research.google.com/assets/colab-badge.svg\" alt=\"Open In Colab\"/></a>"
      ]
    },
    {
      "cell_type": "code",
      "metadata": {
        "id": "NDTr4-XNlxrC",
        "colab_type": "code",
        "colab": {}
      },
      "source": [
        "import pandas as pd"
      ],
      "execution_count": 0,
      "outputs": []
    },
    {
      "cell_type": "code",
      "metadata": {
        "id": "n61Ev45KHGOt",
        "colab_type": "code",
        "colab": {}
      },
      "source": [
        "tesla_right_now = []\n",
        "tesla_day_high = []\n",
        "tesla_day_low = []\n",
        "tesla_opened_today = []\n",
        "tesla_opened_yesturday = []\n",
        "tesla_high_52 = []\n",
        "tesla_low_52 = []"
      ],
      "execution_count": 0,
      "outputs": []
    },
    {
      "cell_type": "markdown",
      "metadata": {
        "id": "V-0RqX14NQ42",
        "colab_type": "text"
      },
      "source": [
        "## Collect Data\n",
        "Highest rate last 52 weeks, Lowest rate last 52 weeks, opened at, yesturday opend at"
      ]
    },
    {
      "cell_type": "code",
      "metadata": {
        "id": "wKXQA1OMmscA",
        "colab_type": "code",
        "colab": {}
      },
      "source": [
        "tables_tesla = pd.read_html(\"https://www.finanzen.net/aktien/tesla-aktie\")"
      ],
      "execution_count": 0,
      "outputs": []
    },
    {
      "cell_type": "code",
      "metadata": {
        "id": "pm-h7sMRn6Tl",
        "colab_type": "code",
        "colab": {}
      },
      "source": [
        "tesla_stock = pd.DataFrame(columns = ['tesla_right_now', 'tesla_day_high','tesla_day_low','tesla_opened_today','tesla_opened_yesturday','tesla_high_52','tesla_low_52'])"
      ],
      "execution_count": 0,
      "outputs": []
    },
    {
      "cell_type": "code",
      "metadata": {
        "id": "09klQJgLo6Lz",
        "colab_type": "code",
        "colab": {}
      },
      "source": [
        "def get_tesla_data():  \n",
        "  tesla_right_now = tables_tesla[7][1][0][0:6]\n",
        "  tesla_day_high = tables_tesla[5][1][0]\n",
        "  tesla_day_low = tables_tesla[5][3][0]\n",
        "  tesla_opened_today = tables_tesla[7][4][2][0:6]\n",
        "  tesla_opened_yesturday = tables_tesla[7][4][2][9:15]\n",
        "  tesla_high_52 = tables_tesla[7][4][6][0:6]\n",
        "  tesla_low_52 = tables_tesla[7][4][7][0:6]\n",
        "  return tesla_right_now, tesla_day_high, tesla_day_low , tesla_opened_today, tesla_opened_yesturday, tesla_high_52 , tesla_low_52 "
      ],
      "execution_count": 0,
      "outputs": []
    },
    {
      "cell_type": "code",
      "metadata": {
        "id": "hj4GbpORp-rJ",
        "colab_type": "code",
        "colab": {}
      },
      "source": [
        "tesla_stock.loc[len(tesla_stock)] = get_tesla_data()"
      ],
      "execution_count": 0,
      "outputs": []
    },
    {
      "cell_type": "code",
      "metadata": {
        "id": "951BUJpLq0J7",
        "colab_type": "code",
        "colab": {
          "base_uri": "https://localhost:8080/",
          "height": 214
        },
        "outputId": "403310d4-2f34-4993-ebde-7b5b69bd6a94"
      },
      "source": [
        ""
      ],
      "execution_count": 26,
      "outputs": [
        {
          "output_type": "stream",
          "text": [
            "  tesla_right_now tesla_day_high  ... tesla_high_52 tesla_low_52\n",
            "0          570,80          58900  ...        585,50       157,80\n",
            "1          570,80          58900  ...        585,50       157,80\n",
            "2          570,80          58900  ...        585,50       157,80\n",
            "3          570,80          58900  ...        585,50       157,80\n",
            "4          570,80          58900  ...        585,50       157,80\n",
            "5          570,80          58900  ...        585,50       157,80\n",
            "6          570,80          58900  ...        585,50       157,80\n",
            "7          570,80          58900  ...        585,50       157,80\n",
            "\n",
            "[8 rows x 7 columns]\n"
          ],
          "name": "stdout"
        }
      ]
    }
  ]
}