{
  "nbformat": 4,
  "nbformat_minor": 0,
  "metadata": {
    "colab": {
      "name": "Communication Autoencoder with WGAN alternating Training.ipynb",
      "provenance": [],
      "collapsed_sections": [],
      "include_colab_link": true
    },
    "kernelspec": {
      "name": "python3",
      "display_name": "Python 3"
    }
  },
  "cells": [
    {
      "cell_type": "markdown",
      "metadata": {
        "id": "view-in-github",
        "colab_type": "text"
      },
      "source": [
        "<a href=\"https://colab.research.google.com/github/BenYavor/Autoencoder_communication_system_WGAN_Channel-estimation/blob/master/Communication_Autoencoder_with_WGAN_alternating_Training.ipynb\" target=\"_parent\"><img src=\"https://colab.research.google.com/assets/colab-badge.svg\" alt=\"Open In Colab\"/></a>"
      ]
    },
    {
      "cell_type": "code",
      "metadata": {
        "id": "Y3Mvn1V30ejH",
        "colab_type": "code",
        "outputId": "59ff20e9-dd59-4b2d-ee0b-135f013940ab",
        "colab": {
          "base_uri": "https://localhost:8080/",
          "height": 644
        }
      },
      "source": [
        "!pip install tensorflow==2.0.0\n",
        "import numpy as np\n",
        "%matplotlib inline\n",
        "import matplotlib.pyplot as plt   \n",
        "import warnings\n",
        "with warnings.catch_warnings():\n",
        "    warnings.filterwarnings(\"ignore\",category=FutureWarning)\n",
        "    import tensorflow as tf\n",
        "import os\n",
        "tf.__version__\n",
        "from tensorflow import keras\n",
        "import time\n",
        "from __future__ import absolute_import, division, print_function, unicode_literals\n",
        "import pandas as pd\n",
        "import sys\n",
        "assert sys.version_info >= (3, 5)\n",
        "%matplotlib inline\n",
        "import matplotlib as mpl\n",
        "mpl.rc('axes', labelsize=14)\n",
        "mpl.rc('xtick', labelsize=12)\n",
        "mpl.rc('ytick', labelsize=12)\n",
        "import tensorflow as tf\n",
        "from tensorflow import keras\n",
        "from sklearn.preprocessing import OneHotEncoder\n",
        "import pandas as pd\n",
        "from scipy import special\n",
        "from tensorflow.keras import layers\n",
        "np.random.seed(42)\n",
        "tf.random.set_seed(42)"
      ],
      "execution_count": 0,
      "outputs": [
        {
          "output_type": "stream",
          "text": [
            "Requirement already satisfied: tensorflow==2.0.0 in /usr/local/lib/python3.6/dist-packages (2.0.0)\n",
            "Requirement already satisfied: google-pasta>=0.1.6 in /usr/local/lib/python3.6/dist-packages (from tensorflow==2.0.0) (0.1.8)\n",
            "Requirement already satisfied: wrapt>=1.11.1 in /usr/local/lib/python3.6/dist-packages (from tensorflow==2.0.0) (1.11.2)\n",
            "Requirement already satisfied: tensorboard<2.1.0,>=2.0.0 in /usr/local/lib/python3.6/dist-packages (from tensorflow==2.0.0) (2.0.2)\n",
            "Requirement already satisfied: protobuf>=3.6.1 in /usr/local/lib/python3.6/dist-packages (from tensorflow==2.0.0) (3.10.0)\n",
            "Requirement already satisfied: grpcio>=1.8.6 in /usr/local/lib/python3.6/dist-packages (from tensorflow==2.0.0) (1.15.0)\n",
            "Requirement already satisfied: gast==0.2.2 in /usr/local/lib/python3.6/dist-packages (from tensorflow==2.0.0) (0.2.2)\n",
            "Requirement already satisfied: astor>=0.6.0 in /usr/local/lib/python3.6/dist-packages (from tensorflow==2.0.0) (0.8.1)\n",
            "Requirement already satisfied: opt-einsum>=2.3.2 in /usr/local/lib/python3.6/dist-packages (from tensorflow==2.0.0) (3.1.0)\n",
            "Requirement already satisfied: numpy<2.0,>=1.16.0 in /usr/local/lib/python3.6/dist-packages (from tensorflow==2.0.0) (1.17.4)\n",
            "Requirement already satisfied: tensorflow-estimator<2.1.0,>=2.0.0 in /usr/local/lib/python3.6/dist-packages (from tensorflow==2.0.0) (2.0.1)\n",
            "Requirement already satisfied: termcolor>=1.1.0 in /usr/local/lib/python3.6/dist-packages (from tensorflow==2.0.0) (1.1.0)\n",
            "Requirement already satisfied: six>=1.10.0 in /usr/local/lib/python3.6/dist-packages (from tensorflow==2.0.0) (1.12.0)\n",
            "Requirement already satisfied: wheel>=0.26 in /usr/local/lib/python3.6/dist-packages (from tensorflow==2.0.0) (0.33.6)\n",
            "Requirement already satisfied: keras-preprocessing>=1.0.5 in /usr/local/lib/python3.6/dist-packages (from tensorflow==2.0.0) (1.1.0)\n",
            "Requirement already satisfied: absl-py>=0.7.0 in /usr/local/lib/python3.6/dist-packages (from tensorflow==2.0.0) (0.8.1)\n",
            "Requirement already satisfied: keras-applications>=1.0.8 in /usr/local/lib/python3.6/dist-packages (from tensorflow==2.0.0) (1.0.8)\n",
            "Requirement already satisfied: markdown>=2.6.8 in /usr/local/lib/python3.6/dist-packages (from tensorboard<2.1.0,>=2.0.0->tensorflow==2.0.0) (3.1.1)\n",
            "Requirement already satisfied: google-auth-oauthlib<0.5,>=0.4.1 in /usr/local/lib/python3.6/dist-packages (from tensorboard<2.1.0,>=2.0.0->tensorflow==2.0.0) (0.4.1)\n",
            "Requirement already satisfied: werkzeug>=0.11.15 in /usr/local/lib/python3.6/dist-packages (from tensorboard<2.1.0,>=2.0.0->tensorflow==2.0.0) (0.16.0)\n",
            "Requirement already satisfied: requests<3,>=2.21.0 in /usr/local/lib/python3.6/dist-packages (from tensorboard<2.1.0,>=2.0.0->tensorflow==2.0.0) (2.21.0)\n",
            "Requirement already satisfied: setuptools>=41.0.0 in /usr/local/lib/python3.6/dist-packages (from tensorboard<2.1.0,>=2.0.0->tensorflow==2.0.0) (42.0.2)\n",
            "Requirement already satisfied: google-auth<2,>=1.6.3 in /usr/local/lib/python3.6/dist-packages (from tensorboard<2.1.0,>=2.0.0->tensorflow==2.0.0) (1.10.0)\n",
            "Requirement already satisfied: h5py in /usr/local/lib/python3.6/dist-packages (from keras-applications>=1.0.8->tensorflow==2.0.0) (2.8.0)\n",
            "Requirement already satisfied: requests-oauthlib>=0.7.0 in /usr/local/lib/python3.6/dist-packages (from google-auth-oauthlib<0.5,>=0.4.1->tensorboard<2.1.0,>=2.0.0->tensorflow==2.0.0) (1.3.0)\n",
            "Requirement already satisfied: idna<2.9,>=2.5 in /usr/local/lib/python3.6/dist-packages (from requests<3,>=2.21.0->tensorboard<2.1.0,>=2.0.0->tensorflow==2.0.0) (2.8)\n",
            "Requirement already satisfied: chardet<3.1.0,>=3.0.2 in /usr/local/lib/python3.6/dist-packages (from requests<3,>=2.21.0->tensorboard<2.1.0,>=2.0.0->tensorflow==2.0.0) (3.0.4)\n",
            "Requirement already satisfied: certifi>=2017.4.17 in /usr/local/lib/python3.6/dist-packages (from requests<3,>=2.21.0->tensorboard<2.1.0,>=2.0.0->tensorflow==2.0.0) (2019.11.28)\n",
            "Requirement already satisfied: urllib3<1.25,>=1.21.1 in /usr/local/lib/python3.6/dist-packages (from requests<3,>=2.21.0->tensorboard<2.1.0,>=2.0.0->tensorflow==2.0.0) (1.24.3)\n",
            "Requirement already satisfied: pyasn1-modules>=0.2.1 in /usr/local/lib/python3.6/dist-packages (from google-auth<2,>=1.6.3->tensorboard<2.1.0,>=2.0.0->tensorflow==2.0.0) (0.2.7)\n",
            "Requirement already satisfied: rsa<4.1,>=3.1.4 in /usr/local/lib/python3.6/dist-packages (from google-auth<2,>=1.6.3->tensorboard<2.1.0,>=2.0.0->tensorflow==2.0.0) (4.0)\n",
            "Requirement already satisfied: cachetools<5.0,>=2.0.0 in /usr/local/lib/python3.6/dist-packages (from google-auth<2,>=1.6.3->tensorboard<2.1.0,>=2.0.0->tensorflow==2.0.0) (4.0.0)\n",
            "Requirement already satisfied: oauthlib>=3.0.0 in /usr/local/lib/python3.6/dist-packages (from requests-oauthlib>=0.7.0->google-auth-oauthlib<0.5,>=0.4.1->tensorboard<2.1.0,>=2.0.0->tensorflow==2.0.0) (3.1.0)\n",
            "Requirement already satisfied: pyasn1<0.5.0,>=0.4.6 in /usr/local/lib/python3.6/dist-packages (from pyasn1-modules>=0.2.1->google-auth<2,>=1.6.3->tensorboard<2.1.0,>=2.0.0->tensorflow==2.0.0) (0.4.8)\n"
          ],
          "name": "stdout"
        }
      ]
    },
    {
      "cell_type": "markdown",
      "metadata": {
        "id": "1wlZswcMF7Rt",
        "colab_type": "text"
      },
      "source": [
        "#### Vergleich\n",
        "Als erstes für feste $k$ und $n$, was sich ändert ist die Samplesize, Anzahl der Samples und SNR"
      ]
    },
    {
      "cell_type": "markdown",
      "metadata": {
        "id": "4qpY-gawAf-9",
        "colab_type": "text"
      },
      "source": [
        "###Systemparameter\n",
        "ACHTUNG: CHANNELANZAHL WURDE UNTERSCHIEDLICH VERWENDET \\\\\n",
        "$k$ - die Anzhal der bits \\\\\n",
        "$M$ - Anzahl der unterschiedlichen Nachrichten \\\\\n",
        "$n$ - channel uses\\\\\n",
        "$N$ - Länge des Rauschvektors"
      ]
    },
    {
      "cell_type": "code",
      "metadata": {
        "colab_type": "code",
        "id": "czeNNfpY1qc2",
        "outputId": "19e61ac6-dbb9-4cd8-94fc-cc935b01f438",
        "colab": {
          "base_uri": "https://localhost:8080/",
          "height": 35
        }
      },
      "source": [
        "k = 4      # Number of information bits per message, i.e., M=2**k\n",
        "M = 2**k\n",
        "n = 2    # Number of real channel uses per message\n",
        "#k = int(np.log2(M))\n",
        "#n = 2\n",
        "print(M)\n",
        "\n",
        "SNR = 7\n"
      ],
      "execution_count": 0,
      "outputs": [
        {
          "output_type": "stream",
          "text": [
            "16\n"
          ],
          "name": "stdout"
        }
      ]
    },
    {
      "cell_type": "markdown",
      "metadata": {
        "id": "BA4TqJBOXXIg",
        "colab_type": "text"
      },
      "source": [
        "## Training Parameter"
      ]
    },
    {
      "cell_type": "code",
      "metadata": {
        "id": "aJZ_cnp9V-Q6",
        "colab_type": "code",
        "colab": {}
      },
      "source": [
        "gen_learning_rate=0.0001 \n",
        "disc_learning_rate = 0.0001                  # 0.0001  "
      ],
      "execution_count": 0,
      "outputs": []
    },
    {
      "cell_type": "markdown",
      "metadata": {
        "id": "tb-DiBwSN255",
        "colab_type": "text"
      },
      "source": [
        "### Different Layers"
      ]
    },
    {
      "cell_type": "code",
      "metadata": {
        "id": "hFMMLrY0LthL",
        "colab_type": "code",
        "colab": {}
      },
      "source": [
        "randN_initial = keras.initializers.RandomNormal(mean=0.0, stddev=0.05, seed=None)\n",
        "ones_initial = keras.initializers.GlorotNormal()\n",
        "\n",
        "EncIn = tf.keras.layers.Input(shape=(M,))#, dtype= tf.int32)\n",
        "e1 = tf.keras.layers.Dense(2*n, activation=None)\n",
        "e2 = tf.keras.layers.Lambda(lambda x:tf.reshape(x, shape=[-1,int(n/2),2]))\n",
        "EncOut = tf.keras.layers.Lambda(lambda x: x/tf.sqrt(2*tf.reduce_mean(tf.square(x))))\n",
        "GenIn = tf.keras.layers.Lambda(lambda x:tf.reshape(x,(tf.shape(x)[0],-1)))\n",
        "# = tf.keras.layers.Lambda(generator)\n",
        "DecIn = tf.keras.layers.Lambda(lambda x:tf.reshape(x, shape=[-1,int(n/2),2]))\n",
        "d1 = tf.keras.layers.Lambda(lambda x:tf.reshape(x, shape=[-1,n]))\n",
        "d2 = tf.keras.layers.Dense(M, activation='relu')\n",
        "DecOut = tf.keras.layers.Dense(M, activation='softmax')\n",
        "\n",
        "\n",
        "#noise_std = EbNo_to_noise(TRAINING_SNR)\n",
        "# custom functions / layers without weights\n",
        "norm_layer = keras.layers.Lambda(lambda x: tf.divide(x,tf.sqrt(2*tf.reduce_mean(tf.square(x)))))\n",
        "shape_layer = keras.layers.Lambda(lambda x: tf.reshape(x, shape=[-1,2,n]))\n",
        "shape_layer2 = keras.layers.Lambda(lambda x: tf.reshape(x, shape=[-1,n]))\n",
        "channel_layer = keras.layers.Lambda(lambda x: x + tf.random.normal(tf.shape(x), mean=0.0, stddev=noise_std))"
      ],
      "execution_count": 0,
      "outputs": []
    },
    {
      "cell_type": "markdown",
      "metadata": {
        "id": "7J96hJhKO9VJ",
        "colab_type": "text"
      },
      "source": [
        "### Help functions"
      ]
    },
    {
      "cell_type": "code",
      "metadata": {
        "id": "uV7pjryDv4M4",
        "colab_type": "code",
        "outputId": "79924a8e-3d6d-4005-a4e9-5e046efc7ecb",
        "colab": {
          "base_uri": "https://localhost:8080/",
          "height": 53
        }
      },
      "source": [
        "def EbNo2Sigma(ebnodb):\n",
        "    '''Convert Eb/No in dB to noise standard deviation'''\n",
        "    ebno = 10**(ebnodb/10)\n",
        "    return 1/np.sqrt(2*(2*k/n)*ebno)\n",
        "\n",
        "def EbNo_to_noise(ebnodb):\n",
        "    '''Transform EbNo[dB]/snr to noise power'''\n",
        "    ebno = 10**(ebnodb/10)\n",
        "    noise_std = 1/np.sqrt(2*(2*k/n)*ebno) \n",
        "    return noise_std\n",
        "\n",
        "\n",
        "def real_channel(x,noise_std):\n",
        "    # Black-box Channel\n",
        "    #AWGN\n",
        "    return x + tf.random.normal(tf.shape(x), mean=0.0, stddev=noise_std)\n",
        "\n",
        "def rayleigh_channel(x,noise_std):\n",
        "    return x + tf.sqrt(tf.square(tf.random.normal(tf.shape(x), mean=0.0, stddev=noise_std)) + tf.square(tf.random.normal(tf.shape(x), mean=0.0, stddev=noise_std)))\n",
        "    \n",
        "    #Uniform U(-3;3)    \n",
        "    #return x + tf.random_uniform(tf.shape(x), minval=-2, maxval=2)\n",
        "\n",
        "def B_Ber(input_msg, msg):\n",
        "    '''Calculate the Batch Bit Error Rate'''\n",
        "    pred_error = tf.not_equal(tf.argmax(msg, 1), tf.argmax(input_msg, 1))\n",
        "    bber = tf.reduce_mean(tf.cast(pred_error, tf.float32))\n",
        "    return bber\n",
        "\n",
        "def random_sample(batch_size=32):\n",
        "    msg = np.random.randint(M, size=batch_size)\n",
        "    return msg\n",
        "\n",
        "\n",
        "\n",
        "\n",
        "def B_Ber_m(input_msg, msg):\n",
        "    '''Calculate the Batch Bit Error Rate'''\n",
        "    pred_error = tf.not_equal(input_msg, tf.argmax(msg, 1))      \n",
        "    bber = tf.reduce_mean(tf.cast(pred_error, tf.float32))\n",
        "    return bber\n",
        "\n",
        "def SNR_to_noise(snrdb):\n",
        "    '''Transform EbNo[dB]/snr to noise power'''\n",
        "    snr = 10**(snrdb/10)\n",
        "    noise_std = 1/np.sqrt(2*snr)\n",
        "    return noise_std\n",
        "\n",
        "noise_std = EbNo2Sigma(SNR)\n",
        "\n",
        "print(EbNo2Sigma(SNR))\n",
        "print(EbNo_to_noise(SNR))"
      ],
      "execution_count": 0,
      "outputs": [
        {
          "output_type": "stream",
          "text": [
            "0.15792649852735607\n",
            "0.15792649852735607\n"
          ],
          "name": "stdout"
        }
      ]
    },
    {
      "cell_type": "code",
      "metadata": {
        "id": "OBGMgdDEh7uX",
        "colab_type": "code",
        "colab": {}
      },
      "source": [
        "def test_encoding(M=16, n=1):\n",
        "    inp = np.arange(0,M)\n",
        "    coding = encoder.predict(inp)\n",
        "    fig = plt.figure(figsize=(4,4))\n",
        "    plt.plot(coding[:,0], coding[:, 1], \"b.\")\n",
        "    plt.xlabel(\"$x_1$\", fontsize=18)\n",
        "    plt.ylabel(\"$x_2$\", fontsize=18, rotation=0)\n",
        "    plt.grid(True)\n",
        "    plt.gca().set_ylim(-2, 2)\n",
        "    plt.gca().set_xlim(-2, 2)\n",
        "    plt.show()\n",
        "  \n"
      ],
      "execution_count": 0,
      "outputs": []
    },
    {
      "cell_type": "markdown",
      "metadata": {
        "id": "AOoYuK_jR9rH",
        "colab_type": "text"
      },
      "source": [
        "# Models"
      ]
    },
    {
      "cell_type": "markdown",
      "metadata": {
        "id": "PQxhmgOa0_7c",
        "colab_type": "text"
      },
      "source": [
        "#### Generator Model"
      ]
    },
    {
      "cell_type": "code",
      "metadata": {
        "id": "LXbS5lM9Tb9B",
        "colab_type": "code",
        "colab": {}
      },
      "source": [
        "def get_generator(n):\n",
        "  input1 = tf.keras.layers.Input(shape=(n,))\n",
        "  x1 = tf.keras.layers.Dense(n,kernel_initializer=randN_initial)(input1)\n",
        "  input2 =tf.random.normal(shape=tf.shape(input1))\n",
        "  #input2 =tf.random.normal([tf.shape(input1)[0],n])\n",
        "  x2 = tf.keras.layers.Dense(n,kernel_initializer=randN_initial)(input2)\n",
        "  subtracted = tf.keras.layers.Concatenate(1)([x1, x2])\n",
        "  h1 = tf.keras.layers.Dense(64,use_bias=True,  activation='relu')(subtracted)\n",
        "  h2 = tf.keras.layers.Dense(64,use_bias=True,kernel_initializer=ones_initial, activation='relu')(h1)\n",
        "  out = tf.keras.layers.Dense(n, use_bias= True, activation='linear')(h2)\n",
        "  generator = tf.keras.models.Model(inputs=[input1], outputs=out)\n",
        "  return generator\n"
      ],
      "execution_count": 0,
      "outputs": []
    },
    {
      "cell_type": "markdown",
      "metadata": {
        "id": "Vt2rTP7hSFt4",
        "colab_type": "text"
      },
      "source": [
        "#### Discriminator Model "
      ]
    },
    {
      "cell_type": "code",
      "metadata": {
        "id": "97h2eMLeXS68",
        "colab_type": "code",
        "colab": {}
      },
      "source": [
        "def get_discriminator(n):\n",
        "  model = tf.keras.Sequential()\n",
        "  model.add(tf.keras.layers.Dense(32,use_bias=True, activation='relu',input_shape=((2*n,))))\n",
        "  model.add(tf.keras.layers.Dense(32,use_bias=True,  activation='relu'))\n",
        "  model.add(tf.keras.layers.Dense(1,use_bias=False, activation='sigmoid'))\n",
        "  return model\n",
        "  \n",
        "number_of_disc_layers = 5"
      ],
      "execution_count": 0,
      "outputs": []
    },
    {
      "cell_type": "code",
      "metadata": {
        "id": "CUkLPv0gvn-o",
        "colab_type": "code",
        "colab": {}
      },
      "source": [
        "generator = get_generator(n)\n",
        "discriminator=get_discriminator(n)"
      ],
      "execution_count": 0,
      "outputs": []
    },
    {
      "cell_type": "markdown",
      "metadata": {
        "id": "lcIzLZj5Seh9",
        "colab_type": "text"
      },
      "source": [
        "## Encoder Model"
      ]
    },
    {
      "cell_type": "code",
      "metadata": {
        "id": "8M9_yJ1i9oW2",
        "colab_type": "code",
        "colab": {}
      },
      "source": [
        ""
      ],
      "execution_count": 0,
      "outputs": []
    },
    {
      "cell_type": "code",
      "metadata": {
        "id": "sNHtzAC4SPBq",
        "colab_type": "code",
        "colab": {}
      },
      "source": [
        "def get_gan_encoder(M):\n",
        "  model = keras.models.Sequential([\n",
        "            keras.layers.Embedding(M, M, embeddings_initializer='glorot_normal'),\n",
        "            keras.layers.Dense(M*2, activation=\"elu\"),\n",
        "            keras.layers.Dense(M*2, activation=\"elu\"),\n",
        "            keras.layers.Dense(n,kernel_initializer=ones_initial, activation=None),\n",
        "            e2,\n",
        "            EncOut,\n",
        "            GenIn])\n",
        "  return model"
      ],
      "execution_count": 0,
      "outputs": []
    },
    {
      "cell_type": "markdown",
      "metadata": {
        "id": "G5iCDE4dSL35",
        "colab_type": "text"
      },
      "source": [
        "## Decoder Model"
      ]
    },
    {
      "cell_type": "code",
      "metadata": {
        "id": "C5KjEhDvSWQR",
        "colab_type": "code",
        "colab": {}
      },
      "source": [
        "def get_gan_decoder(M):\n",
        "   model= keras.models.Sequential([\n",
        "                #DecIn,\n",
        "                #d1,\n",
        "                keras.layers.Input(shape=(n,)),\n",
        "                keras.layers.Dense(M*2, activation=\"elu\"),\n",
        "                keras.layers.Dense(M*2, activation=\"elu\"),\n",
        "                keras.layers.Dense(M, activation=\"softmax\")\n",
        "                ])\n",
        "   return model"
      ],
      "execution_count": 0,
      "outputs": []
    },
    {
      "cell_type": "markdown",
      "metadata": {
        "id": "s-t76sYBtlP1",
        "colab_type": "text"
      },
      "source": [
        "### GAN Training functions"
      ]
    },
    {
      "cell_type": "code",
      "metadata": {
        "id": "n15AvPFO05gd",
        "colab_type": "code",
        "colab": {}
      },
      "source": [
        "def gan_optimizers(gen_learning_rate  ,disc_learning_rate):\n",
        "  generator_optimizer = tf.keras.optimizers.RMSprop(gen_learning_rate)      #RMSprop   in oreder to test where the error comes from\n",
        "  discriminator_optimizer = tf.keras.optimizers.RMSprop(disc_learning_rate) \n",
        "  return generator_optimizer, discriminator_optimizer"
      ],
      "execution_count": 0,
      "outputs": []
    },
    {
      "cell_type": "code",
      "metadata": {
        "id": "ooDukkHvmduJ",
        "colab_type": "code",
        "outputId": "1972f202-a928-4f6b-8bd9-fd068ac97b65",
        "colab": {
          "base_uri": "https://localhost:8080/",
          "height": 53
        }
      },
      "source": [
        "%%time\n",
        "def train_gan(epochs,n_steps, batch_size, SNR_level):\n",
        "  noise_std = EbNo2Sigma(SNR_level)\n",
        "  start = time.time()\n",
        "  x = tf.random.normal((batch_size,n),dtype=tf.dtypes.float32) \n",
        "  x = x/tf.sqrt(2*tf.reduce_mean(tf.square(x)))\n",
        "  counter = 0\n",
        "  epoch = 0\n",
        "  for epoch in range(epochs):\n",
        "    counter += 1\n",
        "    train_step(noise_std, n_steps,batch_size)\n",
        "    if counter%100==0:\n",
        "      tf.print(\"counter %d:\" % (counter))\n",
        "      fake_c = generator(x)\n",
        "      tf.print(fake_c[0])\n",
        "    #print ('Time for epoch {} is {} sec,'.format(epoch + 1, time.time()-start))\n",
        "      tf.print ('Time for epoch {},'.format(epoch + 1))\n",
        "    loss.append(compute_loss(batch_size))\n",
        "    losses.loc[len(losses)] = np.mean(loss, axis=0)  \n",
        "  tf.saved_model.save(generator,'/tmp/saved_model/')\n",
        "  tf.print ('Time for the training is {} sec,'.format( time.time()-start))\n",
        "    "
      ],
      "execution_count": 0,
      "outputs": [
        {
          "output_type": "stream",
          "text": [
            "CPU times: user 5 µs, sys: 0 ns, total: 5 µs\n",
            "Wall time: 7.87 µs\n"
          ],
          "name": "stdout"
        }
      ]
    },
    {
      "cell_type": "code",
      "metadata": {
        "colab_type": "code",
        "id": "WE_JS7kgA1W-",
        "colab": {}
      },
      "source": [
        "@tf.function\n",
        "def train_step(noise_std,n_steps,batch_size):\n",
        "  #x = tf.random.normal((batch_size,n),dtype=tf.dtypes.float32) \n",
        "  #x = x/tf.sqrt(2*tf.reduce_mean(tf.square(x)))\n",
        "  m =random_sample(batch_size)\n",
        "  r = encoder(m)\n",
        "  for i in range(n_steps):\n",
        "    with tf.GradientTape() as gen_tape, tf.GradientTape() as disc_tape:\n",
        "      real_training_data = tf.concat(values=[real_channel(r,noise_std), r], axis=1)\n",
        "      fake_training_data = tf.concat(values=[generator(r),r], axis=1)\n",
        "      real_output = discriminator(real_training_data)\n",
        "      fake_output = discriminator(fake_training_data)\n",
        "      \n",
        "      \n",
        "      #disc_loss = -tf.reduce_mean(tf.math.log(real_output) + tf.math.log(1. - fake_output))\n",
        "      #gen_loss =-tf.reduce_mean(tf.math.log(fake_output))\n",
        "      \n",
        "      disc_loss = -tf.reduce_mean(real_output) + tf.reduce_mean(fake_output)\n",
        "\n",
        "      #tf.print(disc_loss,gen_loss)\n",
        "      \n",
        "      if tf.math.is_nan(disc_loss) == False:\n",
        "        gradients_of_discriminator = disc_tape.gradient(disc_loss, discriminator.trainable_variables)\n",
        "        discriminator_optimizer.apply_gradients(zip(gradients_of_discriminator, discriminator.trainable_variables))\n",
        "        t=0\n",
        "        for t in range(number_of_disc_layers):\n",
        "          y = tf.clip_by_value(discriminator.trainable_weights[t],clip_value_min=-0.05,clip_value_max=0.05,name=None)\n",
        "          discriminator.trainable_weights[t].assign(y)\n",
        "\n",
        "        #tf.print(discriminator.trainable_weights[1])\n",
        "\n",
        "    \n",
        "      if i == 4:\n",
        "        fake_training_data = tf.concat(values=[generator(r),r], axis=1)\n",
        "        fake_output = discriminator(fake_training_data)\n",
        "        gen_loss = -tf.reduce_mean(fake_output)\n",
        "        gradients_of_generator = gen_tape.gradient(gen_loss, generator.trainable_variables)\n",
        "        generator_optimizer.apply_gradients(zip(gradients_of_generator, generator.trainable_variables))\n",
        "\n"
      ],
      "execution_count": 0,
      "outputs": []
    },
    {
      "cell_type": "code",
      "metadata": {
        "id": "y82FQj3Jmvxx",
        "colab_type": "code",
        "colab": {}
      },
      "source": [
        "def creating_and_train_gan(epochs,n_steps, batch_size, SNR_level , n ):  #optional Leraning Rates\n",
        "  generator.trainable = True\n",
        "  train_gan(epochs, n_steps, batch_size, SNR_level)\n",
        "  #4 after GAN training\n",
        "  generator.trainable = False\n",
        "  #tf.print(generator.trainable)"
      ],
      "execution_count": 0,
      "outputs": []
    },
    {
      "cell_type": "code",
      "metadata": {
        "id": "dLTtFoV0IoPj",
        "colab_type": "code",
        "colab": {}
      },
      "source": [
        "def gan_Test_AE(data):\n",
        "    '''Calculate Bit Error for varying SNRs'''\n",
        "    snr_range = np.linspace(0, 15, 31)\n",
        "    bber_vec = [None] * len(snr_range)\n",
        "        \n",
        "    for db in range(len(snr_range)):           \n",
        "        noise_std = EbNo_to_noise(snr_range[db])\n",
        "        code_word = encoder(data)\n",
        "        rcvd_word = code_word + tf.random.normal(tf.shape(code_word), mean=0.0, stddev=noise_std)\n",
        "        dcoded_msg = decoder(rcvd_word)\n",
        "        bber_vec[db] = B_Ber_m(data, dcoded_msg)\n",
        "        if (db % 6 == 0) & (db > 0):\n",
        "            print(f'Progress: {db} of {30} parts')\n",
        "\n",
        "    return (snr_range, bber_vec)\n",
        "\n",
        "def Test_AE_rayleigh(data):\n",
        "    '''Calculate Bit Error for varying SNRs'''\n",
        "    snr_range = np.linspace(0, 15, 31)\n",
        "    bber_vec = [None] * len(snr_range)\n",
        "        \n",
        "    for db in range(len(snr_range)):           \n",
        "        noise_std = EbNo_to_noise(snr_range[db])\n",
        "        code_word = encoder(data)\n",
        "        rcvd_word = rayleigh_channel(code_word, noise_std)\n",
        "        dcoded_msg = decoder(rcvd_word)\n",
        "        bber_vec[db] = B_Ber_m(data, dcoded_msg)\n",
        "        if (db % 6 == 0) & (db > 0):\n",
        "            print(f'Progress: {db} of {30} parts')\n",
        "\n",
        "    return (snr_range, bber_vec)\n"
      ],
      "execution_count": 0,
      "outputs": []
    },
    {
      "cell_type": "markdown",
      "metadata": {
        "id": "VI0Tj40kzY6X",
        "colab_type": "text"
      },
      "source": [
        "# Resiver Training"
      ]
    },
    {
      "cell_type": "code",
      "metadata": {
        "id": "eS0X_xB4LBXa",
        "colab_type": "code",
        "colab": {}
      },
      "source": [
        "decoder = get_gan_decoder(M)\n",
        "encoder = get_gan_encoder(M)\n",
        "\n",
        "\n",
        "channel_layer = keras.layers.Lambda(lambda x: real_channel(x,noise_std))"
      ],
      "execution_count": 0,
      "outputs": []
    },
    {
      "cell_type": "markdown",
      "metadata": {
        "id": "_6ZV07BiRAlJ",
        "colab_type": "text"
      },
      "source": [
        "# Decoder Training"
      ]
    },
    {
      "cell_type": "code",
      "metadata": {
        "id": "d8-PiMpOTXqL",
        "colab_type": "code",
        "colab": {}
      },
      "source": [
        "data = random_sample(100)"
      ],
      "execution_count": 0,
      "outputs": []
    },
    {
      "cell_type": "code",
      "metadata": {
        "id": "xx0FiLdHQ2m-",
        "colab_type": "code",
        "colab": {}
      },
      "source": [
        "loss_object = tf.keras.losses.SparseCategoricalCrossentropy(from_logits=True)\n",
        "loss_object_a = tf.keras.losses.SparseCategoricalCrossentropy(from_logits=True)\n",
        "decoder_optimizer = tf.keras.optimizers.Adam()\n",
        "\n",
        "def decoder_loss(decoder, x, y):\n",
        "  x_ = encoder(x)\n",
        "  y1= channel_layer(x_)\n",
        "  #y1 = generator(x_)\n",
        "  y_ = decoder(y1)\n",
        "  return loss_object(y_true=y, y_pred=y_)\n",
        "\n",
        "#def decoder_loss2(decoder, x, y):\n",
        "#  x_ = encoder(x)\n",
        "#  y1 = generator(x_)\n",
        "#  y_ = decoder(y1)\n",
        "#  return loss_object(y_true=y, y_pred=y_)\n",
        "\n",
        "@tf.function\n",
        "def decoder_grad(model, inputs, targets):\n",
        "  with tf.GradientTape() as decoder_tape:\n",
        "    loss_value = decoder_loss(model, inputs, targets)\n",
        "  return loss_value, decoder_tape.gradient(loss_value, model.trainable_variables)\n",
        "\n",
        "#@tf.function\n",
        "#def decoder_grad2(model, inputs, targets):\n",
        "#  with tf.GradientTape() as decoder_tape:\n",
        "#    loss_value = decoder_loss2(model, inputs, targets)\n",
        "#  return loss_value, decoder_tape.gradient(loss_value, model.trainable_variables)\n",
        "\n"
      ],
      "execution_count": 0,
      "outputs": []
    },
    {
      "cell_type": "code",
      "metadata": {
        "id": "CJu-Y3eEQ4k3",
        "colab_type": "code",
        "colab": {}
      },
      "source": [
        "\n",
        "# Keep results for plotting\n",
        "train_loss_results = []\n",
        "train_accuracy_results = []\n",
        "\n",
        "def decoder_training(num_epochs,batch_size):\n",
        "  for epoch in range(num_epochs):\n",
        "    epoch_loss_avg = tf.keras.metrics.Mean()\n",
        "    epoch_accuracy = tf.keras.metrics.SparseCategoricalAccuracy()\n",
        "    data = random_sample(batch_size)\n",
        "    loss_value = decoder_step_training()\n",
        "    epoch_loss_avg(loss_value)  # Add current batch loss\n",
        "    # Compare predicted label to actual label\n",
        "    epoch_accuracy(data, decoder(channel_layer(encoder(data))))   \n",
        "    train_loss_results.append(epoch_loss_avg.result())\n",
        "    train_accuracy_results.append(epoch_accuracy.result())\n",
        "\n",
        "    if epoch % 500 == 0:\n",
        "      print(\"Epoch {:03d}: Loss: {:.3f}, Accuracy: {:.3%}\".format(epoch,\n",
        "                                                                epoch_loss_avg.result(),\n",
        "                                                                      epoch_accuracy.result()))\n",
        "@tf.function                                                                \n",
        "def decoder_step_training():\n",
        "  loss_value, decoder_grads = decoder_grad(decoder, data, data)\n",
        "  decoder_optimizer.apply_gradients(zip(decoder_grads, decoder.trainable_variables))\n",
        "  return loss_value  \n",
        "\n",
        "#@tf.function                                                                \n",
        "#def decoder_step_training2():\n",
        "#  loss_value, decoder_grads = decoder_grad2(decoder, data, data)\n",
        "#  decoder_optimizer.apply_gradients(zip(decoder_grads, decoder.trainable_variables))\n",
        "#  return loss_value  \n"
      ],
      "execution_count": 0,
      "outputs": []
    },
    {
      "cell_type": "code",
      "metadata": {
        "id": "fYGiMY4QeVrk",
        "colab_type": "code",
        "colab": {}
      },
      "source": [
        "@tf.function\n",
        "def compute_loss(batch_size):\n",
        "  m =random_sample(batch_size)\n",
        "  r = encoder(m)\n",
        "  real_training_data = tf.concat(values=[real_channel(r,noise_std), r], axis=1)\n",
        "  fake_training_data = tf.concat(values=[generator(r),r], axis=1)\n",
        "  real_output = discriminator(real_training_data)\n",
        "  fake_output = discriminator(fake_training_data)\n",
        "  disc_loss = tf.reduce_mean(real_output) - tf.reduce_mean(fake_output)\n",
        "  gen_loss = -tf.reduce_mean(fake_output)\n",
        "\n",
        "  return disc_loss, gen_loss"
      ],
      "execution_count": 0,
      "outputs": []
    },
    {
      "cell_type": "markdown",
      "metadata": {
        "id": "dbAJL0v_sLUz",
        "colab_type": "text"
      },
      "source": [
        "# Transmitter Training"
      ]
    },
    {
      "cell_type": "code",
      "metadata": {
        "colab_type": "code",
        "id": "_u4AHItRcsT1",
        "colab": {}
      },
      "source": [
        "encoder_optimizer = tf.keras.optimizers.Adam(lr=0.0001)\n",
        "\n",
        "def encoder_loss(encoder, x, y):\n",
        "  x_ = encoder(x)\n",
        "  y1= generator(x_)\n",
        "  y_ = decoder(y1)\n",
        "  return loss_object_a(y_true=y, y_pred=y_)\n",
        "\n",
        "@tf.function\n",
        "def encoder_grad(model, inputs, targets):\n",
        "  with tf.GradientTape() as encoder_tape:\n",
        "    loss_value = encoder_loss(model, inputs, targets)\n",
        "  return loss_value, encoder_tape.gradient(loss_value, model.trainable_variables)\n",
        "\n"
      ],
      "execution_count": 0,
      "outputs": []
    },
    {
      "cell_type": "code",
      "metadata": {
        "id": "ZUxy6g9kEakF",
        "colab_type": "code",
        "outputId": "fbc03dc2-675f-4394-ceac-3e68874bc81f",
        "colab": {
          "base_uri": "https://localhost:8080/",
          "height": 53
        }
      },
      "source": [
        "loss_value, encoder_grads = encoder_grad(encoder,data, data)\n",
        "\n",
        "print(\"Step: {}, Initial Loss: {}\".format(encoder_optimizer.iterations.numpy(),\n",
        "                                          loss_value.numpy()))\n",
        "\n",
        "encoder_optimizer.apply_gradients(zip(encoder_grads, encoder.trainable_variables))\n",
        "\n",
        "print(\"Step: {},         Loss: {}\".format(encoder_optimizer.iterations.numpy(),\n",
        "                                          encoder_loss(encoder, data, data).numpy()))\n"
      ],
      "execution_count": 0,
      "outputs": [
        {
          "output_type": "stream",
          "text": [
            "Step: 0, Initial Loss: 2.772723913192749\n",
            "Step: 1,         Loss: 2.7727227210998535\n"
          ],
          "name": "stdout"
        }
      ]
    },
    {
      "cell_type": "code",
      "metadata": {
        "colab_type": "code",
        "id": "8buZRqXNdcZz",
        "colab": {}
      },
      "source": [
        "\n",
        "# Keep results for plotting\n",
        "train_loss_results = []\n",
        "train_accuracy_results = []\n",
        "\n",
        "def encoder_training(num_epochs, batch_size = 400):\n",
        "  for epoch in range(num_epochs):\n",
        "    epoch_loss_avg = tf.keras.metrics.Mean()\n",
        "    epoch_accuracy = tf.keras.metrics.SparseCategoricalAccuracy()\n",
        "    data = random_sample(batch_size)\n",
        "\n",
        "    loss_value = encoder_step_training()\n",
        "      #loss_value, encoder_grads = encoder_grad(encoder, data, data)\n",
        "      #encoder_optimizer.apply_gradients(zip(encoder_grads, encoder.trainable_variables))\n",
        "    epoch_loss_avg(loss_value)  # Add current batch loss\n",
        "    # Compare predicted label to actual label\n",
        "    epoch_accuracy(data, decoder(generator(encoder(data))))  \n",
        "   # train_loss_results.append(epoch_loss_avg.result())\n",
        "   # train_accuracy_results.append(epoch_accuracy.result())\n",
        "\n",
        "    if epoch % 500 == 0:\n",
        "      print(\"Epoch {:03d}: Loss: {:.3f}, Accuracy: {:.3%}\".format(epoch,\n",
        "                                                                epoch_loss_avg.result(),\n",
        "                                                                epoch_accuracy.result()))\n",
        "@tf.function\n",
        "def encoder_step_training():\n",
        "  loss_value, encoder_grads = encoder_grad(encoder, data, data)\n",
        "  encoder_optimizer.apply_gradients(zip(encoder_grads, encoder.trainable_variables))\n",
        "  return loss_value\n",
        "\n"
      ],
      "execution_count": 0,
      "outputs": []
    },
    {
      "cell_type": "markdown",
      "metadata": {
        "id": "3m0fQ6OXgPf1",
        "colab_type": "text"
      },
      "source": [
        "# GAN Training"
      ]
    },
    {
      "cell_type": "code",
      "metadata": {
        "id": "rOWRdICCfSst",
        "colab_type": "code",
        "colab": {}
      },
      "source": [
        "losses = pd.DataFrame(columns = ['disc_loss', 'gen_loss'])\n",
        "loss =[]"
      ],
      "execution_count": 0,
      "outputs": []
    },
    {
      "cell_type": "code",
      "metadata": {
        "id": "nNFwwZrcgOkn",
        "colab_type": "code",
        "outputId": "fd288e8b-f82a-4db8-fdc3-c6c75b3bc230",
        "colab": {
          "base_uri": "https://localhost:8080/",
          "height": 1000
        }
      },
      "source": [
        "%%time\n",
        "generator_optimizer, discriminator_optimizer = gan_optimizers(gen_learning_rate=gen_learning_rate, disc_learning_rate = disc_learning_rate)\n",
        "start = time.time()\n",
        "\n",
        "for i in range(3):\n",
        "  #test_encoding(M,n)\n",
        "  decoder_training(501, 100)\n",
        "  creating_and_train_gan(epochs= 2000,n_steps=5, batch_size =100, SNR_level = 7, n = n)\n",
        "  decoder_training(2001, 100)\n",
        "  #encoder_training(501,100)\n",
        "  #test_encoding(M,n)\n",
        "  encoder_training(1501,100)\n",
        "  #test_encoding(M,n)\n",
        "  creating_and_train_gan(epochs= 2000,n_steps=5, batch_size =100, SNR_level = 7, n = n)\n",
        "\n",
        "time_to_train_gan = time.time()-start\n",
        "tf.print ('Time for the training is {} sec,'.format( time.time()-start))"
      ],
      "execution_count": 0,
      "outputs": [
        {
          "output_type": "stream",
          "text": [
            "Epoch 000: Loss: 2.774, Accuracy: 12.000%\n",
            "Epoch 500: Loss: 2.239, Accuracy: 54.000%\n",
            "counter 100:\n",
            "[-0.0888225734 -0.107247442]\n",
            "Time for epoch 100,\n",
            "counter 200:\n",
            "[-0.232422978 -0.137678578]\n",
            "Time for epoch 200,\n",
            "counter 300:\n",
            "[-0.373816 -0.240258873]\n",
            "Time for epoch 300,\n",
            "counter 400:\n",
            "[-0.431057096 -0.1474085]\n",
            "Time for epoch 400,\n",
            "counter 500:\n",
            "[-0.406098485 -0.046507135]\n",
            "Time for epoch 500,\n",
            "counter 600:\n",
            "[-0.253698528 0.286785305]\n",
            "Time for epoch 600,\n",
            "counter 700:\n",
            "[0.105296932 -0.539757967]\n",
            "Time for epoch 700,\n",
            "counter 800:\n",
            "[-0.628919661 0.696365058]\n",
            "Time for epoch 800,\n",
            "counter 900:\n",
            "[0.483534813 -0.357364088]\n",
            "Time for epoch 900,\n",
            "counter 1000:\n",
            "[0.0853803456 0.397978097]\n",
            "Time for epoch 1000,\n",
            "counter 1100:\n",
            "[1.14157474 -0.390530378]\n",
            "Time for epoch 1100,\n",
            "counter 1200:\n",
            "[0.31605655 0.677879632]\n",
            "Time for epoch 1200,\n",
            "counter 1300:\n",
            "[1.22089314 -0.624603868]\n",
            "Time for epoch 1300,\n",
            "counter 1400:\n",
            "[1.06744766 -0.521334171]\n",
            "Time for epoch 1400,\n",
            "counter 1500:\n",
            "[1.03949404 -1.00496078]\n",
            "Time for epoch 1500,\n",
            "counter 1600:\n",
            "[1.00851476 -0.918129]\n",
            "Time for epoch 1600,\n",
            "counter 1700:\n",
            "[0.931902766 0.0982708782]\n",
            "Time for epoch 1700,\n",
            "counter 1800:\n",
            "[1.0800612 -0.763506353]\n",
            "Time for epoch 1800,\n",
            "counter 1900:\n",
            "[1.04497206 -0.470196545]\n",
            "Time for epoch 1900,\n",
            "counter 2000:\n",
            "[1.04986715 -0.548957765]\n",
            "Time for epoch 2000,\n",
            "WARNING:tensorflow:From /usr/local/lib/python3.6/dist-packages/tensorflow_core/python/ops/resource_variable_ops.py:1781: calling BaseResourceVariable.__init__ (from tensorflow.python.ops.resource_variable_ops) with constraint is deprecated and will be removed in a future version.\n",
            "Instructions for updating:\n",
            "If using Keras pass *_constraint arguments to layers.\n",
            "INFO:tensorflow:Assets written to: /tmp/saved_model/assets\n",
            "Time for the training is 34.64936542510986 sec,\n",
            "Epoch 000: Loss: 2.261, Accuracy: 68.000%\n",
            "Epoch 500: Loss: 2.247, Accuracy: 62.000%\n",
            "Epoch 1000: Loss: 2.229, Accuracy: 69.000%\n",
            "Epoch 1500: Loss: 2.197, Accuracy: 72.000%\n",
            "Epoch 2000: Loss: 2.220, Accuracy: 66.000%\n",
            "Epoch 000: Loss: 2.232, Accuracy: 65.000%\n",
            "Epoch 500: Loss: 2.162, Accuracy: 64.000%\n",
            "Epoch 1000: Loss: 2.170, Accuracy: 64.000%\n",
            "Epoch 1500: Loss: 2.178, Accuracy: 72.000%\n",
            "counter 100:\n",
            "[-0.440798759 -0.734832466]\n",
            "Time for epoch 100,\n",
            "counter 200:\n",
            "[-0.428212434 -0.71604532]\n",
            "Time for epoch 200,\n",
            "counter 300:\n",
            "[-0.441498339 -0.654126048]\n",
            "Time for epoch 300,\n",
            "counter 400:\n",
            "[-0.515821099 -0.550112963]\n",
            "Time for epoch 400,\n",
            "counter 500:\n",
            "[-0.140691504 -0.769999444]\n",
            "Time for epoch 500,\n",
            "counter 600:\n",
            "[-0.356787235 -0.702563]\n",
            "Time for epoch 600,\n",
            "counter 700:\n",
            "[-0.245433882 -0.466908306]\n",
            "Time for epoch 700,\n",
            "counter 800:\n",
            "[-0.537100494 -0.514152765]\n",
            "Time for epoch 800,\n",
            "counter 900:\n",
            "[-0.349722683 -0.426028341]\n",
            "Time for epoch 900,\n",
            "counter 1000:\n",
            "[-0.424007386 -0.633271337]\n",
            "Time for epoch 1000,\n",
            "counter 1100:\n",
            "[-0.0540242828 -0.316687107]\n",
            "Time for epoch 1100,\n",
            "counter 1200:\n",
            "[-0.334041446 -0.66029954]\n",
            "Time for epoch 1200,\n",
            "counter 1300:\n",
            "[-0.870881438 -0.810103178]\n",
            "Time for epoch 1300,\n",
            "counter 1400:\n",
            "[-0.292612374 -0.886321485]\n",
            "Time for epoch 1400,\n",
            "counter 1500:\n",
            "[-0.367299289 -0.672870457]\n",
            "Time for epoch 1500,\n",
            "counter 1600:\n",
            "[-0.314684629 -0.680145323]\n",
            "Time for epoch 1600,\n",
            "counter 1700:\n",
            "[-0.397412747 -0.251146227]\n",
            "Time for epoch 1700,\n",
            "counter 1800:\n",
            "[-0.593136847 -0.657455385]\n",
            "Time for epoch 1800,\n",
            "counter 1900:\n",
            "[-0.309396684 -0.810093045]\n",
            "Time for epoch 1900,\n",
            "counter 2000:\n",
            "[-0.527839184 -0.613809109]\n",
            "Time for epoch 2000,\n",
            "INFO:tensorflow:Assets written to: /tmp/saved_model/assets\n",
            "Time for the training is 62.011308431625366 sec,\n",
            "Epoch 000: Loss: 2.198, Accuracy: 63.000%\n",
            "Epoch 500: Loss: 2.196, Accuracy: 72.000%\n",
            "counter 100:\n",
            "[-0.762344 -0.795210123]\n",
            "Time for epoch 100,\n",
            "counter 200:\n",
            "[-0.781355917 -1.15897787]\n",
            "Time for epoch 200,\n",
            "counter 300:\n",
            "[-0.586692452 -1.02226889]\n",
            "Time for epoch 300,\n",
            "counter 400:\n",
            "[-0.700071037 -1.3599937]\n",
            "Time for epoch 400,\n",
            "counter 500:\n",
            "[-1.04786587 -0.884922147]\n",
            "Time for epoch 500,\n",
            "counter 600:\n",
            "[-0.49134928 -1.23991871]\n",
            "Time for epoch 600,\n",
            "counter 700:\n",
            "[-0.420277923 -1.21964371]\n",
            "Time for epoch 700,\n",
            "counter 800:\n",
            "[-0.459238976 -1.04678822]\n",
            "Time for epoch 800,\n",
            "counter 900:\n",
            "[-0.71424669 -1.36222076]\n",
            "Time for epoch 900,\n",
            "counter 1000:\n",
            "[-0.611230135 -1.11479092]\n",
            "Time for epoch 1000,\n",
            "counter 1100:\n",
            "[-0.544437945 -1.0801897]\n",
            "Time for epoch 1100,\n",
            "counter 1200:\n",
            "[-0.713532746 -0.980109811]\n",
            "Time for epoch 1200,\n",
            "counter 1300:\n",
            "[-0.440592289 -1.23843753]\n",
            "Time for epoch 1300,\n",
            "counter 1400:\n",
            "[-0.601854205 -1.2287544]\n",
            "Time for epoch 1400,\n",
            "counter 1500:\n",
            "[-0.482204735 -1.10565531]\n",
            "Time for epoch 1500,\n",
            "counter 1600:\n",
            "[-0.875161588 -1.01779556]\n",
            "Time for epoch 1600,\n",
            "counter 1700:\n",
            "[-0.413834304 -1.53245747]\n",
            "Time for epoch 1700,\n",
            "counter 1800:\n",
            "[-0.505536675 -1.06040072]\n",
            "Time for epoch 1800,\n",
            "counter 1900:\n",
            "[-0.730596542 -1.26603985]\n",
            "Time for epoch 1900,\n",
            "counter 2000:\n",
            "[-0.693947256 -1.10641181]\n",
            "Time for epoch 2000,\n",
            "INFO:tensorflow:Assets written to: /tmp/saved_model/assets\n",
            "Time for the training is 93.02170491218567 sec,\n",
            "Epoch 000: Loss: 2.211, Accuracy: 66.000%\n",
            "Epoch 500: Loss: 2.193, Accuracy: 73.000%\n",
            "Epoch 1000: Loss: 2.183, Accuracy: 65.000%\n",
            "Epoch 1500: Loss: 2.209, Accuracy: 64.000%\n",
            "Epoch 2000: Loss: 2.184, Accuracy: 64.000%\n",
            "Epoch 000: Loss: 2.183, Accuracy: 68.000%\n",
            "Epoch 500: Loss: 2.165, Accuracy: 64.000%\n",
            "Epoch 1000: Loss: 2.178, Accuracy: 63.000%\n",
            "Epoch 1500: Loss: 2.173, Accuracy: 60.000%\n",
            "counter 100:\n",
            "[0.18023324 -0.799806952]\n",
            "Time for epoch 100,\n",
            "counter 200:\n",
            "[0.481187314 -0.682468]\n",
            "Time for epoch 200,\n",
            "counter 300:\n",
            "[0.182730407 -0.631058931]\n",
            "Time for epoch 300,\n",
            "counter 400:\n",
            "[0.145139769 -0.64759028]\n",
            "Time for epoch 400,\n",
            "counter 500:\n",
            "[0.341997027 -0.726887703]\n",
            "Time for epoch 500,\n",
            "counter 600:\n",
            "[0.359071136 -0.730572045]\n",
            "Time for epoch 600,\n",
            "counter 700:\n",
            "[0.312189937 -0.67638129]\n",
            "Time for epoch 700,\n",
            "counter 800:\n",
            "[0.15672335 -0.815606952]\n",
            "Time for epoch 800,\n",
            "counter 900:\n",
            "[0.213258788 -0.723611355]\n",
            "Time for epoch 900,\n",
            "counter 1000:\n",
            "[0.295567632 -0.998002708]\n",
            "Time for epoch 1000,\n",
            "counter 1100:\n",
            "[-0.0267677289 -0.492047489]\n",
            "Time for epoch 1100,\n",
            "counter 1200:\n",
            "[0.400616914 -0.701280355]\n",
            "Time for epoch 1200,\n",
            "counter 1300:\n",
            "[0.296981961 -0.68645519]\n",
            "Time for epoch 1300,\n",
            "counter 1400:\n",
            "[0.381790966 -0.914246]\n",
            "Time for epoch 1400,\n",
            "counter 1500:\n",
            "[0.286089033 -0.739088178]\n",
            "Time for epoch 1500,\n",
            "counter 1600:\n",
            "[0.42837891 -0.599752]\n",
            "Time for epoch 1600,\n",
            "counter 1700:\n",
            "[0.217522293 -0.790921688]\n",
            "Time for epoch 1700,\n",
            "counter 1800:\n",
            "[0.158241972 -0.963599443]\n",
            "Time for epoch 1800,\n",
            "counter 1900:\n",
            "[0.0106270257 -1.03566039]\n",
            "Time for epoch 1900,\n",
            "counter 2000:\n",
            "[0.447753 -0.535775959]\n",
            "Time for epoch 2000,\n",
            "INFO:tensorflow:Assets written to: /tmp/saved_model/assets\n",
            "Time for the training is 123.1630630493164 sec,\n",
            "Epoch 000: Loss: 2.185, Accuracy: 70.000%\n",
            "Epoch 500: Loss: 2.173, Accuracy: 68.000%\n",
            "counter 100:\n",
            "[0.431338042 0.293790162]\n",
            "Time for epoch 100,\n",
            "counter 200:\n",
            "[0.48071745 -0.210080594]\n",
            "Time for epoch 200,\n",
            "counter 300:\n",
            "[0.618501604 -0.361382425]\n",
            "Time for epoch 300,\n",
            "counter 400:\n",
            "[0.689783871 -0.24568063]\n",
            "Time for epoch 400,\n",
            "counter 500:\n",
            "[0.540134072 -0.48873958]\n",
            "Time for epoch 500,\n",
            "counter 600:\n",
            "[0.326502025 -0.192462265]\n",
            "Time for epoch 600,\n",
            "counter 700:\n",
            "[0.35774371 -0.172302365]\n",
            "Time for epoch 700,\n",
            "counter 800:\n",
            "[0.522854149 -0.271122098]\n",
            "Time for epoch 800,\n",
            "counter 900:\n",
            "[0.533137798 -0.183640137]\n",
            "Time for epoch 900,\n",
            "counter 1000:\n",
            "[0.45756495 -0.346443623]\n",
            "Time for epoch 1000,\n",
            "counter 1100:\n",
            "[0.765031159 -0.19284907]\n",
            "Time for epoch 1100,\n",
            "counter 1200:\n",
            "[0.617779374 -0.0728005618]\n",
            "Time for epoch 1200,\n",
            "counter 1300:\n",
            "[0.292945504 -0.0215662029]\n",
            "Time for epoch 1300,\n",
            "counter 1400:\n",
            "[0.531533241 -0.228310272]\n",
            "Time for epoch 1400,\n",
            "counter 1500:\n",
            "[0.692569911 -0.0622891113]\n",
            "Time for epoch 1500,\n",
            "counter 1600:\n",
            "[0.61314857 -0.259286731]\n",
            "Time for epoch 1600,\n",
            "counter 1700:\n",
            "[0.58076036 -0.183444947]\n",
            "Time for epoch 1700,\n",
            "counter 1800:\n",
            "[0.27255857 -0.368664086]\n",
            "Time for epoch 1800,\n",
            "counter 1900:\n",
            "[0.510132313 -0.222843558]\n",
            "Time for epoch 1900,\n",
            "counter 2000:\n",
            "[0.496895462 -0.262324214]\n",
            "Time for epoch 2000,\n",
            "INFO:tensorflow:Assets written to: /tmp/saved_model/assets\n",
            "Time for the training is 153.8631513118744 sec,\n",
            "Epoch 000: Loss: 2.183, Accuracy: 64.000%\n",
            "Epoch 500: Loss: 2.175, Accuracy: 66.000%\n",
            "Epoch 1000: Loss: 2.177, Accuracy: 72.000%\n",
            "Epoch 1500: Loss: 2.186, Accuracy: 72.000%\n",
            "Epoch 2000: Loss: 2.167, Accuracy: 63.000%\n",
            "Epoch 000: Loss: 2.186, Accuracy: 69.000%\n",
            "Epoch 500: Loss: 2.181, Accuracy: 73.000%\n",
            "Epoch 1000: Loss: 2.171, Accuracy: 67.000%\n",
            "Epoch 1500: Loss: 2.176, Accuracy: 63.000%\n",
            "counter 100:\n",
            "[0.457735 -0.770753145]\n",
            "Time for epoch 100,\n",
            "counter 200:\n",
            "[0.30415684 -0.841622114]\n",
            "Time for epoch 200,\n",
            "counter 300:\n",
            "[0.336995482 -1.14166653]\n",
            "Time for epoch 300,\n",
            "counter 400:\n",
            "[0.397813827 -1.15424562]\n",
            "Time for epoch 400,\n",
            "counter 500:\n",
            "[0.513137579 -0.756911099]\n",
            "Time for epoch 500,\n",
            "counter 600:\n",
            "[0.362718821 -0.73536104]\n",
            "Time for epoch 600,\n",
            "counter 700:\n",
            "[0.0556177534 -0.987460852]\n",
            "Time for epoch 700,\n",
            "counter 800:\n",
            "[0.566305518 -1.0033884]\n",
            "Time for epoch 800,\n",
            "counter 900:\n",
            "[0.27471891 -1.10159111]\n",
            "Time for epoch 900,\n",
            "counter 1000:\n",
            "[0.457046539 -1.20635641]\n",
            "Time for epoch 1000,\n",
            "counter 1100:\n",
            "[0.250429511 -1.13516355]\n",
            "Time for epoch 1100,\n",
            "counter 1200:\n",
            "[0.613960266 -0.944131672]\n",
            "Time for epoch 1200,\n",
            "counter 1300:\n",
            "[0.134820476 -1.18495774]\n",
            "Time for epoch 1300,\n",
            "counter 1400:\n",
            "[0.437941909 -0.963677406]\n",
            "Time for epoch 1400,\n",
            "counter 1500:\n",
            "[0.295972139 -0.772094131]\n",
            "Time for epoch 1500,\n",
            "counter 1600:\n",
            "[0.371993363 -0.855375171]\n",
            "Time for epoch 1600,\n",
            "counter 1700:\n",
            "[0.712407708 -0.79485178]\n",
            "Time for epoch 1700,\n",
            "counter 1800:\n",
            "[0.217019051 -0.769711137]\n",
            "Time for epoch 1800,\n",
            "counter 1900:\n",
            "[0.496837318 -0.97701925]\n",
            "Time for epoch 1900,\n",
            "counter 2000:\n",
            "[0.271386415 -1.01878977]\n",
            "Time for epoch 2000,\n",
            "INFO:tensorflow:Assets written to: /tmp/saved_model/assets\n",
            "Time for the training is 184.81708455085754 sec,\n",
            "Time for the training is 851.51353764534 sec,\n",
            "CPU times: user 14min 26s, sys: 5.05 s, total: 14min 31s\n",
            "Wall time: 14min 11s\n"
          ],
          "name": "stdout"
        }
      ]
    },
    {
      "cell_type": "code",
      "metadata": {
        "id": "FyBawwHIQOJm",
        "colab_type": "code",
        "outputId": "943eee94-767b-4112-e9c1-1aee6f006caa",
        "colab": {
          "base_uri": "https://localhost:8080/",
          "height": 395
        }
      },
      "source": [
        "fig = plt.figure(figsize=(10, 6))\n",
        "plt.plot(losses.disc_loss.values) \n",
        "plt.ylabel(\"Loss\", fontsize=14, rotation=90)\n",
        "plt.xlabel(\"Iterations\", fontsize=14)\n",
        "plt.legend(['WGAN training loss'],\n",
        "           prop={'size': 14}, loc='upper right');\n",
        "plt.grid(True, which=\"both\")"
      ],
      "execution_count": 0,
      "outputs": [
        {
          "output_type": "display_data",
          "data": {
            "image/png": "[encoded data removed]",
            "text/plain": [
              "<Figure size 720x432 with 1 Axes>"
            ]
          },
          "metadata": {
            "tags": []
          }
        }
      ]
    },
    {
      "cell_type": "code",
      "metadata": {
        "id": "MUbnLX0y_p6E",
        "colab_type": "code",
        "outputId": "a04a2532-4284-478f-b542-23d8a3475cb6",
        "colab": {
          "base_uri": "https://localhost:8080/",
          "height": 724
        }
      },
      "source": [
        "%%time\n",
        "generator.trainable =False\n",
        "encoder.trainable = True\n",
        "decoder.trainable = True\n",
        "gan_AE = tf.keras.models.Sequential([encoder,generator,decoder])\n",
        "data = random_sample(10000000)\n",
        "start = time.time()\n",
        "gan_AE.compile(optimizer=keras.optimizers.Nadam(lr=0.0005),loss='sparse_categorical_crossentropy',metrics=['accuracy'])\n",
        "history = gan_AE.fit(data, data, batch_size=500,steps_per_epoch=200, epochs=20)\n",
        "\n",
        "test_encoding(M,n)"
      ],
      "execution_count": 0,
      "outputs": [
        {
          "output_type": "stream",
          "text": [
            "Train on 10000000 samples\n",
            "Epoch 1/20\n",
            "  100000/10000000 [..............................] - ETA: 5:15 - loss: 4.7938 - accuracy: 0.6723Epoch 2/20\n",
            "   99000/10000000 [..............................] - ETA: 1:55 - loss: 0.5767 - accuracy: 0.8172Epoch 3/20\n",
            "   98500/10000000 [..............................] - ETA: 2:02 - loss: 0.3269 - accuracy: 0.8861Epoch 4/20\n",
            "   97500/10000000 [..............................] - ETA: 2:00 - loss: 0.2937 - accuracy: 0.8993Epoch 5/20\n",
            "   97000/10000000 [..............................] - ETA: 2:00 - loss: 0.2780 - accuracy: 0.9059Epoch 6/20\n",
            "   96000/10000000 [..............................] - ETA: 2:01 - loss: 0.2711 - accuracy: 0.9078Epoch 7/20\n",
            "   96500/10000000 [..............................] - ETA: 2:00 - loss: 0.2565 - accuracy: 0.9120Epoch 8/20\n",
            "   96000/10000000 [..............................] - ETA: 2:01 - loss: 0.2449 - accuracy: 0.9167Epoch 9/20\n",
            "   97500/10000000 [..............................] - ETA: 2:03 - loss: 0.2382 - accuracy: 0.9174Epoch 10/20\n",
            "   98000/10000000 [..............................] - ETA: 1:59 - loss: 0.2328 - accuracy: 0.9190Epoch 11/20\n",
            "   96000/10000000 [..............................] - ETA: 1:54 - loss: 0.2307 - accuracy: 0.9194Epoch 12/20\n",
            "   99500/10000000 [..............................] - ETA: 1:54 - loss: 0.2248 - accuracy: 0.9209Epoch 13/20\n",
            "   96000/10000000 [..............................] - ETA: 1:53 - loss: 0.2205 - accuracy: 0.9227Epoch 14/20\n",
            "   98000/10000000 [..............................] - ETA: 1:58 - loss: 0.2179 - accuracy: 0.9227Epoch 15/20\n",
            "   98000/10000000 [..............................] - ETA: 2:04 - loss: 0.2131 - accuracy: 0.9248Epoch 16/20\n",
            "   99500/10000000 [..............................] - ETA: 2:01 - loss: 0.2151 - accuracy: 0.9239Epoch 17/20\n",
            "   98000/10000000 [..............................] - ETA: 2:07 - loss: 0.2123 - accuracy: 0.9250Epoch 18/20\n",
            "   98000/10000000 [..............................] - ETA: 2:09 - loss: 0.2140 - accuracy: 0.9250Epoch 19/20\n",
            "   99500/10000000 [..............................] - ETA: 2:07 - loss: 0.2117 - accuracy: 0.9247Epoch 20/20\n",
            "   97500/10000000 [..............................] - ETA: 2:04 - loss: 0.2128 - accuracy: 0.9238"
          ],
          "name": "stdout"
        },
        {
          "output_type": "display_data",
          "data": {
            "image/png": "[encoded data removed]",
            "text/plain": [
              "<Figure size 288x288 with 1 Axes>"
            ]
          },
          "metadata": {
            "tags": []
          }
        },
        {
          "output_type": "stream",
          "text": [
            "CPU times: user 34.1 s, sys: 1.36 s, total: 35.5 s\n",
            "Wall time: 27.5 s\n"
          ],
          "name": "stdout"
        }
      ]
    },
    {
      "cell_type": "markdown",
      "metadata": {
        "id": "6GW2opX7SwMo",
        "colab_type": "text"
      },
      "source": [
        "\n",
        "# AE training"
      ]
    },
    {
      "cell_type": "code",
      "metadata": {
        "id": "ukO76l6yIoPc",
        "colab_type": "code",
        "colab": {}
      },
      "source": [
        "# test msg sequence for normal encoding\n",
        "N_test = 500000\n",
        "test_msg = np.random.randint(M, size=N_test)"
      ],
      "execution_count": 0,
      "outputs": []
    },
    {
      "cell_type": "markdown",
      "metadata": {
        "id": "PK5wA-zzHScv",
        "colab_type": "text"
      },
      "source": [
        "### Comparison"
      ]
    },
    {
      "cell_type": "code",
      "metadata": {
        "id": "7M-S0sbhIoPw",
        "colab_type": "code",
        "outputId": "b68adbf9-ed04-4060-8aaf-e27c38beecd9",
        "colab": {
          "base_uri": "https://localhost:8080/",
          "height": 106
        }
      },
      "source": [
        "gan_bber_data = gan_Test_AE(test_msg)"
      ],
      "execution_count": 0,
      "outputs": [
        {
          "output_type": "stream",
          "text": [
            "Progress: 6 of 30 parts\n",
            "Progress: 12 of 30 parts\n",
            "Progress: 18 of 30 parts\n",
            "Progress: 24 of 30 parts\n",
            "Progress: 30 of 30 parts\n"
          ],
          "name": "stdout"
        }
      ]
    },
    {
      "cell_type": "code",
      "metadata": {
        "id": "UYdEm0eQIoP2",
        "colab_type": "code",
        "outputId": "34241d83-1fc3-4562-9cb4-281aeebd1ecf",
        "colab": {
          "base_uri": "https://localhost:8080/",
          "height": 406
        }
      },
      "source": [
        "# Approximate 16 QAM Error\n",
        "def SIXT_QAM_sim(ebno):\n",
        "    return (3.0/2)*special.erfc(np.sqrt((4.0/10)*10.**(ebno/10)))\n",
        "\n",
        "ebnodbs = np.linspace(0,15,16)\n",
        "fig = plt.figure(figsize=(10, 6))\n",
        "plt.semilogy(gan_bber_data[0], gan_bber_data[1], '^-')\n",
        "plt.semilogy(ebnodbs, SIXT_QAM_sim(ebnodbs), '*-');\n",
        "plt.gca().set_ylim(1e-5, 1)\n",
        "plt.gca().set_xlim(0, 15)\n",
        "plt.ylabel(\"Batch Symbol Error Rate\", fontsize=14, rotation=90)\n",
        "plt.xlabel(\"SNR [dB]\", fontsize=18)\n",
        "plt.legend(['AE with WGAN', '16QAM'],\n",
        "           prop={'size': 14}, loc='upper right');\n",
        "plt.grid(True, which=\"both\")\n",
        "#print('time to train the AE Model with GAN',time_to_train_gan)\n"
      ],
      "execution_count": 0,
      "outputs": [
        {
          "output_type": "display_data",
          "data": {
            "image/png": "[encoded data removed]",
            "text/plain": [
              "<Figure size 720x432 with 1 Axes>"
            ]
          },
          "metadata": {
            "tags": []
          }
        }
      ]
    },
    {
      "cell_type": "code",
      "metadata": {
        "id": "bBes21qLlcS8",
        "colab_type": "code",
        "outputId": "a5185103-70c0-47bd-9952-e270a34e3ea7",
        "colab": {
          "base_uri": "https://localhost:8080/",
          "height": 106
        }
      },
      "source": [
        "bber_data_rayleigh = Test_AE_rayleigh(test_msg)"
      ],
      "execution_count": 0,
      "outputs": [
        {
          "output_type": "stream",
          "text": [
            "Progress: 6 of 30 parts\n",
            "Progress: 12 of 30 parts\n",
            "Progress: 18 of 30 parts\n",
            "Progress: 24 of 30 parts\n",
            "Progress: 30 of 30 parts\n"
          ],
          "name": "stdout"
        }
      ]
    },
    {
      "cell_type": "code",
      "metadata": {
        "id": "q60pg9b9Rz7C",
        "colab_type": "code",
        "outputId": "9605e4cc-ba1d-4cef-e8cb-fc8097d4a184",
        "colab": {
          "base_uri": "https://localhost:8080/",
          "height": 406
        }
      },
      "source": [
        "def SIXT_QAM_sim(ebno):\n",
        "    return (3.0/2)*special.erfc(np.sqrt((4.0/10)*10.**(ebno/10)))\n",
        "\n",
        "ebnodbs = np.linspace(0,15,16)\n",
        "fig = plt.figure(figsize=(10, 6))\n",
        "plt.semilogy(gan_bber_data[0], gan_bber_data[1], 'o-')\n",
        "plt.semilogy(bber_data_rayleigh[0], bber_data_rayleigh[1], '+-')\n",
        "#plt.semilogy(ebnodbs, SIXT_QAM_sim(ebnodbs), '^-');\n",
        "plt.gca().set_ylim(1e-5, 1)\n",
        "plt.gca().set_xlim(0, 15)\n",
        "plt.ylabel(\"Batch Symbol Error Rate\", fontsize=14, rotation=90)\n",
        "plt.xlabel(\"SNR [dB]\", fontsize=18)\n",
        "plt.legend(['BSER for Gauss','BSER for Rayleigh'],\n",
        "           prop={'size': 14}, loc='upper right');\n",
        "plt.grid(True, which=\"both\")\n",
        "#plt.savefig('home/ben/Downloads/MineRayleigh.eps', format='eps')"
      ],
      "execution_count": 0,
      "outputs": [
        {
          "output_type": "display_data",
          "data": {
            "image/png": "[encoded data removed]",
            "text/plain": [
              "<Figure size 720x432 with 1 Axes>"
            ]
          },
          "metadata": {
            "tags": []
          }
        }
      ]
    },
    {
      "cell_type": "code",
      "metadata": {
        "id": "xR1kh-fxcASt",
        "colab_type": "code",
        "colab": {}
      },
      "source": [
        ""
      ],
      "execution_count": 0,
      "outputs": []
    }
  ]
}