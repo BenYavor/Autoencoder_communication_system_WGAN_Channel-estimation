{
  "nbformat": 4,
  "nbformat_minor": 0,
  "metadata": {
    "colab": {
      "name": "Communication Autoencoder with WGAN alternating Training.ipynb",
      "provenance": [],
      "collapsed_sections": [],
      "include_colab_link": true
    },
    "kernelspec": {
      "name": "python3",
      "display_name": "Python 3"
    }
  },
  "cells": [
    {
      "cell_type": "markdown",
      "metadata": {
        "id": "view-in-github",
        "colab_type": "text"
      },
      "source": [
        "<a href=\"https://colab.research.google.com/github/BenYavor/Autoencoder_communication_system_WGAN_Channel-estimation/blob/master/Communication_Autoencoder_with_WGAN_alternating_Training.ipynb\" target=\"_parent\"><img src=\"https://colab.research.google.com/assets/colab-badge.svg\" alt=\"Open In Colab\"/></a>"
      ]
    },
    {
      "cell_type": "code",
      "metadata": {
        "id": "Y3Mvn1V30ejH",
        "colab_type": "code",
        "outputId": "e7252316-a02b-4e3e-9b26-d3c55ac33c6e",
        "colab": {
          "base_uri": "https://localhost:8080/",
          "height": 644
        }
      },
      "source": [
        "!pip install tensorflow==2.0.0\n",
        "import numpy as np\n",
        "%matplotlib inline\n",
        "import matplotlib.pyplot as plt   \n",
        "import warnings\n",
        "with warnings.catch_warnings():\n",
        "    warnings.filterwarnings(\"ignore\",category=FutureWarning)\n",
        "    import tensorflow as tf\n",
        "import os\n",
        "tf.__version__\n",
        "from tensorflow import keras\n",
        "import time\n",
        "from __future__ import absolute_import, division, print_function, unicode_literals\n",
        "import pandas as pd\n",
        "import sys\n",
        "assert sys.version_info >= (3, 5)\n",
        "%matplotlib inline\n",
        "import matplotlib as mpl\n",
        "mpl.rc('axes', labelsize=14)\n",
        "mpl.rc('xtick', labelsize=12)\n",
        "mpl.rc('ytick', labelsize=12)\n",
        "import tensorflow as tf\n",
        "from tensorflow import keras\n",
        "from sklearn.preprocessing import OneHotEncoder\n",
        "import pandas as pd\n",
        "from scipy import special\n",
        "from tensorflow.keras import layers\n",
        "np.random.seed(42)\n",
        "tf.random.set_seed(42)"
      ],
      "execution_count": 1,
      "outputs": [
        {
          "output_type": "stream",
          "text": [
            "Requirement already satisfied: tensorflow==2.0.0 in /usr/local/lib/python3.6/dist-packages (2.0.0)\n",
            "Requirement already satisfied: six>=1.10.0 in /usr/local/lib/python3.6/dist-packages (from tensorflow==2.0.0) (1.12.0)\n",
            "Requirement already satisfied: astor>=0.6.0 in /usr/local/lib/python3.6/dist-packages (from tensorflow==2.0.0) (0.8.1)\n",
            "Requirement already satisfied: opt-einsum>=2.3.2 in /usr/local/lib/python3.6/dist-packages (from tensorflow==2.0.0) (3.1.0)\n",
            "Requirement already satisfied: numpy<2.0,>=1.16.0 in /usr/local/lib/python3.6/dist-packages (from tensorflow==2.0.0) (1.17.4)\n",
            "Requirement already satisfied: tensorboard<2.1.0,>=2.0.0 in /usr/local/lib/python3.6/dist-packages (from tensorflow==2.0.0) (2.0.2)\n",
            "Requirement already satisfied: google-pasta>=0.1.6 in /usr/local/lib/python3.6/dist-packages (from tensorflow==2.0.0) (0.1.8)\n",
            "Requirement already satisfied: absl-py>=0.7.0 in /usr/local/lib/python3.6/dist-packages (from tensorflow==2.0.0) (0.8.1)\n",
            "Requirement already satisfied: keras-applications>=1.0.8 in /usr/local/lib/python3.6/dist-packages (from tensorflow==2.0.0) (1.0.8)\n",
            "Requirement already satisfied: protobuf>=3.6.1 in /usr/local/lib/python3.6/dist-packages (from tensorflow==2.0.0) (3.10.0)\n",
            "Requirement already satisfied: keras-preprocessing>=1.0.5 in /usr/local/lib/python3.6/dist-packages (from tensorflow==2.0.0) (1.1.0)\n",
            "Requirement already satisfied: termcolor>=1.1.0 in /usr/local/lib/python3.6/dist-packages (from tensorflow==2.0.0) (1.1.0)\n",
            "Requirement already satisfied: gast==0.2.2 in /usr/local/lib/python3.6/dist-packages (from tensorflow==2.0.0) (0.2.2)\n",
            "Requirement already satisfied: tensorflow-estimator<2.1.0,>=2.0.0 in /usr/local/lib/python3.6/dist-packages (from tensorflow==2.0.0) (2.0.1)\n",
            "Requirement already satisfied: wrapt>=1.11.1 in /usr/local/lib/python3.6/dist-packages (from tensorflow==2.0.0) (1.11.2)\n",
            "Requirement already satisfied: wheel>=0.26 in /usr/local/lib/python3.6/dist-packages (from tensorflow==2.0.0) (0.33.6)\n",
            "Requirement already satisfied: grpcio>=1.8.6 in /usr/local/lib/python3.6/dist-packages (from tensorflow==2.0.0) (1.15.0)\n",
            "Requirement already satisfied: markdown>=2.6.8 in /usr/local/lib/python3.6/dist-packages (from tensorboard<2.1.0,>=2.0.0->tensorflow==2.0.0) (3.1.1)\n",
            "Requirement already satisfied: google-auth<2,>=1.6.3 in /usr/local/lib/python3.6/dist-packages (from tensorboard<2.1.0,>=2.0.0->tensorflow==2.0.0) (1.10.0)\n",
            "Requirement already satisfied: requests<3,>=2.21.0 in /usr/local/lib/python3.6/dist-packages (from tensorboard<2.1.0,>=2.0.0->tensorflow==2.0.0) (2.21.0)\n",
            "Requirement already satisfied: setuptools>=41.0.0 in /usr/local/lib/python3.6/dist-packages (from tensorboard<2.1.0,>=2.0.0->tensorflow==2.0.0) (42.0.2)\n",
            "Requirement already satisfied: google-auth-oauthlib<0.5,>=0.4.1 in /usr/local/lib/python3.6/dist-packages (from tensorboard<2.1.0,>=2.0.0->tensorflow==2.0.0) (0.4.1)\n",
            "Requirement already satisfied: werkzeug>=0.11.15 in /usr/local/lib/python3.6/dist-packages (from tensorboard<2.1.0,>=2.0.0->tensorflow==2.0.0) (0.16.0)\n",
            "Requirement already satisfied: h5py in /usr/local/lib/python3.6/dist-packages (from keras-applications>=1.0.8->tensorflow==2.0.0) (2.8.0)\n",
            "Requirement already satisfied: cachetools<5.0,>=2.0.0 in /usr/local/lib/python3.6/dist-packages (from google-auth<2,>=1.6.3->tensorboard<2.1.0,>=2.0.0->tensorflow==2.0.0) (4.0.0)\n",
            "Requirement already satisfied: rsa<4.1,>=3.1.4 in /usr/local/lib/python3.6/dist-packages (from google-auth<2,>=1.6.3->tensorboard<2.1.0,>=2.0.0->tensorflow==2.0.0) (4.0)\n",
            "Requirement already satisfied: pyasn1-modules>=0.2.1 in /usr/local/lib/python3.6/dist-packages (from google-auth<2,>=1.6.3->tensorboard<2.1.0,>=2.0.0->tensorflow==2.0.0) (0.2.7)\n",
            "Requirement already satisfied: certifi>=2017.4.17 in /usr/local/lib/python3.6/dist-packages (from requests<3,>=2.21.0->tensorboard<2.1.0,>=2.0.0->tensorflow==2.0.0) (2019.11.28)\n",
            "Requirement already satisfied: urllib3<1.25,>=1.21.1 in /usr/local/lib/python3.6/dist-packages (from requests<3,>=2.21.0->tensorboard<2.1.0,>=2.0.0->tensorflow==2.0.0) (1.24.3)\n",
            "Requirement already satisfied: chardet<3.1.0,>=3.0.2 in /usr/local/lib/python3.6/dist-packages (from requests<3,>=2.21.0->tensorboard<2.1.0,>=2.0.0->tensorflow==2.0.0) (3.0.4)\n",
            "Requirement already satisfied: idna<2.9,>=2.5 in /usr/local/lib/python3.6/dist-packages (from requests<3,>=2.21.0->tensorboard<2.1.0,>=2.0.0->tensorflow==2.0.0) (2.8)\n",
            "Requirement already satisfied: requests-oauthlib>=0.7.0 in /usr/local/lib/python3.6/dist-packages (from google-auth-oauthlib<0.5,>=0.4.1->tensorboard<2.1.0,>=2.0.0->tensorflow==2.0.0) (1.3.0)\n",
            "Requirement already satisfied: pyasn1>=0.1.3 in /usr/local/lib/python3.6/dist-packages (from rsa<4.1,>=3.1.4->google-auth<2,>=1.6.3->tensorboard<2.1.0,>=2.0.0->tensorflow==2.0.0) (0.4.8)\n",
            "Requirement already satisfied: oauthlib>=3.0.0 in /usr/local/lib/python3.6/dist-packages (from requests-oauthlib>=0.7.0->google-auth-oauthlib<0.5,>=0.4.1->tensorboard<2.1.0,>=2.0.0->tensorflow==2.0.0) (3.1.0)\n"
          ],
          "name": "stdout"
        }
      ]
    },
    {
      "cell_type": "markdown",
      "metadata": {
        "id": "1wlZswcMF7Rt",
        "colab_type": "text"
      },
      "source": [
        "#### Vergleich\n",
        "Als erstes für feste $k$ und $n$, was sich ändert ist die Samplesize, Anzahl der Samples und SNR"
      ]
    },
    {
      "cell_type": "markdown",
      "metadata": {
        "id": "4qpY-gawAf-9",
        "colab_type": "text"
      },
      "source": [
        "###Systemparameter\n",
        "ACHTUNG: CHANNELANZAHL WURDE UNTERSCHIEDLICH VERWENDET \\\\\n",
        "$k$ - die Anzhal der bits \\\\\n",
        "$M$ - Anzahl der unterschiedlichen Nachrichten \\\\\n",
        "$n$ - channel uses\\\\\n",
        "$N$ - Länge des Rauschvektors"
      ]
    },
    {
      "cell_type": "code",
      "metadata": {
        "colab_type": "code",
        "id": "czeNNfpY1qc2",
        "outputId": "3add7114-8149-4b61-aefb-cd86ea018328",
        "colab": {
          "base_uri": "https://localhost:8080/",
          "height": 35
        }
      },
      "source": [
        "k = 4      # Number of information bits per message, i.e., M=2**k\n",
        "M = 2**k\n",
        "n = 2    # Number of real channel uses per message\n",
        "#k = int(np.log2(M))\n",
        "#n = 2\n",
        "print(M)\n",
        "\n",
        "SNR = 7\n"
      ],
      "execution_count": 2,
      "outputs": [
        {
          "output_type": "stream",
          "text": [
            "16\n"
          ],
          "name": "stdout"
        }
      ]
    },
    {
      "cell_type": "markdown",
      "metadata": {
        "id": "BA4TqJBOXXIg",
        "colab_type": "text"
      },
      "source": [
        "## Training Parameter"
      ]
    },
    {
      "cell_type": "code",
      "metadata": {
        "id": "aJZ_cnp9V-Q6",
        "colab_type": "code",
        "colab": {}
      },
      "source": [
        "gen_learning_rate=0.0001 \n",
        "disc_learning_rate = 0.0001                  # 0.0001  "
      ],
      "execution_count": 0,
      "outputs": []
    },
    {
      "cell_type": "markdown",
      "metadata": {
        "id": "tb-DiBwSN255",
        "colab_type": "text"
      },
      "source": [
        "### Different Layers"
      ]
    },
    {
      "cell_type": "code",
      "metadata": {
        "id": "hFMMLrY0LthL",
        "colab_type": "code",
        "colab": {}
      },
      "source": [
        "randN_initial = keras.initializers.RandomNormal(mean=0.0, stddev=0.05, seed=None)\n",
        "ones_initial = keras.initializers.GlorotNormal()\n",
        "\n",
        "EncIn = tf.keras.layers.Input(shape=(M,))#, dtype= tf.int32)\n",
        "e1 = tf.keras.layers.Dense(2*n, activation=None)\n",
        "e2 = tf.keras.layers.Lambda(lambda x:tf.reshape(x, shape=[-1,int(n/2),2]))\n",
        "EncOut = tf.keras.layers.Lambda(lambda x: x/tf.sqrt(2*tf.reduce_mean(tf.square(x))))\n",
        "GenIn = tf.keras.layers.Lambda(lambda x:tf.reshape(x,(tf.shape(x)[0],-1)))\n",
        "# = tf.keras.layers.Lambda(generator)\n",
        "DecIn = tf.keras.layers.Lambda(lambda x:tf.reshape(x, shape=[-1,int(n/2),2]))\n",
        "d1 = tf.keras.layers.Lambda(lambda x:tf.reshape(x, shape=[-1,n]))\n",
        "d2 = tf.keras.layers.Dense(M, activation='relu')\n",
        "DecOut = tf.keras.layers.Dense(M, activation='softmax')\n",
        "\n",
        "\n",
        "#noise_std = EbNo_to_noise(TRAINING_SNR)\n",
        "# custom functions / layers without weights\n",
        "norm_layer = keras.layers.Lambda(lambda x: tf.divide(x,tf.sqrt(2*tf.reduce_mean(tf.square(x)))))\n",
        "shape_layer = keras.layers.Lambda(lambda x: tf.reshape(x, shape=[-1,2,n]))\n",
        "shape_layer2 = keras.layers.Lambda(lambda x: tf.reshape(x, shape=[-1,n]))\n",
        "channel_layer = keras.layers.Lambda(lambda x: x + tf.random.normal(tf.shape(x), mean=0.0, stddev=noise_std))"
      ],
      "execution_count": 0,
      "outputs": []
    },
    {
      "cell_type": "markdown",
      "metadata": {
        "id": "7J96hJhKO9VJ",
        "colab_type": "text"
      },
      "source": [
        "### Help functions"
      ]
    },
    {
      "cell_type": "code",
      "metadata": {
        "id": "uV7pjryDv4M4",
        "colab_type": "code",
        "outputId": "f6df2b4e-ea37-47d3-8d70-ac44ed494926",
        "colab": {
          "base_uri": "https://localhost:8080/",
          "height": 53
        }
      },
      "source": [
        "def EbNo2Sigma(ebnodb):\n",
        "    '''Convert Eb/No in dB to noise standard deviation'''\n",
        "    ebno = 10**(ebnodb/10)\n",
        "    return 1/np.sqrt(2*(2*k/n)*ebno)\n",
        "\n",
        "def EbNo_to_noise(ebnodb):\n",
        "    '''Transform EbNo[dB]/snr to noise power'''\n",
        "    ebno = 10**(ebnodb/10)\n",
        "    noise_std = 1/np.sqrt(2*(2*k/n)*ebno) \n",
        "    return noise_std\n",
        "\n",
        "\n",
        "def real_channel(x,noise_std):\n",
        "    # Black-box Channel\n",
        "    #AWGN\n",
        "    return x + tf.random.normal(tf.shape(x), mean=0.0, stddev=noise_std)\n",
        "\n",
        "def rayleigh_channel(x,noise_std):\n",
        "    return x + tf.sqrt(tf.square(tf.random.normal(tf.shape(x), mean=0.0, stddev=noise_std)) + tf.square(tf.random.normal(tf.shape(x), mean=0.0, stddev=noise_std)))\n",
        "    \n",
        "    #Uniform U(-3;3)    \n",
        "    #return x + tf.random_uniform(tf.shape(x), minval=-2, maxval=2)\n",
        "\n",
        "def B_Ber(input_msg, msg):\n",
        "    '''Calculate the Batch Bit Error Rate'''\n",
        "    pred_error = tf.not_equal(tf.argmax(msg, 1), tf.argmax(input_msg, 1))\n",
        "    bber = tf.reduce_mean(tf.cast(pred_error, tf.float32))\n",
        "    return bber\n",
        "\n",
        "def random_sample(batch_size=32):\n",
        "    msg = np.random.randint(M, size=batch_size)\n",
        "    return msg\n",
        "\n",
        "\n",
        "\n",
        "\n",
        "def B_Ber_m(input_msg, msg):\n",
        "    '''Calculate the Batch Bit Error Rate'''\n",
        "    pred_error = tf.not_equal(input_msg, tf.argmax(msg, 1))      \n",
        "    bber = tf.reduce_mean(tf.cast(pred_error, tf.float32))\n",
        "    return bber\n",
        "\n",
        "def SNR_to_noise(snrdb):\n",
        "    '''Transform EbNo[dB]/snr to noise power'''\n",
        "    snr = 10**(snrdb/10)\n",
        "    noise_std = 1/np.sqrt(2*snr)\n",
        "    return noise_std\n",
        "\n",
        "noise_std = EbNo2Sigma(SNR)\n",
        "\n",
        "print(EbNo2Sigma(SNR))\n",
        "print(EbNo_to_noise(SNR))"
      ],
      "execution_count": 5,
      "outputs": [
        {
          "output_type": "stream",
          "text": [
            "0.15792649852735607\n",
            "0.15792649852735607\n"
          ],
          "name": "stdout"
        }
      ]
    },
    {
      "cell_type": "code",
      "metadata": {
        "id": "OBGMgdDEh7uX",
        "colab_type": "code",
        "colab": {}
      },
      "source": [
        "def test_encoding(M=16, n=1):\n",
        "    inp = np.arange(0,M)\n",
        "    coding = encoder.predict(inp)\n",
        "    fig = plt.figure(figsize=(4,4))\n",
        "    plt.plot(coding[:,0], coding[:, 1], \"b.\")\n",
        "    plt.xlabel(\"$x_1$\", fontsize=18)\n",
        "    plt.ylabel(\"$x_2$\", fontsize=18, rotation=0)\n",
        "    plt.grid(True)\n",
        "    plt.gca().set_ylim(-2, 2)\n",
        "    plt.gca().set_xlim(-2, 2)\n",
        "    plt.show()\n",
        "  \n"
      ],
      "execution_count": 0,
      "outputs": []
    },
    {
      "cell_type": "markdown",
      "metadata": {
        "id": "AOoYuK_jR9rH",
        "colab_type": "text"
      },
      "source": [
        "# Models"
      ]
    },
    {
      "cell_type": "markdown",
      "metadata": {
        "id": "PQxhmgOa0_7c",
        "colab_type": "text"
      },
      "source": [
        "#### Generator Model"
      ]
    },
    {
      "cell_type": "code",
      "metadata": {
        "id": "LXbS5lM9Tb9B",
        "colab_type": "code",
        "colab": {}
      },
      "source": [
        "def get_generator(n):\n",
        "  input1 = tf.keras.layers.Input(shape=(n,))\n",
        "  x1 = tf.keras.layers.Dense(n,kernel_initializer=randN_initial)(input1)\n",
        "  input2 =tf.random.normal(shape=tf.shape(input1))\n",
        "  #input2 =tf.random.normal([tf.shape(input1)[0],n])\n",
        "  x2 = tf.keras.layers.Dense(n,kernel_initializer=randN_initial)(input2)\n",
        "  subtracted = tf.keras.layers.Concatenate(1)([x1, x2])\n",
        "  h1 = tf.keras.layers.Dense(64,use_bias=True,  activation='relu')(subtracted)\n",
        "  h2 = tf.keras.layers.Dense(64,use_bias=True,kernel_initializer=ones_initial, activation='relu')(h1)\n",
        "  out = tf.keras.layers.Dense(n, use_bias= True, activation='linear')(h2)\n",
        "  generator = tf.keras.models.Model(inputs=[input1], outputs=out)\n",
        "  return generator\n"
      ],
      "execution_count": 0,
      "outputs": []
    },
    {
      "cell_type": "markdown",
      "metadata": {
        "id": "Vt2rTP7hSFt4",
        "colab_type": "text"
      },
      "source": [
        "#### Discriminator Model "
      ]
    },
    {
      "cell_type": "code",
      "metadata": {
        "id": "97h2eMLeXS68",
        "colab_type": "code",
        "colab": {}
      },
      "source": [
        "def get_discriminator(n):\n",
        "  model = tf.keras.Sequential()\n",
        "  model.add(tf.keras.layers.Dense(32,use_bias=True, activation='relu',input_shape=((2*n,))))\n",
        "  model.add(tf.keras.layers.Dense(32,use_bias=True,  activation='relu'))\n",
        "  model.add(tf.keras.layers.Dense(1,use_bias=False, activation='sigmoid'))\n",
        "  return model\n",
        "  \n",
        "number_of_disc_layers = 5"
      ],
      "execution_count": 0,
      "outputs": []
    },
    {
      "cell_type": "code",
      "metadata": {
        "id": "CUkLPv0gvn-o",
        "colab_type": "code",
        "colab": {}
      },
      "source": [
        "generator = get_generator(n)\n",
        "discriminator=get_discriminator(n)"
      ],
      "execution_count": 0,
      "outputs": []
    },
    {
      "cell_type": "markdown",
      "metadata": {
        "id": "lcIzLZj5Seh9",
        "colab_type": "text"
      },
      "source": [
        "## Encoder Model"
      ]
    },
    {
      "cell_type": "code",
      "metadata": {
        "id": "8M9_yJ1i9oW2",
        "colab_type": "code",
        "colab": {}
      },
      "source": [
        ""
      ],
      "execution_count": 0,
      "outputs": []
    },
    {
      "cell_type": "code",
      "metadata": {
        "id": "sNHtzAC4SPBq",
        "colab_type": "code",
        "colab": {}
      },
      "source": [
        "def get_gan_encoder(M):\n",
        "  model = keras.models.Sequential([\n",
        "            keras.layers.Embedding(M, M, embeddings_initializer='glorot_normal'),\n",
        "            keras.layers.Dense(M*2, activation=\"elu\"),\n",
        "            keras.layers.Dense(M*2, activation=\"elu\"),\n",
        "            keras.layers.Dense(n,kernel_initializer=ones_initial, activation=None),\n",
        "            e2,\n",
        "            EncOut,\n",
        "            GenIn])\n",
        "  return model"
      ],
      "execution_count": 0,
      "outputs": []
    },
    {
      "cell_type": "markdown",
      "metadata": {
        "id": "G5iCDE4dSL35",
        "colab_type": "text"
      },
      "source": [
        "## Decoder Model"
      ]
    },
    {
      "cell_type": "code",
      "metadata": {
        "id": "C5KjEhDvSWQR",
        "colab_type": "code",
        "colab": {}
      },
      "source": [
        "def get_gan_decoder(M):\n",
        "   model= keras.models.Sequential([\n",
        "                #DecIn,\n",
        "                #d1,\n",
        "                keras.layers.Input(shape=(n,)),\n",
        "                keras.layers.Dense(M*2, activation=\"elu\"),\n",
        "                keras.layers.Dense(M*2, activation=\"elu\"),\n",
        "                keras.layers.Dense(M, activation=\"softmax\")\n",
        "                ])\n",
        "   return model"
      ],
      "execution_count": 0,
      "outputs": []
    },
    {
      "cell_type": "markdown",
      "metadata": {
        "id": "s-t76sYBtlP1",
        "colab_type": "text"
      },
      "source": [
        "### GAN Training functions"
      ]
    },
    {
      "cell_type": "code",
      "metadata": {
        "id": "n15AvPFO05gd",
        "colab_type": "code",
        "colab": {}
      },
      "source": [
        "def gan_optimizers(gen_learning_rate  ,disc_learning_rate):\n",
        "  generator_optimizer = tf.keras.optimizers.RMSprop(gen_learning_rate)      #RMSprop   in oreder to test where the error comes from\n",
        "  discriminator_optimizer = tf.keras.optimizers.RMSprop(disc_learning_rate) \n",
        "  return generator_optimizer, discriminator_optimizer"
      ],
      "execution_count": 0,
      "outputs": []
    },
    {
      "cell_type": "code",
      "metadata": {
        "id": "ooDukkHvmduJ",
        "colab_type": "code",
        "outputId": "b606b0d9-54ac-4dcb-a5b3-a928d93057d1",
        "colab": {
          "base_uri": "https://localhost:8080/",
          "height": 53
        }
      },
      "source": [
        "%%time\n",
        "def train_gan(epochs,n_steps, batch_size, SNR_level):\n",
        "  noise_std = EbNo2Sigma(SNR_level)\n",
        "  start = time.time()\n",
        "  x = tf.random.normal((batch_size,n),dtype=tf.dtypes.float32) \n",
        "  x = x/tf.sqrt(2*tf.reduce_mean(tf.square(x)))\n",
        "  counter = 0\n",
        "  epoch = 0\n",
        "  for epoch in range(epochs):\n",
        "    counter += 1\n",
        "    train_step(noise_std, n_steps,batch_size)\n",
        "    if counter%100==0:\n",
        "      tf.print(\"counter %d:\" % (counter))\n",
        "      fake_c = generator(x)\n",
        "      tf.print(fake_c[0])\n",
        "    #print ('Time for epoch {} is {} sec,'.format(epoch + 1, time.time()-start))\n",
        "      tf.print ('Time for epoch {},'.format(epoch + 1))\n",
        "      \n",
        "  tf.saved_model.save(generator,'/tmp/saved_model/')\n",
        "  tf.print ('Time for the training is {} sec,'.format( time.time()-start))\n",
        "    "
      ],
      "execution_count": 13,
      "outputs": [
        {
          "output_type": "stream",
          "text": [
            "CPU times: user 6 µs, sys: 0 ns, total: 6 µs\n",
            "Wall time: 11 µs\n"
          ],
          "name": "stdout"
        }
      ]
    },
    {
      "cell_type": "code",
      "metadata": {
        "colab_type": "code",
        "id": "WE_JS7kgA1W-",
        "colab": {}
      },
      "source": [
        "@tf.function\n",
        "def train_step(noise_std,n_steps,batch_size):\n",
        "  x = tf.random.normal((batch_size,n),dtype=tf.dtypes.float32) \n",
        "  x = x/tf.sqrt(2*tf.reduce_mean(tf.square(x)))\n",
        "  m =random_sample(batch_size)\n",
        "  r = encoder(m)\n",
        "  for i in range(n_steps):\n",
        "    with tf.GradientTape() as gen_tape, tf.GradientTape() as disc_tape:\n",
        "      real_training_data = tf.concat(values=[real_channel(r,noise_std), r], axis=1)\n",
        "      fake_training_data = tf.concat(values=[generator(r),r], axis=1)\n",
        "      real_output = discriminator(real_training_data)\n",
        "      fake_output = discriminator(fake_training_data)\n",
        "      \n",
        "      \n",
        "      #disc_loss = -tf.reduce_mean(tf.math.log(real_output) + tf.math.log(1. - fake_output))\n",
        "      #gen_loss =-tf.reduce_mean(tf.math.log(fake_output))\n",
        "      \n",
        "      disc_loss = -tf.reduce_mean(real_output) + tf.reduce_mean(fake_output)\n",
        "\n",
        "      #tf.print(disc_loss,gen_loss)\n",
        "      \n",
        "      if tf.math.is_nan(disc_loss) == False:\n",
        "        gradients_of_discriminator = disc_tape.gradient(disc_loss, discriminator.trainable_variables)\n",
        "        discriminator_optimizer.apply_gradients(zip(gradients_of_discriminator, discriminator.trainable_variables))\n",
        "        t=0\n",
        "        for t in range(number_of_disc_layers):\n",
        "          y = tf.clip_by_value(discriminator.trainable_weights[t],clip_value_min=-0.05,clip_value_max=0.05,name=None)\n",
        "          discriminator.trainable_weights[t].assign(y)\n",
        "\n",
        "        #tf.print(discriminator.trainable_weights[1])\n",
        "\n",
        "    \n",
        "      if i == 4:\n",
        "        fake_training_data = tf.concat(values=[generator(r),r], axis=1)\n",
        "        fake_output = discriminator(fake_training_data)\n",
        "        gen_loss = -tf.reduce_mean(fake_output)\n",
        "        gradients_of_generator = gen_tape.gradient(gen_loss, generator.trainable_variables)\n",
        "        generator_optimizer.apply_gradients(zip(gradients_of_generator, generator.trainable_variables))\n",
        "\n"
      ],
      "execution_count": 0,
      "outputs": []
    },
    {
      "cell_type": "code",
      "metadata": {
        "id": "y82FQj3Jmvxx",
        "colab_type": "code",
        "colab": {}
      },
      "source": [
        "def creating_and_train_gan(epochs,n_steps, batch_size, SNR_level , n ):  #optional Leraning Rates\n",
        "  generator.trainable = True\n",
        "  train_gan(epochs, n_steps, batch_size, SNR_level)\n",
        "  #4 after GAN training\n",
        "  generator.trainable = False\n",
        "  #tf.print(generator.trainable)"
      ],
      "execution_count": 0,
      "outputs": []
    },
    {
      "cell_type": "code",
      "metadata": {
        "id": "dLTtFoV0IoPj",
        "colab_type": "code",
        "colab": {}
      },
      "source": [
        "def gan_Test_AE(data):\n",
        "    '''Calculate Bit Error for varying SNRs'''\n",
        "    snr_range = np.linspace(0, 15, 31)\n",
        "    bber_vec = [None] * len(snr_range)\n",
        "        \n",
        "    for db in range(len(snr_range)):           \n",
        "        noise_std = EbNo_to_noise(snr_range[db])\n",
        "        code_word = encoder(data)\n",
        "        rcvd_word = code_word + tf.random.normal(tf.shape(code_word), mean=0.0, stddev=noise_std)\n",
        "        dcoded_msg = decoder(rcvd_word)\n",
        "        bber_vec[db] = B_Ber_m(data, dcoded_msg)\n",
        "        if (db % 6 == 0) & (db > 0):\n",
        "            print(f'Progress: {db} of {30} parts')\n",
        "\n",
        "    return (snr_range, bber_vec)\n",
        "\n",
        "def Test_AE_rayleigh(data):\n",
        "    '''Calculate Bit Error for varying SNRs'''\n",
        "    snr_range = np.linspace(0, 15, 31)\n",
        "    bber_vec = [None] * len(snr_range)\n",
        "        \n",
        "    for db in range(len(snr_range)):           \n",
        "        noise_std = EbNo_to_noise(snr_range[db])\n",
        "        code_word = encoder(data)\n",
        "        rcvd_word = rayleigh_channel(code_word, noise_std)\n",
        "        dcoded_msg = decoder(rcvd_word)\n",
        "        bber_vec[db] = B_Ber_m(data, dcoded_msg)\n",
        "        if (db % 6 == 0) & (db > 0):\n",
        "            print(f'Progress: {db} of {30} parts')\n",
        "\n",
        "    return (snr_range, bber_vec)\n"
      ],
      "execution_count": 0,
      "outputs": []
    },
    {
      "cell_type": "markdown",
      "metadata": {
        "id": "VI0Tj40kzY6X",
        "colab_type": "text"
      },
      "source": [
        "# Resiver Training"
      ]
    },
    {
      "cell_type": "code",
      "metadata": {
        "id": "eS0X_xB4LBXa",
        "colab_type": "code",
        "colab": {}
      },
      "source": [
        "decoder = get_gan_decoder(M)\n",
        "encoder = get_gan_encoder(M)\n",
        "\n",
        "\n",
        "channel_layer = keras.layers.Lambda(lambda x: real_channel(x,noise_std))"
      ],
      "execution_count": 0,
      "outputs": []
    },
    {
      "cell_type": "markdown",
      "metadata": {
        "id": "_6ZV07BiRAlJ",
        "colab_type": "text"
      },
      "source": [
        "# Decoder Training"
      ]
    },
    {
      "cell_type": "code",
      "metadata": {
        "id": "d8-PiMpOTXqL",
        "colab_type": "code",
        "colab": {}
      },
      "source": [
        "data = random_sample(100)"
      ],
      "execution_count": 0,
      "outputs": []
    },
    {
      "cell_type": "code",
      "metadata": {
        "id": "xx0FiLdHQ2m-",
        "colab_type": "code",
        "colab": {}
      },
      "source": [
        "loss_object = tf.keras.losses.SparseCategoricalCrossentropy(from_logits=True)\n",
        "loss_object_a = tf.keras.losses.SparseCategoricalCrossentropy(from_logits=True)\n",
        "decoder_optimizer = tf.keras.optimizers.Adam()\n",
        "\n",
        "def decoder_loss(decoder, x, y):\n",
        "  x_ = encoder(x)\n",
        "  y1= channel_layer(x_)\n",
        "  #y1 = generator(x_)\n",
        "  y_ = decoder(y1)\n",
        "  return loss_object(y_true=y, y_pred=y_)\n",
        "\n",
        "#def decoder_loss2(decoder, x, y):\n",
        "#  x_ = encoder(x)\n",
        "#  y1 = generator(x_)\n",
        "#  y_ = decoder(y1)\n",
        "#  return loss_object(y_true=y, y_pred=y_)\n",
        "\n",
        "@tf.function\n",
        "def decoder_grad(model, inputs, targets):\n",
        "  with tf.GradientTape() as decoder_tape:\n",
        "    loss_value = decoder_loss(model, inputs, targets)\n",
        "  return loss_value, decoder_tape.gradient(loss_value, model.trainable_variables)\n",
        "\n",
        "#@tf.function\n",
        "#def decoder_grad2(model, inputs, targets):\n",
        "#  with tf.GradientTape() as decoder_tape:\n",
        "#    loss_value = decoder_loss2(model, inputs, targets)\n",
        "#  return loss_value, decoder_tape.gradient(loss_value, model.trainable_variables)\n",
        "\n"
      ],
      "execution_count": 0,
      "outputs": []
    },
    {
      "cell_type": "code",
      "metadata": {
        "id": "CJu-Y3eEQ4k3",
        "colab_type": "code",
        "colab": {}
      },
      "source": [
        "\n",
        "# Keep results for plotting\n",
        "train_loss_results = []\n",
        "train_accuracy_results = []\n",
        "\n",
        "def decoder_training(num_epochs,batch_size):\n",
        "  for epoch in range(num_epochs):\n",
        "    epoch_loss_avg = tf.keras.metrics.Mean()\n",
        "    epoch_accuracy = tf.keras.metrics.SparseCategoricalAccuracy()\n",
        "    data = random_sample(batch_size)\n",
        "    loss_value = decoder_step_training()\n",
        "    epoch_loss_avg(loss_value)  # Add current batch loss\n",
        "    # Compare predicted label to actual label\n",
        "    epoch_accuracy(data, decoder(channel_layer(encoder(data))))   \n",
        "    train_loss_results.append(epoch_loss_avg.result())\n",
        "    train_accuracy_results.append(epoch_accuracy.result())\n",
        "\n",
        "    if epoch % 500 == 0:\n",
        "      print(\"Epoch {:03d}: Loss: {:.3f}, Accuracy: {:.3%}\".format(epoch,\n",
        "                                                                epoch_loss_avg.result(),\n",
        "                                                                      epoch_accuracy.result()))\n",
        "@tf.function                                                                \n",
        "def decoder_step_training():\n",
        "  loss_value, decoder_grads = decoder_grad(decoder, data, data)\n",
        "  decoder_optimizer.apply_gradients(zip(decoder_grads, decoder.trainable_variables))\n",
        "  return loss_value  \n",
        "\n",
        "#@tf.function                                                                \n",
        "#def decoder_step_training2():\n",
        "#  loss_value, decoder_grads = decoder_grad2(decoder, data, data)\n",
        "#  decoder_optimizer.apply_gradients(zip(decoder_grads, decoder.trainable_variables))\n",
        "#  return loss_value  \n"
      ],
      "execution_count": 0,
      "outputs": []
    },
    {
      "cell_type": "markdown",
      "metadata": {
        "id": "dbAJL0v_sLUz",
        "colab_type": "text"
      },
      "source": [
        "# Transmitter Training"
      ]
    },
    {
      "cell_type": "code",
      "metadata": {
        "colab_type": "code",
        "id": "_u4AHItRcsT1",
        "colab": {}
      },
      "source": [
        "encoder_optimizer = tf.keras.optimizers.Adam(lr=0.0001)\n",
        "\n",
        "def encoder_loss(encoder, x, y):\n",
        "  x_ = encoder(x)\n",
        "  y1= generator(x_)\n",
        "  y_ = decoder(y1)\n",
        "  return loss_object_a(y_true=y, y_pred=y_)\n",
        "\n",
        "@tf.function\n",
        "def encoder_grad(model, inputs, targets):\n",
        "  with tf.GradientTape() as encoder_tape:\n",
        "    loss_value = encoder_loss(model, inputs, targets)\n",
        "  return loss_value, encoder_tape.gradient(loss_value, model.trainable_variables)\n",
        "\n"
      ],
      "execution_count": 0,
      "outputs": []
    },
    {
      "cell_type": "code",
      "metadata": {
        "id": "ZUxy6g9kEakF",
        "colab_type": "code",
        "outputId": "c01cd9bd-e1fc-4be0-f002-b172baff08fb",
        "colab": {
          "base_uri": "https://localhost:8080/",
          "height": 53
        }
      },
      "source": [
        "loss_value, encoder_grads = encoder_grad(encoder,data, data)\n",
        "\n",
        "print(\"Step: {}, Initial Loss: {}\".format(encoder_optimizer.iterations.numpy(),\n",
        "                                          loss_value.numpy()))\n",
        "\n",
        "encoder_optimizer.apply_gradients(zip(encoder_grads, encoder.trainable_variables))\n",
        "\n",
        "print(\"Step: {},         Loss: {}\".format(encoder_optimizer.iterations.numpy(),\n",
        "                                          encoder_loss(encoder, data, data).numpy()))\n"
      ],
      "execution_count": 22,
      "outputs": [
        {
          "output_type": "stream",
          "text": [
            "Step: 0, Initial Loss: 2.772723913192749\n",
            "Step: 1,         Loss: 2.7727227210998535\n"
          ],
          "name": "stdout"
        }
      ]
    },
    {
      "cell_type": "code",
      "metadata": {
        "colab_type": "code",
        "id": "8buZRqXNdcZz",
        "colab": {}
      },
      "source": [
        "\n",
        "# Keep results for plotting\n",
        "train_loss_results = []\n",
        "train_accuracy_results = []\n",
        "\n",
        "def encoder_training(num_epochs, batch_size = 400):\n",
        "  for epoch in range(num_epochs):\n",
        "    epoch_loss_avg = tf.keras.metrics.Mean()\n",
        "    epoch_accuracy = tf.keras.metrics.SparseCategoricalAccuracy()\n",
        "    data = random_sample(batch_size)\n",
        "\n",
        "    loss_value = encoder_step_training()\n",
        "      #loss_value, encoder_grads = encoder_grad(encoder, data, data)\n",
        "      #encoder_optimizer.apply_gradients(zip(encoder_grads, encoder.trainable_variables))\n",
        "    epoch_loss_avg(loss_value)  # Add current batch loss\n",
        "    # Compare predicted label to actual label\n",
        "    epoch_accuracy(data, decoder(generator(encoder(data))))  \n",
        "   # train_loss_results.append(epoch_loss_avg.result())\n",
        "   # train_accuracy_results.append(epoch_accuracy.result())\n",
        "\n",
        "    if epoch % 500 == 0:\n",
        "      print(\"Epoch {:03d}: Loss: {:.3f}, Accuracy: {:.3%}\".format(epoch,\n",
        "                                                                epoch_loss_avg.result(),\n",
        "                                                                epoch_accuracy.result()))\n",
        "@tf.function\n",
        "def encoder_step_training():\n",
        "  loss_value, encoder_grads = encoder_grad(encoder, data, data)\n",
        "  encoder_optimizer.apply_gradients(zip(encoder_grads, encoder.trainable_variables))\n",
        "  return loss_value\n",
        "\n"
      ],
      "execution_count": 0,
      "outputs": []
    },
    {
      "cell_type": "markdown",
      "metadata": {
        "id": "3m0fQ6OXgPf1",
        "colab_type": "text"
      },
      "source": [
        "# GAN Training"
      ]
    },
    {
      "cell_type": "code",
      "metadata": {
        "id": "nNFwwZrcgOkn",
        "colab_type": "code",
        "outputId": "d948adcc-00d3-4a6a-cc0d-5d1ed1a0cb95",
        "colab": {
          "base_uri": "https://localhost:8080/",
          "height": 1000
        }
      },
      "source": [
        "%%time\n",
        "generator_optimizer, discriminator_optimizer = gan_optimizers(gen_learning_rate=gen_learning_rate, disc_learning_rate = disc_learning_rate)\n",
        "start = time.time()\n",
        "\n",
        "for i in range(3):\n",
        "  test_encoding(M,n)\n",
        "  decoder_training(501, 100)\n",
        "  creating_and_train_gan(epochs= 2000,n_steps=5, batch_size =100, SNR_level = 7, n = n)\n",
        "  decoder_training(2001, 100)\n",
        "  #encoder_training(501,100)\n",
        "  test_encoding(M,n)\n",
        "  encoder_training(1501,100)\n",
        "  test_encoding(M,n)\n",
        "  creating_and_train_gan(epochs= 2000,n_steps=5, batch_size =100, SNR_level = 7, n = n)\n",
        "\n",
        "time_to_train_gan = time.time()-start\n",
        "tf.print ('Time for the training is {} sec,'.format( time.time()-start))"
      ],
      "execution_count": 24,
      "outputs": [
        {
          "output_type": "display_data",
          "data": {
            "image/png": "[encoded data removed]",
            "text/plain": [
              "<Figure size 288x288 with 1 Axes>"
            ]
          },
          "metadata": {
            "tags": []
          }
        },
        {
          "output_type": "stream",
          "text": [
            "Epoch 000: Loss: 2.774, Accuracy: 12.000%\n",
            "Epoch 500: Loss: 2.239, Accuracy: 54.000%\n",
            "counter 100:\n",
            "[-0.0909253359 -0.103463911]\n",
            "Time for epoch 100,\n",
            "counter 200:\n",
            "[-0.232845217 -0.129429668]\n",
            "Time for epoch 200,\n",
            "counter 300:\n",
            "[-0.375327885 -0.189246058]\n",
            "Time for epoch 300,\n",
            "counter 400:\n",
            "[-0.436127901 -0.0774801672]\n",
            "Time for epoch 400,\n",
            "counter 500:\n",
            "[-0.426279396 -0.0196045376]\n",
            "Time for epoch 500,\n",
            "counter 600:\n",
            "[-0.227745906 0.311051071]\n",
            "Time for epoch 600,\n",
            "counter 700:\n",
            "[-0.0757762045 -0.308881789]\n",
            "Time for epoch 700,\n",
            "counter 800:\n",
            "[-0.511191547 0.595085144]\n",
            "Time for epoch 800,\n",
            "counter 900:\n",
            "[0.234683812 -0.209885344]\n",
            "Time for epoch 900,\n",
            "counter 1000:\n",
            "[-0.116102055 0.267646134]\n",
            "Time for epoch 1000,\n",
            "counter 1100:\n",
            "[0.759320676 -0.345516711]\n",
            "Time for epoch 1100,\n",
            "counter 1200:\n",
            "[-0.244225368 0.664236307]\n",
            "Time for epoch 1200,\n",
            "counter 1300:\n",
            "[1.31907213 -0.457740247]\n",
            "Time for epoch 1300,\n",
            "counter 1400:\n",
            "[1.1066221 -0.547853]\n",
            "Time for epoch 1400,\n",
            "counter 1500:\n",
            "[1.27886045 -1.13767886]\n",
            "Time for epoch 1500,\n",
            "counter 1600:\n",
            "[1.17189026 -1.43925452]\n",
            "Time for epoch 1600,\n",
            "counter 1700:\n",
            "[1.05867743 0.131014064]\n",
            "Time for epoch 1700,\n",
            "counter 1800:\n",
            "[1.33095467 -1.19828117]\n",
            "Time for epoch 1800,\n",
            "counter 1900:\n",
            "[1.27954483 -0.691243291]\n",
            "Time for epoch 1900,\n",
            "counter 2000:\n",
            "[1.17983639 -0.693517268]\n",
            "Time for epoch 2000,\n",
            "WARNING:tensorflow:From /usr/local/lib/python3.6/dist-packages/tensorflow_core/python/ops/resource_variable_ops.py:1781: calling BaseResourceVariable.__init__ (from tensorflow.python.ops.resource_variable_ops) with constraint is deprecated and will be removed in a future version.\n",
            "Instructions for updating:\n",
            "If using Keras pass *_constraint arguments to layers.\n",
            "INFO:tensorflow:Assets written to: /tmp/saved_model/assets\n",
            "Time for the training is 11.492847442626953 sec,\n",
            "Epoch 000: Loss: 2.261, Accuracy: 73.000%\n",
            "Epoch 500: Loss: 2.247, Accuracy: 52.000%\n",
            "Epoch 1000: Loss: 2.229, Accuracy: 66.000%\n",
            "Epoch 1500: Loss: 2.197, Accuracy: 63.000%\n",
            "Epoch 2000: Loss: 2.220, Accuracy: 60.000%\n"
          ],
          "name": "stdout"
        },
        {
          "output_type": "display_data",
          "data": {
            "image/png": "[encoded data removed]",
            "text/plain": [
              "<Figure size 288x288 with 1 Axes>"
            ]
          },
          "metadata": {
            "tags": []
          }
        },
        {
          "output_type": "stream",
          "text": [
            "Epoch 000: Loss: 2.359, Accuracy: 56.000%\n",
            "Epoch 500: Loss: 2.197, Accuracy: 64.000%\n",
            "Epoch 1000: Loss: 2.222, Accuracy: 59.000%\n",
            "Epoch 1500: Loss: 2.241, Accuracy: 56.000%\n"
          ],
          "name": "stdout"
        },
        {
          "output_type": "display_data",
          "data": {
            "image/png": "[encoded data removed]",
            "text/plain": [
              "<Figure size 288x288 with 1 Axes>"
            ]
          },
          "metadata": {
            "tags": []
          }
        },
        {
          "output_type": "stream",
          "text": [
            "counter 100:\n",
            "[-0.778261721 -0.760065734]\n",
            "Time for epoch 100,\n",
            "counter 200:\n",
            "[-0.490705281 -0.728049755]\n",
            "Time for epoch 200,\n",
            "counter 300:\n",
            "[-0.493968725 -0.650772691]\n",
            "Time for epoch 300,\n",
            "counter 400:\n",
            "[-0.290103763 -0.764549136]\n",
            "Time for epoch 400,\n",
            "counter 500:\n",
            "[-0.820903897 -0.326546133]\n",
            "Time for epoch 500,\n",
            "counter 600:\n",
            "[-0.645758808 -0.476474881]\n",
            "Time for epoch 600,\n",
            "counter 700:\n",
            "[-0.190278739 -0.483550489]\n",
            "Time for epoch 700,\n",
            "counter 800:\n",
            "[-0.332479745 -0.648735046]\n",
            "Time for epoch 800,\n",
            "counter 900:\n",
            "[-0.409074247 -0.587002158]\n",
            "Time for epoch 900,\n",
            "counter 1000:\n",
            "[-0.529705286 -0.672287941]\n",
            "Time for epoch 1000,\n",
            "counter 1100:\n",
            "[-0.463808298 -0.324455112]\n",
            "Time for epoch 1100,\n",
            "counter 1200:\n",
            "[-0.609383 -0.53334862]\n",
            "Time for epoch 1200,\n",
            "counter 1300:\n",
            "[-0.481529772 -0.967628121]\n",
            "Time for epoch 1300,\n",
            "counter 1400:\n",
            "[-0.682140946 -0.60629791]\n",
            "Time for epoch 1400,\n",
            "counter 1500:\n",
            "[-0.525739074 -0.596325]\n",
            "Time for epoch 1500,\n",
            "counter 1600:\n",
            "[-0.566673934 -0.470909387]\n",
            "Time for epoch 1600,\n",
            "counter 1700:\n",
            "[-0.183667079 -0.456322223]\n",
            "Time for epoch 1700,\n",
            "counter 1800:\n",
            "[-0.458518863 -0.720288277]\n",
            "Time for epoch 1800,\n",
            "counter 1900:\n",
            "[-0.705899239 -0.618012726]\n",
            "Time for epoch 1900,\n",
            "counter 2000:\n",
            "[-0.381783813 -0.64898771]\n",
            "Time for epoch 2000,\n",
            "INFO:tensorflow:Assets written to: /tmp/saved_model/assets\n",
            "Time for the training is 6.74578857421875 sec,\n"
          ],
          "name": "stdout"
        },
        {
          "output_type": "display_data",
          "data": {
            "image/png": "[encoded data removed]",
            "text/plain": [
              "<Figure size 288x288 with 1 Axes>"
            ]
          },
          "metadata": {
            "tags": []
          }
        },
        {
          "output_type": "stream",
          "text": [
            "Epoch 000: Loss: 2.213, Accuracy: 71.000%\n",
            "Epoch 500: Loss: 2.193, Accuracy: 61.000%\n",
            "counter 100:\n",
            "[-0.230745241 -1.05345333]\n",
            "Time for epoch 100,\n",
            "counter 200:\n",
            "[-0.545343339 -1.27230656]\n",
            "Time for epoch 200,\n",
            "counter 300:\n",
            "[-0.697859526 -1.07460773]\n",
            "Time for epoch 300,\n",
            "counter 400:\n",
            "[-0.794966817 -1.32477033]\n",
            "Time for epoch 400,\n",
            "counter 500:\n",
            "[-0.337233782 -1.23442781]\n",
            "Time for epoch 500,\n",
            "counter 600:\n",
            "[-0.719026744 -1.14670682]\n",
            "Time for epoch 600,\n",
            "counter 700:\n",
            "[-0.77730757 -1.07288098]\n",
            "Time for epoch 700,\n",
            "counter 800:\n",
            "[-0.583093524 -1.04455733]\n",
            "Time for epoch 800,\n",
            "counter 900:\n",
            "[-0.757119119 -1.33475649]\n",
            "Time for epoch 900,\n",
            "counter 1000:\n",
            "[-0.592284322 -1.20684302]\n",
            "Time for epoch 1000,\n",
            "counter 1100:\n",
            "[-0.555527747 -1.07215273]\n",
            "Time for epoch 1100,\n",
            "counter 1200:\n",
            "[-0.413441151 -1.15542853]\n",
            "Time for epoch 1200,\n",
            "counter 1300:\n",
            "[-0.800365508 -1.02368736]\n",
            "Time for epoch 1300,\n",
            "counter 1400:\n",
            "[-0.710883081 -1.20238531]\n",
            "Time for epoch 1400,\n",
            "counter 1500:\n",
            "[-0.671501815 -1.04572928]\n",
            "Time for epoch 1500,\n",
            "counter 1600:\n",
            "[-0.393064082 -1.35557532]\n",
            "Time for epoch 1600,\n",
            "counter 1700:\n",
            "[-1.03929377 -1.13761234]\n",
            "Time for epoch 1700,\n",
            "counter 1800:\n",
            "[-0.589017749 -1.0576154]\n",
            "Time for epoch 1800,\n",
            "counter 1900:\n",
            "[-0.738812685 -1.383026]\n",
            "Time for epoch 1900,\n",
            "counter 2000:\n",
            "[-0.507988691 -1.12984025]\n",
            "Time for epoch 2000,\n",
            "INFO:tensorflow:Assets written to: /tmp/saved_model/assets\n",
            "Time for the training is 7.080840110778809 sec,\n",
            "Epoch 000: Loss: 2.216, Accuracy: 66.000%\n",
            "Epoch 500: Loss: 2.190, Accuracy: 66.000%\n",
            "Epoch 1000: Loss: 2.189, Accuracy: 68.000%\n",
            "Epoch 1500: Loss: 2.221, Accuracy: 71.000%\n",
            "Epoch 2000: Loss: 2.202, Accuracy: 69.000%\n"
          ],
          "name": "stdout"
        },
        {
          "output_type": "display_data",
          "data": {
            "image/png": "[encoded data removed]",
            "text/plain": [
              "<Figure size 288x288 with 1 Axes>"
            ]
          },
          "metadata": {
            "tags": []
          }
        },
        {
          "output_type": "stream",
          "text": [
            "Epoch 000: Loss: 2.194, Accuracy: 66.000%\n",
            "Epoch 500: Loss: 2.168, Accuracy: 60.000%\n",
            "Epoch 1000: Loss: 2.176, Accuracy: 68.000%\n",
            "Epoch 1500: Loss: 2.179, Accuracy: 73.000%\n"
          ],
          "name": "stdout"
        },
        {
          "output_type": "display_data",
          "data": {
            "image/png": "[encoded data removed]",
            "text/plain": [
              "<Figure size 288x288 with 1 Axes>"
            ]
          },
          "metadata": {
            "tags": []
          }
        },
        {
          "output_type": "stream",
          "text": [
            "counter 100:\n",
            "[0.339458287 -0.826755404]\n",
            "Time for epoch 100,\n",
            "counter 200:\n",
            "[0.232026219 -0.531404495]\n",
            "Time for epoch 200,\n",
            "counter 300:\n",
            "[0.337258399 -0.739813209]\n",
            "Time for epoch 300,\n",
            "counter 400:\n",
            "[0.377840787 -0.794798374]\n",
            "Time for epoch 400,\n",
            "counter 500:\n",
            "[0.278137565 -0.608337164]\n",
            "Time for epoch 500,\n",
            "counter 600:\n",
            "[0.236053467 -0.656616926]\n",
            "Time for epoch 600,\n",
            "counter 700:\n",
            "[0.347473443 -0.599720538]\n",
            "Time for epoch 700,\n",
            "counter 800:\n",
            "[0.246444851 -0.887122273]\n",
            "Time for epoch 800,\n",
            "counter 900:\n",
            "[0.336762786 -0.827826679]\n",
            "Time for epoch 900,\n",
            "counter 1000:\n",
            "[0.0891253129 -0.783997893]\n",
            "Time for epoch 1000,\n",
            "counter 1100:\n",
            "[0.49441883 -0.921352088]\n",
            "Time for epoch 1100,\n",
            "counter 1200:\n",
            "[0.337027878 -0.639339149]\n",
            "Time for epoch 1200,\n",
            "counter 1300:\n",
            "[0.303793073 -0.753516614]\n",
            "Time for epoch 1300,\n",
            "counter 1400:\n",
            "[0.113225549 -0.650960743]\n",
            "Time for epoch 1400,\n",
            "counter 1500:\n",
            "[0.278645456 -0.763249755]\n",
            "Time for epoch 1500,\n",
            "counter 1600:\n",
            "[0.339266777 -0.541216195]\n",
            "Time for epoch 1600,\n",
            "counter 1700:\n",
            "[0.224127501 -0.834625542]\n",
            "Time for epoch 1700,\n",
            "counter 1800:\n",
            "[0.163619667 -0.961026788]\n",
            "Time for epoch 1800,\n",
            "counter 1900:\n",
            "[0.13092947 -1.14978087]\n",
            "Time for epoch 1900,\n",
            "counter 2000:\n",
            "[0.455466062 -0.425171793]\n",
            "Time for epoch 2000,\n",
            "INFO:tensorflow:Assets written to: /tmp/saved_model/assets\n",
            "Time for the training is 6.581860065460205 sec,\n"
          ],
          "name": "stdout"
        },
        {
          "output_type": "display_data",
          "data": {
            "image/png": "[encoded data removed]",
            "text/plain": [
              "<Figure size 288x288 with 1 Axes>"
            ]
          },
          "metadata": {
            "tags": []
          }
        },
        {
          "output_type": "stream",
          "text": [
            "Epoch 000: Loss: 2.185, Accuracy: 59.000%\n",
            "Epoch 500: Loss: 2.166, Accuracy: 69.000%\n",
            "counter 100:\n",
            "[0.860317171 -0.0646839142]\n",
            "Time for epoch 100,\n",
            "counter 200:\n",
            "[0.490154177 -0.20033516]\n",
            "Time for epoch 200,\n",
            "counter 300:\n",
            "[0.311868906 -0.133710399]\n",
            "Time for epoch 300,\n",
            "counter 400:\n",
            "[0.41673696 -0.0365471728]\n",
            "Time for epoch 400,\n",
            "counter 500:\n",
            "[0.279625863 -0.254843295]\n",
            "Time for epoch 500,\n",
            "counter 600:\n",
            "[0.586369038 -0.343570799]\n",
            "Time for epoch 600,\n",
            "counter 700:\n",
            "[0.606847763 -0.269952655]\n",
            "Time for epoch 700,\n",
            "counter 800:\n",
            "[0.352445304 -0.174732968]\n",
            "Time for epoch 800,\n",
            "counter 900:\n",
            "[0.440194607 -0.0945697725]\n",
            "Time for epoch 900,\n",
            "counter 1000:\n",
            "[0.406821966 -0.266415924]\n",
            "Time for epoch 1000,\n",
            "counter 1100:\n",
            "[0.332119495 0.0284391306]\n",
            "Time for epoch 1100,\n",
            "counter 1200:\n",
            "[0.504019678 -0.102606989]\n",
            "Time for epoch 1200,\n",
            "counter 1300:\n",
            "[0.760472775 -0.302725]\n",
            "Time for epoch 1300,\n",
            "counter 1400:\n",
            "[0.423309684 -0.190930441]\n",
            "Time for epoch 1400,\n",
            "counter 1500:\n",
            "[0.466080248 0.0276154857]\n",
            "Time for epoch 1500,\n",
            "counter 1600:\n",
            "[0.352903843 -0.114603]\n",
            "Time for epoch 1600,\n",
            "counter 1700:\n",
            "[0.506259203 -0.110844627]\n",
            "Time for epoch 1700,\n",
            "counter 1800:\n",
            "[0.436164916 -0.490016162]\n",
            "Time for epoch 1800,\n",
            "counter 1900:\n",
            "[0.458645642 -0.204548627]\n",
            "Time for epoch 1900,\n",
            "counter 2000:\n",
            "[0.398808092 -0.233026534]\n",
            "Time for epoch 2000,\n",
            "INFO:tensorflow:Assets written to: /tmp/saved_model/assets\n",
            "Time for the training is 6.968778848648071 sec,\n",
            "Epoch 000: Loss: 2.175, Accuracy: 71.000%\n",
            "Epoch 500: Loss: 2.178, Accuracy: 64.000%\n",
            "Epoch 1000: Loss: 2.172, Accuracy: 61.000%\n",
            "Epoch 1500: Loss: 2.188, Accuracy: 68.000%\n",
            "Epoch 2000: Loss: 2.168, Accuracy: 60.000%\n"
          ],
          "name": "stdout"
        },
        {
          "output_type": "display_data",
          "data": {
            "image/png": "[encoded data removed]",
            "text/plain": [
              "<Figure size 288x288 with 1 Axes>"
            ]
          },
          "metadata": {
            "tags": []
          }
        },
        {
          "output_type": "stream",
          "text": [
            "Epoch 000: Loss: 2.174, Accuracy: 63.000%\n",
            "Epoch 500: Loss: 2.164, Accuracy: 66.000%\n",
            "Epoch 1000: Loss: 2.181, Accuracy: 62.000%\n",
            "Epoch 1500: Loss: 2.173, Accuracy: 69.000%\n"
          ],
          "name": "stdout"
        },
        {
          "output_type": "display_data",
          "data": {
            "image/png": "[encoded data removed]",
            "text/plain": [
              "<Figure size 288x288 with 1 Axes>"
            ]
          },
          "metadata": {
            "tags": []
          }
        },
        {
          "output_type": "stream",
          "text": [
            "counter 100:\n",
            "[0.431164 -0.768870354]\n",
            "Time for epoch 100,\n",
            "counter 200:\n",
            "[0.434020847 -1.00686336]\n",
            "Time for epoch 200,\n",
            "counter 300:\n",
            "[0.129981294 -1.03110707]\n",
            "Time for epoch 300,\n",
            "counter 400:\n",
            "[0.132428139 -0.985133529]\n",
            "Time for epoch 400,\n",
            "counter 500:\n",
            "[0.471471459 -0.684430897]\n",
            "Time for epoch 500,\n",
            "counter 600:\n",
            "[0.595101 -0.822843134]\n",
            "Time for epoch 600,\n",
            "counter 700:\n",
            "[0.486486703 -1.19875085]\n",
            "Time for epoch 700,\n",
            "counter 800:\n",
            "[0.166170061 -0.765194535]\n",
            "Time for epoch 800,\n",
            "counter 900:\n",
            "[0.255259693 -1.15382445]\n",
            "Time for epoch 900,\n",
            "counter 1000:\n",
            "[0.0737558901 -0.997517]\n",
            "Time for epoch 1000,\n",
            "counter 1100:\n",
            "[0.255104661 -1.21739626]\n",
            "Time for epoch 1100,\n",
            "counter 1200:\n",
            "[0.256451309 -0.735298]\n",
            "Time for epoch 1200,\n",
            "counter 1300:\n",
            "[0.249274626 -1.2975831]\n",
            "Time for epoch 1300,\n",
            "counter 1400:\n",
            "[0.287638813 -0.807902098]\n",
            "Time for epoch 1400,\n",
            "counter 1500:\n",
            "[0.531844139 -0.916176677]\n",
            "Time for epoch 1500,\n",
            "counter 1600:\n",
            "[0.437857121 -0.876568794]\n",
            "Time for epoch 1600,\n",
            "counter 1700:\n",
            "[0.294709027 -0.481529593]\n",
            "Time for epoch 1700,\n",
            "counter 1800:\n",
            "[0.588595808 -0.984330356]\n",
            "Time for epoch 1800,\n",
            "counter 1900:\n",
            "[0.249616653 -0.723125756]\n",
            "Time for epoch 1900,\n",
            "counter 2000:\n",
            "[0.386261463 -1.06237054]\n",
            "Time for epoch 2000,\n",
            "INFO:tensorflow:Assets written to: /tmp/saved_model/assets\n",
            "Time for the training is 6.547082424163818 sec,\n",
            "Time for the training is 241.12690496444702 sec,\n",
            "CPU times: user 4min 30s, sys: 3.35 s, total: 4min 33s\n",
            "Wall time: 4min 1s\n"
          ],
          "name": "stdout"
        }
      ]
    },
    {
      "cell_type": "code",
      "metadata": {
        "id": "MUbnLX0y_p6E",
        "colab_type": "code",
        "colab": {
          "base_uri": "https://localhost:8080/",
          "height": 724
        },
        "outputId": "812c77a4-f7f5-4ffb-f5d2-3b0c5093dc16"
      },
      "source": [
        "%%time\n",
        "generator.trainable =False\n",
        "encoder.trainable = True\n",
        "decoder.trainable = True\n",
        "gan_AE = tf.keras.models.Sequential([encoder,generator,decoder])\n",
        "data = random_sample(10000000)\n",
        "start = time.time()\n",
        "gan_AE.compile(optimizer=keras.optimizers.Nadam(lr=0.0005),loss='sparse_categorical_crossentropy',metrics=['accuracy'])\n",
        "history = gan_AE.fit(data, data, batch_size=500,steps_per_epoch=200, epochs=20)\n",
        "\n",
        "test_encoding(M,n)"
      ],
      "execution_count": 25,
      "outputs": [
        {
          "output_type": "stream",
          "text": [
            "Train on 10000000 samples\n",
            "Epoch 1/20\n",
            "   98500/10000000 [..............................] - ETA: 5:40 - loss: 4.6557 - accuracy: 0.6697Epoch 2/20\n",
            "   98500/10000000 [..............................] - ETA: 1:53 - loss: 0.6207 - accuracy: 0.7705Epoch 3/20\n",
            "   99000/10000000 [..............................] - ETA: 1:55 - loss: 0.4447 - accuracy: 0.8422Epoch 4/20\n",
            "   99500/10000000 [..............................] - ETA: 1:55 - loss: 0.3612 - accuracy: 0.8768Epoch 5/20\n",
            "   97000/10000000 [..............................] - ETA: 1:48 - loss: 0.3233 - accuracy: 0.8896Epoch 6/20\n",
            "  100000/10000000 [..............................] - ETA: 1:44 - loss: 0.2978 - accuracy: 0.8968Epoch 7/20\n",
            "   97000/10000000 [..............................] - ETA: 1:47 - loss: 0.2800 - accuracy: 0.9033Epoch 8/20\n",
            "   98500/10000000 [..............................] - ETA: 1:52 - loss: 0.2649 - accuracy: 0.9079Epoch 9/20\n",
            "   98500/10000000 [..............................] - ETA: 1:46 - loss: 0.2527 - accuracy: 0.9106Epoch 10/20\n",
            "   96000/10000000 [..............................] - ETA: 1:43 - loss: 0.2489 - accuracy: 0.9114Epoch 11/20\n",
            "  100000/10000000 [..............................] - ETA: 1:44 - loss: 0.2453 - accuracy: 0.9125Epoch 12/20\n",
            "   97500/10000000 [..............................] - ETA: 1:47 - loss: 0.2378 - accuracy: 0.9138Epoch 13/20\n",
            "   98500/10000000 [..............................] - ETA: 1:46 - loss: 0.2368 - accuracy: 0.9146Epoch 14/20\n",
            "   99500/10000000 [..............................] - ETA: 1:44 - loss: 0.2331 - accuracy: 0.9157Epoch 15/20\n",
            "   99000/10000000 [..............................] - ETA: 1:52 - loss: 0.2323 - accuracy: 0.9172Epoch 16/20\n",
            "   99000/10000000 [..............................] - ETA: 1:52 - loss: 0.2327 - accuracy: 0.9154Epoch 17/20\n",
            "   98000/10000000 [..............................] - ETA: 1:45 - loss: 0.2302 - accuracy: 0.9173Epoch 18/20\n",
            "   97500/10000000 [..............................] - ETA: 1:47 - loss: 0.2299 - accuracy: 0.9175Epoch 19/20\n",
            "  100000/10000000 [..............................] - ETA: 1:44 - loss: 0.2267 - accuracy: 0.9185Epoch 20/20\n",
            "   98500/10000000 [..............................] - ETA: 1:51 - loss: 0.2293 - accuracy: 0.9177"
          ],
          "name": "stdout"
        },
        {
          "output_type": "display_data",
          "data": {
            "image/png": "[encoded data removed]",
            "text/plain": [
              "<Figure size 288x288 with 1 Axes>"
            ]
          },
          "metadata": {
            "tags": []
          }
        },
        {
          "output_type": "stream",
          "text": [
            "CPU times: user 30.4 s, sys: 1.1 s, total: 31.5 s\n",
            "Wall time: 24.7 s\n"
          ],
          "name": "stdout"
        }
      ]
    },
    {
      "cell_type": "markdown",
      "metadata": {
        "id": "6GW2opX7SwMo",
        "colab_type": "text"
      },
      "source": [
        "\n",
        "# AE training"
      ]
    },
    {
      "cell_type": "code",
      "metadata": {
        "id": "ukO76l6yIoPc",
        "colab_type": "code",
        "colab": {}
      },
      "source": [
        "# test msg sequence for normal encoding\n",
        "N_test = 500000\n",
        "test_msg = np.random.randint(M, size=N_test)"
      ],
      "execution_count": 0,
      "outputs": []
    },
    {
      "cell_type": "markdown",
      "metadata": {
        "id": "PK5wA-zzHScv",
        "colab_type": "text"
      },
      "source": [
        "### Comparison"
      ]
    },
    {
      "cell_type": "code",
      "metadata": {
        "id": "7M-S0sbhIoPw",
        "colab_type": "code",
        "colab": {
          "base_uri": "https://localhost:8080/",
          "height": 106
        },
        "outputId": "8744ffda-5a0d-46ee-f173-6211c7105fdc"
      },
      "source": [
        "gan_bber_data = gan_Test_AE(test_msg)"
      ],
      "execution_count": 27,
      "outputs": [
        {
          "output_type": "stream",
          "text": [
            "Progress: 6 of 30 parts\n",
            "Progress: 12 of 30 parts\n",
            "Progress: 18 of 30 parts\n",
            "Progress: 24 of 30 parts\n",
            "Progress: 30 of 30 parts\n"
          ],
          "name": "stdout"
        }
      ]
    },
    {
      "cell_type": "code",
      "metadata": {
        "id": "UYdEm0eQIoP2",
        "colab_type": "code",
        "colab": {
          "base_uri": "https://localhost:8080/",
          "height": 352
        },
        "outputId": "36120ca0-6031-4ea1-e4ea-261d1e600640"
      },
      "source": [
        "# Approximate 16 QAM Error\n",
        "def SIXT_QAM_sim(ebno):\n",
        "    return (3.0/2)*special.erfc(np.sqrt((4.0/10)*10.**(ebno/10)))\n",
        "\n",
        "ebnodbs = np.linspace(0,15,16)\n",
        "fig = plt.figure(figsize=(8, 5))\n",
        "plt.semilogy(gan_bber_data[0], gan_bber_data[1], '^-')\n",
        "plt.semilogy(ebnodbs, SIXT_QAM_sim(ebnodbs), '*-');\n",
        "plt.gca().set_ylim(1e-5, 1)\n",
        "plt.gca().set_xlim(0, 15)\n",
        "plt.ylabel(\"Batch Symbol Error Rate\", fontsize=14, rotation=90)\n",
        "plt.xlabel(\"SNR [dB]\", fontsize=18)\n",
        "plt.legend(['AE with WGAN', '16QAM'],\n",
        "           prop={'size': 14}, loc='upper right');\n",
        "plt.grid(True, which=\"both\")\n",
        "#print('time to train the AE Model with GAN',time_to_train_gan)\n"
      ],
      "execution_count": 32,
      "outputs": [
        {
          "output_type": "display_data",
          "data": {
            "image/png": "[encoded data removed]",
            "text/plain": [
              "<Figure size 576x360 with 1 Axes>"
            ]
          },
          "metadata": {
            "tags": []
          }
        }
      ]
    },
    {
      "cell_type": "code",
      "metadata": {
        "id": "bBes21qLlcS8",
        "colab_type": "code",
        "colab": {
          "base_uri": "https://localhost:8080/",
          "height": 106
        },
        "outputId": "0da6c540-6998-4194-dc93-fce0b790d20d"
      },
      "source": [
        "bber_data_rayleigh = Test_AE_rayleigh(test_msg)"
      ],
      "execution_count": 33,
      "outputs": [
        {
          "output_type": "stream",
          "text": [
            "Progress: 6 of 30 parts\n",
            "Progress: 12 of 30 parts\n",
            "Progress: 18 of 30 parts\n",
            "Progress: 24 of 30 parts\n",
            "Progress: 30 of 30 parts\n"
          ],
          "name": "stdout"
        }
      ]
    },
    {
      "cell_type": "code",
      "metadata": {
        "id": "q60pg9b9Rz7C",
        "colab_type": "code",
        "colab": {
          "base_uri": "https://localhost:8080/",
          "height": 352
        },
        "outputId": "aefb3f1b-f4d7-4260-f532-9330f16919f0"
      },
      "source": [
        "def SIXT_QAM_sim(ebno):\n",
        "    return (3.0/2)*special.erfc(np.sqrt((4.0/10)*10.**(ebno/10)))\n",
        "\n",
        "ebnodbs = np.linspace(0,15,16)\n",
        "fig = plt.figure(figsize=(8, 5))\n",
        "plt.semilogy(gan_bber_data[0], gan_bber_data[1], 'o-')\n",
        "plt.semilogy(bber_data_rayleigh[0], bber_data_rayleigh[1], '+-')\n",
        "#plt.semilogy(ebnodbs, SIXT_QAM_sim(ebnodbs), '^-');\n",
        "plt.gca().set_ylim(1e-5, 1)\n",
        "plt.gca().set_xlim(0, 15)\n",
        "plt.ylabel(\"Batch Symbol Error Rate\", fontsize=14, rotation=90)\n",
        "plt.xlabel(\"SNR [dB]\", fontsize=18)\n",
        "plt.legend(['BLER for Gauss','BLER for Rayleigh'],\n",
        "           prop={'size': 14}, loc='upper right');\n",
        "plt.grid(True, which=\"both\")\n",
        "#plt.savefig('home/ben/Downloads/MineRayleigh.eps', format='eps')"
      ],
      "execution_count": 34,
      "outputs": [
        {
          "output_type": "display_data",
          "data": {
            "image/png": "[encoded data removed]",
            "text/plain": [
              "<Figure size 576x360 with 1 Axes>"
            ]
          },
          "metadata": {
            "tags": []
          }
        }
      ]
    },
    {
      "cell_type": "code",
      "metadata": {
        "id": "xR1kh-fxcASt",
        "colab_type": "code",
        "colab": {}
      },
      "source": [
        ""
      ],
      "execution_count": 0,
      "outputs": []
    }
  ]
}