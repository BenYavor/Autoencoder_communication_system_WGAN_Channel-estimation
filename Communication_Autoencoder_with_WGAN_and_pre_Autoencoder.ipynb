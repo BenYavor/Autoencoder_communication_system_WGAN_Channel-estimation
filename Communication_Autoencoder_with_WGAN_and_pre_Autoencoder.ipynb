{
  "nbformat": 4,
  "nbformat_minor": 0,
  "metadata": {
    "colab": {
      "name": "Communication Autoencoder with WGAN and pre-Autoencoder.ipynb",
      "provenance": [],
      "collapsed_sections": [],
      "include_colab_link": true
    },
    "kernelspec": {
      "name": "python3",
      "display_name": "Python 3"
    }
  },
  "cells": [
    {
      "cell_type": "markdown",
      "metadata": {
        "id": "view-in-github",
        "colab_type": "text"
      },
      "source": [
        "<a href=\"https://colab.research.google.com/github/BenYavor/Autoencoder_communication_system_WGAN_Channel-estimation/blob/master/Communication_Autoencoder_with_WGAN_and_pre_Autoencoder.ipynb\" target=\"_parent\"><img src=\"https://colab.research.google.com/assets/colab-badge.svg\" alt=\"Open In Colab\"/></a>"
      ]
    },
    {
      "cell_type": "code",
      "metadata": {
        "id": "Y3Mvn1V30ejH",
        "colab_type": "code",
        "outputId": "c8221339-ec1c-42d5-f87f-22147aae8de6",
        "colab": {
          "base_uri": "https://localhost:8080/",
          "height": 644
        }
      },
      "source": [
        "!pip install tensorflow==2.0.0\n",
        "import numpy as np\n",
        "%matplotlib inline\n",
        "import matplotlib.pyplot as plt   \n",
        "import warnings\n",
        "with warnings.catch_warnings():\n",
        "    warnings.filterwarnings(\"ignore\",category=FutureWarning)\n",
        "    import tensorflow as tf\n",
        "import os\n",
        "tf.__version__\n",
        "from tensorflow import keras\n",
        "import time\n",
        "from __future__ import absolute_import, division, print_function, unicode_literals\n",
        "import pandas as pd\n",
        "import sys\n",
        "assert sys.version_info >= (3, 5)\n",
        "%matplotlib inline\n",
        "import matplotlib as mpl\n",
        "mpl.rc('axes', labelsize=14)\n",
        "mpl.rc('xtick', labelsize=12)\n",
        "mpl.rc('ytick', labelsize=12)\n",
        "import tensorflow as tf\n",
        "from tensorflow import keras\n",
        "from sklearn.preprocessing import OneHotEncoder\n",
        "import pandas as pd\n",
        "from scipy import special\n",
        "#from Clustering_Equalgrps.equal_groups import EqualGroupsKMeans\n",
        "from tensorflow.keras import layers\n",
        "np.random.seed(42)\n",
        "tf.random.set_seed(42)"
      ],
      "execution_count": 1,
      "outputs": [
        {
          "output_type": "stream",
          "text": [
            "Requirement already satisfied: tensorflow==2.0.0 in /usr/local/lib/python3.6/dist-packages (2.0.0)\n",
            "Requirement already satisfied: six>=1.10.0 in /usr/local/lib/python3.6/dist-packages (from tensorflow==2.0.0) (1.12.0)\n",
            "Requirement already satisfied: google-pasta>=0.1.6 in /usr/local/lib/python3.6/dist-packages (from tensorflow==2.0.0) (0.1.8)\n",
            "Requirement already satisfied: astor>=0.6.0 in /usr/local/lib/python3.6/dist-packages (from tensorflow==2.0.0) (0.8.1)\n",
            "Requirement already satisfied: opt-einsum>=2.3.2 in /usr/local/lib/python3.6/dist-packages (from tensorflow==2.0.0) (3.1.0)\n",
            "Requirement already satisfied: keras-preprocessing>=1.0.5 in /usr/local/lib/python3.6/dist-packages (from tensorflow==2.0.0) (1.1.0)\n",
            "Requirement already satisfied: keras-applications>=1.0.8 in /usr/local/lib/python3.6/dist-packages (from tensorflow==2.0.0) (1.0.8)\n",
            "Requirement already satisfied: tensorflow-estimator<2.1.0,>=2.0.0 in /usr/local/lib/python3.6/dist-packages (from tensorflow==2.0.0) (2.0.1)\n",
            "Requirement already satisfied: grpcio>=1.8.6 in /usr/local/lib/python3.6/dist-packages (from tensorflow==2.0.0) (1.15.0)\n",
            "Requirement already satisfied: termcolor>=1.1.0 in /usr/local/lib/python3.6/dist-packages (from tensorflow==2.0.0) (1.1.0)\n",
            "Requirement already satisfied: protobuf>=3.6.1 in /usr/local/lib/python3.6/dist-packages (from tensorflow==2.0.0) (3.10.0)\n",
            "Requirement already satisfied: absl-py>=0.7.0 in /usr/local/lib/python3.6/dist-packages (from tensorflow==2.0.0) (0.8.1)\n",
            "Requirement already satisfied: numpy<2.0,>=1.16.0 in /usr/local/lib/python3.6/dist-packages (from tensorflow==2.0.0) (1.17.4)\n",
            "Requirement already satisfied: gast==0.2.2 in /usr/local/lib/python3.6/dist-packages (from tensorflow==2.0.0) (0.2.2)\n",
            "Requirement already satisfied: wrapt>=1.11.1 in /usr/local/lib/python3.6/dist-packages (from tensorflow==2.0.0) (1.11.2)\n",
            "Requirement already satisfied: tensorboard<2.1.0,>=2.0.0 in /usr/local/lib/python3.6/dist-packages (from tensorflow==2.0.0) (2.0.2)\n",
            "Requirement already satisfied: wheel>=0.26 in /usr/local/lib/python3.6/dist-packages (from tensorflow==2.0.0) (0.33.6)\n",
            "Requirement already satisfied: h5py in /usr/local/lib/python3.6/dist-packages (from keras-applications>=1.0.8->tensorflow==2.0.0) (2.8.0)\n",
            "Requirement already satisfied: setuptools in /usr/local/lib/python3.6/dist-packages (from protobuf>=3.6.1->tensorflow==2.0.0) (42.0.2)\n",
            "Requirement already satisfied: markdown>=2.6.8 in /usr/local/lib/python3.6/dist-packages (from tensorboard<2.1.0,>=2.0.0->tensorflow==2.0.0) (3.1.1)\n",
            "Requirement already satisfied: requests<3,>=2.21.0 in /usr/local/lib/python3.6/dist-packages (from tensorboard<2.1.0,>=2.0.0->tensorflow==2.0.0) (2.21.0)\n",
            "Requirement already satisfied: google-auth<2,>=1.6.3 in /usr/local/lib/python3.6/dist-packages (from tensorboard<2.1.0,>=2.0.0->tensorflow==2.0.0) (1.10.0)\n",
            "Requirement already satisfied: werkzeug>=0.11.15 in /usr/local/lib/python3.6/dist-packages (from tensorboard<2.1.0,>=2.0.0->tensorflow==2.0.0) (0.16.0)\n",
            "Requirement already satisfied: google-auth-oauthlib<0.5,>=0.4.1 in /usr/local/lib/python3.6/dist-packages (from tensorboard<2.1.0,>=2.0.0->tensorflow==2.0.0) (0.4.1)\n",
            "Requirement already satisfied: idna<2.9,>=2.5 in /usr/local/lib/python3.6/dist-packages (from requests<3,>=2.21.0->tensorboard<2.1.0,>=2.0.0->tensorflow==2.0.0) (2.8)\n",
            "Requirement already satisfied: certifi>=2017.4.17 in /usr/local/lib/python3.6/dist-packages (from requests<3,>=2.21.0->tensorboard<2.1.0,>=2.0.0->tensorflow==2.0.0) (2019.11.28)\n",
            "Requirement already satisfied: urllib3<1.25,>=1.21.1 in /usr/local/lib/python3.6/dist-packages (from requests<3,>=2.21.0->tensorboard<2.1.0,>=2.0.0->tensorflow==2.0.0) (1.24.3)\n",
            "Requirement already satisfied: chardet<3.1.0,>=3.0.2 in /usr/local/lib/python3.6/dist-packages (from requests<3,>=2.21.0->tensorboard<2.1.0,>=2.0.0->tensorflow==2.0.0) (3.0.4)\n",
            "Requirement already satisfied: cachetools<5.0,>=2.0.0 in /usr/local/lib/python3.6/dist-packages (from google-auth<2,>=1.6.3->tensorboard<2.1.0,>=2.0.0->tensorflow==2.0.0) (4.0.0)\n",
            "Requirement already satisfied: pyasn1-modules>=0.2.1 in /usr/local/lib/python3.6/dist-packages (from google-auth<2,>=1.6.3->tensorboard<2.1.0,>=2.0.0->tensorflow==2.0.0) (0.2.7)\n",
            "Requirement already satisfied: rsa<4.1,>=3.1.4 in /usr/local/lib/python3.6/dist-packages (from google-auth<2,>=1.6.3->tensorboard<2.1.0,>=2.0.0->tensorflow==2.0.0) (4.0)\n",
            "Requirement already satisfied: requests-oauthlib>=0.7.0 in /usr/local/lib/python3.6/dist-packages (from google-auth-oauthlib<0.5,>=0.4.1->tensorboard<2.1.0,>=2.0.0->tensorflow==2.0.0) (1.3.0)\n",
            "Requirement already satisfied: pyasn1<0.5.0,>=0.4.6 in /usr/local/lib/python3.6/dist-packages (from pyasn1-modules>=0.2.1->google-auth<2,>=1.6.3->tensorboard<2.1.0,>=2.0.0->tensorflow==2.0.0) (0.4.8)\n",
            "Requirement already satisfied: oauthlib>=3.0.0 in /usr/local/lib/python3.6/dist-packages (from requests-oauthlib>=0.7.0->google-auth-oauthlib<0.5,>=0.4.1->tensorboard<2.1.0,>=2.0.0->tensorflow==2.0.0) (3.1.0)\n"
          ],
          "name": "stdout"
        }
      ]
    },
    {
      "cell_type": "markdown",
      "metadata": {
        "id": "1wlZswcMF7Rt",
        "colab_type": "text"
      },
      "source": [
        "#### Vergleich\n",
        "Als erstes für feste $k$ und $n$, was sich ändert ist die Samplesize, Anzahl der Samples und SNR"
      ]
    },
    {
      "cell_type": "markdown",
      "metadata": {
        "id": "4qpY-gawAf-9",
        "colab_type": "text"
      },
      "source": [
        "###Systemparameter\n",
        "ACHTUNG: CHANNELANZAHL WURDE UNTERSCHIEDLICH VERWENDET \\\\\n",
        "$k$ - die Anzhal der bits \\\\\n",
        "$M$ - Anzahl der unterschiedlichen Nachrichten \\\\\n",
        "$n$ - channel uses\\\\\n",
        "$N$ - Länge des Rauschvektors"
      ]
    },
    {
      "cell_type": "code",
      "metadata": {
        "colab_type": "code",
        "id": "czeNNfpY1qc2",
        "outputId": "24e81b6a-dcfe-4c80-c235-a156c16ef9da",
        "colab": {
          "base_uri": "https://localhost:8080/",
          "height": 35
        }
      },
      "source": [
        "k = 4      # Number of information bits per message, i.e., M=2**k\n",
        "M = 2**k\n",
        "n = 2    # Number of real channel uses per message\n",
        "#k = int(np.log2(M))\n",
        "#n = 2\n",
        "print(M)\n",
        "\n",
        "SNR = 7\n"
      ],
      "execution_count": 2,
      "outputs": [
        {
          "output_type": "stream",
          "text": [
            "16\n"
          ],
          "name": "stdout"
        }
      ]
    },
    {
      "cell_type": "markdown",
      "metadata": {
        "id": "BA4TqJBOXXIg",
        "colab_type": "text"
      },
      "source": [
        "## Training Parameter"
      ]
    },
    {
      "cell_type": "code",
      "metadata": {
        "id": "aJZ_cnp9V-Q6",
        "colab_type": "code",
        "colab": {}
      },
      "source": [
        "gen_learning_rate=0.0001\n",
        "disc_learning_rate = 0.0001 "
      ],
      "execution_count": 0,
      "outputs": []
    },
    {
      "cell_type": "markdown",
      "metadata": {
        "id": "tb-DiBwSN255",
        "colab_type": "text"
      },
      "source": [
        "### Different Layers"
      ]
    },
    {
      "cell_type": "code",
      "metadata": {
        "id": "hFMMLrY0LthL",
        "colab_type": "code",
        "colab": {}
      },
      "source": [
        "randN_initial = keras.initializers.RandomNormal(mean=0.0, stddev=0.05, seed=None)\n",
        "\n",
        "EncIn = tf.keras.layers.Input(shape=(M,))#, dtype= tf.int32)\n",
        "e1 = tf.keras.layers.Dense(2*n, activation=None)\n",
        "e2 = tf.keras.layers.Lambda(lambda x:tf.reshape(x, shape=[-1,int(n/2),2]))\n",
        "EncOut = tf.keras.layers.Lambda(lambda x: x/tf.sqrt(2*tf.reduce_mean(tf.square(x))))\n",
        "GenIn = tf.keras.layers.Lambda(lambda x:tf.reshape(x,(tf.shape(x)[0],-1)))\n",
        "# = tf.keras.layers.Lambda(generator)\n",
        "DecIn = tf.keras.layers.Lambda(lambda x:tf.reshape(x, shape=[-1,int(n/2),2]))\n",
        "d1 = tf.keras.layers.Lambda(lambda x:tf.reshape(x, shape=[-1,n]))\n",
        "d2 = tf.keras.layers.Dense(M, activation='relu')\n",
        "DecOut = tf.keras.layers.Dense(M, activation='softmax')\n",
        "\n",
        "\n",
        "#noise_std = EbNo_to_noise(TRAINING_SNR)\n",
        "# custom functions / layers without weights\n",
        "norm_layer = keras.layers.Lambda(lambda x: tf.divide(x,tf.sqrt(2*tf.reduce_mean(tf.square(x)))))\n",
        "shape_layer = keras.layers.Lambda(lambda x: tf.reshape(x, shape=[-1,2,n]))\n",
        "shape_layer2 = keras.layers.Lambda(lambda x: tf.reshape(x, shape=[-1,n]))\n",
        "channel_layer = keras.layers.Lambda(lambda x: x + tf.random.normal(tf.shape(x), mean=0.0, stddev=noise_std))"
      ],
      "execution_count": 0,
      "outputs": []
    },
    {
      "cell_type": "markdown",
      "metadata": {
        "id": "7J96hJhKO9VJ",
        "colab_type": "text"
      },
      "source": [
        "### Help functions"
      ]
    },
    {
      "cell_type": "code",
      "metadata": {
        "id": "uV7pjryDv4M4",
        "colab_type": "code",
        "outputId": "726f0360-6fa8-4462-f7f9-6b1cbe7fd3f6",
        "colab": {
          "base_uri": "https://localhost:8080/",
          "height": 53
        }
      },
      "source": [
        "def EbNo2Sigma(ebnodb):\n",
        "    '''Convert Eb/No in dB to noise standard deviation'''\n",
        "    ebno = 10**(ebnodb/10)\n",
        "    return 1/np.sqrt(2*(2*k/n)*ebno)\n",
        "\n",
        "def EbNo_to_noise(ebnodb):\n",
        "    '''Transform EbNo[dB]/snr to noise power'''\n",
        "    ebno = 10**(ebnodb/10)\n",
        "    noise_std = 1/np.sqrt(2*(2*k/n)*ebno) \n",
        "    return noise_std\n",
        "\n",
        "\n",
        "def real_channel(x,noise_std):\n",
        "    # Black-box Channel\n",
        "    #AWGN\n",
        "    return x + tf.random.normal(tf.shape(x), mean=0.0, stddev=noise_std)\n",
        "\n",
        "def rayleigh_channel(x,noise_std):\n",
        "    return x + tf.sqrt(tf.square(tf.random.normal(tf.shape(x), mean=0.0, stddev=noise_std)) + tf.square(tf.random.normal(tf.shape(x), mean=0.0, stddev=noise_std)))\n",
        "    #Uniform U(-3;3)    \n",
        "    #return x + tf.random_uniform(tf.shape(x), minval=-2, maxval=2)\n",
        "\n",
        "def B_Ber(input_msg, msg):\n",
        "    '''Calculate the Batch Bit Error Rate'''\n",
        "    pred_error = tf.not_equal(tf.argmax(msg, 1), tf.argmax(input_msg, 1))\n",
        "    bber = tf.reduce_mean(tf.cast(pred_error, tf.float32))\n",
        "    return bber\n",
        "\n",
        "def random_sample(batch_size=32):\n",
        "    msg = np.random.randint(M, size=batch_size)\n",
        "    return msg\n",
        "\n",
        "\n",
        "\n",
        "\n",
        "def B_Ber_m(input_msg, msg):\n",
        "    '''Calculate the Batch Bit Error Rate'''\n",
        "    pred_error = tf.not_equal(input_msg, tf.argmax(msg, 1))      \n",
        "    bber = tf.reduce_mean(tf.cast(pred_error, tf.float32))\n",
        "    return bber\n",
        "\n",
        "def SNR_to_noise(snrdb):\n",
        "    '''Transform EbNo[dB]/snr to noise power'''\n",
        "    snr = 10**(snrdb/10)\n",
        "    noise_std = 1/np.sqrt(2*snr)\n",
        "    return noise_std\n",
        "\n",
        "noise_std = EbNo2Sigma(SNR)\n",
        "\n",
        "print(EbNo2Sigma(SNR))\n",
        "print(EbNo_to_noise(SNR))"
      ],
      "execution_count": 5,
      "outputs": [
        {
          "output_type": "stream",
          "text": [
            "0.15792649852735607\n",
            "0.15792649852735607\n"
          ],
          "name": "stdout"
        }
      ]
    },
    {
      "cell_type": "code",
      "metadata": {
        "id": "OBGMgdDEh7uX",
        "colab_type": "code",
        "colab": {}
      },
      "source": [
        "def test_encoding(M=16, n=1):\n",
        "    inp = np.arange(0,M)\n",
        "    coding = gan_encoder.predict(inp)\n",
        "    fig = plt.figure(figsize=(4,4))\n",
        "    plt.plot(coding[:,0], coding[:, 1], \"b.\")\n",
        "    plt.xlabel(\"$x_1$\", fontsize=18)\n",
        "    plt.ylabel(\"$x_2$\", fontsize=18, rotation=0)\n",
        "    plt.grid(True)\n",
        "    plt.gca().set_ylim(-2, 2)\n",
        "    plt.gca().set_xlim(-2, 2)\n",
        "    plt.show()\n",
        "\n",
        "\n",
        "def test_encoding_pre(M=16, n=1):\n",
        "    inp = np.arange(0,M)\n",
        "    coding = pre_encoder.predict(inp)\n",
        "    fig = plt.figure(figsize=(4,4))\n",
        "    plt.plot(coding[:,0], coding[:, 1], \"b.\")\n",
        "    plt.xlabel(\"$x_1$\", fontsize=18)\n",
        "    plt.ylabel(\"$x_2$\", fontsize=18, rotation=0)\n",
        "    plt.grid(True)\n",
        "    plt.gca().set_ylim(-2, 2)\n",
        "    plt.gca().set_xlim(-2, 2)\n",
        "    plt.show()    \n"
      ],
      "execution_count": 0,
      "outputs": []
    },
    {
      "cell_type": "markdown",
      "metadata": {
        "id": "AOoYuK_jR9rH",
        "colab_type": "text"
      },
      "source": [
        "# Models"
      ]
    },
    {
      "cell_type": "markdown",
      "metadata": {
        "id": "PQxhmgOa0_7c",
        "colab_type": "text"
      },
      "source": [
        "#### Generator Model"
      ]
    },
    {
      "cell_type": "code",
      "metadata": {
        "id": "LXbS5lM9Tb9B",
        "colab_type": "code",
        "colab": {}
      },
      "source": [
        "def get_generator(n):\n",
        "  input1 = tf.keras.layers.Input(shape=(n,))\n",
        "  x1 = tf.keras.layers.Dense(n)(input1)\n",
        "  input2 =tf.random.normal(shape=tf.shape(input1))\n",
        "  #input2 =tf.random.normal([tf.shape(input1)[0],n])\n",
        "  x2 = tf.keras.layers.Dense(n)(input2)\n",
        "  subtracted = tf.keras.layers.Concatenate(1)([x1, x2])\n",
        "  h1 = tf.keras.layers.Dense(64,use_bias=True,  activation='relu')(subtracted)\n",
        "  h2 = tf.keras.layers.Dense(64,use_bias=True, activation='relu')(h1)\n",
        "  out = tf.keras.layers.Dense(n, use_bias= True, activation='linear')(h2)\n",
        "  generator = tf.keras.models.Model(inputs=[input1], outputs=out)\n",
        "  return generator"
      ],
      "execution_count": 0,
      "outputs": []
    },
    {
      "cell_type": "markdown",
      "metadata": {
        "id": "Vt2rTP7hSFt4",
        "colab_type": "text"
      },
      "source": [
        "#### Discriminator Model "
      ]
    },
    {
      "cell_type": "code",
      "metadata": {
        "id": "97h2eMLeXS68",
        "colab_type": "code",
        "colab": {}
      },
      "source": [
        "def get_discriminator(n):\n",
        "  model = tf.keras.Sequential()\n",
        "  model.add(tf.keras.layers.Dense(32,use_bias=True, kernel_initializer=randN_initial,activation='relu',input_shape=((2*n,))))\n",
        "  model.add(tf.keras.layers.Dense(32,use_bias=True, kernel_initializer=randN_initial, activation='relu'))\n",
        "  model.add(tf.keras.layers.Dense(1,use_bias=True, activation='sigmoid'))\n",
        "  return model\n",
        "\n",
        "number_of_disc_layers = 5"
      ],
      "execution_count": 0,
      "outputs": []
    },
    {
      "cell_type": "code",
      "metadata": {
        "id": "6rIdAYRhHgGk",
        "colab_type": "code",
        "colab": {}
      },
      "source": [
        "generator = get_generator(n)\n",
        "discriminator = get_discriminator(n)"
      ],
      "execution_count": 0,
      "outputs": []
    },
    {
      "cell_type": "markdown",
      "metadata": {
        "id": "lcIzLZj5Seh9",
        "colab_type": "text"
      },
      "source": [
        "## Encoder and Pre-Encoder Model"
      ]
    },
    {
      "cell_type": "code",
      "metadata": {
        "id": "sNHtzAC4SPBq",
        "colab_type": "code",
        "colab": {}
      },
      "source": [
        "def get_gan_encoder(M):\n",
        "  model = keras.models.Sequential([\n",
        "            keras.layers.Embedding(M, M, embeddings_initializer='glorot_normal'),\n",
        "            keras.layers.Dense(M*2, activation=\"elu\"),\n",
        "            keras.layers.Dense(M*2, activation=\"elu\"),\n",
        "            keras.layers.Dense(n, activation=None),\n",
        "            e2,\n",
        "            EncOut,\n",
        "            GenIn])\n",
        "  return model\n",
        "\n",
        "def get_pre_encoder(M):\n",
        "  model = keras.models.Sequential([\n",
        "            keras.layers.Embedding(M, M, embeddings_initializer='glorot_normal'),\n",
        "            keras.layers.Dense(M,kernel_initializer=randN_initial, activation=\"elu\"),\n",
        "            keras.layers.Dense(n,kernel_initializer=randN_initial, activation=None),\n",
        "            e2,\n",
        "            EncOut,\n",
        "            GenIn])\n",
        "  return model"
      ],
      "execution_count": 0,
      "outputs": []
    },
    {
      "cell_type": "markdown",
      "metadata": {
        "id": "G5iCDE4dSL35",
        "colab_type": "text"
      },
      "source": [
        "## Decoder and Pre-Decoder Model"
      ]
    },
    {
      "cell_type": "code",
      "metadata": {
        "id": "C5KjEhDvSWQR",
        "colab_type": "code",
        "colab": {}
      },
      "source": [
        "def get_gan_decoder(M):\n",
        "   model= keras.models.Sequential([\n",
        "                #DecIn,\n",
        "                #d1,\n",
        "                keras.layers.Input(shape=(n,)),\n",
        "                keras.layers.Dense(M*2, activation=\"elu\"),\n",
        "                keras.layers.Dense(M*2, activation=\"elu\"),\n",
        "                keras.layers.Dense(M, activation=\"softmax\")\n",
        "                ])\n",
        "   return model\n",
        "\n",
        "\n",
        "def get_pre_decoder(M):\n",
        "   model= keras.models.Sequential([\n",
        "                #DecIn,\n",
        "                #d1,\n",
        "                keras.layers.Input(shape=(n,)),\n",
        "                keras.layers.Dense(M,kernel_initializer=randN_initial, activation=\"elu\"),\n",
        "                keras.layers.Dense(M,kernel_initializer=randN_initial, activation=\"softmax\")\n",
        "                ])\n",
        "   return model\n"
      ],
      "execution_count": 0,
      "outputs": []
    },
    {
      "cell_type": "code",
      "metadata": {
        "id": "fYGiMY4QeVrk",
        "colab_type": "code",
        "colab": {}
      },
      "source": [
        "@tf.function\n",
        "def compute_loss(batch_size):\n",
        "  m =random_sample(batch_size)\n",
        "  r = pre_encoder(m)\n",
        "  real_training_data = tf.concat(values=[real_channel(r,noise_std), r], axis=1)\n",
        "  fake_training_data = tf.concat(values=[generator(r),r], axis=1)\n",
        "  real_output = discriminator(real_training_data)\n",
        "  fake_output = discriminator(fake_training_data)\n",
        "  disc_loss = tf.reduce_mean(real_output) - tf.reduce_mean(fake_output)\n",
        "  gen_loss = -tf.reduce_mean(fake_output)\n",
        "\n",
        "  return disc_loss, gen_loss"
      ],
      "execution_count": 0,
      "outputs": []
    },
    {
      "cell_type": "markdown",
      "metadata": {
        "id": "s-t76sYBtlP1",
        "colab_type": "text"
      },
      "source": [
        "### GAN Training functions"
      ]
    },
    {
      "cell_type": "code",
      "metadata": {
        "id": "n15AvPFO05gd",
        "colab_type": "code",
        "colab": {}
      },
      "source": [
        "def gan_optimizers(gen_learning_rate  ,disc_learning_rate):\n",
        "  generator_optimizer = tf.keras.optimizers.RMSprop(gen_learning_rate)      #RMSprop   in oreder to test where the error comes from\n",
        "  discriminator_optimizer = tf.keras.optimizers.RMSprop(disc_learning_rate) \n",
        "  return generator_optimizer, discriminator_optimizer"
      ],
      "execution_count": 0,
      "outputs": []
    },
    {
      "cell_type": "code",
      "metadata": {
        "id": "ooDukkHvmduJ",
        "colab_type": "code",
        "outputId": "15a6c387-ffd5-4ad1-aeef-95064d421585",
        "colab": {
          "base_uri": "https://localhost:8080/",
          "height": 53
        }
      },
      "source": [
        "%%time\n",
        "def train_gan(epochs,n_steps, batch_size, SNR_level):\n",
        "  noise_std = EbNo2Sigma(SNR_level)\n",
        "  start = time.time()\n",
        "  x = tf.random.normal((batch_size,n),dtype=tf.dtypes.float32) \n",
        "  x = x/tf.sqrt(2*tf.reduce_mean(tf.square(x)))\n",
        "  counter = 0\n",
        "  epoch = 0\n",
        "  loss =[]\n",
        "  for epoch in range(epochs):\n",
        "    counter += 1\n",
        "    lossess=train_step(noise_std, n_steps,batch_size)\n",
        "    if epoch%2000 == 0:\n",
        "      real_c = tf.concat(values=[real_channel(x,noise_std), x], axis=1)\n",
        "      fake_c = generator(x)\n",
        "      #real_eval_data, fake_eval_data, inputs = get_evaluation_data()\n",
        "      #test_eval(real_eval_data, fake_eval_data, inputs)\n",
        "      tf.print(fake_c[0])\n",
        "      #tf.print(disc_loss, gen_loss)\n",
        "      #plt.plot(losses.disc_loss.values)  \n",
        "    #loss.append(compute_loss(batch_size))\n",
        "    #losses.loc[len(losses)] = np.mean(loss, axis=0)\n",
        "    if counter%100==0:\n",
        "      tf.print(\"counter %d:\" % (counter))\n",
        "      fake_c = generator(x)\n",
        "      tf.print(fake_c[0])\n",
        "      print(\n",
        "         \"Epoch: {} | disc_loss: {} | gen_loss: {}\".format(\n",
        "              epoch, losses.disc_loss.values[-1], losses.gen_loss.values[-1]))\n",
        "    #print ('Time for epoch {} is {} sec,'.format(epoch + 1, time.time()-start))\n",
        "\n",
        "      \n",
        "  tf.saved_model.save(generator,'/tmp/saved_model/')\n",
        "  tf.print ('Time for the training is {} sec,'.format( time.time()-start))\n",
        "  #plt.plot(losses.disc_loss.values)  "
      ],
      "execution_count": 14,
      "outputs": [
        {
          "output_type": "stream",
          "text": [
            "CPU times: user 4 µs, sys: 0 ns, total: 4 µs\n",
            "Wall time: 7.87 µs\n"
          ],
          "name": "stdout"
        }
      ]
    },
    {
      "cell_type": "code",
      "metadata": {
        "colab_type": "code",
        "id": "WE_JS7kgA1W-",
        "colab": {}
      },
      "source": [
        "@tf.function\n",
        "def train_step(noise_std,n_steps,batch_size):\n",
        "  x = tf.random.normal((batch_size,n),dtype=tf.dtypes.float32) \n",
        "  x = x/tf.sqrt(2*tf.reduce_mean(tf.square(x)))\n",
        "  m =random_sample(batch_size)\n",
        "  r = pre_encoder(m)\n",
        "  for i in range(n_steps):\n",
        "    with tf.GradientTape() as gen_tape, tf.GradientTape() as disc_tape:\n",
        "      real_training_data = tf.concat(values=[real_channel(r,noise_std), r], axis=1)\n",
        "      fake_training_data = tf.concat(values=[generator(r),r], axis=1)\n",
        "      real_output = discriminator(real_training_data)\n",
        "      fake_output = discriminator(fake_training_data)\n",
        "      \n",
        "      \n",
        "      #disc_loss = -tf.reduce_mean(tf.math.log(real_output) + tf.math.log(1. - fake_output))\n",
        "      #gen_loss =-tf.reduce_mean(tf.math.log(fake_output))\n",
        "      \n",
        "      disc_loss = -tf.reduce_mean(real_output) + tf.reduce_mean(fake_output)\n",
        "\n",
        "      #tf.print(disc_loss,gen_loss)\n",
        "      \n",
        "      if tf.math.is_nan(disc_loss) == False:\n",
        "        gradients_of_discriminator = disc_tape.gradient(disc_loss, discriminator.trainable_variables)\n",
        "        discriminator_optimizer.apply_gradients(zip(gradients_of_discriminator, discriminator.trainable_variables))\n",
        "        t=0\n",
        "        for t in range(number_of_disc_layers):\n",
        "          y = tf.clip_by_value(discriminator.trainable_weights[t],clip_value_min=-0.05,clip_value_max=0.05,name=None)\n",
        "          discriminator.trainable_weights[t].assign(y)\n",
        "\n",
        "        #tf.print(discriminator.trainable_weights[1])\n",
        "\n",
        "    \n",
        "      if i == 4:\n",
        "        fake_training_data = tf.concat(values=[generator(r),r], axis=1)\n",
        "        fake_output = discriminator(fake_training_data)\n",
        "        gen_loss = -tf.reduce_mean(fake_output)\n",
        "        gradients_of_generator = gen_tape.gradient(gen_loss, generator.trainable_variables)\n",
        "        generator_optimizer.apply_gradients(zip(gradients_of_generator, generator.trainable_variables))\n",
        "\n"
      ],
      "execution_count": 0,
      "outputs": []
    },
    {
      "cell_type": "code",
      "metadata": {
        "id": "y82FQj3Jmvxx",
        "colab_type": "code",
        "colab": {}
      },
      "source": [
        "def creating_and_train_gan(epochs,n_steps, batch_size, SNR_level , n ):  #optional Leraning Rates\n",
        "  train_gan(epochs, n_steps, batch_size, SNR_level)\n",
        "  #4 after GAN training\n",
        "  generator.trainable = False\n",
        "  tf.print(generator.trainable)"
      ],
      "execution_count": 0,
      "outputs": []
    },
    {
      "cell_type": "code",
      "metadata": {
        "id": "dLTtFoV0IoPj",
        "colab_type": "code",
        "colab": {}
      },
      "source": [
        "def gan_Test_AE(data):\n",
        "    '''Calculate Bit Error for varying SNRs'''\n",
        "    snr_range = np.linspace(0, 15, 31)\n",
        "    bber_vec = [None] * len(snr_range)\n",
        "        \n",
        "    for db in range(len(snr_range)):           \n",
        "        noise_std = EbNo_to_noise(snr_range[db])\n",
        "        code_word = gan_encoder(data)\n",
        "        rcvd_word = code_word + tf.random.normal(tf.shape(code_word), mean=0.0, stddev=noise_std)\n",
        "        dcoded_msg = gan_decoder(rcvd_word)\n",
        "        bber_vec[db] = B_Ber_m(data, dcoded_msg)\n",
        "        if (db % 6 == 0) & (db > 0):\n",
        "            print(f'Progress: {db} of {30} parts')\n",
        "\n",
        "    return (snr_range, bber_vec)\n",
        "\n",
        "def Test_AE_rayleigh(data):\n",
        "    '''Calculate Bit Error for varying SNRs'''\n",
        "    snr_range = np.linspace(0, 15, 31)\n",
        "    bber_vec = [None] * len(snr_range)\n",
        "        \n",
        "    for db in range(len(snr_range)):           \n",
        "        noise_std = EbNo_to_noise(snr_range[db])\n",
        "        code_word = gan_encoder(data)\n",
        "        rcvd_word = rayleigh_channel(code_word, noise_std)\n",
        "        dcoded_msg = gan_decoder(rcvd_word)\n",
        "        bber_vec[db] = B_Ber_m(data, dcoded_msg)\n",
        "        if (db % 6 == 0) & (db > 0):\n",
        "            print(f'Progress: {db} of {30} parts')\n",
        "\n",
        "    return (snr_range, bber_vec)\n"
      ],
      "execution_count": 0,
      "outputs": []
    },
    {
      "cell_type": "code",
      "metadata": {
        "id": "i129REsXc7DX",
        "colab_type": "code",
        "colab": {}
      },
      "source": [
        "def generate_evaluation_data(batch_size=100):\n",
        "  x = tf.random.normal((batch_size,n),dtype=tf.dtypes.float32)    #randomly sample input data (\"fake\" AE messages)\n",
        "  x = x/tf.sqrt(2*tf.reduce_mean(tf.square(x))) #Average power normalization (not required if standard normal distribution is used )\n",
        "  fake_eval_data = generator([x])\n",
        "  real_eval_data = real_channel(x,noise_std) #tf.concat(values=[real_channel(x),x], axis=1)\n",
        "  inputs = x\n",
        "  return  real_eval_data, fake_eval_data, inputs \n",
        "\n",
        "\n",
        "\n",
        "def get_evaluation_data(evaluation_per_epochs=100):\n",
        "  real_eval_data = []\n",
        "  fake_eval_data  = []\n",
        "  inputs = []\n",
        "  for i in range(evaluation_per_epochs):\n",
        "    data = generate_evaluation_data()\n",
        "    real_eval_data.append(data[0])\n",
        "    fake_eval_data.append(data[1])\n",
        "    inputs.append(data[2])\n",
        "  return real_eval_data, fake_eval_data, inputs\n",
        "\n",
        "\n",
        "def test_eval(real_eval_data,fake_eval_data,inputs):\n",
        "  hist_range = 1\n",
        "  \n",
        "  \n",
        "  fake_output_hist = np.mean(fake_eval_data,axis=0)  # Changed from 0 to 1\n",
        "  real_output_hist = np.mean(real_eval_data,axis=0)\n",
        "  inputs_hist = np.mean(inputs,axis=0)\n",
        "    \n",
        "  fake_output_hist1 = np.reshape( fake_output_hist,[-1,])\n",
        "  real_output_hist1 = np.reshape( real_output_hist,[-1,])\n",
        "    \n",
        "  plt.hist(fake_output_hist1,bins=100,range=(-hist_range,hist_range),density=True,histtype='step')\n",
        "  plt.hist(real_output_hist1,bins=100,range=(-hist_range,hist_range),density=True,histtype='step')    \n",
        "  plt.title(\"noise distribution\")\n",
        "  plt.legend([\"generator\", \"target\"])\n",
        "  plt.show()"
      ],
      "execution_count": 0,
      "outputs": []
    },
    {
      "cell_type": "markdown",
      "metadata": {
        "id": "VI0Tj40kzY6X",
        "colab_type": "text"
      },
      "source": [
        "# Pre Autoencoder Training"
      ]
    },
    {
      "cell_type": "code",
      "metadata": {
        "id": "eS0X_xB4LBXa",
        "colab_type": "code",
        "outputId": "5ea5d3cc-dee8-45b0-f2bb-99c26503ded4",
        "colab": {
          "base_uri": "https://localhost:8080/",
          "height": 652
        }
      },
      "source": [
        "pre_decoder = get_pre_decoder(M)\n",
        "pre_encoder = get_pre_encoder(M)\n",
        "\n",
        "\n",
        "\n",
        "gan_AE = tf.keras.models.Sequential([pre_encoder,pre_decoder])\n",
        "data, test_data = random_sample(10000000), random_sample(10000)\n",
        "start = time.time()\n",
        "gan_AE.compile(optimizer=keras.optimizers.Nadam(lr=0.005),loss='sparse_categorical_crossentropy',metrics=['accuracy'])\n",
        "history = gan_AE.fit(data, data, batch_size=500,steps_per_epoch=400, epochs=5)\n",
        "#pre_encoder.trainable = False\n",
        "#pre_decoder.trainable = False\n",
        "gan_AE.summary() \n",
        "test_encoding_pre(M,n) \n",
        "\n",
        "print(data.shape)\n",
        "print(pre_encoder(data).shape)"
      ],
      "execution_count": 19,
      "outputs": [
        {
          "output_type": "stream",
          "text": [
            "Train on 10000000 samples\n",
            "Epoch 1/5\n",
            "  192000/10000000 [..............................] - ETA: 3:03 - loss: 1.0878 - accuracy: 0.7124Epoch 2/5\n",
            "  195500/10000000 [..............................] - ETA: 56s - loss: 0.0413 - accuracy: 1.0000Epoch 3/5\n",
            "  193000/10000000 [..............................] - ETA: 57s - loss: 0.0099 - accuracy: 1.0000Epoch 4/5\n",
            "  192500/10000000 [..............................] - ETA: 58s - loss: 0.0044 - accuracy: 1.0000Epoch 5/5\n",
            "  198500/10000000 [..............................] - ETA: 55s - loss: 0.0024 - accuracy: 1.0000Model: \"sequential_3\"\n",
            "_________________________________________________________________\n",
            "Layer (type)                 Output Shape              Param #   \n",
            "=================================================================\n",
            "sequential_2 (Sequential)    (None, None)              562       \n",
            "_________________________________________________________________\n",
            "sequential_1 (Sequential)    (None, 16)                320       \n",
            "=================================================================\n",
            "Total params: 882\n",
            "Trainable params: 882\n",
            "Non-trainable params: 0\n",
            "_________________________________________________________________\n"
          ],
          "name": "stdout"
        },
        {
          "output_type": "display_data",
          "data": {
            "image/png": "[encoded data removed]",
            "text/plain": [
              "<Figure size 288x288 with 1 Axes>"
            ]
          },
          "metadata": {
            "tags": []
          }
        },
        {
          "output_type": "stream",
          "text": [
            "(10000000,)\n",
            "(10000000, 2)\n"
          ],
          "name": "stdout"
        }
      ]
    },
    {
      "cell_type": "code",
      "metadata": {
        "id": "q4AmiQPMd1ea",
        "colab_type": "code",
        "colab": {}
      },
      "source": [
        ""
      ],
      "execution_count": 0,
      "outputs": []
    },
    {
      "cell_type": "markdown",
      "metadata": {
        "id": "3m0fQ6OXgPf1",
        "colab_type": "text"
      },
      "source": [
        "# GAN Training"
      ]
    },
    {
      "cell_type": "code",
      "metadata": {
        "id": "rOWRdICCfSst",
        "colab_type": "code",
        "colab": {}
      },
      "source": [
        "losses = pd.DataFrame(columns = ['disc_loss', 'gen_loss'])"
      ],
      "execution_count": 0,
      "outputs": []
    },
    {
      "cell_type": "code",
      "metadata": {
        "id": "nNFwwZrcgOkn",
        "colab_type": "code",
        "outputId": "bcead589-6fdd-45f0-9b5f-1cb54f4aa313",
        "colab": {
          "base_uri": "https://localhost:8080/",
          "height": 1000
        }
      },
      "source": [
        "%%time\n",
        "\n",
        "generator_optimizer, discriminator_optimizer = gan_optimizers(gen_learning_rate=gen_learning_rate, disc_learning_rate = disc_learning_rate)\n",
        "start = time.time()\n",
        "creating_and_train_gan(epochs= 6001,n_steps=5, batch_size =100, SNR_level = 7, n = n)\n",
        "time_to_train_gan = time.time()-start\n",
        "tf.print ('Time for the training is {} sec,'.format( time.time()-start))"
      ],
      "execution_count": 21,
      "outputs": [
        {
          "output_type": "stream",
          "text": [
            "[0.0778379366 -0.0473411605]\n",
            "counter 100:\n",
            "[0.0219892524 0.157954514]\n",
            "Epoch: 99 | disc_loss: 0.002986680017784238 | gen_loss: -0.4980636537075043\n",
            "counter 200:\n",
            "[0.20068194 0.252748251]\n",
            "Epoch: 199 | disc_loss: 0.005070122890174389 | gen_loss: -0.49699729681015015\n",
            "counter 300:\n",
            "[0.603584945 0.435767651]\n",
            "Epoch: 299 | disc_loss: 0.005847348365932703 | gen_loss: -0.49688956141471863\n",
            "counter 400:\n",
            "[0.905315399 0.093053028]\n",
            "Epoch: 399 | disc_loss: 0.006114651449024677 | gen_loss: -0.4970566928386688\n",
            "counter 500:\n",
            "[-0.675553739 -1.29723835]\n",
            "Epoch: 499 | disc_loss: 0.00608608266338706 | gen_loss: -0.49735382199287415\n",
            "counter 600:\n",
            "[-0.0289620757 -1.0993216]\n",
            "Epoch: 599 | disc_loss: 0.005962508264929056 | gen_loss: -0.4975051283836365\n",
            "counter 700:\n",
            "[1.63537681 -0.127447724]\n",
            "Epoch: 699 | disc_loss: 0.005771859548985958 | gen_loss: -0.49755293130874634\n",
            "counter 800:\n",
            "[-0.286492288 -0.195093438]\n",
            "Epoch: 799 | disc_loss: 0.005432748701423407 | gen_loss: -0.49768635630607605\n",
            "counter 900:\n",
            "[1.00267649 -0.820917249]\n",
            "Epoch: 899 | disc_loss: 0.004933883436024189 | gen_loss: -0.49771517515182495\n",
            "counter 1000:\n",
            "[0.140105128 0.114611447]\n",
            "Epoch: 999 | disc_loss: 0.004440980032086372 | gen_loss: -0.4977317452430725\n",
            "counter 1100:\n",
            "[0.789611042 -0.57316494]\n",
            "Epoch: 1099 | disc_loss: 0.004038408864289522 | gen_loss: -0.4976021945476532\n",
            "counter 1200:\n",
            "[0.617411137 -0.450224578]\n",
            "Epoch: 1199 | disc_loss: 0.003706409828737378 | gen_loss: -0.4977150559425354\n",
            "counter 1300:\n",
            "[0.687959194 -0.479953259]\n",
            "Epoch: 1299 | disc_loss: 0.0034230940509587526 | gen_loss: -0.4977361261844635\n",
            "counter 1400:\n",
            "[0.685927749 -0.489314228]\n",
            "Epoch: 1399 | disc_loss: 0.0031800747383385897 | gen_loss: -0.4977482259273529\n",
            "counter 1500:\n",
            "[0.693084598 -0.455666512]\n",
            "Epoch: 1499 | disc_loss: 0.0029693362303078175 | gen_loss: -0.49779564142227173\n",
            "counter 1600:\n",
            "[0.769097626 -0.429541439]\n",
            "Epoch: 1599 | disc_loss: 0.002785045187920332 | gen_loss: -0.4978540539741516\n",
            "counter 1700:\n",
            "[0.197015747 -0.503760815]\n",
            "Epoch: 1699 | disc_loss: 0.002622275147587061 | gen_loss: -0.4979844391345978\n",
            "counter 1800:\n",
            "[0.618282378 -0.437485933]\n",
            "Epoch: 1799 | disc_loss: 0.0024773813784122467 | gen_loss: -0.4981069266796112\n",
            "counter 1900:\n",
            "[0.471889108 -0.553637743]\n",
            "Epoch: 1899 | disc_loss: 0.0023479980882257223 | gen_loss: -0.49825140833854675\n",
            "counter 2000:\n",
            "[0.262340456 -0.514058411]\n",
            "Epoch: 1999 | disc_loss: 0.0022311019711196423 | gen_loss: -0.49837830662727356\n",
            "[0.643818498 -0.408128172]\n",
            "counter 2100:\n",
            "[0.695063174 -0.351531923]\n",
            "Epoch: 2099 | disc_loss: 0.0021255346946418285 | gen_loss: -0.49843302369117737\n",
            "counter 2200:\n",
            "[0.651768327 -0.486736715]\n",
            "Epoch: 2199 | disc_loss: 0.00202962732873857 | gen_loss: -0.49843910336494446\n",
            "counter 2300:\n",
            "[0.636272073 -0.572011113]\n",
            "Epoch: 2299 | disc_loss: 0.0019421718316152692 | gen_loss: -0.49842512607574463\n",
            "counter 2400:\n",
            "[0.634267807 -0.478666186]\n",
            "Epoch: 2399 | disc_loss: 0.0018616934539750218 | gen_loss: -0.4984440505504608\n",
            "counter 2500:\n",
            "[0.613195896 -0.523397684]\n",
            "Epoch: 2499 | disc_loss: 0.0017877515638247132 | gen_loss: -0.4984400272369385\n",
            "counter 2600:\n",
            "[0.688319325 -0.317922801]\n",
            "Epoch: 2599 | disc_loss: 0.0017194498796015978 | gen_loss: -0.498453289270401\n",
            "counter 2700:\n",
            "[0.585565746 -0.554083228]\n",
            "Epoch: 2699 | disc_loss: 0.0016562051605433226 | gen_loss: -0.49849414825439453\n",
            "counter 2800:\n",
            "[0.68858 -0.252967894]\n",
            "Epoch: 2799 | disc_loss: 0.0015973574481904507 | gen_loss: -0.4985550343990326\n",
            "counter 2900:\n",
            "[0.554836333 -0.485187948]\n",
            "Epoch: 2899 | disc_loss: 0.001543023157864809 | gen_loss: -0.4986066222190857\n",
            "counter 3000:\n",
            "[0.458844721 -0.0898648202]\n",
            "Epoch: 2999 | disc_loss: 0.001492087496444583 | gen_loss: -0.4986962080001831\n",
            "counter 3100:\n",
            "[0.643712521 -0.496503055]\n",
            "Epoch: 3099 | disc_loss: 0.001444658963009715 | gen_loss: -0.49874433875083923\n",
            "counter 3200:\n",
            "[0.603287518 -0.287301064]\n",
            "Epoch: 3199 | disc_loss: 0.0014002417447045445 | gen_loss: -0.498810350894928\n",
            "counter 3300:\n",
            "[0.740564287 -0.264855146]\n",
            "Epoch: 3299 | disc_loss: 0.0013581888051703572 | gen_loss: -0.4988788664340973\n",
            "counter 3400:\n",
            "[0.753222704 -0.380046278]\n",
            "Epoch: 3399 | disc_loss: 0.0013186101568862796 | gen_loss: -0.49891406297683716\n",
            "counter 3500:\n",
            "[0.466343015 -0.604477227]\n",
            "Epoch: 3499 | disc_loss: 0.0012814453803002834 | gen_loss: -0.4989032447338104\n",
            "counter 3600:\n",
            "[0.627760887 -0.414634347]\n",
            "Epoch: 3599 | disc_loss: 0.0012461661826819181 | gen_loss: -0.4988987445831299\n",
            "counter 3700:\n",
            "[0.631302893 -0.571532]\n",
            "Epoch: 3699 | disc_loss: 0.0012130136601626873 | gen_loss: -0.4989079236984253\n",
            "counter 3800:\n",
            "[0.593966603 -0.506340444]\n",
            "Epoch: 3799 | disc_loss: 0.0011815611505880952 | gen_loss: -0.49891141057014465\n",
            "counter 3900:\n",
            "[0.524848282 -0.6357916]\n",
            "Epoch: 3899 | disc_loss: 0.0011515712831169367 | gen_loss: -0.4989212453365326\n",
            "counter 4000:\n",
            "[0.722773373 -0.330890149]\n",
            "Epoch: 3999 | disc_loss: 0.0011232946999371052 | gen_loss: -0.49895697832107544\n",
            "[0.673787832 -0.421692908]\n",
            "counter 4100:\n",
            "[0.322389513 -0.270789981]\n",
            "Epoch: 4099 | disc_loss: 0.0010960890213027596 | gen_loss: -0.4990024268627167\n",
            "counter 4200:\n",
            "[0.360078424 -0.321680367]\n",
            "Epoch: 4199 | disc_loss: 0.0010702988365665078 | gen_loss: -0.4990464448928833\n",
            "counter 4300:\n",
            "[0.555126786 -0.474367261]\n",
            "Epoch: 4299 | disc_loss: 0.0010456005111336708 | gen_loss: -0.4990856647491455\n",
            "counter 4400:\n",
            "[0.619849801 -0.430503756]\n",
            "Epoch: 4399 | disc_loss: 0.0010220208205282688 | gen_loss: -0.49913090467453003\n",
            "counter 4500:\n",
            "[0.623465896 -0.44559285]\n",
            "Epoch: 4499 | disc_loss: 0.000999587238766253 | gen_loss: -0.4991720914840698\n",
            "counter 4600:\n",
            "[0.632127643 -0.4463166]\n",
            "Epoch: 4599 | disc_loss: 0.000978184980340302 | gen_loss: -0.499203622341156\n",
            "counter 4700:\n",
            "[0.621920228 -0.435346603]\n",
            "Epoch: 4699 | disc_loss: 0.0009577159653417766 | gen_loss: -0.49923333525657654\n",
            "counter 4800:\n",
            "[0.661607563 -0.428329527]\n",
            "Epoch: 4799 | disc_loss: 0.0009380954434163868 | gen_loss: -0.49925345182418823\n",
            "counter 4900:\n",
            "[0.679510176 -0.411276579]\n",
            "Epoch: 4899 | disc_loss: 0.0009192222496494651 | gen_loss: -0.4992782473564148\n",
            "counter 5000:\n",
            "[0.148843199 -0.416605622]\n",
            "Epoch: 4999 | disc_loss: 0.0009010567446239293 | gen_loss: -0.499302476644516\n",
            "counter 5100:\n",
            "[0.525115252 -0.542492092]\n",
            "Epoch: 5099 | disc_loss: 0.0008836352499201894 | gen_loss: -0.49932071566581726\n",
            "counter 5200:\n",
            "[0.644246399 -0.416026205]\n",
            "Epoch: 5199 | disc_loss: 0.0008668283117003739 | gen_loss: -0.49933791160583496\n",
            "counter 5300:\n",
            "[0.333879888 -0.355693102]\n",
            "Epoch: 5299 | disc_loss: 0.0008507180609740317 | gen_loss: -0.49936914443969727\n",
            "counter 5400:\n",
            "[0.469586313 -0.411814362]\n",
            "Epoch: 5399 | disc_loss: 0.0008352226577699184 | gen_loss: -0.49939146637916565\n",
            "counter 5500:\n",
            "[0.664236903 -0.406008601]\n",
            "Epoch: 5499 | disc_loss: 0.0008203122997656465 | gen_loss: -0.49942547082901\n",
            "counter 5600:\n",
            "[0.304522932 -0.561105847]\n",
            "Epoch: 5599 | disc_loss: 0.0008058995590545237 | gen_loss: -0.4994557499885559\n",
            "counter 5700:\n",
            "[0.444813788 -0.222867221]\n",
            "Epoch: 5699 | disc_loss: 0.0007919861236587167 | gen_loss: -0.49948498606681824\n",
            "counter 5800:\n",
            "[0.588719785 -0.136188149]\n",
            "Epoch: 5799 | disc_loss: 0.0007784185581840575 | gen_loss: -0.49951255321502686\n",
            "counter 5900:\n",
            "[0.543186367 -0.618929923]\n",
            "Epoch: 5899 | disc_loss: 0.0007654062937945127 | gen_loss: -0.4995386302471161\n",
            "counter 6000:\n",
            "[0.70212692 -0.270997703]\n",
            "Epoch: 5999 | disc_loss: 0.0007527204579673707 | gen_loss: -0.49956461787223816\n",
            "[0.423877716 -0.447998106]\n",
            "WARNING:tensorflow:From /usr/local/lib/python3.6/dist-packages/tensorflow_core/python/ops/resource_variable_ops.py:1781: calling BaseResourceVariable.__init__ (from tensorflow.python.ops.resource_variable_ops) with constraint is deprecated and will be removed in a future version.\n",
            "Instructions for updating:\n",
            "If using Keras pass *_constraint arguments to layers.\n",
            "INFO:tensorflow:Assets written to: /tmp/saved_model/assets\n",
            "Time for the training is 201.71601462364197 sec,\n",
            "False\n",
            "Time for the training is 201.75888180732727 sec,\n",
            "CPU times: user 3min 27s, sys: 1.49 s, total: 3min 28s\n",
            "Wall time: 3min 21s\n"
          ],
          "name": "stdout"
        },
        {
          "output_type": "display_data",
          "data": {
            "image/png": "[encoded data removed]",
            "text/plain": [
              "<Figure size 432x288 with 1 Axes>"
            ]
          },
          "metadata": {
            "tags": []
          }
        }
      ]
    },
    {
      "cell_type": "markdown",
      "metadata": {
        "id": "6GW2opX7SwMo",
        "colab_type": "text"
      },
      "source": [
        "\n",
        "# AE training"
      ]
    },
    {
      "cell_type": "code",
      "metadata": {
        "id": "FiuN3SZYpeTU",
        "colab_type": "code",
        "outputId": "9ae9790d-a7d2-4ad6-f7c7-d6e933fbc4b2",
        "colab": {
          "base_uri": "https://localhost:8080/",
          "height": 716
        }
      },
      "source": [
        "%%time\n",
        "\n",
        "gan_decoder = get_gan_decoder(M)\n",
        "gan_encoder = get_gan_encoder(M)\n",
        "\n",
        "\n",
        "\n",
        "gan_AE = tf.keras.models.Sequential([gan_encoder,generator,gan_decoder])\n",
        "data, test_data = random_sample(10000000), random_sample(10000)\n",
        "start = time.time()\n",
        "gan_AE.compile(optimizer=keras.optimizers.Nadam(lr=0.0005),loss='sparse_categorical_crossentropy',metrics=['accuracy'])\n",
        "history = gan_AE.fit(data, data, batch_size=500,steps_per_epoch=200, epochs=20)\n",
        "time_to_train_gan += time.time()-start\n",
        "tf.print ('Time for the training is {} sec,'.format( time.time()-start))\n",
        "gan_AE.summary()  "
      ],
      "execution_count": 28,
      "outputs": [
        {
          "output_type": "stream",
          "text": [
            "Train on 10000000 samples\n",
            "Epoch 1/20\n",
            "   99500/10000000 [..............................] - ETA: 6:21 - loss: 2.0103 - accuracy: 0.3497Epoch 2/20\n",
            "   97500/10000000 [..............................] - ETA: 1:58 - loss: 1.1068 - accuracy: 0.7281Epoch 3/20\n",
            "  100000/10000000 [..............................] - ETA: 1:54 - loss: 0.6353 - accuracy: 0.8882Epoch 4/20\n",
            "   99500/10000000 [..............................] - ETA: 1:55 - loss: 0.3754 - accuracy: 0.9376Epoch 5/20\n",
            "   95500/10000000 [..............................] - ETA: 1:50 - loss: 0.2573 - accuracy: 0.9437Epoch 6/20\n",
            "   99500/10000000 [..............................] - ETA: 1:50 - loss: 0.2033 - accuracy: 0.9468Epoch 7/20\n",
            "   96500/10000000 [..............................] - ETA: 1:54 - loss: 0.1758 - accuracy: 0.9499Epoch 8/20\n",
            "   99000/10000000 [..............................] - ETA: 1:51 - loss: 0.1594 - accuracy: 0.9506Epoch 9/20\n",
            "   96000/10000000 [..............................] - ETA: 1:53 - loss: 0.1515 - accuracy: 0.9510Epoch 10/20\n",
            "   98000/10000000 [..............................] - ETA: 2:15 - loss: 0.1445 - accuracy: 0.9517Epoch 11/20\n",
            "   98500/10000000 [..............................] - ETA: 2:02 - loss: 0.1419 - accuracy: 0.9524Epoch 12/20\n",
            "  100000/10000000 [..............................] - ETA: 1:54 - loss: 0.1370 - accuracy: 0.9527Epoch 13/20\n",
            "   97000/10000000 [..............................] - ETA: 1:53 - loss: 0.1342 - accuracy: 0.9529Epoch 14/20\n",
            "   96000/10000000 [..............................] - ETA: 1:55 - loss: 0.1334 - accuracy: 0.9531Epoch 15/20\n",
            "   98500/10000000 [..............................] - ETA: 1:51 - loss: 0.1335 - accuracy: 0.9531Epoch 16/20\n",
            "   96500/10000000 [..............................] - ETA: 1:59 - loss: 0.1288 - accuracy: 0.9537Epoch 17/20\n",
            "   99000/10000000 [..............................] - ETA: 1:51 - loss: 0.1289 - accuracy: 0.9537Epoch 18/20\n",
            "  100000/10000000 [..............................] - ETA: 1:49 - loss: 0.1307 - accuracy: 0.9535Epoch 19/20\n",
            "   97500/10000000 [..............................] - ETA: 1:52 - loss: 0.1292 - accuracy: 0.9551Epoch 20/20\n",
            "  100000/10000000 [..............................] - ETA: 1:55 - loss: 0.1300 - accuracy: 0.9537Time for the training is 26.10847234725952 sec,\n",
            "Model: \"sequential_9\"\n",
            "_________________________________________________________________\n",
            "Layer (type)                 Output Shape              Param #   \n",
            "=================================================================\n",
            "sequential_8 (Sequential)    (None, None)              1922      \n",
            "_________________________________________________________________\n",
            "model (Model)                (None, 2)                 4622      \n",
            "_________________________________________________________________\n",
            "sequential_7 (Sequential)    (None, 16)                1680      \n",
            "=================================================================\n",
            "Total params: 8,224\n",
            "Trainable params: 3,602\n",
            "Non-trainable params: 4,622\n",
            "_________________________________________________________________\n",
            "CPU times: user 32.5 s, sys: 1.08 s, total: 33.6 s\n",
            "Wall time: 26.4 s\n"
          ],
          "name": "stdout"
        }
      ]
    },
    {
      "cell_type": "markdown",
      "metadata": {
        "id": "ngrucnfWBOHl",
        "colab_type": "text"
      },
      "source": [
        "### Training MI"
      ]
    },
    {
      "cell_type": "code",
      "metadata": {
        "id": "D5B2TUanPC5d",
        "colab_type": "code",
        "outputId": "c3027447-9ee7-4e11-c4e2-f4c839491d71",
        "colab": {
          "base_uri": "https://localhost:8080/",
          "height": 295
        }
      },
      "source": [
        "gan_encoder.trainable = False\n",
        "gan_decoder.trainable = False\n",
        "\n",
        "test_encoding(M,n)   \n"
      ],
      "execution_count": 29,
      "outputs": [
        {
          "output_type": "display_data",
          "data": {
            "image/png": "[encoded data removed]",
            "text/plain": [
              "<Figure size 288x288 with 1 Axes>"
            ]
          },
          "metadata": {
            "tags": []
          }
        }
      ]
    },
    {
      "cell_type": "code",
      "metadata": {
        "id": "ukO76l6yIoPc",
        "colab_type": "code",
        "colab": {}
      },
      "source": [
        "# test msg sequence for normal encoding\n",
        "N_test = 500000\n",
        "test_msg = np.random.randint(M, size=N_test)"
      ],
      "execution_count": 0,
      "outputs": []
    },
    {
      "cell_type": "markdown",
      "metadata": {
        "id": "PK5wA-zzHScv",
        "colab_type": "text"
      },
      "source": [
        "### Comparison"
      ]
    },
    {
      "cell_type": "code",
      "metadata": {
        "id": "7M-S0sbhIoPw",
        "colab_type": "code",
        "outputId": "a90ecd55-58c6-49ee-afc4-7437c54caff9",
        "colab": {
          "base_uri": "https://localhost:8080/",
          "height": 196
        }
      },
      "source": [
        "gan_bber_data = gan_Test_AE(test_msg)\n",
        "bber_data_rayleigh = Test_AE_rayleigh(test_msg)"
      ],
      "execution_count": 31,
      "outputs": [
        {
          "output_type": "stream",
          "text": [
            "Progress: 6 of 30 parts\n",
            "Progress: 12 of 30 parts\n",
            "Progress: 18 of 30 parts\n",
            "Progress: 24 of 30 parts\n",
            "Progress: 30 of 30 parts\n",
            "Progress: 6 of 30 parts\n",
            "Progress: 12 of 30 parts\n",
            "Progress: 18 of 30 parts\n",
            "Progress: 24 of 30 parts\n",
            "Progress: 30 of 30 parts\n"
          ],
          "name": "stdout"
        }
      ]
    },
    {
      "cell_type": "code",
      "metadata": {
        "id": "UYdEm0eQIoP2",
        "colab_type": "code",
        "outputId": "f4674780-d265-4b0f-b97e-7460ab728253",
        "colab": {
          "base_uri": "https://localhost:8080/",
          "height": 370
        }
      },
      "source": [
        "# Approximate 16 QAM Error\n",
        "def SIXT_QAM_sim(ebno):\n",
        "    return (3.0/2)*special.erfc(np.sqrt((4.0/10)*10.**(ebno/10)))\n",
        "\n",
        "ebnodbs = np.linspace(0,15,16)\n",
        "fig = plt.figure(figsize=(8, 5))\n",
        "plt.semilogy(gan_bber_data[0], gan_bber_data[1], '^-')\n",
        "plt.semilogy(ebnodbs, SIXT_QAM_sim(ebnodbs), '*-');\n",
        "plt.gca().set_ylim(1e-5, 1)\n",
        "plt.gca().set_xlim(0, 15)\n",
        "plt.ylabel(\"Batch Symbol Error Rate\", fontsize=14, rotation=90)\n",
        "plt.xlabel(\"SNR [dB]\", fontsize=18)\n",
        "plt.legend(['AE with GAN', '16QAM'],\n",
        "           prop={'size': 14}, loc='upper right');\n",
        "plt.grid(True, which=\"both\")\n",
        "print('time to train the AE Model with GAN',time_to_train_gan)\n"
      ],
      "execution_count": 32,
      "outputs": [
        {
          "output_type": "stream",
          "text": [
            "time to train the AE Model with GAN 253.98154187202454\n"
          ],
          "name": "stdout"
        },
        {
          "output_type": "display_data",
          "data": {
            "image/png": "[encoded data removed]",
            "text/plain": [
              "<Figure size 576x360 with 1 Axes>"
            ]
          },
          "metadata": {
            "tags": []
          }
        }
      ]
    },
    {
      "cell_type": "code",
      "metadata": {
        "id": "bBes21qLlcS8",
        "colab_type": "code",
        "outputId": "6233b2f9-4860-4399-bd26-354735b87046",
        "colab": {
          "base_uri": "https://localhost:8080/",
          "height": 352
        }
      },
      "source": [
        "def SIXT_QAM_sim(ebno):\n",
        "    return (3.0/2)*special.erfc(np.sqrt((4.0/10)*10.**(ebno/10)))\n",
        "\n",
        "ebnodbs = np.linspace(0,15,16)\n",
        "fig = plt.figure(figsize=(8, 5))\n",
        "plt.semilogy(gan_bber_data[0], gan_bber_data[1], 'o-')\n",
        "plt.semilogy(bber_data_rayleigh[0], bber_data_rayleigh[1], '+-')\n",
        "#plt.semilogy(ebnodbs, SIXT_QAM_sim(ebnodbs), '^-');\n",
        "plt.gca().set_ylim(1e-5, 1)\n",
        "plt.gca().set_xlim(0, 15)\n",
        "plt.ylabel(\"Batch Symbol Error Rate\", fontsize=14, rotation=90)\n",
        "plt.xlabel(\"SNR [dB]\", fontsize=18)\n",
        "plt.legend(['BLER for Gauss','BLER for Rayleigh'],\n",
        "           prop={'size': 14}, loc='upper right');\n",
        "plt.grid(True, which=\"both\")"
      ],
      "execution_count": 33,
      "outputs": [
        {
          "output_type": "display_data",
          "data": {
            "image/png": "[encoded data removed]",
            "text/plain": [
              "<Figure size 576x360 with 1 Axes>"
            ]
          },
          "metadata": {
            "tags": []
          }
        }
      ]
    },
    {
      "cell_type": "code",
      "metadata": {
        "id": "8SKghHfx5gWC",
        "colab_type": "code",
        "colab": {}
      },
      "source": [
        ""
      ],
      "execution_count": 0,
      "outputs": []
    }
  ]
}