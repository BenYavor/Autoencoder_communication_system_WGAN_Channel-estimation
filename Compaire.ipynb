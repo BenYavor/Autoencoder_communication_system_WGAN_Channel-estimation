{
  "nbformat": 4,
  "nbformat_minor": 0,
  "metadata": {
    "colab": {
      "name": "Compaire.ipynb",
      "provenance": [],
      "include_colab_link": true
    },
    "kernelspec": {
      "name": "python3",
      "display_name": "Python 3"
    }
  },
  "cells": [
    {
      "cell_type": "markdown",
      "metadata": {
        "id": "view-in-github",
        "colab_type": "text"
      },
      "source": [
        "<a href=\"https://colab.research.google.com/github/BenYavor/Compairison_MI_GAN/blob/master/Compaire.ipynb\" target=\"_parent\"><img src=\"https://colab.research.google.com/assets/colab-badge.svg\" alt=\"Open In Colab\"/></a>"
      ]
    },
    {
      "cell_type": "code",
      "metadata": {
        "id": "Y3Mvn1V30ejH",
        "colab_type": "code",
        "outputId": "92de7cbb-2ae3-4d91-ac58-bb58b9c5f936",
        "colab": {
          "base_uri": "https://localhost:8080/",
          "height": 644
        }
      },
      "source": [
        "!pip install tensorflow==2.0.0\n",
        "import numpy as np\n",
        "%matplotlib inline\n",
        "import matplotlib.pyplot as plt   \n",
        "import warnings\n",
        "with warnings.catch_warnings():\n",
        "    warnings.filterwarnings(\"ignore\",category=FutureWarning)\n",
        "    import tensorflow as tf\n",
        "import os\n",
        "tf.__version__\n",
        "from tensorflow import keras\n",
        "import time\n",
        "from __future__ import absolute_import, division, print_function, unicode_literals\n",
        "import pandas as pd\n",
        "import sys\n",
        "assert sys.version_info >= (3, 5)\n",
        "%matplotlib inline\n",
        "import matplotlib as mpl\n",
        "mpl.rc('axes', labelsize=14)\n",
        "mpl.rc('xtick', labelsize=12)\n",
        "mpl.rc('ytick', labelsize=12)\n",
        "import tensorflow as tf\n",
        "from tensorflow import keras\n",
        "from sklearn.preprocessing import OneHotEncoder\n",
        "import pandas as pd\n",
        "from scipy import special\n",
        "#from Clustering_Equalgrps.equal_groups import EqualGroupsKMeans\n",
        "from tensorflow.keras import layers\n",
        "np.random.seed(42)\n",
        "tf.random.set_seed(42)"
      ],
      "execution_count": 1,
      "outputs": [
        {
          "output_type": "stream",
          "text": [
            "Requirement already satisfied: tensorflow==2.0.0 in /usr/local/lib/python3.6/dist-packages (2.0.0)\n",
            "Requirement already satisfied: absl-py>=0.7.0 in /usr/local/lib/python3.6/dist-packages (from tensorflow==2.0.0) (0.8.1)\n",
            "Requirement already satisfied: termcolor>=1.1.0 in /usr/local/lib/python3.6/dist-packages (from tensorflow==2.0.0) (1.1.0)\n",
            "Requirement already satisfied: google-pasta>=0.1.6 in /usr/local/lib/python3.6/dist-packages (from tensorflow==2.0.0) (0.1.7)\n",
            "Requirement already satisfied: tensorflow-estimator<2.1.0,>=2.0.0 in /usr/local/lib/python3.6/dist-packages (from tensorflow==2.0.0) (2.0.1)\n",
            "Requirement already satisfied: keras-preprocessing>=1.0.5 in /usr/local/lib/python3.6/dist-packages (from tensorflow==2.0.0) (1.1.0)\n",
            "Requirement already satisfied: numpy<2.0,>=1.16.0 in /usr/local/lib/python3.6/dist-packages (from tensorflow==2.0.0) (1.17.3)\n",
            "Requirement already satisfied: tensorboard<2.1.0,>=2.0.0 in /usr/local/lib/python3.6/dist-packages (from tensorflow==2.0.0) (2.0.1)\n",
            "Requirement already satisfied: wrapt>=1.11.1 in /usr/local/lib/python3.6/dist-packages (from tensorflow==2.0.0) (1.11.2)\n",
            "Requirement already satisfied: protobuf>=3.6.1 in /usr/local/lib/python3.6/dist-packages (from tensorflow==2.0.0) (3.10.0)\n",
            "Requirement already satisfied: wheel>=0.26 in /usr/local/lib/python3.6/dist-packages (from tensorflow==2.0.0) (0.33.6)\n",
            "Requirement already satisfied: opt-einsum>=2.3.2 in /usr/local/lib/python3.6/dist-packages (from tensorflow==2.0.0) (3.1.0)\n",
            "Requirement already satisfied: six>=1.10.0 in /usr/local/lib/python3.6/dist-packages (from tensorflow==2.0.0) (1.12.0)\n",
            "Requirement already satisfied: grpcio>=1.8.6 in /usr/local/lib/python3.6/dist-packages (from tensorflow==2.0.0) (1.15.0)\n",
            "Requirement already satisfied: keras-applications>=1.0.8 in /usr/local/lib/python3.6/dist-packages (from tensorflow==2.0.0) (1.0.8)\n",
            "Requirement already satisfied: gast==0.2.2 in /usr/local/lib/python3.6/dist-packages (from tensorflow==2.0.0) (0.2.2)\n",
            "Requirement already satisfied: astor>=0.6.0 in /usr/local/lib/python3.6/dist-packages (from tensorflow==2.0.0) (0.8.0)\n",
            "Requirement already satisfied: google-auth-oauthlib<0.5,>=0.4.1 in /usr/local/lib/python3.6/dist-packages (from tensorboard<2.1.0,>=2.0.0->tensorflow==2.0.0) (0.4.1)\n",
            "Requirement already satisfied: werkzeug>=0.11.15 in /usr/local/lib/python3.6/dist-packages (from tensorboard<2.1.0,>=2.0.0->tensorflow==2.0.0) (0.16.0)\n",
            "Requirement already satisfied: google-auth<2,>=1.6.3 in /usr/local/lib/python3.6/dist-packages (from tensorboard<2.1.0,>=2.0.0->tensorflow==2.0.0) (1.7.0)\n",
            "Requirement already satisfied: markdown>=2.6.8 in /usr/local/lib/python3.6/dist-packages (from tensorboard<2.1.0,>=2.0.0->tensorflow==2.0.0) (3.1.1)\n",
            "Requirement already satisfied: setuptools>=41.0.0 in /usr/local/lib/python3.6/dist-packages (from tensorboard<2.1.0,>=2.0.0->tensorflow==2.0.0) (41.4.0)\n",
            "Requirement already satisfied: h5py in /usr/local/lib/python3.6/dist-packages (from keras-applications>=1.0.8->tensorflow==2.0.0) (2.8.0)\n",
            "Requirement already satisfied: requests-oauthlib>=0.7.0 in /usr/local/lib/python3.6/dist-packages (from google-auth-oauthlib<0.5,>=0.4.1->tensorboard<2.1.0,>=2.0.0->tensorflow==2.0.0) (1.2.0)\n",
            "Requirement already satisfied: pyasn1-modules>=0.2.1 in /usr/local/lib/python3.6/dist-packages (from google-auth<2,>=1.6.3->tensorboard<2.1.0,>=2.0.0->tensorflow==2.0.0) (0.2.7)\n",
            "Requirement already satisfied: cachetools<3.2,>=2.0.0 in /usr/local/lib/python3.6/dist-packages (from google-auth<2,>=1.6.3->tensorboard<2.1.0,>=2.0.0->tensorflow==2.0.0) (3.1.1)\n",
            "Requirement already satisfied: rsa<4.1,>=3.1.4 in /usr/local/lib/python3.6/dist-packages (from google-auth<2,>=1.6.3->tensorboard<2.1.0,>=2.0.0->tensorflow==2.0.0) (4.0)\n",
            "Requirement already satisfied: requests>=2.0.0 in /usr/local/lib/python3.6/dist-packages (from requests-oauthlib>=0.7.0->google-auth-oauthlib<0.5,>=0.4.1->tensorboard<2.1.0,>=2.0.0->tensorflow==2.0.0) (2.21.0)\n",
            "Requirement already satisfied: oauthlib>=3.0.0 in /usr/local/lib/python3.6/dist-packages (from requests-oauthlib>=0.7.0->google-auth-oauthlib<0.5,>=0.4.1->tensorboard<2.1.0,>=2.0.0->tensorflow==2.0.0) (3.1.0)\n",
            "Requirement already satisfied: pyasn1<0.5.0,>=0.4.6 in /usr/local/lib/python3.6/dist-packages (from pyasn1-modules>=0.2.1->google-auth<2,>=1.6.3->tensorboard<2.1.0,>=2.0.0->tensorflow==2.0.0) (0.4.7)\n",
            "Requirement already satisfied: urllib3<1.25,>=1.21.1 in /usr/local/lib/python3.6/dist-packages (from requests>=2.0.0->requests-oauthlib>=0.7.0->google-auth-oauthlib<0.5,>=0.4.1->tensorboard<2.1.0,>=2.0.0->tensorflow==2.0.0) (1.24.3)\n",
            "Requirement already satisfied: certifi>=2017.4.17 in /usr/local/lib/python3.6/dist-packages (from requests>=2.0.0->requests-oauthlib>=0.7.0->google-auth-oauthlib<0.5,>=0.4.1->tensorboard<2.1.0,>=2.0.0->tensorflow==2.0.0) (2019.9.11)\n",
            "Requirement already satisfied: idna<2.9,>=2.5 in /usr/local/lib/python3.6/dist-packages (from requests>=2.0.0->requests-oauthlib>=0.7.0->google-auth-oauthlib<0.5,>=0.4.1->tensorboard<2.1.0,>=2.0.0->tensorflow==2.0.0) (2.8)\n",
            "Requirement already satisfied: chardet<3.1.0,>=3.0.2 in /usr/local/lib/python3.6/dist-packages (from requests>=2.0.0->requests-oauthlib>=0.7.0->google-auth-oauthlib<0.5,>=0.4.1->tensorboard<2.1.0,>=2.0.0->tensorflow==2.0.0) (3.0.4)\n"
          ],
          "name": "stdout"
        }
      ]
    },
    {
      "cell_type": "markdown",
      "metadata": {
        "id": "1wlZswcMF7Rt",
        "colab_type": "text"
      },
      "source": [
        "#### Vergleich\n",
        "Als erstes für feste $k$ und $n$, was sich ändert ist die Samplesize, Anzahl der Samples und SNR"
      ]
    },
    {
      "cell_type": "markdown",
      "metadata": {
        "id": "4qpY-gawAf-9",
        "colab_type": "text"
      },
      "source": [
        "###Systemparameter\n",
        "ACHTUNG: CHANNELANZAHL WURDE UNTERSCHIEDLICH VERWENDET \\\\\n",
        "$k$ - die Anzhal der bits \\\\\n",
        "$M$ - Anzahl der unterschiedlichen Nachrichten \\\\\n",
        "$n$ - channel uses\\\\\n",
        "$N$ - Länge des Rauschvektors"
      ]
    },
    {
      "cell_type": "code",
      "metadata": {
        "colab_type": "code",
        "id": "czeNNfpY1qc2",
        "colab": {
          "base_uri": "https://localhost:8080/",
          "height": 35
        },
        "outputId": "f61b6ffa-f55d-4887-896e-7a2a8a827ef0"
      },
      "source": [
        "k = 4      # Number of information bits per message, i.e., M=2**k\n",
        "M = 2**k\n",
        "n = 4    # Number of real channel uses per message\n",
        "#k = int(np.log2(M))\n",
        "#n = 2\n",
        "print(M)\n",
        "\n",
        "SNR = 7\n"
      ],
      "execution_count": 2,
      "outputs": [
        {
          "output_type": "stream",
          "text": [
            "16\n"
          ],
          "name": "stdout"
        }
      ]
    },
    {
      "cell_type": "markdown",
      "metadata": {
        "id": "BA4TqJBOXXIg",
        "colab_type": "text"
      },
      "source": [
        "## Training Parameter"
      ]
    },
    {
      "cell_type": "code",
      "metadata": {
        "id": "aJZ_cnp9V-Q6",
        "colab_type": "code",
        "colab": {}
      },
      "source": [
        "gen_learning_rate=0.0001 \n",
        "disc_learning_rate = 0.0001"
      ],
      "execution_count": 0,
      "outputs": []
    },
    {
      "cell_type": "markdown",
      "metadata": {
        "id": "tb-DiBwSN255",
        "colab_type": "text"
      },
      "source": [
        "### Different Layers"
      ]
    },
    {
      "cell_type": "code",
      "metadata": {
        "id": "hFMMLrY0LthL",
        "colab_type": "code",
        "colab": {}
      },
      "source": [
        "randN_initial = keras.initializers.RandomNormal(mean=0.0, stddev=0.05, seed=None)\n",
        "\n",
        "EncIn = tf.keras.layers.Input(shape=(M,))#, dtype= tf.int32)\n",
        "e1 = tf.keras.layers.Dense(2*n, activation=None)\n",
        "e2 = tf.keras.layers.Lambda(lambda x:tf.reshape(x, shape=[-1,int(n/2),2]))\n",
        "EncOut = tf.keras.layers.Lambda(lambda x: x/tf.sqrt(2*tf.reduce_mean(tf.square(x))))\n",
        "GenIn = tf.keras.layers.Lambda(lambda x:tf.reshape(x,(tf.shape(x)[0],-1)))\n",
        "# = tf.keras.layers.Lambda(generator)\n",
        "DecIn = tf.keras.layers.Lambda(lambda x:tf.reshape(x, shape=[-1,int(n/2),2]))\n",
        "d1 = tf.keras.layers.Lambda(lambda x:tf.reshape(x, shape=[-1,n]))\n",
        "d2 = tf.keras.layers.Dense(M, activation='relu')\n",
        "DecOut = tf.keras.layers.Dense(M, activation='softmax')\n",
        "\n",
        "\n",
        "#noise_std = EbNo_to_noise(TRAINING_SNR)\n",
        "# custom functions / layers without weights\n",
        "norm_layer = keras.layers.Lambda(lambda x: tf.divide(x,tf.sqrt(2*tf.reduce_mean(tf.square(x)))))\n",
        "shape_layer = keras.layers.Lambda(lambda x: tf.reshape(x, shape=[-1,2,n]))\n",
        "shape_layer2 = keras.layers.Lambda(lambda x: tf.reshape(x, shape=[-1,n]))\n",
        "channel_layer = keras.layers.Lambda(lambda x: x + tf.random.normal(tf.shape(x), mean=0.0, stddev=noise_std))"
      ],
      "execution_count": 0,
      "outputs": []
    },
    {
      "cell_type": "markdown",
      "metadata": {
        "id": "7J96hJhKO9VJ",
        "colab_type": "text"
      },
      "source": [
        "### Help functions"
      ]
    },
    {
      "cell_type": "code",
      "metadata": {
        "id": "uV7pjryDv4M4",
        "colab_type": "code",
        "colab": {
          "base_uri": "https://localhost:8080/",
          "height": 53
        },
        "outputId": "14b7e979-a901-463c-a61a-71af940e1642"
      },
      "source": [
        "def EbNo2Sigma(ebnodb):\n",
        "    '''Convert Eb/No in dB to noise standard deviation'''\n",
        "    ebno = 10**(ebnodb/10)\n",
        "    return 1/np.sqrt(2*(2*k/n)*ebno)\n",
        "\n",
        "def EbNo_to_noise(ebnodb):\n",
        "    '''Transform EbNo[dB]/snr to noise power'''\n",
        "    ebno = 10**(ebnodb/10)\n",
        "    noise_std = 1/np.sqrt(2*(2*k/n)*ebno) \n",
        "    return noise_std\n",
        "\n",
        "\n",
        "def real_channel(x,noise_std):\n",
        "    # Black-box Channel\n",
        "    #AWGN\n",
        "    return x + tf.random.normal(tf.shape(x), mean=0.0, stddev=noise_std)\n",
        "\n",
        "    #Rayleigh\n",
        "    #return x + tf.sqrt(tf.square(tf.random_normal(tf.shape(x), mean=0.0, stddev=noise_std)) + tf.square(tf.random_normal(tf.shape(x), mean=0.0, stddev=noise_std)))\n",
        "    \n",
        "    #Uniform U(-3;3)    \n",
        "    #return x + tf.random_uniform(tf.shape(x), minval=-2, maxval=2)\n",
        "\n",
        "def B_Ber(input_msg, msg):\n",
        "    '''Calculate the Batch Bit Error Rate'''\n",
        "    pred_error = tf.not_equal(tf.argmax(msg, 1), tf.argmax(input_msg, 1))\n",
        "    bber = tf.reduce_mean(tf.cast(pred_error, tf.float32))\n",
        "    return bber\n",
        "\n",
        "def random_sample(batch_size=32):\n",
        "    msg = np.random.randint(M, size=batch_size)\n",
        "    return msg\n",
        "\n",
        "\n",
        "\n",
        "\n",
        "def B_Ber_m(input_msg, msg):\n",
        "    '''Calculate the Batch Bit Error Rate'''\n",
        "    pred_error = tf.not_equal(input_msg, tf.argmax(msg, 1))      \n",
        "    bber = tf.reduce_mean(tf.cast(pred_error, tf.float32))\n",
        "    return bber\n",
        "\n",
        "def SNR_to_noise(snrdb):\n",
        "    '''Transform EbNo[dB]/snr to noise power'''\n",
        "    snr = 10**(snrdb/10)\n",
        "    noise_std = 1/np.sqrt(2*snr)\n",
        "    return noise_std\n",
        "\n",
        "noise_std = EbNo2Sigma(SNR)\n",
        "\n",
        "print(EbNo2Sigma(SNR))\n",
        "print(EbNo_to_noise(SNR))"
      ],
      "execution_count": 5,
      "outputs": [
        {
          "output_type": "stream",
          "text": [
            "0.22334179607548157\n",
            "0.22334179607548157\n"
          ],
          "name": "stdout"
        }
      ]
    },
    {
      "cell_type": "code",
      "metadata": {
        "id": "OBGMgdDEh7uX",
        "colab_type": "code",
        "colab": {}
      },
      "source": [
        "def test_encoding(M=16, n=1):\n",
        "    inp = np.arange(0,M)\n",
        "    coding = gan_encoder.predict(inp)\n",
        "    fig = plt.figure(figsize=(4,4))\n",
        "    plt.plot(coding[:,0], coding[:, 1], \"b.\")\n",
        "    plt.xlabel(\"$x_1$\", fontsize=18)\n",
        "    plt.ylabel(\"$x_2$\", fontsize=18, rotation=0)\n",
        "    plt.grid(True)\n",
        "    plt.gca().set_ylim(-2, 2)\n",
        "    plt.gca().set_xlim(-2, 2)\n",
        "    plt.show()\n",
        "\n",
        "def test_noisy_codeword(data):\n",
        "    rcvd_word = data[1:2000]\n",
        "    fig = plt.figure(figsize=(4,4))\n",
        "    plt.plot(rcvd_word[:,0], rcvd_word[:, 1], \"b.\")\n",
        "    plt.xlabel(\"$x_1$\", fontsize=18)\n",
        "    plt.ylabel(\"$x_2$\", fontsize=18, rotation=0)\n",
        "    plt.grid(True)\n",
        "    plt.gca().set_ylim(-2, 2)\n",
        "    plt.gca().set_xlim(-2, 2)\n",
        "    plt.show()"
      ],
      "execution_count": 0,
      "outputs": []
    },
    {
      "cell_type": "markdown",
      "metadata": {
        "id": "AOoYuK_jR9rH",
        "colab_type": "text"
      },
      "source": [
        "# Models"
      ]
    },
    {
      "cell_type": "markdown",
      "metadata": {
        "id": "PQxhmgOa0_7c",
        "colab_type": "text"
      },
      "source": [
        "#### Generator Model"
      ]
    },
    {
      "cell_type": "code",
      "metadata": {
        "id": "LXbS5lM9Tb9B",
        "colab_type": "code",
        "colab": {}
      },
      "source": [
        "def get_generator(n):\n",
        "  input1 = tf.keras.layers.Input(shape=(n,))\n",
        "  x1 = tf.keras.layers.Dense(n)(input1)\n",
        "  input2 =tf.random.normal([tf.shape(input1)[0],n])\n",
        "  x2 = tf.keras.layers.Dense(n)(input2)\n",
        "  subtracted = tf.keras.layers.Concatenate(1)([x1, x2])\n",
        "  h1 = tf.keras.layers.Dense(32,use_bias=True,  activation='relu')(subtracted)\n",
        "  h2 = tf.keras.layers.Dense(32,use_bias=True, activation='relu')(h1)\n",
        "  out = tf.keras.layers.Dense(n, use_bias= True, activation='linear')(h2)\n",
        "  generator = tf.keras.models.Model(inputs=[input1], outputs=out)\n",
        "  return generator\n",
        "#keras.utils.plot_model(generator, 'Structure_of_MI_estimation.png', show_shapes=True)"
      ],
      "execution_count": 0,
      "outputs": []
    },
    {
      "cell_type": "markdown",
      "metadata": {
        "id": "Vt2rTP7hSFt4",
        "colab_type": "text"
      },
      "source": [
        "#### Discriminator Model "
      ]
    },
    {
      "cell_type": "code",
      "metadata": {
        "id": "97h2eMLeXS68",
        "colab_type": "code",
        "colab": {}
      },
      "source": [
        "def get_discriminator(n):\n",
        "  model = tf.keras.Sequential()\n",
        "  model.add(tf.keras.layers.Dense(32,use_bias=True, kernel_initializer=randN_initial,activation='relu',input_shape=((2*n,))))\n",
        "  #model.add(tf.keras.layers.Dense(32,use_bias=True, kernel_initializer=randN_initial, activation='relu'))\n",
        "  model.add(tf.keras.layers.Dense(1,use_bias=False, activation='sigmoid'))\n",
        "  return model\n"
      ],
      "execution_count": 0,
      "outputs": []
    },
    {
      "cell_type": "markdown",
      "metadata": {
        "id": "lcIzLZj5Seh9",
        "colab_type": "text"
      },
      "source": [
        "#### Encoder GAN Model"
      ]
    },
    {
      "cell_type": "code",
      "metadata": {
        "id": "sNHtzAC4SPBq",
        "colab_type": "code",
        "colab": {}
      },
      "source": [
        "def get_gan_encoder(M):\n",
        "  model = keras.models.Sequential([\n",
        "            keras.layers.Embedding(M, M, embeddings_initializer='glorot_normal'),\n",
        "            keras.layers.Dense(M, activation=\"elu\"),\n",
        "            keras.layers.Dense(n, activation=None),\n",
        "            e2,\n",
        "            EncOut,\n",
        "            GenIn])\n",
        "  return model\n"
      ],
      "execution_count": 0,
      "outputs": []
    },
    {
      "cell_type": "markdown",
      "metadata": {
        "id": "G5iCDE4dSL35",
        "colab_type": "text"
      },
      "source": [
        "#### decoder GAN Model"
      ]
    },
    {
      "cell_type": "code",
      "metadata": {
        "id": "C5KjEhDvSWQR",
        "colab_type": "code",
        "colab": {}
      },
      "source": [
        "def get_gan_decoder(M):\n",
        "   model= keras.models.Sequential([\n",
        "                #DecIn,\n",
        "                #d1,\n",
        "                \n",
        "                keras.layers.Dense(M, activation=\"elu\"),\n",
        "                keras.layers.Dense(M, activation=\"softmax\")\n",
        "                ])\n",
        "   return model"
      ],
      "execution_count": 0,
      "outputs": []
    },
    {
      "cell_type": "markdown",
      "metadata": {
        "id": "s-t76sYBtlP1",
        "colab_type": "text"
      },
      "source": [
        "### MI estimator Model"
      ]
    },
    {
      "cell_type": "code",
      "metadata": {
        "id": "jL9PYSKjIoOI",
        "colab_type": "code",
        "colab": {}
      },
      "source": [
        "randN_05 = keras.initializers.RandomNormal(mean=0.0, stddev=0.05, seed=None)\n",
        "bias_init = keras.initializers.Constant(0.01)\n",
        "\n",
        "input_A = keras.layers.Input(shape=[2*n])\n",
        "input_B = keras.layers.Input(shape=[2*n])\n",
        "    \n",
        "transform = keras.models.Sequential([\n",
        "layers.Dense(256, bias_initializer=bias_init, kernel_initializer=randN_05, activation=\"relu\"),\n",
        "#keras.layers.Dropout(rate=0.3), # To regularize higher dimensionality\n",
        "layers.Dense(256, bias_initializer=bias_init, kernel_initializer=randN_05, activation=\"relu\"),\n",
        "#keras.layers.Dropout(rate=0.3), # To regularize higher dimensionality\n",
        "layers.Dense(1, bias_initializer=bias_init, kernel_initializer=randN_05, activation=None)])\n",
        "\n",
        "output_A = transform(input_A)\n",
        "output_B = transform(input_B)\n",
        "output_C = tf.reduce_mean(output_A) - tf.math.log(tf.reduce_mean(tf.exp(output_B))) # MINE\n",
        "MI_mod = keras.models.Model(inputs=[input_A, input_B], outputs=output_C)\n",
        "\n",
        "#keras.utils.plot_model(MI_mod, 'Structure_of_MI_estimation.png', show_shapes=True)\n",
        "\n"
      ],
      "execution_count": 0,
      "outputs": []
    },
    {
      "cell_type": "code",
      "metadata": {
        "id": "cf_rmCXIt6af",
        "colab_type": "code",
        "colab": {}
      },
      "source": [
        "mi_encoder = keras.models.Sequential([\n",
        "            keras.layers.Embedding(M, M, embeddings_initializer='glorot_normal'),\n",
        "            keras.layers.Dense(M, activation=\"elu\"),\n",
        "            keras.layers.Dense(n, activation=None),\n",
        "            shape_layer,\n",
        "            norm_layer])\n",
        "\n",
        "mi_channel = keras.models.Sequential([channel_layer])\n",
        "\n",
        "mi_decoder = keras.models.Sequential([\n",
        "                keras.layers.InputLayer(input_shape=[2,int(n/2)]),\n",
        "                shape_layer2,\n",
        "                keras.layers.Dense(M, activation=\"elu\"),\n",
        "                keras.layers.Dense(M, activation=\"softmax\")\n",
        "                ])\n",
        "\n",
        "autoencoder = keras.models.Sequential([mi_encoder, mi_channel, mi_decoder])"
      ],
      "execution_count": 0,
      "outputs": []
    },
    {
      "cell_type": "code",
      "metadata": {
        "id": "n15AvPFO05gd",
        "colab_type": "code",
        "colab": {}
      },
      "source": [
        "def gan_optimizers(gen_learning_rate  ,disc_learning_rate):\n",
        "  generator_optimizer = tf.keras.optimizers.RMSprop(gen_learning_rate)      #RMSprop   in oreder to test where the error comes from\n",
        "  discriminator_optimizer = tf.keras.optimizers.RMSprop(disc_learning_rate) \n",
        "  return generator_optimizer, discriminator_optimizer"
      ],
      "execution_count": 0,
      "outputs": []
    },
    {
      "cell_type": "code",
      "metadata": {
        "id": "U4cPlvbWIoO5",
        "colab_type": "code",
        "colab": {}
      },
      "source": [
        "def plot_loss(step, epoch, mean_loss, X_batch, y_pred, plot_encoding):\n",
        "    template = 'Iteration: {}, Epoch: {}, Loss: {:.5f}, Batch_BER: {:.5f}'\n",
        "    if step % 10 == 0:\n",
        "        print(template.format(step, epoch, mean_loss.result(), B_Ber_m(X_batch, y_pred)))\n",
        "        if plot_encoding:\n",
        "            test_encoding()"
      ],
      "execution_count": 0,
      "outputs": []
    },
    {
      "cell_type": "code",
      "metadata": {
        "id": "r-0gFRfXIoPB",
        "colab_type": "code",
        "colab": {}
      },
      "source": [
        "def plot_batch_loss(epoch, mean_loss, X_batch, y_pred):\n",
        "        template_outer_loop = 'Interim result for Epoch: {}, Loss: {:.5f}, Batch_BER: {:.5f}'\n",
        "        print(template_outer_loop.format(epoch, mean_loss.result(), B_Ber_m(X_batch, y_pred)))"
      ],
      "execution_count": 0,
      "outputs": []
    },
    {
      "cell_type": "code",
      "metadata": {
        "id": "FcXv9vthIoPG",
        "colab_type": "code",
        "colab": {}
      },
      "source": [
        "def split_train_data(x_sample, y_sample):\n",
        "    x_shaped = tf.reshape(x_sample, shape=[-1,n])\n",
        "    y_shaped = tf.reshape(y_sample, shape=[-1,n])\n",
        "    x_sample1, x_sample2 = tf.split(x_shaped, num_or_size_splits=2)\n",
        "    y_sample1, y_sample2 = tf.split(y_shaped, num_or_size_splits=2)\n",
        "    joint_sample = tf.concat([x_sample1, y_sample1], axis=1)\n",
        "    marg_sample = tf.concat([x_sample2, y_sample1], axis=1)\n",
        "    return joint_sample, marg_sample"
      ],
      "execution_count": 0,
      "outputs": []
    },
    {
      "cell_type": "code",
      "metadata": {
        "id": "B6NAzlIiIoPM",
        "colab_type": "code",
        "colab": {}
      },
      "source": [
        "def train_mi(n_epochs=5, n_steps=20, batch_size=200, learning_rate=0.005):\n",
        "    optimizer_mi = keras.optimizers.Nadam(lr=learning_rate)\n",
        "    for epoch in range(1, n_epochs + 1): \n",
        "        print(\"Training in Epoch {}/{}\".format(epoch, n_epochs)) \n",
        "        for step in range(1, n_steps + 1):\n",
        "            X_batch = random_sample(batch_size*2)\n",
        "            with tf.GradientTape() as tape:\n",
        "                x_enc = mi_encoder(X_batch, training=True)\n",
        "                y_recv = mi_channel(x_enc)\n",
        "                joint_marg_s = split_train_data(x_enc, y_recv)\n",
        "                loss = -MI_mod(joint_marg_s)\n",
        "                gradients = tape.gradient(loss, MI_mod.trainable_variables) \n",
        "                optimizer_mi.apply_gradients(zip(gradients, MI_mod.trainable_variables))\n",
        "            mi_avg = -mean_loss(loss)\n",
        "        print('Epoch: {}, Mi is {}'.format(epoch, mi_avg))\n",
        "        mean_loss.reset_states()"
      ],
      "execution_count": 0,
      "outputs": []
    },
    {
      "cell_type": "code",
      "metadata": {
        "id": "P-4O8w_HIoPS",
        "colab_type": "code",
        "colab": {}
      },
      "source": [
        "def train_decoder(n_epochs=5, n_steps=20, batch_size=200, learning_rate=0.005, plot_encoding=True):\n",
        "    optimizer_ae = keras.optimizers.Nadam(lr=learning_rate)\n",
        "    for epoch in range(1, n_epochs + 1): \n",
        "        print(\"Training Bob in Epoch {}/{}\".format(epoch, n_epochs)) \n",
        "        for step in range(1, n_steps + 1):\n",
        "            X_batch  = random_sample(batch_size)\n",
        "            with tf.GradientTape() as tape:\n",
        "                y_pred = autoencoder(X_batch, training=True)\n",
        "                loss = tf.reduce_mean(loss_fn(X_batch, y_pred))\n",
        "                gradients = tape.gradient(loss, mi_decoder.trainable_variables) \n",
        "                optimizer_ae.apply_gradients(zip(gradients, mi_decoder.trainable_variables)) \n",
        "            mean_loss(loss)\n",
        "            plot_loss(step, epoch, mean_loss, X_batch, y_pred, plot_encoding)\n",
        "        plot_batch_loss(epoch, mean_loss, X_batch, y_pred) \n",
        "        mean_loss.reset_states()"
      ],
      "execution_count": 0,
      "outputs": []
    },
    {
      "cell_type": "code",
      "metadata": {
        "id": "MDCIupPhIoPY",
        "colab_type": "code",
        "colab": {}
      },
      "source": [
        "def train_encoder(n_epochs=5, n_steps=20, batch_size=200, learning_rate=0.05):\n",
        "    optimizer_mi = keras.optimizers.Nadam(lr=0.005)\n",
        "    optimizer_ae = keras.optimizers.Nadam(lr=learning_rate)\n",
        "    for epoch in range(1, n_epochs + 1): \n",
        "        print(\"Training Bob in Epoch {}/{}\".format(epoch, n_epochs)) \n",
        "        for step in range(1, n_steps + 1):\n",
        "            X_batch  = random_sample(batch_size)\n",
        "            with tf.GradientTape() as tape:\n",
        "                x_enc = mi_encoder(X_batch, training=True)\n",
        "                y_recv = mi_channel(x_enc)\n",
        "                joint_marg_s = split_train_data(x_enc, y_recv)\n",
        "                loss = -MI_mod(joint_marg_s)\n",
        "                gradients = tape.gradient(loss, mi_encoder.trainable_variables) \n",
        "                optimizer_ae.apply_gradients(zip(gradients, mi_encoder.trainable_variables))\n",
        "            mi_avg = -mean_loss(loss)\n",
        "        with tf.GradientTape() as tape:\n",
        "            X_batch  = random_sample(batch_size) \n",
        "            x_enc = mi_encoder(X_batch, training=True)\n",
        "            y_recv = mi_channel(x_enc)\n",
        "            joint_marg_s = split_train_data(x_enc, y_recv)\n",
        "            loss = -MI_mod(joint_marg_s)\n",
        "            gradients = tape.gradient(loss, MI_mod.trainable_variables) \n",
        "            optimizer_mi.apply_gradients(zip(gradients, MI_mod.trainable_variables))\n",
        "        print('Epoch: {}, Mi is {}'.format(epoch, mi_avg))\n",
        "       # test_encoding(M, 1)"
      ],
      "execution_count": 0,
      "outputs": []
    },
    {
      "cell_type": "code",
      "metadata": {
        "id": "ooDukkHvmduJ",
        "colab_type": "code",
        "outputId": "751ba9d0-3360-4878-85ca-86d41bc6da72",
        "colab": {
          "base_uri": "https://localhost:8080/",
          "height": 53
        }
      },
      "source": [
        "%%time\n",
        "def train_gan(epochs,n_steps, batch_size, SNR_level):\n",
        "  noise_std = EbNo2Sigma(SNR_level)\n",
        "  start = time.time()\n",
        "  x = tf.random.normal((batch_size,n),dtype=tf.dtypes.float32) \n",
        "  x = x/tf.sqrt(2*tf.reduce_mean(tf.square(x)))\n",
        "  counter = 0\n",
        "  epoch = 0\n",
        "  for epoch in range(epochs):\n",
        "    counter += 1\n",
        "    train_step(noise_std, n_steps,batch_size)\n",
        "    if counter%100==0:\n",
        "      tf.print(\"counter %d:\" % (counter))\n",
        "      fake_c = generator(x)\n",
        "      tf.print(fake_c[0])\n",
        "    #print ('Time for epoch {} is {} sec,'.format(epoch + 1, time.time()-start))\n",
        "      tf.print ('Time for epoch {},'.format(epoch + 1))\n",
        "      \n",
        "  tf.saved_model.save(generator,'/tmp/saved_model/')\n",
        "  tf.print ('Time for the training is {} sec,'.format( time.time()-start))\n",
        "    "
      ],
      "execution_count": 20,
      "outputs": [
        {
          "output_type": "stream",
          "text": [
            "CPU times: user 4 µs, sys: 0 ns, total: 4 µs\n",
            "Wall time: 6.91 µs\n"
          ],
          "name": "stdout"
        }
      ]
    },
    {
      "cell_type": "code",
      "metadata": {
        "colab_type": "code",
        "id": "WE_JS7kgA1W-",
        "colab": {}
      },
      "source": [
        "@tf.function\n",
        "def train_step(noise_std,n_steps,batch_size):\n",
        "  x = tf.random.normal((batch_size,n),dtype=tf.dtypes.float32) \n",
        "  x = x/tf.sqrt(2*tf.reduce_mean(tf.square(x)))\n",
        "  for i in range(n_steps):\n",
        "    with tf.GradientTape() as gen_tape, tf.GradientTape() as disc_tape:\n",
        "      real_training_data = tf.concat(values=[real_channel(x,noise_std), x], axis=1)\n",
        "      fake_training_data = tf.concat(values=[generator(x),x], axis=1)\n",
        "      real_output = discriminator(real_training_data)\n",
        "      fake_output = discriminator(fake_training_data)\n",
        "      \n",
        "      \n",
        "      disc_loss = -tf.reduce_mean(tf.math.log(real_output) + tf.math.log(1. - fake_output))\n",
        "      gen_loss =-tf.reduce_mean(tf.math.log(fake_output))\n",
        "      \n",
        "      #tf.print(disc_loss,gen_loss)\n",
        "      \n",
        "      if tf.math.is_nan(disc_loss) == False:\n",
        "        gradients_of_discriminator = disc_tape.gradient(disc_loss, discriminator.trainable_variables)\n",
        "        discriminator_optimizer.apply_gradients(zip(gradients_of_discriminator, discriminator.trainable_variables))\n",
        "    \n",
        "      if i == 4:  \n",
        "        gradients_of_generator = gen_tape.gradient(gen_loss, generator.trainable_variables)\n",
        "        generator_optimizer.apply_gradients(zip(gradients_of_generator, generator.trainable_variables))\n",
        "\n"
      ],
      "execution_count": 0,
      "outputs": []
    },
    {
      "cell_type": "code",
      "metadata": {
        "id": "y82FQj3Jmvxx",
        "colab_type": "code",
        "colab": {}
      },
      "source": [
        "def creating_and_train_gan(epochs,n_steps, batch_size, SNR_level , n ):  #optional Leraning Rates\n",
        "  train_gan(epochs, n_steps, batch_size, SNR_level)\n",
        "  #4 after GAN training\n",
        "  generator.trainable = False\n",
        "  tf.print(generator.trainable)"
      ],
      "execution_count": 0,
      "outputs": []
    },
    {
      "cell_type": "code",
      "metadata": {
        "id": "dLTtFoV0IoPj",
        "colab_type": "code",
        "colab": {}
      },
      "source": [
        "def mi_Test_AE(data):\n",
        "    '''Calculate Bit Error for varying SNRs'''\n",
        "    snr_range = np.linspace(0, 15, 31)\n",
        "    bber_vec = [None] * len(snr_range)\n",
        "        \n",
        "    for db in range(len(snr_range)):           \n",
        "        noise_std = EbNo_to_noise(snr_range[db])\n",
        "        code_word = mi_encoder(data)\n",
        "        rcvd_word = code_word + tf.random.normal(tf.shape(code_word), mean=0.0, stddev=noise_std)\n",
        "        dcoded_msg = mi_decoder(rcvd_word)\n",
        "        bber_vec[db] = B_Ber_m(data, dcoded_msg)\n",
        "        if (db % 6 == 0) & (db > 0):\n",
        "            print(f'Progress: {db} of {30} parts')\n",
        "\n",
        "    return (snr_range, bber_vec)\n",
        "\n",
        "\n",
        "def Test_AE(data):\n",
        "    '''Calculate Bit Error for varying SNRs'''\n",
        "    snr_range = np.linspace(0, 15, 31)\n",
        "    bber_vec = [None] * len(snr_range)\n",
        "        \n",
        "    for db in range(len(snr_range)):           \n",
        "        noise_std = EbNo_to_noise(snr_range[db])\n",
        "        code_word = gan_encoder(data)\n",
        "        rcvd_word = real_channel(code_word,noise_std)\n",
        "        dcoded_msg = gan_decoder(rcvd_word)\n",
        "        bber_vec[db] = B_Ber_m(data, dcoded_msg)\n",
        "        if (db % 6 == 0) & (db > 0):\n",
        "            print(f'Progress: {db} of {30} parts')\n",
        "\n",
        "    return (snr_range, bber_vec)\n"
      ],
      "execution_count": 0,
      "outputs": []
    },
    {
      "cell_type": "markdown",
      "metadata": {
        "id": "3m0fQ6OXgPf1",
        "colab_type": "text"
      },
      "source": [
        "# GAN Training"
      ]
    },
    {
      "cell_type": "code",
      "metadata": {
        "id": "nNFwwZrcgOkn",
        "colab_type": "code",
        "outputId": "9c03a86d-a28d-4d09-c325-e7aac602e8b5",
        "colab": {
          "base_uri": "https://localhost:8080/",
          "height": 1000
        }
      },
      "source": [
        "generator = get_generator(n)\n",
        "discriminator = get_discriminator(n)\n",
        "generator_optimizer, discriminator_optimizer = gan_optimizers(gen_learning_rate=gen_learning_rate, disc_learning_rate = disc_learning_rate)\n",
        "creating_and_train_gan(epochs= 5000,n_steps=5, batch_size =100, SNR_level = 7, n = n)"
      ],
      "execution_count": 24,
      "outputs": [
        {
          "output_type": "stream",
          "text": [
            "counter 100:\n",
            "[0.0503417403 -0.13823621 -0.188414842 0.278487325]\n",
            "Time for epoch 100,\n",
            "counter 200:\n",
            "[0.310711563 0.248095334 0.269268841 -0.107809067]\n",
            "Time for epoch 200,\n",
            "counter 300:\n",
            "[0.135836929 0.226454049 -0.604211509 0.44994992]\n",
            "Time for epoch 300,\n",
            "counter 400:\n",
            "[0.0452435166 0.186352283 -0.483638376 0.220804676]\n",
            "Time for epoch 400,\n",
            "counter 500:\n",
            "[0.0684039146 0.0548111349 -0.465932161 0.255320877]\n",
            "Time for epoch 500,\n",
            "counter 600:\n",
            "[-0.326888949 -0.0720751509 -0.000755410641 0.215781271]\n",
            "Time for epoch 600,\n",
            "counter 700:\n",
            "[-0.405219465 0.0211238172 -0.376964897 -0.00912556797]\n",
            "Time for epoch 700,\n",
            "counter 800:\n",
            "[0.150136217 -0.0267712642 -0.436385572 -0.218109414]\n",
            "Time for epoch 800,\n",
            "counter 900:\n",
            "[-0.294018745 0.26626277 0.283427536 -0.256569177]\n",
            "Time for epoch 900,\n",
            "counter 1000:\n",
            "[-0.319143355 -0.135006666 -0.341715 -0.23208338]\n",
            "Time for epoch 1000,\n",
            "counter 1100:\n",
            "[-0.703928351 -0.0643751696 -0.264294773 -0.446475208]\n",
            "Time for epoch 1100,\n",
            "counter 1200:\n",
            "[-0.711965322 -0.790717244 -0.201590508 -0.606107056]\n",
            "Time for epoch 1200,\n",
            "counter 1300:\n",
            "[-0.419771552 -0.335103571 -0.440433085 -0.910571337]\n",
            "Time for epoch 1300,\n",
            "counter 1400:\n",
            "[-0.282227218 0.44454807 0.044323463 -0.753079355]\n",
            "Time for epoch 1400,\n",
            "counter 1500:\n",
            "[0.140308455 -0.121025011 -0.255707026 -0.89478308]\n",
            "Time for epoch 1500,\n",
            "counter 1600:\n",
            "[-0.14470461 0.375024915 0.164636761 -0.815475821]\n",
            "Time for epoch 1600,\n",
            "counter 1700:\n",
            "[0.136616707 0.215979487 -0.0554967858 -1.56264937]\n",
            "Time for epoch 1700,\n",
            "counter 1800:\n",
            "[0.379020274 0.434956431 -0.415895522 -0.831400156]\n",
            "Time for epoch 1800,\n",
            "counter 1900:\n",
            "[0.114053577 0.607252598 0.497720122 -0.936343]\n",
            "Time for epoch 1900,\n",
            "counter 2000:\n",
            "[0.0815275759 0.628455341 0.139337 -1.08263016]\n",
            "Time for epoch 2000,\n",
            "counter 2100:\n",
            "[0.0368513539 0.411561191 0.177848235 -1.17159331]\n",
            "Time for epoch 2100,\n",
            "counter 2200:\n",
            "[0.0185965206 0.687347472 0.484912246 -0.88206327]\n",
            "Time for epoch 2200,\n",
            "counter 2300:\n",
            "[-0.158577383 0.697023511 0.364563376 -0.991969526]\n",
            "Time for epoch 2300,\n",
            "counter 2400:\n",
            "[-0.0652974546 0.813405871 0.539314866 -0.819662452]\n",
            "Time for epoch 2400,\n",
            "counter 2500:\n",
            "[-0.103561893 0.808823943 0.0825753361 -1.10573888]\n",
            "Time for epoch 2500,\n",
            "counter 2600:\n",
            "[-0.144087657 0.898278058 0.263486296 -1.07498658]\n",
            "Time for epoch 2600,\n",
            "counter 2700:\n",
            "[0.0435904451 0.673917651 0.808004141 -0.951582253]\n",
            "Time for epoch 2700,\n",
            "counter 2800:\n",
            "[-0.0322142094 0.942097664 0.356409758 -0.95443511]\n",
            "Time for epoch 2800,\n",
            "counter 2900:\n",
            "[-0.0395992696 0.635665238 0.794124484 -1.28849745]\n",
            "Time for epoch 2900,\n",
            "counter 3000:\n",
            "[-0.057446748 0.907481194 0.759559512 -1.17814898]\n",
            "Time for epoch 3000,\n",
            "counter 3100:\n",
            "[-0.00859238952 0.992800593 0.34331283 -1.04491818]\n",
            "Time for epoch 3100,\n",
            "counter 3200:\n",
            "[0.0603327751 1.0905292 0.164060026 -1.0412674]\n",
            "Time for epoch 3200,\n",
            "counter 3300:\n",
            "[-0.0226268843 0.937003255 0.729795873 -1.20383346]\n",
            "Time for epoch 3300,\n",
            "counter 3400:\n",
            "[0.188488916 0.920119107 0.0577928871 -0.959916592]\n",
            "Time for epoch 3400,\n",
            "counter 3500:\n",
            "[-0.00976217538 0.726546049 0.334157914 -1.28337455]\n",
            "Time for epoch 3500,\n",
            "counter 3600:\n",
            "[0.0918911844 0.883648336 0.104558274 -1.00732696]\n",
            "Time for epoch 3600,\n",
            "counter 3700:\n",
            "[0.0138724186 0.630256295 0.290289789 -1.38965392]\n",
            "Time for epoch 3700,\n",
            "counter 3800:\n",
            "[-0.0609388798 0.944773555 0.217391685 -1.04395306]\n",
            "Time for epoch 3800,\n",
            "counter 3900:\n",
            "[-0.00282669067 0.824897647 -0.108699217 -0.865147293]\n",
            "Time for epoch 3900,\n",
            "counter 4000:\n",
            "[0.165957391 0.716413319 0.446636289 -1.18395543]\n",
            "Time for epoch 4000,\n",
            "counter 4100:\n",
            "[0.0980504751 0.725233316 0.601102352 -1.11832678]\n",
            "Time for epoch 4100,\n",
            "counter 4200:\n",
            "[-0.183899358 0.871959627 0.406146854 -1.08027411]\n",
            "Time for epoch 4200,\n",
            "counter 4300:\n",
            "[-0.250751823 1.06749892 0.257716179 -0.950181]\n",
            "Time for epoch 4300,\n",
            "counter 4400:\n",
            "[0.434478432 0.801656544 0.806687117 -0.847105]\n",
            "Time for epoch 4400,\n",
            "counter 4500:\n",
            "[-0.103856772 0.826084554 0.60280925 -1.19473231]\n",
            "Time for epoch 4500,\n",
            "counter 4600:\n",
            "[-0.0733616203 0.278655201 0.219308436 -1.02188885]\n",
            "Time for epoch 4600,\n",
            "counter 4700:\n",
            "[0.0408164337 0.620714664 0.532647491 -1.13588512]\n",
            "Time for epoch 4700,\n",
            "counter 4800:\n",
            "[0.152046591 0.538385034 0.163015038 -0.981286466]\n",
            "Time for epoch 4800,\n",
            "counter 4900:\n",
            "[0.0278467126 0.897324264 0.147153825 -0.977480173]\n",
            "Time for epoch 4900,\n",
            "counter 5000:\n",
            "[-0.0667271316 0.325511903 0.207796231 -0.715497077]\n",
            "Time for epoch 5000,\n",
            "WARNING:tensorflow:From /usr/local/lib/python3.6/dist-packages/tensorflow_core/python/ops/resource_variable_ops.py:1781: calling BaseResourceVariable.__init__ (from tensorflow.python.ops.resource_variable_ops) with constraint is deprecated and will be removed in a future version.\n",
            "Instructions for updating:\n",
            "If using Keras pass *_constraint arguments to layers.\n",
            "INFO:tensorflow:Assets written to: /tmp/saved_model/assets\n",
            "Time for the training is 15.721556186676025 sec,\n",
            "False\n"
          ],
          "name": "stdout"
        }
      ]
    },
    {
      "cell_type": "markdown",
      "metadata": {
        "id": "6GW2opX7SwMo",
        "colab_type": "text"
      },
      "source": [
        "# AE training"
      ]
    },
    {
      "cell_type": "code",
      "metadata": {
        "id": "FiuN3SZYpeTU",
        "colab_type": "code",
        "outputId": "5f654f48-9638-4af5-8c15-a36a8703694b",
        "colab": {
          "base_uri": "https://localhost:8080/",
          "height": 374
        }
      },
      "source": [
        "\n",
        "gan_decoder = get_gan_decoder(M)\n",
        "gan_encoder = get_gan_encoder(M)\n",
        "\n",
        "\n",
        "\n",
        "gan_AE = tf.keras.models.Sequential([gan_encoder,generator,gan_decoder])\n",
        "data, test_data = random_sample(10000000), random_sample(10000)\n",
        "\n",
        "gan_AE.compile(optimizer='nadam',loss='sparse_categorical_crossentropy',metrics=['accuracy'])\n",
        "history = gan_AE.fit(data, data, batch_size=500,steps_per_epoch=400, epochs=5)\n",
        "\n",
        "gan_AE.summary()  "
      ],
      "execution_count": 25,
      "outputs": [
        {
          "output_type": "stream",
          "text": [
            "Train on 10000000 samples\n",
            "Epoch 1/5\n",
            "  196500/10000000 [..............................] - ETA: 3:55 - loss: 1.2605 - accuracy: 0.8046Epoch 2/5\n",
            "  198500/10000000 [..............................] - ETA: 1:19 - loss: 0.2051 - accuracy: 0.9990Epoch 3/5\n",
            "  196500/10000000 [..............................] - ETA: 1:31 - loss: 0.0602 - accuracy: 0.9994Epoch 4/5\n",
            "  199000/10000000 [..............................] - ETA: 1:37 - loss: 0.0294 - accuracy: 0.9995Epoch 5/5\n",
            "  195500/10000000 [..............................] - ETA: 1:26 - loss: 0.0176 - accuracy: 0.9997Model: \"sequential_8\"\n",
            "_________________________________________________________________\n",
            "Layer (type)                 Output Shape              Param #   \n",
            "=================================================================\n",
            "sequential_7 (Sequential)    (None, None)              596       \n",
            "_________________________________________________________________\n",
            "model_1 (Model)              (None, 4)                 1516      \n",
            "_________________________________________________________________\n",
            "sequential_6 (Sequential)    (None, 16)                352       \n",
            "=================================================================\n",
            "Total params: 2,464\n",
            "Trainable params: 948\n",
            "Non-trainable params: 1,516\n",
            "_________________________________________________________________\n"
          ],
          "name": "stdout"
        }
      ]
    },
    {
      "cell_type": "markdown",
      "metadata": {
        "id": "ngrucnfWBOHl",
        "colab_type": "text"
      },
      "source": [
        "### Training MI"
      ]
    },
    {
      "cell_type": "code",
      "metadata": {
        "id": "CTnDsMN2IoOz",
        "colab_type": "code",
        "colab": {}
      },
      "source": [
        "loss_fn = keras.losses.SparseCategoricalCrossentropy()\n",
        "mean_loss = keras.metrics.Mean()"
      ],
      "execution_count": 0,
      "outputs": []
    },
    {
      "cell_type": "code",
      "metadata": {
        "id": "TZTfQcWRIoPn",
        "colab_type": "code",
        "outputId": "8ec7aa91-2a49-4df1-a088-7f1d1fa455dd",
        "colab": {
          "base_uri": "https://localhost:8080/",
          "height": 1000
        }
      },
      "source": [
        "train_mi(n_epochs=1, n_steps=500, batch_size=128)\n",
        "train_encoder(n_epochs=5, n_steps=100, batch_size=500, learning_rate=0.005)\n",
        "test_encoding(M, n)\n",
        "train_encoder(n_epochs=5, n_steps=100, batch_size=500, learning_rate=0.0005)\n",
        "test_encoding(M, n)\n",
        "train_decoder(n_epochs=5, n_steps=100, batch_size=500, learning_rate=0.005, plot_encoding=False)"
      ],
      "execution_count": 27,
      "outputs": [
        {
          "output_type": "stream",
          "text": [
            "Training in Epoch 1/1\n",
            "Epoch: 1, Mi is 2.4851012229919434\n",
            "Training Bob in Epoch 1/5\n",
            "Epoch: 1, Mi is 2.6976611614227295\n",
            "Training Bob in Epoch 2/5\n",
            "Epoch: 2, Mi is 2.7373476028442383\n",
            "Training Bob in Epoch 3/5\n",
            "Epoch: 3, Mi is 2.7400786876678467\n",
            "Training Bob in Epoch 4/5\n",
            "Epoch: 4, Mi is 2.732344627380371\n",
            "Training Bob in Epoch 5/5\n",
            "Epoch: 5, Mi is 2.731872797012329\n"
          ],
          "name": "stdout"
        },
        {
          "output_type": "display_data",
          "data": {
            "image/png": "[encoded data removed]",
            "text/plain": [
              "<Figure size 288x288 with 1 Axes>"
            ]
          },
          "metadata": {
            "tags": []
          }
        },
        {
          "output_type": "stream",
          "text": [
            "Training Bob in Epoch 1/5\n",
            "Epoch: 1, Mi is 2.7394447326660156\n",
            "Training Bob in Epoch 2/5\n",
            "Epoch: 2, Mi is 2.742084503173828\n",
            "Training Bob in Epoch 3/5\n",
            "Epoch: 3, Mi is 2.744628667831421\n",
            "Training Bob in Epoch 4/5\n",
            "Epoch: 4, Mi is 2.744607448577881\n",
            "Training Bob in Epoch 5/5\n",
            "Epoch: 5, Mi is 2.7426846027374268\n"
          ],
          "name": "stdout"
        },
        {
          "output_type": "display_data",
          "data": {
            "image/png": "[encoded data removed]",
            "text/plain": [
              "<Figure size 288x288 with 1 Axes>"
            ]
          },
          "metadata": {
            "tags": []
          }
        },
        {
          "output_type": "stream",
          "text": [
            "Training Bob in Epoch 1/5\n",
            "Iteration: 10, Epoch: 1, Loss: -2.68971, Batch_BER: 0.67800\n",
            "Iteration: 20, Epoch: 1, Loss: -2.64060, Batch_BER: 0.51800\n",
            "Iteration: 30, Epoch: 1, Loss: -2.59553, Batch_BER: 0.30400\n",
            "Iteration: 40, Epoch: 1, Loss: -2.55432, Batch_BER: 0.12800\n",
            "Iteration: 50, Epoch: 1, Loss: -2.51657, Batch_BER: 0.05000\n",
            "Iteration: 60, Epoch: 1, Loss: -2.48198, Batch_BER: 0.01800\n",
            "Iteration: 70, Epoch: 1, Loss: -2.45011, Batch_BER: 0.01400\n",
            "Iteration: 80, Epoch: 1, Loss: -2.42054, Batch_BER: 0.02400\n",
            "Iteration: 90, Epoch: 1, Loss: -2.39276, Batch_BER: 0.01200\n",
            "Iteration: 100, Epoch: 1, Loss: -2.36647, Batch_BER: 0.01400\n",
            "Interim result for Epoch: 1, Loss: -2.36647, Batch_BER: 0.01400\n",
            "Training Bob in Epoch 2/5\n",
            "Iteration: 10, Epoch: 2, Loss: 0.40519, Batch_BER: 0.00600\n",
            "Iteration: 20, Epoch: 2, Loss: 0.37405, Batch_BER: 0.00400\n",
            "Iteration: 30, Epoch: 2, Loss: 0.34720, Batch_BER: 0.01000\n",
            "Iteration: 40, Epoch: 2, Loss: 0.32325, Batch_BER: 0.00400\n",
            "Iteration: 50, Epoch: 2, Loss: 0.30294, Batch_BER: 0.00400\n",
            "Iteration: 60, Epoch: 2, Loss: 0.28509, Batch_BER: 0.00400\n",
            "Iteration: 70, Epoch: 2, Loss: 0.26966, Batch_BER: 0.00600\n",
            "Iteration: 80, Epoch: 2, Loss: 0.25585, Batch_BER: 0.00400\n",
            "Iteration: 90, Epoch: 2, Loss: 0.24369, Batch_BER: 0.01400\n",
            "Iteration: 100, Epoch: 2, Loss: 0.23242, Batch_BER: 0.01000\n",
            "Interim result for Epoch: 2, Loss: 0.23242, Batch_BER: 0.01000\n",
            "Training Bob in Epoch 3/5\n",
            "Iteration: 10, Epoch: 3, Loss: 0.11893, Batch_BER: 0.00200\n",
            "Iteration: 20, Epoch: 3, Loss: 0.11323, Batch_BER: 0.00000\n",
            "Iteration: 30, Epoch: 3, Loss: 0.11061, Batch_BER: 0.00800\n",
            "Iteration: 40, Epoch: 3, Loss: 0.10650, Batch_BER: 0.00800\n",
            "Iteration: 50, Epoch: 3, Loss: 0.10362, Batch_BER: 0.00200\n",
            "Iteration: 60, Epoch: 3, Loss: 0.09987, Batch_BER: 0.00400\n",
            "Iteration: 70, Epoch: 3, Loss: 0.09697, Batch_BER: 0.00600\n",
            "Iteration: 80, Epoch: 3, Loss: 0.09451, Batch_BER: 0.01200\n",
            "Iteration: 90, Epoch: 3, Loss: 0.09206, Batch_BER: 0.00400\n",
            "Iteration: 100, Epoch: 3, Loss: 0.08955, Batch_BER: 0.00400\n",
            "Interim result for Epoch: 3, Loss: 0.08955, Batch_BER: 0.00400\n",
            "Training Bob in Epoch 4/5\n",
            "Iteration: 10, Epoch: 4, Loss: 0.06510, Batch_BER: 0.00400\n",
            "Iteration: 20, Epoch: 4, Loss: 0.06304, Batch_BER: 0.00400\n",
            "Iteration: 30, Epoch: 4, Loss: 0.06098, Batch_BER: 0.00400\n",
            "Iteration: 40, Epoch: 4, Loss: 0.05998, Batch_BER: 0.01000\n",
            "Iteration: 50, Epoch: 4, Loss: 0.05811, Batch_BER: 0.00000\n",
            "Iteration: 60, Epoch: 4, Loss: 0.05727, Batch_BER: 0.01000\n",
            "Iteration: 70, Epoch: 4, Loss: 0.05580, Batch_BER: 0.00000\n",
            "Iteration: 80, Epoch: 4, Loss: 0.05495, Batch_BER: 0.00000\n",
            "Iteration: 90, Epoch: 4, Loss: 0.05413, Batch_BER: 0.00200\n",
            "Iteration: 100, Epoch: 4, Loss: 0.05334, Batch_BER: 0.00400\n",
            "Interim result for Epoch: 4, Loss: 0.05334, Batch_BER: 0.00400\n",
            "Training Bob in Epoch 5/5\n",
            "Iteration: 10, Epoch: 5, Loss: 0.04279, Batch_BER: 0.00200\n",
            "Iteration: 20, Epoch: 5, Loss: 0.04326, Batch_BER: 0.00200\n",
            "Iteration: 30, Epoch: 5, Loss: 0.04201, Batch_BER: 0.00200\n",
            "Iteration: 40, Epoch: 5, Loss: 0.04134, Batch_BER: 0.00600\n",
            "Iteration: 50, Epoch: 5, Loss: 0.04039, Batch_BER: 0.00200\n",
            "Iteration: 60, Epoch: 5, Loss: 0.03967, Batch_BER: 0.00200\n",
            "Iteration: 70, Epoch: 5, Loss: 0.03918, Batch_BER: 0.00400\n",
            "Iteration: 80, Epoch: 5, Loss: 0.03848, Batch_BER: 0.00400\n",
            "Iteration: 90, Epoch: 5, Loss: 0.03789, Batch_BER: 0.00200\n",
            "Iteration: 100, Epoch: 5, Loss: 0.03751, Batch_BER: 0.00400\n",
            "Interim result for Epoch: 5, Loss: 0.03751, Batch_BER: 0.00400\n"
          ],
          "name": "stdout"
        }
      ]
    },
    {
      "cell_type": "code",
      "metadata": {
        "id": "D5B2TUanPC5d",
        "colab_type": "code",
        "outputId": "f76e574d-4eea-44e5-99f5-53ec5e3d38fb",
        "colab": {
          "base_uri": "https://localhost:8080/",
          "height": 295
        }
      },
      "source": [
        "gan_encoder.trainable = False\n",
        "gan_decoder.trainable = False\n",
        "\n",
        "test_encoding(M,n)   \n"
      ],
      "execution_count": 28,
      "outputs": [
        {
          "output_type": "display_data",
          "data": {
            "image/png": "[encoded data removed]",
            "text/plain": [
              "<Figure size 288x288 with 1 Axes>"
            ]
          },
          "metadata": {
            "tags": []
          }
        }
      ]
    },
    {
      "cell_type": "code",
      "metadata": {
        "colab_type": "code",
        "outputId": "9ee435ca-0e00-4ab1-a3ab-4019ab8f8549",
        "id": "RzC-yCM_wKW9",
        "colab": {
          "base_uri": "https://localhost:8080/",
          "height": 106
        }
      },
      "source": [
        "mi_bber_data = mi_Test_AE(test_msg)"
      ],
      "execution_count": 31,
      "outputs": [
        {
          "output_type": "stream",
          "text": [
            "Progress: 6 of 30 parts\n",
            "Progress: 12 of 30 parts\n",
            "Progress: 18 of 30 parts\n",
            "Progress: 24 of 30 parts\n",
            "Progress: 30 of 30 parts\n"
          ],
          "name": "stdout"
        }
      ]
    },
    {
      "cell_type": "code",
      "metadata": {
        "id": "7M-S0sbhIoPw",
        "colab_type": "code",
        "outputId": "03b6dcd3-d4ab-4173-c094-12ee87af8f98",
        "colab": {
          "base_uri": "https://localhost:8080/",
          "height": 106
        }
      },
      "source": [
        "gan_bber_data = Test_AE(test_msg)"
      ],
      "execution_count": 32,
      "outputs": [
        {
          "output_type": "stream",
          "text": [
            "Progress: 6 of 30 parts\n",
            "Progress: 12 of 30 parts\n",
            "Progress: 18 of 30 parts\n",
            "Progress: 24 of 30 parts\n",
            "Progress: 30 of 30 parts\n"
          ],
          "name": "stdout"
        }
      ]
    },
    {
      "cell_type": "code",
      "metadata": {
        "id": "ukO76l6yIoPc",
        "colab_type": "code",
        "colab": {}
      },
      "source": [
        "# test msg sequence for normal encoding\n",
        "N_test = 500000\n",
        "test_msg = np.random.randint(M, size=N_test)"
      ],
      "execution_count": 0,
      "outputs": []
    },
    {
      "cell_type": "code",
      "metadata": {
        "id": "8bsLeTCMKmfw",
        "colab_type": "code",
        "outputId": "ca6b8a9d-700f-4e95-c0d6-09b4a54868bd",
        "colab": {
          "base_uri": "https://localhost:8080/",
          "height": 352
        }
      },
      "source": [
        "def SIXT_QAM_sim(ebno):\n",
        "    return (3.0/2)*special.erfc(np.sqrt((4.0/10)*10.**(ebno/10)))\n",
        "\n",
        "ebnodbs = np.linspace(0,15,16)\n",
        "fig = plt.figure(figsize=(8, 5))\n",
        "plt.semilogy(gan_bber_data[0], gan_bber_data[1], 'o-')\n",
        "\n",
        "plt.semilogy(ebnodbs, SIXT_QAM_sim(ebnodbs), '^-');\n",
        "plt.gca().set_ylim(1e-5, 1)\n",
        "plt.gca().set_xlim(0, 15)\n",
        "plt.ylabel(\"Batch Symbol Error Rate\", fontsize=14, rotation=90)\n",
        "plt.xlabel(\"SNR [dB]\", fontsize=18)\n",
        "plt.legend(['AE with GAN', '16QAM'],\n",
        "           prop={'size': 14}, loc='upper right');\n",
        "plt.grid(True, which=\"both\")"
      ],
      "execution_count": 34,
      "outputs": [
        {
          "output_type": "display_data",
          "data": {
            "image/png": "[encoded data removed]",
            "text/plain": [
              "<Figure size 576x360 with 1 Axes>"
            ]
          },
          "metadata": {
            "tags": []
          }
        }
      ]
    },
    {
      "cell_type": "code",
      "metadata": {
        "id": "UYdEm0eQIoP2",
        "colab_type": "code",
        "outputId": "55897121-d7bb-4bf7-f2a2-fb12f738ffb8",
        "colab": {
          "base_uri": "https://localhost:8080/",
          "height": 352
        }
      },
      "source": [
        "# Approximate 16 QAM Error\n",
        "def SIXT_QAM_sim(ebno):\n",
        "    return (3.0/2)*special.erfc(np.sqrt((4.0/10)*10.**(ebno/10)))\n",
        "\n",
        "ebnodbs = np.linspace(0,15,16)\n",
        "fig = plt.figure(figsize=(8, 5))\n",
        "plt.semilogy(mi_bber_data[0], mi_bber_data[1], 'o-')\n",
        "plt.semilogy(gan_bber_data[0], gan_bber_data[1], '^-')\n",
        "plt.semilogy(ebnodbs, SIXT_QAM_sim(ebnodbs), '*-');\n",
        "plt.gca().set_ylim(1e-5, 1)\n",
        "plt.gca().set_xlim(0, 15)\n",
        "plt.ylabel(\"Batch Symbol Error Rate\", fontsize=14, rotation=90)\n",
        "plt.xlabel(\"SNR [dB]\", fontsize=18)\n",
        "plt.legend(['AE with MINE','AE with GAN', '16QAM'],\n",
        "           prop={'size': 14}, loc='upper right');\n",
        "plt.grid(True, which=\"both\")"
      ],
      "execution_count": 39,
      "outputs": [
        {
          "output_type": "display_data",
          "data": {
            "image/png": "[encoded data removed]",
            "text/plain": [
              "<Figure size 576x360 with 1 Axes>"
            ]
          },
          "metadata": {
            "tags": []
          }
        }
      ]
    },
    {
      "cell_type": "code",
      "metadata": {
        "id": "bBes21qLlcS8",
        "colab_type": "code",
        "colab": {}
      },
      "source": [
        ""
      ],
      "execution_count": 0,
      "outputs": []
    }
  ]
}