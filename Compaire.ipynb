{
  "nbformat": 4,
  "nbformat_minor": 0,
  "metadata": {
    "colab": {
      "name": "Compaire.ipynb",
      "provenance": [],
      "include_colab_link": true
    },
    "kernelspec": {
      "name": "python3",
      "display_name": "Python 3"
    }
  },
  "cells": [
    {
      "cell_type": "markdown",
      "metadata": {
        "id": "view-in-github",
        "colab_type": "text"
      },
      "source": [
        "<a href=\"https://colab.research.google.com/github/BenYavor/Compairison_MI_GAN/blob/master/Compaire.ipynb\" target=\"_parent\"><img src=\"https://colab.research.google.com/assets/colab-badge.svg\" alt=\"Open In Colab\"/></a>"
      ]
    },
    {
      "cell_type": "code",
      "metadata": {
        "id": "Y3Mvn1V30ejH",
        "colab_type": "code",
        "outputId": "473aee5f-50f6-4b77-bc04-1ee0b8d18962",
        "colab": {
          "base_uri": "https://localhost:8080/",
          "height": 644
        }
      },
      "source": [
        "!pip install tensorflow==2.0.0\n",
        "import numpy as np\n",
        "%matplotlib inline\n",
        "import matplotlib.pyplot as plt   \n",
        "import warnings\n",
        "with warnings.catch_warnings():\n",
        "    warnings.filterwarnings(\"ignore\",category=FutureWarning)\n",
        "    import tensorflow as tf\n",
        "import os\n",
        "tf.__version__\n",
        "from tensorflow import keras\n",
        "import time\n",
        "from __future__ import absolute_import, division, print_function, unicode_literals\n",
        "import pandas as pd\n",
        "import sys\n",
        "assert sys.version_info >= (3, 5)\n",
        "%matplotlib inline\n",
        "import matplotlib as mpl\n",
        "mpl.rc('axes', labelsize=14)\n",
        "mpl.rc('xtick', labelsize=12)\n",
        "mpl.rc('ytick', labelsize=12)\n",
        "import tensorflow as tf\n",
        "from tensorflow import keras\n",
        "from sklearn.preprocessing import OneHotEncoder\n",
        "import pandas as pd\n",
        "from scipy import special\n",
        "#from Clustering_Equalgrps.equal_groups import EqualGroupsKMeans\n",
        "from tensorflow.keras import layers\n",
        "np.random.seed(42)\n",
        "tf.random.set_seed(42)"
      ],
      "execution_count": 1,
      "outputs": [
        {
          "output_type": "stream",
          "text": [
            "Requirement already satisfied: tensorflow==2.0.0 in /usr/local/lib/python3.6/dist-packages (2.0.0)\n",
            "Requirement already satisfied: termcolor>=1.1.0 in /usr/local/lib/python3.6/dist-packages (from tensorflow==2.0.0) (1.1.0)\n",
            "Requirement already satisfied: wheel>=0.26 in /usr/local/lib/python3.6/dist-packages (from tensorflow==2.0.0) (0.33.6)\n",
            "Requirement already satisfied: grpcio>=1.8.6 in /usr/local/lib/python3.6/dist-packages (from tensorflow==2.0.0) (1.15.0)\n",
            "Requirement already satisfied: six>=1.10.0 in /usr/local/lib/python3.6/dist-packages (from tensorflow==2.0.0) (1.12.0)\n",
            "Requirement already satisfied: gast==0.2.2 in /usr/local/lib/python3.6/dist-packages (from tensorflow==2.0.0) (0.2.2)\n",
            "Requirement already satisfied: opt-einsum>=2.3.2 in /usr/local/lib/python3.6/dist-packages (from tensorflow==2.0.0) (3.1.0)\n",
            "Requirement already satisfied: keras-preprocessing>=1.0.5 in /usr/local/lib/python3.6/dist-packages (from tensorflow==2.0.0) (1.1.0)\n",
            "Requirement already satisfied: numpy<2.0,>=1.16.0 in /usr/local/lib/python3.6/dist-packages (from tensorflow==2.0.0) (1.17.3)\n",
            "Requirement already satisfied: google-pasta>=0.1.6 in /usr/local/lib/python3.6/dist-packages (from tensorflow==2.0.0) (0.1.7)\n",
            "Requirement already satisfied: tensorboard<2.1.0,>=2.0.0 in /usr/local/lib/python3.6/dist-packages (from tensorflow==2.0.0) (2.0.1)\n",
            "Requirement already satisfied: protobuf>=3.6.1 in /usr/local/lib/python3.6/dist-packages (from tensorflow==2.0.0) (3.10.0)\n",
            "Requirement already satisfied: tensorflow-estimator<2.1.0,>=2.0.0 in /usr/local/lib/python3.6/dist-packages (from tensorflow==2.0.0) (2.0.1)\n",
            "Requirement already satisfied: keras-applications>=1.0.8 in /usr/local/lib/python3.6/dist-packages (from tensorflow==2.0.0) (1.0.8)\n",
            "Requirement already satisfied: wrapt>=1.11.1 in /usr/local/lib/python3.6/dist-packages (from tensorflow==2.0.0) (1.11.2)\n",
            "Requirement already satisfied: astor>=0.6.0 in /usr/local/lib/python3.6/dist-packages (from tensorflow==2.0.0) (0.8.0)\n",
            "Requirement already satisfied: absl-py>=0.7.0 in /usr/local/lib/python3.6/dist-packages (from tensorflow==2.0.0) (0.8.1)\n",
            "Requirement already satisfied: werkzeug>=0.11.15 in /usr/local/lib/python3.6/dist-packages (from tensorboard<2.1.0,>=2.0.0->tensorflow==2.0.0) (0.16.0)\n",
            "Requirement already satisfied: google-auth-oauthlib<0.5,>=0.4.1 in /usr/local/lib/python3.6/dist-packages (from tensorboard<2.1.0,>=2.0.0->tensorflow==2.0.0) (0.4.1)\n",
            "Requirement already satisfied: google-auth<2,>=1.6.3 in /usr/local/lib/python3.6/dist-packages (from tensorboard<2.1.0,>=2.0.0->tensorflow==2.0.0) (1.7.0)\n",
            "Requirement already satisfied: setuptools>=41.0.0 in /usr/local/lib/python3.6/dist-packages (from tensorboard<2.1.0,>=2.0.0->tensorflow==2.0.0) (41.4.0)\n",
            "Requirement already satisfied: markdown>=2.6.8 in /usr/local/lib/python3.6/dist-packages (from tensorboard<2.1.0,>=2.0.0->tensorflow==2.0.0) (3.1.1)\n",
            "Requirement already satisfied: h5py in /usr/local/lib/python3.6/dist-packages (from keras-applications>=1.0.8->tensorflow==2.0.0) (2.8.0)\n",
            "Requirement already satisfied: requests-oauthlib>=0.7.0 in /usr/local/lib/python3.6/dist-packages (from google-auth-oauthlib<0.5,>=0.4.1->tensorboard<2.1.0,>=2.0.0->tensorflow==2.0.0) (1.2.0)\n",
            "Requirement already satisfied: cachetools<3.2,>=2.0.0 in /usr/local/lib/python3.6/dist-packages (from google-auth<2,>=1.6.3->tensorboard<2.1.0,>=2.0.0->tensorflow==2.0.0) (3.1.1)\n",
            "Requirement already satisfied: pyasn1-modules>=0.2.1 in /usr/local/lib/python3.6/dist-packages (from google-auth<2,>=1.6.3->tensorboard<2.1.0,>=2.0.0->tensorflow==2.0.0) (0.2.7)\n",
            "Requirement already satisfied: rsa<4.1,>=3.1.4 in /usr/local/lib/python3.6/dist-packages (from google-auth<2,>=1.6.3->tensorboard<2.1.0,>=2.0.0->tensorflow==2.0.0) (4.0)\n",
            "Requirement already satisfied: oauthlib>=3.0.0 in /usr/local/lib/python3.6/dist-packages (from requests-oauthlib>=0.7.0->google-auth-oauthlib<0.5,>=0.4.1->tensorboard<2.1.0,>=2.0.0->tensorflow==2.0.0) (3.1.0)\n",
            "Requirement already satisfied: requests>=2.0.0 in /usr/local/lib/python3.6/dist-packages (from requests-oauthlib>=0.7.0->google-auth-oauthlib<0.5,>=0.4.1->tensorboard<2.1.0,>=2.0.0->tensorflow==2.0.0) (2.21.0)\n",
            "Requirement already satisfied: pyasn1<0.5.0,>=0.4.6 in /usr/local/lib/python3.6/dist-packages (from pyasn1-modules>=0.2.1->google-auth<2,>=1.6.3->tensorboard<2.1.0,>=2.0.0->tensorflow==2.0.0) (0.4.7)\n",
            "Requirement already satisfied: certifi>=2017.4.17 in /usr/local/lib/python3.6/dist-packages (from requests>=2.0.0->requests-oauthlib>=0.7.0->google-auth-oauthlib<0.5,>=0.4.1->tensorboard<2.1.0,>=2.0.0->tensorflow==2.0.0) (2019.9.11)\n",
            "Requirement already satisfied: chardet<3.1.0,>=3.0.2 in /usr/local/lib/python3.6/dist-packages (from requests>=2.0.0->requests-oauthlib>=0.7.0->google-auth-oauthlib<0.5,>=0.4.1->tensorboard<2.1.0,>=2.0.0->tensorflow==2.0.0) (3.0.4)\n",
            "Requirement already satisfied: idna<2.9,>=2.5 in /usr/local/lib/python3.6/dist-packages (from requests>=2.0.0->requests-oauthlib>=0.7.0->google-auth-oauthlib<0.5,>=0.4.1->tensorboard<2.1.0,>=2.0.0->tensorflow==2.0.0) (2.8)\n",
            "Requirement already satisfied: urllib3<1.25,>=1.21.1 in /usr/local/lib/python3.6/dist-packages (from requests>=2.0.0->requests-oauthlib>=0.7.0->google-auth-oauthlib<0.5,>=0.4.1->tensorboard<2.1.0,>=2.0.0->tensorflow==2.0.0) (1.24.3)\n"
          ],
          "name": "stdout"
        }
      ]
    },
    {
      "cell_type": "markdown",
      "metadata": {
        "id": "1wlZswcMF7Rt",
        "colab_type": "text"
      },
      "source": [
        "#### Vergleich\n",
        "Als erstes für feste $k$ und $n$, was sich ändert ist die Samplesize, Anzahl der Samples und SNR"
      ]
    },
    {
      "cell_type": "markdown",
      "metadata": {
        "id": "4qpY-gawAf-9",
        "colab_type": "text"
      },
      "source": [
        "###Systemparameter\n",
        "ACHTUNG: CHANNELANZAHL WURDE UNTERSCHIEDLICH VERWENDET \\\\\n",
        "$k$ - die Anzhal der bits \\\\\n",
        "$M$ - Anzahl der unterschiedlichen Nachrichten \\\\\n",
        "$n$ - channel uses\\\\\n",
        "$N$ - Länge des Rauschvektors"
      ]
    },
    {
      "cell_type": "code",
      "metadata": {
        "colab_type": "code",
        "id": "czeNNfpY1qc2",
        "colab": {
          "base_uri": "https://localhost:8080/",
          "height": 35
        },
        "outputId": "a85efcf9-da65-490d-e2ab-dd49ea1ffe56"
      },
      "source": [
        "k = 4      # Number of information bits per message, i.e., M=2**k\n",
        "M = 2**k\n",
        "n = 4    # Number of real channel uses per message\n",
        "#k = int(np.log2(M))\n",
        "#n = 2\n",
        "print(M)\n"
      ],
      "execution_count": 2,
      "outputs": [
        {
          "output_type": "stream",
          "text": [
            "256\n"
          ],
          "name": "stdout"
        }
      ]
    },
    {
      "cell_type": "markdown",
      "metadata": {
        "id": "BA4TqJBOXXIg",
        "colab_type": "text"
      },
      "source": [
        "## Training Parameter"
      ]
    },
    {
      "cell_type": "code",
      "metadata": {
        "id": "aJZ_cnp9V-Q6",
        "colab_type": "code",
        "colab": {}
      },
      "source": [
        "gen_learning_rate=0.0001 \n",
        "disc_learning_rate = 0.0001"
      ],
      "execution_count": 0,
      "outputs": []
    },
    {
      "cell_type": "markdown",
      "metadata": {
        "id": "tb-DiBwSN255",
        "colab_type": "text"
      },
      "source": [
        "### Different Layers"
      ]
    },
    {
      "cell_type": "code",
      "metadata": {
        "id": "hFMMLrY0LthL",
        "colab_type": "code",
        "colab": {}
      },
      "source": [
        "randN_initial = keras.initializers.RandomNormal(mean=0.0, stddev=0.05, seed=None)\n",
        "\n",
        "EncIn = tf.keras.layers.Input(shape=(M,))#, dtype= tf.int32)\n",
        "e1 = tf.keras.layers.Dense(2*n, activation=None)\n",
        "e2 = tf.keras.layers.Lambda(lambda x:tf.reshape(x, shape=[-1,int(n/2),2]))\n",
        "EncOut = tf.keras.layers.Lambda(lambda x: x/tf.sqrt(2*tf.reduce_mean(tf.square(x))))\n",
        "GenIn = tf.keras.layers.Lambda(lambda x:tf.reshape(x,(tf.shape(x)[0],-1)))\n",
        "# = tf.keras.layers.Lambda(generator)\n",
        "DecIn = tf.keras.layers.Lambda(lambda x:tf.reshape(x, shape=[-1,int(n/2),2]))\n",
        "d1 = tf.keras.layers.Lambda(lambda x:tf.reshape(x, shape=[-1,n]))\n",
        "d2 = tf.keras.layers.Dense(M, activation='relu')\n",
        "DecOut = tf.keras.layers.Dense(M, activation='softmax')\n",
        "\n",
        "\n",
        "#noise_std = EbNo_to_noise(TRAINING_SNR)\n",
        "# custom functions / layers without weights\n",
        "norm_layer = keras.layers.Lambda(lambda x: tf.divide(x,tf.sqrt(2*tf.reduce_mean(tf.square(x)))))\n",
        "shape_layer = keras.layers.Lambda(lambda x: tf.reshape(x, shape=[-1,2,n]))\n",
        "shape_layer2 = keras.layers.Lambda(lambda x: tf.reshape(x, shape=[-1,2*n]))\n",
        "channel_layer = keras.layers.Lambda(lambda x: \n",
        "                    x + tf.random.normal(tf.shape(x), mean=0.0, stddev=noise_std))"
      ],
      "execution_count": 0,
      "outputs": []
    },
    {
      "cell_type": "markdown",
      "metadata": {
        "id": "7J96hJhKO9VJ",
        "colab_type": "text"
      },
      "source": [
        "### Help functions"
      ]
    },
    {
      "cell_type": "code",
      "metadata": {
        "id": "uV7pjryDv4M4",
        "colab_type": "code",
        "colab": {}
      },
      "source": [
        "def EbNo2Sigma(ebnodb):\n",
        "    '''Convert Eb/No in dB to noise standard deviation'''\n",
        "    ebno = 10**(ebnodb/10)\n",
        "    return 1/np.sqrt(2*(2*k/n)*ebno)\n",
        "\n",
        "def real_channel(x,noise_std):\n",
        "    # Black-box Channel\n",
        "    #AWGN\n",
        "    return x + tf.random.normal(tf.shape(x), mean=0.0, stddev=noise_std)\n",
        "\n",
        "    #Rayleigh\n",
        "    #return x + tf.sqrt(tf.square(tf.random_normal(tf.shape(x), mean=0.0, stddev=noise_std)) + tf.square(tf.random_normal(tf.shape(x), mean=0.0, stddev=noise_std)))\n",
        "    \n",
        "    #Uniform U(-3;3)    \n",
        "    #return x + tf.random_uniform(tf.shape(x), minval=-2, maxval=2)\n",
        "\n",
        "def B_Ber(input_msg, msg):\n",
        "    '''Calculate the Batch Bit Error Rate'''\n",
        "    pred_error = tf.not_equal(tf.argmax(msg, 1), tf.argmax(input_msg, 1))\n",
        "    bber = tf.reduce_mean(tf.cast(pred_error, tf.float32))\n",
        "    return bber\n",
        "\n",
        "def random_sample(batch_size=32):\n",
        "    msg = np.random.randint(M, size=batch_size)\n",
        "    return msg\n",
        "\n",
        "\n",
        "def EbNo_to_noise(ebnodb):\n",
        "    '''Transform EbNo[dB]/snr to noise power'''\n",
        "    ebno = 10**(ebnodb/10)\n",
        "    noise_std = 1/np.sqrt(2*(k/n)*ebno) \n",
        "    return noise_std\n",
        "\n",
        "\n",
        "def B_Ber_m(input_msg, msg):\n",
        "    '''Calculate the Batch Bit Error Rate'''\n",
        "    pred_error = tf.not_equal(input_msg, tf.argmax(msg, 1))      \n",
        "    bber = tf.reduce_mean(tf.cast(pred_error, tf.float32))\n",
        "    return bber\n",
        "\n",
        "def SNR_to_noise(snrdb):\n",
        "    '''Transform EbNo[dB]/snr to noise power'''\n",
        "    snr = 10**(snrdb/10)\n",
        "    noise_std = 1/np.sqrt(2*snr)\n",
        "    return noise_std"
      ],
      "execution_count": 0,
      "outputs": []
    },
    {
      "cell_type": "code",
      "metadata": {
        "id": "OBGMgdDEh7uX",
        "colab_type": "code",
        "colab": {}
      },
      "source": [
        "def test_encoding(M=16, n=1):\n",
        "    inp = np.arange(0,M)\n",
        "    coding = gan_encoder.predict(inp)\n",
        "    fig = plt.figure(figsize=(4,4))\n",
        "    plt.plot(coding[:,0], coding[:, 1], \"b.\")\n",
        "    plt.xlabel(\"$x_1$\", fontsize=18)\n",
        "    plt.ylabel(\"$x_2$\", fontsize=18, rotation=0)\n",
        "    plt.grid(True)\n",
        "    plt.gca().set_ylim(-2, 2)\n",
        "    plt.gca().set_xlim(-2, 2)\n",
        "    plt.show()\n",
        "\n",
        "def test_noisy_codeword(data):\n",
        "    rcvd_word = data[1:2000]\n",
        "    fig = plt.figure(figsize=(4,4))\n",
        "    plt.plot(rcvd_word[:,0], rcvd_word[:, 1], \"b.\")\n",
        "    plt.xlabel(\"$x_1$\", fontsize=18)\n",
        "    plt.ylabel(\"$x_2$\", fontsize=18, rotation=0)\n",
        "    plt.grid(True)\n",
        "    plt.gca().set_ylim(-2, 2)\n",
        "    plt.gca().set_xlim(-2, 2)\n",
        "    plt.show()"
      ],
      "execution_count": 0,
      "outputs": []
    },
    {
      "cell_type": "markdown",
      "metadata": {
        "id": "AOoYuK_jR9rH",
        "colab_type": "text"
      },
      "source": [
        "# Models"
      ]
    },
    {
      "cell_type": "markdown",
      "metadata": {
        "id": "PQxhmgOa0_7c",
        "colab_type": "text"
      },
      "source": [
        "#### Generator Model"
      ]
    },
    {
      "cell_type": "code",
      "metadata": {
        "id": "LXbS5lM9Tb9B",
        "colab_type": "code",
        "colab": {}
      },
      "source": [
        "def get_generator(n):\n",
        "  input1 = tf.keras.layers.Input(shape=(n,))\n",
        "  x1 = tf.keras.layers.Dense(n)(input1)\n",
        "  input2 =tf.random.normal([tf.shape(input1)[0],n])\n",
        "  x2 = tf.keras.layers.Dense(n)(input2)\n",
        "  subtracted = tf.keras.layers.Concatenate(1)([x1, x2])\n",
        "  h1 = tf.keras.layers.Dense(32,use_bias=True,  activation='relu')(subtracted)\n",
        "  h2 = tf.keras.layers.Dense(32,use_bias=True, activation='relu')(h1)\n",
        "  out = tf.keras.layers.Dense(n, use_bias= True, activation='linear')(h2)\n",
        "  generator = tf.keras.models.Model(inputs=[input1], outputs=out)\n",
        "  return generator\n",
        "#keras.utils.plot_model(generator, 'Structure_of_MI_estimation.png', show_shapes=True)"
      ],
      "execution_count": 0,
      "outputs": []
    },
    {
      "cell_type": "markdown",
      "metadata": {
        "id": "Vt2rTP7hSFt4",
        "colab_type": "text"
      },
      "source": [
        "#### Discriminator Model "
      ]
    },
    {
      "cell_type": "code",
      "metadata": {
        "id": "97h2eMLeXS68",
        "colab_type": "code",
        "colab": {}
      },
      "source": [
        "def get_discriminator(n):\n",
        "  model = tf.keras.Sequential()\n",
        "  model.add(tf.keras.layers.Dense(32,use_bias=True, kernel_initializer=randN_initial,activation='relu',input_shape=((2*n,))))\n",
        "  #model.add(tf.keras.layers.Dense(32,use_bias=True, kernel_initializer=randN_initial, activation='relu'))\n",
        "  model.add(tf.keras.layers.Dense(1,use_bias=False, activation='sigmoid'))\n",
        "  return model\n"
      ],
      "execution_count": 0,
      "outputs": []
    },
    {
      "cell_type": "markdown",
      "metadata": {
        "id": "lcIzLZj5Seh9",
        "colab_type": "text"
      },
      "source": [
        "#### Encoder GAN Model"
      ]
    },
    {
      "cell_type": "code",
      "metadata": {
        "id": "sNHtzAC4SPBq",
        "colab_type": "code",
        "colab": {}
      },
      "source": [
        "def get_gan_encoder(M):\n",
        "  model = keras.models.Sequential([\n",
        "            keras.layers.Embedding(M, M, embeddings_initializer='glorot_normal'),\n",
        "            keras.layers.Dense(M, activation=\"elu\"),\n",
        "            keras.layers.Dense(n, activation=None),\n",
        "            e2,\n",
        "            EncOut,\n",
        "            GenIn])\n",
        "  return model\n"
      ],
      "execution_count": 0,
      "outputs": []
    },
    {
      "cell_type": "markdown",
      "metadata": {
        "id": "G5iCDE4dSL35",
        "colab_type": "text"
      },
      "source": [
        "#### decoder GAN Model"
      ]
    },
    {
      "cell_type": "code",
      "metadata": {
        "id": "C5KjEhDvSWQR",
        "colab_type": "code",
        "colab": {}
      },
      "source": [
        "def get_gan_decoder(M):\n",
        "   model= keras.models.Sequential([\n",
        "                #DecIn,\n",
        "                #d1,\n",
        "                \n",
        "                keras.layers.Dense(M, activation=\"elu\"),\n",
        "                keras.layers.Dense(M, activation=\"softmax\")\n",
        "                ])\n",
        "   return model"
      ],
      "execution_count": 0,
      "outputs": []
    },
    {
      "cell_type": "markdown",
      "metadata": {
        "id": "s-t76sYBtlP1",
        "colab_type": "text"
      },
      "source": [
        "### MI estimator Model"
      ]
    },
    {
      "cell_type": "code",
      "metadata": {
        "id": "jL9PYSKjIoOI",
        "colab_type": "code",
        "outputId": "90dea00e-f58e-41c7-d255-b772915db323",
        "colab": {
          "base_uri": "https://localhost:8080/",
          "height": 644
        }
      },
      "source": [
        "randN_05 = keras.initializers.RandomNormal(mean=0.0, stddev=0.05, seed=None)\n",
        "bias_init = keras.initializers.Constant(0.01)\n",
        "\n",
        "input_A = keras.layers.Input(shape=[2*n])\n",
        "input_B = keras.layers.Input(shape=[2*n])\n",
        "    \n",
        "transform = keras.models.Sequential([\n",
        "layers.Dense(256, bias_initializer=bias_init, kernel_initializer=randN_05, activation=\"relu\"),\n",
        "#keras.layers.Dropout(rate=0.3), # To regularize higher dimensionality\n",
        "layers.Dense(256, bias_initializer=bias_init, kernel_initializer=randN_05, activation=\"relu\"),\n",
        "#keras.layers.Dropout(rate=0.3), # To regularize higher dimensionality\n",
        "layers.Dense(1, bias_initializer=bias_init, kernel_initializer=randN_05, activation=None)])\n",
        "\n",
        "output_A = transform(input_A)\n",
        "output_B = transform(input_B)\n",
        "output_C = tf.reduce_mean(output_A) - tf.math.log(tf.reduce_mean(tf.exp(output_B))) # MINE\n",
        "MI_mod = keras.models.Model(inputs=[input_A, input_B], outputs=output_C)\n",
        "\n",
        "#keras.utils.plot_model(MI_mod, 'Structure_of_MI_estimation.png', show_shapes=True)\n",
        "\n"
      ],
      "execution_count": 0,
      "outputs": [
        {
          "output_type": "execute_result",
          "data": {
            "image/png": "[encoded data removed]",
            "text/plain": [
              "<IPython.core.display.Image object>"
            ]
          },
          "metadata": {
            "tags": []
          },
          "execution_count": 4
        }
      ]
    },
    {
      "cell_type": "code",
      "metadata": {
        "id": "cf_rmCXIt6af",
        "colab_type": "code",
        "colab": {}
      },
      "source": [
        "mi_encoder = keras.models.Sequential([\n",
        "            keras.layers.Embedding(M, M, embeddings_initializer='glorot_normal'),\n",
        "            keras.layers.Dense(M, activation=\"elu\"),\n",
        "            keras.layers.Dense(n, activation=None),\n",
        "            shape_layer,\n",
        "            norm_layer])\n",
        "\n",
        "mi_channel = keras.models.Sequential([channel_layer])\n",
        "\n",
        "mi_decoder = keras.models.Sequential([\n",
        "                keras.layers.InputLayer(input_shape=[2,int(n/2)]),\n",
        "                shape_layer2,\n",
        "                keras.layers.Dense(M, activation=\"elu\"),\n",
        "                keras.layers.Dense(M, activation=\"softmax\")\n",
        "                ])\n",
        "\n",
        "autoencoder = keras.models.Sequential([mi_encoder, mi_channel, mi_decoder])"
      ],
      "execution_count": 0,
      "outputs": []
    },
    {
      "cell_type": "code",
      "metadata": {
        "id": "n15AvPFO05gd",
        "colab_type": "code",
        "colab": {}
      },
      "source": [
        "def gan_optimizers(gen_learning_rate  ,disc_learning_rate):\n",
        "  generator_optimizer = tf.keras.optimizers.RMSprop(gen_learning_rate)      #RMSprop   in oreder to test where the error comes from\n",
        "  discriminator_optimizer = tf.keras.optimizers.RMSprop(disc_learning_rate) \n",
        "  return generator_optimizer, discriminator_optimizer"
      ],
      "execution_count": 0,
      "outputs": []
    },
    {
      "cell_type": "code",
      "metadata": {
        "id": "U4cPlvbWIoO5",
        "colab_type": "code",
        "colab": {}
      },
      "source": [
        "def plot_loss(step, epoch, mean_loss, X_batch, y_pred, plot_encoding):\n",
        "    template = 'Iteration: {}, Epoch: {}, Loss: {:.5f}, Batch_BER: {:.5f}'\n",
        "    if step % 10 == 0:\n",
        "        print(template.format(step, epoch, mean_loss.result(), B_Ber_m(X_batch, y_pred)))\n",
        "        if plot_encoding:\n",
        "            test_encoding()"
      ],
      "execution_count": 0,
      "outputs": []
    },
    {
      "cell_type": "code",
      "metadata": {
        "id": "r-0gFRfXIoPB",
        "colab_type": "code",
        "colab": {}
      },
      "source": [
        "def plot_batch_loss(epoch, mean_loss, X_batch, y_pred):\n",
        "        template_outer_loop = 'Interim result for Epoch: {}, Loss: {:.5f}, Batch_BER: {:.5f}'\n",
        "        print(template_outer_loop.format(epoch, mean_loss.result(), B_Ber_m(X_batch, y_pred)))"
      ],
      "execution_count": 0,
      "outputs": []
    },
    {
      "cell_type": "code",
      "metadata": {
        "id": "FcXv9vthIoPG",
        "colab_type": "code",
        "colab": {}
      },
      "source": [
        "def split_train_data(x_sample, y_sample):\n",
        "    x_shaped = tf.reshape(x_sample, shape=[-1,n])\n",
        "    y_shaped = tf.reshape(y_sample, shape=[-1,n])\n",
        "    x_sample1, x_sample2 = tf.split(x_shaped, num_or_size_splits=2)\n",
        "    y_sample1, y_sample2 = tf.split(y_shaped, num_or_size_splits=2)\n",
        "    joint_sample = tf.concat([x_sample1, y_sample1], axis=1)\n",
        "    marg_sample = tf.concat([x_sample2, y_sample1], axis=1)\n",
        "    return joint_sample, marg_sample"
      ],
      "execution_count": 0,
      "outputs": []
    },
    {
      "cell_type": "code",
      "metadata": {
        "id": "B6NAzlIiIoPM",
        "colab_type": "code",
        "colab": {}
      },
      "source": [
        "def train_mi(n_epochs=5, n_steps=20, batch_size=200, learning_rate=0.005):\n",
        "    optimizer_mi = keras.optimizers.Nadam(lr=learning_rate)\n",
        "    for epoch in range(1, n_epochs + 1): \n",
        "        print(\"Training in Epoch {}/{}\".format(epoch, n_epochs)) \n",
        "        for step in range(1, n_steps + 1):\n",
        "            X_batch = random_sample(batch_size*2)\n",
        "            with tf.GradientTape() as tape:\n",
        "                x_enc = encoder(X_batch, training=True)\n",
        "                y_recv = channel(x_enc)\n",
        "                joint_marg_s = split_train_data(x_enc, y_recv)\n",
        "                loss = -MI_mod(joint_marg_s)\n",
        "                gradients = tape.gradient(loss, MI_mod.trainable_variables) \n",
        "                optimizer_mi.apply_gradients(zip(gradients, MI_mod.trainable_variables))\n",
        "            mi_avg = -mean_loss(loss)\n",
        "        print('Epoch: {}, Mi is {}'.format(epoch, mi_avg))\n",
        "        mean_loss.reset_states()"
      ],
      "execution_count": 0,
      "outputs": []
    },
    {
      "cell_type": "code",
      "metadata": {
        "id": "P-4O8w_HIoPS",
        "colab_type": "code",
        "colab": {}
      },
      "source": [
        "def train_decoder(n_epochs=5, n_steps=20, batch_size=200, learning_rate=0.005, plot_encoding=True):\n",
        "    optimizer_ae = keras.optimizers.Nadam(lr=learning_rate)\n",
        "    for epoch in range(1, n_epochs + 1): \n",
        "        print(\"Training Bob in Epoch {}/{}\".format(epoch, n_epochs)) \n",
        "        for step in range(1, n_steps + 1):\n",
        "            X_batch  = random_sample(batch_size)\n",
        "            with tf.GradientTape() as tape:\n",
        "                y_pred = autoencoder(X_batch, training=True)\n",
        "                loss = tf.reduce_mean(loss_fn(X_batch, y_pred))\n",
        "                gradients = tape.gradient(loss, decoder.trainable_variables) \n",
        "                optimizer_ae.apply_gradients(zip(gradients, decoder.trainable_variables)) \n",
        "            mean_loss(loss)\n",
        "            plot_loss(step, epoch, mean_loss, X_batch, y_pred, plot_encoding)\n",
        "        plot_batch_loss(epoch, mean_loss, X_batch, y_pred) \n",
        "        mean_loss.reset_states()"
      ],
      "execution_count": 0,
      "outputs": []
    },
    {
      "cell_type": "code",
      "metadata": {
        "id": "MDCIupPhIoPY",
        "colab_type": "code",
        "colab": {}
      },
      "source": [
        "def train_encoder(n_epochs=5, n_steps=20, batch_size=200, learning_rate=0.05):\n",
        "    optimizer_mi = keras.optimizers.Nadam(lr=0.005)\n",
        "    optimizer_ae = keras.optimizers.Nadam(lr=learning_rate)\n",
        "    for epoch in range(1, n_epochs + 1): \n",
        "        print(\"Training Bob in Epoch {}/{}\".format(epoch, n_epochs)) \n",
        "        for step in range(1, n_steps + 1):\n",
        "            X_batch  = random_sample(batch_size)\n",
        "            with tf.GradientTape() as tape:\n",
        "                x_enc = encoder(X_batch, training=True)\n",
        "                y_recv = channel(x_enc)\n",
        "                joint_marg_s = split_train_data(x_enc, y_recv)\n",
        "                loss = -MI_mod(joint_marg_s)\n",
        "                gradients = tape.gradient(loss, encoder.trainable_variables) \n",
        "                optimizer_ae.apply_gradients(zip(gradients, encoder.trainable_variables))\n",
        "            mi_avg = -mean_loss(loss)\n",
        "        with tf.GradientTape() as tape:\n",
        "            X_batch  = random_sample(batch_size) \n",
        "            x_enc = encoder(X_batch, training=True)\n",
        "            y_recv = channel(x_enc)\n",
        "            joint_marg_s = split_train_data(x_enc, y_recv)\n",
        "            loss = -MI_mod(joint_marg_s)\n",
        "            gradients = tape.gradient(loss, MI_mod.trainable_variables) \n",
        "            optimizer_mi.apply_gradients(zip(gradients, MI_mod.trainable_variables))\n",
        "        print('Epoch: {}, Mi is {}'.format(epoch, mi_avg))\n",
        "       # test_encoding(M, 1)"
      ],
      "execution_count": 0,
      "outputs": []
    },
    {
      "cell_type": "code",
      "metadata": {
        "id": "ooDukkHvmduJ",
        "colab_type": "code",
        "outputId": "67eea163-f61d-4d2a-b428-0231ad25cf68",
        "colab": {
          "base_uri": "https://localhost:8080/",
          "height": 53
        }
      },
      "source": [
        "%%time\n",
        "def train_gan(epochs,n_steps, batch_size, SNR_level):\n",
        "  noise_std = EbNo2Sigma(SNR_level)\n",
        "  start = time.time()\n",
        "  x = tf.random.normal((batch_size,n),dtype=tf.dtypes.float32) \n",
        "  x = x/tf.sqrt(2*tf.reduce_mean(tf.square(x)))\n",
        "  counter = 0\n",
        "  epoch = 0\n",
        "  for epoch in range(epochs):\n",
        "    counter += 1\n",
        "    train_step(noise_std, n_steps,batch_size)\n",
        "    if counter%100==0:\n",
        "      tf.print(\"counter %d:\" % (counter))\n",
        "      fake_c = generator(x)\n",
        "      tf.print(fake_c[0])\n",
        "    #print ('Time for epoch {} is {} sec,'.format(epoch + 1, time.time()-start))\n",
        "      tf.print ('Time for epoch {},'.format(epoch + 1))\n",
        "      \n",
        "  tf.saved_model.save(generator,'/tmp/saved_model/')\n",
        "  tf.print ('Time for the training is {} sec,'.format( time.time()-start))\n",
        "    "
      ],
      "execution_count": 12,
      "outputs": [
        {
          "output_type": "stream",
          "text": [
            "CPU times: user 4 µs, sys: 1 µs, total: 5 µs\n",
            "Wall time: 8.11 µs\n"
          ],
          "name": "stdout"
        }
      ]
    },
    {
      "cell_type": "code",
      "metadata": {
        "colab_type": "code",
        "id": "WE_JS7kgA1W-",
        "colab": {}
      },
      "source": [
        "@tf.function\n",
        "def train_step(noise_std,n_steps,batch_size):\n",
        "  x = tf.random.normal((batch_size,n),dtype=tf.dtypes.float32) \n",
        "  x = x/tf.sqrt(2*tf.reduce_mean(tf.square(x)))\n",
        "  for i in range(n_steps):\n",
        "    with tf.GradientTape() as gen_tape, tf.GradientTape() as disc_tape:\n",
        "      real_training_data = tf.concat(values=[real_channel(x,noise_std), x], axis=1)\n",
        "      fake_training_data = tf.concat(values=[generator(x),x], axis=1)\n",
        "      real_output = discriminator(real_training_data)\n",
        "      fake_output = discriminator(fake_training_data)\n",
        "      \n",
        "      \n",
        "      disc_loss = -tf.reduce_mean(tf.math.log(real_output) + tf.math.log(1. - fake_output))\n",
        "      gen_loss =-tf.reduce_mean(tf.math.log(fake_output))\n",
        "      \n",
        "      #tf.print(disc_loss,gen_loss)\n",
        "      \n",
        "      if tf.math.is_nan(disc_loss) == False:\n",
        "        gradients_of_discriminator = disc_tape.gradient(disc_loss, discriminator.trainable_variables)\n",
        "        discriminator_optimizer.apply_gradients(zip(gradients_of_discriminator, discriminator.trainable_variables))\n",
        "    \n",
        "      if i == 4:  \n",
        "        gradients_of_generator = gen_tape.gradient(gen_loss, generator.trainable_variables)\n",
        "        generator_optimizer.apply_gradients(zip(gradients_of_generator, generator.trainable_variables))\n",
        "\n"
      ],
      "execution_count": 0,
      "outputs": []
    },
    {
      "cell_type": "code",
      "metadata": {
        "id": "y82FQj3Jmvxx",
        "colab_type": "code",
        "colab": {}
      },
      "source": [
        "def creating_and_train_gan(epochs,n_steps, batch_size, SNR_level , n ):  #optional Leraning Rates\n",
        "  train_gan(epochs, n_steps, batch_size, SNR_level)\n",
        "  #4 after GAN training\n",
        "  generator.trainable = False\n",
        "  tf.print(generator.trainable)"
      ],
      "execution_count": 0,
      "outputs": []
    },
    {
      "cell_type": "code",
      "metadata": {
        "id": "dLTtFoV0IoPj",
        "colab_type": "code",
        "colab": {}
      },
      "source": [
        "def mi_Test_AE(data):\n",
        "    '''Calculate Bit Error for varying SNRs'''\n",
        "    snr_range = np.linspace(0, 15, 31)\n",
        "    bber_vec = [None] * len(snr_range)\n",
        "        \n",
        "    for db in range(len(snr_range)):           \n",
        "        noise_std = EbNo_to_noise(snr_range[db])\n",
        "        code_word = mi_encoder(data)\n",
        "        rcvd_word = code_word + tf.random.normal(tf.shape(code_word), mean=0.0, stddev=noise_std)\n",
        "        dcoded_msg = mi_decoder(rcvd_word)\n",
        "        bber_vec[db] = B_Ber_m(data, dcoded_msg)\n",
        "        if (db % 6 == 0) & (db > 0):\n",
        "            print(f'Progress: {db} of {30} parts')\n",
        "\n",
        "    return (snr_range, bber_vec)"
      ],
      "execution_count": 0,
      "outputs": []
    },
    {
      "cell_type": "markdown",
      "metadata": {
        "id": "3m0fQ6OXgPf1",
        "colab_type": "text"
      },
      "source": [
        "# GAN Training"
      ]
    },
    {
      "cell_type": "code",
      "metadata": {
        "id": "nNFwwZrcgOkn",
        "colab_type": "code",
        "outputId": "d6b1f977-37b7-4876-f9c9-b06b601d6dfe",
        "colab": {
          "base_uri": "https://localhost:8080/",
          "height": 1000
        }
      },
      "source": [
        "generator = get_generator(n)\n",
        "discriminator = get_discriminator(n)\n",
        "generator_optimizer, discriminator_optimizer = gan_optimizers(gen_learning_rate=gen_learning_rate, disc_learning_rate = disc_learning_rate)\n",
        "creating_and_train_gan(epochs= 5000,n_steps=5, batch_size =100, SNR_level = 7, n = n)"
      ],
      "execution_count": 15,
      "outputs": [
        {
          "output_type": "stream",
          "text": [
            "counter 100:\n",
            "[0.0885403901 0.0365570039 -0.0534477234 -0.0818750709]\n",
            "Time for epoch 100,\n",
            "counter 200:\n",
            "[-0.0743036568 0.0331116654 -0.0102676125 -0.0131828301]\n",
            "Time for epoch 200,\n",
            "counter 300:\n",
            "[-0.531885624 0.0326575749 -0.299525768 -0.221905828]\n",
            "Time for epoch 300,\n",
            "counter 400:\n",
            "[-0.194722429 0.112369768 -0.0366957933 0.117202237]\n",
            "Time for epoch 400,\n",
            "counter 500:\n",
            "[-0.394767046 0.352597564 0.334184885 0.0219780356]\n",
            "Time for epoch 500,\n",
            "counter 600:\n",
            "[-0.10027162 0.411336422 0.0319425054 0.314014465]\n",
            "Time for epoch 600,\n",
            "counter 700:\n",
            "[-0.430949181 0.498649389 0.318460196 0.05390618]\n",
            "Time for epoch 700,\n",
            "counter 800:\n",
            "[-0.250963271 -0.157047987 -0.361731917 0.0818728283]\n",
            "Time for epoch 800,\n",
            "counter 900:\n",
            "[0.0327052698 0.412886798 -0.229743 0.23452118]\n",
            "Time for epoch 900,\n",
            "counter 1000:\n",
            "[-0.170564801 0.619278371 -0.414140135 0.119949624]\n",
            "Time for epoch 1000,\n",
            "counter 1100:\n",
            "[-0.361413866 0.733785272 -0.606541 -0.135279894]\n",
            "Time for epoch 1100,\n",
            "counter 1200:\n",
            "[-0.42476964 0.244520873 -0.5578264 0.363272518]\n",
            "Time for epoch 1200,\n",
            "counter 1300:\n",
            "[-0.554338872 0.429562181 -0.438214123 0.0258158371]\n",
            "Time for epoch 1300,\n",
            "counter 1400:\n",
            "[-0.31467241 0.55449605 -0.533224165 -0.00971030071]\n",
            "Time for epoch 1400,\n",
            "counter 1500:\n",
            "[-0.659938693 0.439321846 -0.644827724 0.428686]\n",
            "Time for epoch 1500,\n",
            "counter 1600:\n",
            "[-0.436170489 0.597349 -0.633552253 0.0118089]\n",
            "Time for epoch 1600,\n",
            "counter 1700:\n",
            "[-0.0773364156 0.836922824 -0.567541659 -0.138188481]\n",
            "Time for epoch 1700,\n",
            "counter 1800:\n",
            "[-0.534588218 0.585841119 -0.458537102 0.415776134]\n",
            "Time for epoch 1800,\n",
            "counter 1900:\n",
            "[-0.417620748 0.234539226 -0.286991715 -0.407761544]\n",
            "Time for epoch 1900,\n",
            "counter 2000:\n",
            "[-0.712856591 0.262044311 -0.528705 0.10947597]\n",
            "Time for epoch 2000,\n",
            "counter 2100:\n",
            "[-0.611751378 0.524424911 -0.498622745 0.235525131]\n",
            "Time for epoch 2100,\n",
            "counter 2200:\n",
            "[-0.966239929 0.193751127 -0.442997038 0.0103814974]\n",
            "Time for epoch 2200,\n",
            "counter 2300:\n",
            "[-0.793329418 0.413677216 -0.115929522 -0.000281699]\n",
            "Time for epoch 2300,\n",
            "counter 2400:\n",
            "[-1.10300159 0.398235589 -0.25702107 -0.0768990815]\n",
            "Time for epoch 2400,\n",
            "counter 2500:\n",
            "[-1.25392234 0.424866229 -0.161149174 -0.303885967]\n",
            "Time for epoch 2500,\n",
            "counter 2600:\n",
            "[-1.5623287 0.773760259 -0.127957419 -0.674161375]\n",
            "Time for epoch 2600,\n",
            "counter 2700:\n",
            "[-1.20801234 0.346866548 0.13144353 -0.249781847]\n",
            "Time for epoch 2700,\n",
            "counter 2800:\n",
            "[-1.46432066 0.614328563 -0.0773046911 -0.471116692]\n",
            "Time for epoch 2800,\n",
            "counter 2900:\n",
            "[-1.58752346 0.548805833 -0.244026974 -0.384786516]\n",
            "Time for epoch 2900,\n",
            "counter 3000:\n",
            "[-1.35709846 0.449540108 -0.409459591 -0.361060202]\n",
            "Time for epoch 3000,\n",
            "counter 3100:\n",
            "[-0.934252381 0.509747505 -0.242199615 -0.0729193836]\n",
            "Time for epoch 3100,\n",
            "counter 3200:\n",
            "[-1.01876783 0.3905195 -0.357709765 -0.290747732]\n",
            "Time for epoch 3200,\n",
            "counter 3300:\n",
            "[-1.20573795 0.428607106 -0.235242754 -0.312415153]\n",
            "Time for epoch 3300,\n",
            "counter 3400:\n",
            "[-1.30000329 0.492420882 -0.182683736 -0.434036016]\n",
            "Time for epoch 3400,\n",
            "counter 3500:\n",
            "[-1.20525289 0.496063 -0.0444013551 -0.306980461]\n",
            "Time for epoch 3500,\n",
            "counter 3600:\n",
            "[-1.23180163 0.628876567 -0.159549654 -0.261057377]\n",
            "Time for epoch 3600,\n",
            "counter 3700:\n",
            "[-1.16625714 0.648122907 -0.196099654 -0.281472296]\n",
            "Time for epoch 3700,\n",
            "counter 3800:\n",
            "[-1.27008069 0.539467633 -0.412348568 -0.468703687]\n",
            "Time for epoch 3800,\n",
            "counter 3900:\n",
            "[-1.24259388 0.470386714 -0.215301752 -0.505309701]\n",
            "Time for epoch 3900,\n",
            "counter 4000:\n",
            "[-1.20850277 0.444928735 -0.200648785 -0.496181756]\n",
            "Time for epoch 4000,\n",
            "counter 4100:\n",
            "[-1.22902966 0.380775332 -0.224182725 -0.509545863]\n",
            "Time for epoch 4100,\n",
            "counter 4200:\n",
            "[-1.23727012 0.310186297 -0.189195365 -0.603332281]\n",
            "Time for epoch 4200,\n",
            "counter 4300:\n",
            "[-1.08628309 0.526856184 -0.322587579 -0.464934796]\n",
            "Time for epoch 4300,\n",
            "counter 4400:\n",
            "[-1.15866959 0.581337273 -0.36978367 -0.275786906]\n",
            "Time for epoch 4400,\n",
            "counter 4500:\n",
            "[-1.1356914 0.55612731 -0.0685772821 -0.395466208]\n",
            "Time for epoch 4500,\n",
            "counter 4600:\n",
            "[-1.25742471 0.619192064 -0.242371142 -0.451400608]\n",
            "Time for epoch 4600,\n",
            "counter 4700:\n",
            "[-1.20953023 0.44799006 -0.157151267 -0.339389175]\n",
            "Time for epoch 4700,\n",
            "counter 4800:\n",
            "[-1.02369821 0.733401239 -0.178754866 -0.530150354]\n",
            "Time for epoch 4800,\n",
            "counter 4900:\n",
            "[-1.32766891 0.467256069 -0.353084117 -0.515901625]\n",
            "Time for epoch 4900,\n",
            "counter 5000:\n",
            "[-1.24709237 0.54904 -0.231767952 -0.399400234]\n",
            "Time for epoch 5000,\n",
            "WARNING:tensorflow:From /usr/local/lib/python3.6/dist-packages/tensorflow_core/python/ops/resource_variable_ops.py:1781: calling BaseResourceVariable.__init__ (from tensorflow.python.ops.resource_variable_ops) with constraint is deprecated and will be removed in a future version.\n",
            "Instructions for updating:\n",
            "If using Keras pass *_constraint arguments to layers.\n",
            "INFO:tensorflow:Assets written to: /tmp/saved_model/assets\n",
            "Time for the training is 14.42858338356018 sec,\n",
            "False\n"
          ],
          "name": "stdout"
        }
      ]
    },
    {
      "cell_type": "markdown",
      "metadata": {
        "id": "6GW2opX7SwMo",
        "colab_type": "text"
      },
      "source": [
        "# AE training"
      ]
    },
    {
      "cell_type": "code",
      "metadata": {
        "id": "FiuN3SZYpeTU",
        "colab_type": "code",
        "outputId": "03f0d4b5-b00a-4307-97a3-4496407fd0d1",
        "colab": {
          "base_uri": "https://localhost:8080/",
          "height": 374
        }
      },
      "source": [
        "\n",
        "gan_decoder = get_gan_decoder(M)\n",
        "gan_encoder = get_gan_encoder(M)\n",
        "\n",
        "\n",
        "\n",
        "gan_AE = tf.keras.models.Sequential([gan_encoder,generator,gan_decoder])\n",
        "data, test_data = random_sample(10000000), random_sample(10000)\n",
        "\n",
        "gan_AE.compile(optimizer='nadam',loss='sparse_categorical_crossentropy',metrics=['accuracy'])\n",
        "history = AE.fit(data, data, batch_size=500,steps_per_epoch=400, epochs=5)\n",
        "\n",
        "gan_AE.summary()  "
      ],
      "execution_count": 17,
      "outputs": [
        {
          "output_type": "stream",
          "text": [
            "Train on 10000000 samples\n",
            "Epoch 1/5\n",
            "  200000/10000000 [..............................] - ETA: 9:44 - loss: 2.5092 - accuracy: 0.6103Epoch 2/5\n",
            "  200000/10000000 [..............................] - ETA: 7:35 - loss: 0.5983 - accuracy: 0.9788Epoch 3/5\n",
            "  199000/10000000 [..............................] - ETA: 7:25 - loss: 0.1941 - accuracy: 0.9926Epoch 4/5\n",
            "  199500/10000000 [..............................] - ETA: 7:51 - loss: 0.0996 - accuracy: 0.9943Epoch 5/5\n",
            "  200000/10000000 [..............................] - ETA: 8:04 - loss: 0.0658 - accuracy: 0.9948Model: \"sequential_6\"\n",
            "_________________________________________________________________\n",
            "Layer (type)                 Output Shape              Param #   \n",
            "=================================================================\n",
            "sequential_5 (Sequential)    (None, None)              132356    \n",
            "_________________________________________________________________\n",
            "model (Model)                (None, 4)                 1516      \n",
            "_________________________________________________________________\n",
            "sequential_4 (Sequential)    (None, 256)               67072     \n",
            "=================================================================\n",
            "Total params: 200,944\n",
            "Trainable params: 199,428\n",
            "Non-trainable params: 1,516\n",
            "_________________________________________________________________\n"
          ],
          "name": "stdout"
        }
      ]
    },
    {
      "cell_type": "code",
      "metadata": {
        "id": "TZTfQcWRIoPn",
        "colab_type": "code",
        "outputId": "096537d0-6d28-4a85-97e7-58d1a0458f26",
        "colab": {
          "base_uri": "https://localhost:8080/",
          "height": 1000
        }
      },
      "source": [
        "train_mi(n_epochs=1, n_steps=500, batch_size=128)\n",
        "train_encoder(n_epochs=5, n_steps=100, batch_size=500, learning_rate=0.005)\n",
        "test_encoding(M, 1)\n",
        "train_encoder(n_epochs=5, n_steps=100, batch_size=500, learning_rate=0.0005)\n",
        "test_encoding(M, 1)\n",
        "train_decoder(n_epochs=5, n_steps=100, batch_size=500, learning_rate=0.005, plot_encoding=False)"
      ],
      "execution_count": 0,
      "outputs": [
        {
          "output_type": "stream",
          "text": [
            "Training in Epoch 1/1\n",
            "Epoch: 1, Mi is 3.2543766498565674\n",
            "Training Bob in Epoch 1/5\n",
            "Epoch: 1, Mi is 3.6818759441375732\n",
            "Training Bob in Epoch 2/5\n",
            "Epoch: 2, Mi is 3.7265520095825195\n",
            "Training Bob in Epoch 3/5\n",
            "Epoch: 3, Mi is 3.7841503620147705\n",
            "Training Bob in Epoch 4/5\n",
            "Epoch: 4, Mi is 3.7485761642456055\n",
            "Training Bob in Epoch 5/5\n",
            "Epoch: 5, Mi is 3.770386219024658\n"
          ],
          "name": "stdout"
        },
        {
          "output_type": "display_data",
          "data": {
            "image/png": "[encoded data removed]",
            "text/plain": [
              "<Figure size 288x288 with 1 Axes>"
            ]
          },
          "metadata": {
            "tags": []
          }
        },
        {
          "output_type": "stream",
          "text": [
            "Training Bob in Epoch 1/5\n",
            "Epoch: 1, Mi is 3.7686474323272705\n",
            "Training Bob in Epoch 2/5\n",
            "Epoch: 2, Mi is 3.7930545806884766\n",
            "Training Bob in Epoch 3/5\n",
            "Epoch: 3, Mi is 3.8018174171447754\n",
            "Training Bob in Epoch 4/5\n",
            "Epoch: 4, Mi is 3.8330869674682617\n",
            "Training Bob in Epoch 5/5\n",
            "Epoch: 5, Mi is 3.8449809551239014\n"
          ],
          "name": "stdout"
        },
        {
          "output_type": "display_data",
          "data": {
            "image/png": "[encoded data removed]",
            "text/plain": [
              "<Figure size 288x288 with 1 Axes>"
            ]
          },
          "metadata": {
            "tags": []
          }
        },
        {
          "output_type": "stream",
          "text": [
            "Training Bob in Epoch 1/5\n",
            "Iteration: 10, Epoch: 1, Loss: -3.76201, Batch_BER: 0.82600\n",
            "Iteration: 20, Epoch: 1, Loss: -3.68743, Batch_BER: 0.72800\n",
            "Iteration: 30, Epoch: 1, Loss: -3.62112, Batch_BER: 0.58200\n",
            "Iteration: 40, Epoch: 1, Loss: -3.56148, Batch_BER: 0.49200\n",
            "Iteration: 50, Epoch: 1, Loss: -3.50676, Batch_BER: 0.42000\n",
            "Iteration: 60, Epoch: 1, Loss: -3.45567, Batch_BER: 0.43400\n",
            "Iteration: 70, Epoch: 1, Loss: -3.40770, Batch_BER: 0.36800\n",
            "Iteration: 80, Epoch: 1, Loss: -3.36219, Batch_BER: 0.35600\n",
            "Iteration: 90, Epoch: 1, Loss: -3.31860, Batch_BER: 0.35000\n",
            "Iteration: 100, Epoch: 1, Loss: -3.27681, Batch_BER: 0.33000\n",
            "Interim result for Epoch: 1, Loss: -3.27681, Batch_BER: 0.33000\n",
            "Training Bob in Epoch 2/5\n",
            "Iteration: 10, Epoch: 2, Loss: 1.20312, Batch_BER: 0.32600\n",
            "Iteration: 20, Epoch: 2, Loss: 1.16737, Batch_BER: 0.30000\n",
            "Iteration: 30, Epoch: 2, Loss: 1.14097, Batch_BER: 0.30600\n",
            "Iteration: 40, Epoch: 2, Loss: 1.11274, Batch_BER: 0.26000\n",
            "Iteration: 50, Epoch: 2, Loss: 1.09311, Batch_BER: 0.29200\n",
            "Iteration: 60, Epoch: 2, Loss: 1.07655, Batch_BER: 0.29400\n",
            "Iteration: 70, Epoch: 2, Loss: 1.05654, Batch_BER: 0.28600\n",
            "Iteration: 80, Epoch: 2, Loss: 1.04169, Batch_BER: 0.28000\n",
            "Iteration: 90, Epoch: 2, Loss: 1.02899, Batch_BER: 0.27200\n",
            "Iteration: 100, Epoch: 2, Loss: 1.01657, Batch_BER: 0.29400\n",
            "Interim result for Epoch: 2, Loss: 1.01657, Batch_BER: 0.29400\n",
            "Training Bob in Epoch 3/5\n",
            "Iteration: 10, Epoch: 3, Loss: 0.91992, Batch_BER: 0.30000\n",
            "Iteration: 20, Epoch: 3, Loss: 0.90600, Batch_BER: 0.30200\n",
            "Iteration: 30, Epoch: 3, Loss: 0.89800, Batch_BER: 0.25600\n",
            "Iteration: 40, Epoch: 3, Loss: 0.89159, Batch_BER: 0.30800\n",
            "Iteration: 50, Epoch: 3, Loss: 0.88154, Batch_BER: 0.25200\n",
            "Iteration: 60, Epoch: 3, Loss: 0.87647, Batch_BER: 0.27800\n",
            "Iteration: 70, Epoch: 3, Loss: 0.87361, Batch_BER: 0.29200\n",
            "Iteration: 80, Epoch: 3, Loss: 0.86965, Batch_BER: 0.28200\n",
            "Iteration: 90, Epoch: 3, Loss: 0.86924, Batch_BER: 0.31000\n",
            "Iteration: 100, Epoch: 3, Loss: 0.86771, Batch_BER: 0.27400\n",
            "Interim result for Epoch: 3, Loss: 0.86771, Batch_BER: 0.27400\n",
            "Training Bob in Epoch 4/5\n",
            "Iteration: 10, Epoch: 4, Loss: 0.85099, Batch_BER: 0.29000\n",
            "Iteration: 20, Epoch: 4, Loss: 0.84860, Batch_BER: 0.25000\n",
            "Iteration: 30, Epoch: 4, Loss: 0.84876, Batch_BER: 0.26200\n",
            "Iteration: 40, Epoch: 4, Loss: 0.84261, Batch_BER: 0.25800\n",
            "Iteration: 50, Epoch: 4, Loss: 0.84053, Batch_BER: 0.28400\n",
            "Iteration: 60, Epoch: 4, Loss: 0.83718, Batch_BER: 0.26800\n",
            "Iteration: 70, Epoch: 4, Loss: 0.83454, Batch_BER: 0.29000\n",
            "Iteration: 80, Epoch: 4, Loss: 0.83530, Batch_BER: 0.29800\n",
            "Iteration: 90, Epoch: 4, Loss: 0.83433, Batch_BER: 0.29200\n",
            "Iteration: 100, Epoch: 4, Loss: 0.83437, Batch_BER: 0.27200\n",
            "Interim result for Epoch: 4, Loss: 0.83437, Batch_BER: 0.27200\n",
            "Training Bob in Epoch 5/5\n",
            "Iteration: 10, Epoch: 5, Loss: 0.81820, Batch_BER: 0.28200\n",
            "Iteration: 20, Epoch: 5, Loss: 0.82420, Batch_BER: 0.24800\n",
            "Iteration: 30, Epoch: 5, Loss: 0.82655, Batch_BER: 0.29400\n",
            "Iteration: 40, Epoch: 5, Loss: 0.82895, Batch_BER: 0.25200\n",
            "Iteration: 50, Epoch: 5, Loss: 0.82820, Batch_BER: 0.29200\n",
            "Iteration: 60, Epoch: 5, Loss: 0.82188, Batch_BER: 0.28000\n",
            "Iteration: 70, Epoch: 5, Loss: 0.82113, Batch_BER: 0.29000\n",
            "Iteration: 80, Epoch: 5, Loss: 0.82238, Batch_BER: 0.28600\n",
            "Iteration: 90, Epoch: 5, Loss: 0.82009, Batch_BER: 0.27200\n",
            "Iteration: 100, Epoch: 5, Loss: 0.81852, Batch_BER: 0.25200\n",
            "Interim result for Epoch: 5, Loss: 0.81852, Batch_BER: 0.25200\n"
          ],
          "name": "stdout"
        }
      ]
    },
    {
      "cell_type": "code",
      "metadata": {
        "id": "CTnDsMN2IoOz",
        "colab_type": "code",
        "colab": {}
      },
      "source": [
        "loss_fn = keras.losses.SparseCategoricalCrossentropy()\n",
        "mean_loss = keras.metrics.Mean()"
      ],
      "execution_count": 0,
      "outputs": []
    },
    {
      "cell_type": "code",
      "metadata": {
        "id": "D5B2TUanPC5d",
        "colab_type": "code",
        "outputId": "c545515e-dc32-498e-b456-917819ffa8fd",
        "colab": {
          "base_uri": "https://localhost:8080/",
          "height": 295
        }
      },
      "source": [
        "gan_encoder.trainable = False\n",
        "gan_decoder.trainable = False\n",
        "\n",
        "test_encoding(M,n)   "
      ],
      "execution_count": 18,
      "outputs": [
        {
          "output_type": "display_data",
          "data": {
            "image/png": "[encoded data removed]",
            "text/plain": [
              "<Figure size 288x288 with 1 Axes>"
            ]
          },
          "metadata": {
            "tags": []
          }
        }
      ]
    },
    {
      "cell_type": "code",
      "metadata": {
        "id": "ukO76l6yIoPc",
        "colab_type": "code",
        "colab": {}
      },
      "source": [
        "# test msg sequence for normal encoding\n",
        "N_test = 500000\n",
        "test_msg = np.random.randint(M, size=N_test)"
      ],
      "execution_count": 0,
      "outputs": []
    },
    {
      "cell_type": "code",
      "metadata": {
        "id": "8bsLeTCMKmfw",
        "colab_type": "code",
        "outputId": "80e0f101-e865-4cc6-8856-0cf449c58b1d",
        "colab": {
          "base_uri": "https://localhost:8080/",
          "height": 441
        }
      },
      "source": [
        "def Test_AE(data):\n",
        "    '''Calculate Bit Error for varying SNRs'''\n",
        "    snr_range = np.linspace(0, 15, 31)\n",
        "    bber_vec = [None] * len(snr_range)\n",
        "        \n",
        "    for db in range(len(snr_range)):           \n",
        "        noise_std = EbNo_to_noise(snr_range[db])\n",
        "        code_word = gan_encoder(data)\n",
        "        rcvd_word = real_channel(code_word,noise_std)\n",
        "        dcoded_msg = gan_decoder(rcvd_word)\n",
        "        bber_vec[db] = B_Ber_m(data, dcoded_msg)\n",
        "        if (db % 6 == 0) & (db > 0):\n",
        "            print(f'Progress: {db} of {30} parts')\n",
        "\n",
        "    return (snr_range, bber_vec)\n",
        "\n",
        "\n",
        "gan_bber_data = Test_AE(test_msg)\n",
        "\n",
        "\n",
        "\n",
        "def SIXT_QAM_sim(ebno):\n",
        "    return (3.0/2)*special.erfc(np.sqrt((4.0/10)*10.**(ebno/10)))\n",
        "\n",
        "ebnodbs = np.linspace(0,15,16)\n",
        "fig = plt.figure(figsize=(8, 5))\n",
        "plt.semilogy(gan_bber_data[0], gan_bber_data[1], 'o-')\n",
        "\n",
        "plt.semilogy(ebnodbs, SIXT_QAM_sim(ebnodbs), '^-');\n",
        "plt.gca().set_ylim(1e-5, 1)\n",
        "plt.gca().set_xlim(0, 15)\n",
        "plt.ylabel(\"Batch Symbol Error Rate\", fontsize=14, rotation=90)\n",
        "plt.xlabel(\"SNR [dB]\", fontsize=18)\n",
        "plt.legend(['AE with GAN', '16QAM'],\n",
        "           prop={'size': 14}, loc='upper right');\n",
        "plt.grid(True, which=\"both\")"
      ],
      "execution_count": 20,
      "outputs": [
        {
          "output_type": "stream",
          "text": [
            "Progress: 6 of 30 parts\n",
            "Progress: 12 of 30 parts\n",
            "Progress: 18 of 30 parts\n",
            "Progress: 24 of 30 parts\n",
            "Progress: 30 of 30 parts\n"
          ],
          "name": "stdout"
        },
        {
          "output_type": "display_data",
          "data": {
            "image/png": "[encoded data removed]",
            "text/plain": [
              "<Figure size 576x360 with 1 Axes>"
            ]
          },
          "metadata": {
            "tags": []
          }
        }
      ]
    },
    {
      "cell_type": "code",
      "metadata": {
        "colab_type": "code",
        "outputId": "f17011ea-6a8c-435d-a10a-558c40cd91b0",
        "id": "RzC-yCM_wKW9",
        "colab": {
          "base_uri": "https://localhost:8080/",
          "height": 106
        }
      },
      "source": [
        "mi_bber_data = mi_Test_AE(test_msg)"
      ],
      "execution_count": 0,
      "outputs": [
        {
          "output_type": "stream",
          "text": [
            "Progress: 6 of 30 parts\n",
            "Progress: 12 of 30 parts\n",
            "Progress: 18 of 30 parts\n",
            "Progress: 24 of 30 parts\n",
            "Progress: 30 of 30 parts\n"
          ],
          "name": "stdout"
        }
      ]
    },
    {
      "cell_type": "code",
      "metadata": {
        "id": "7M-S0sbhIoPw",
        "colab_type": "code",
        "outputId": "f17011ea-6a8c-435d-a10a-558c40cd91b0",
        "colab": {
          "base_uri": "https://localhost:8080/",
          "height": 106
        }
      },
      "source": [
        "bber_data = Test_AE(test_msg)"
      ],
      "execution_count": 0,
      "outputs": [
        {
          "output_type": "stream",
          "text": [
            "Progress: 6 of 30 parts\n",
            "Progress: 12 of 30 parts\n",
            "Progress: 18 of 30 parts\n",
            "Progress: 24 of 30 parts\n",
            "Progress: 30 of 30 parts\n"
          ],
          "name": "stdout"
        }
      ]
    },
    {
      "cell_type": "code",
      "metadata": {
        "id": "UYdEm0eQIoP2",
        "colab_type": "code",
        "outputId": "7453e5df-a476-4ad7-b5fc-82e8f3a3a7ad",
        "colab": {
          "base_uri": "https://localhost:8080/",
          "height": 352
        }
      },
      "source": [
        "# Approximate 16 QAM Error\n",
        "def SIXT_QAM_sim(ebno):\n",
        "    return (3.0/2)*special.erfc(np.sqrt((4.0/10)*10.**(ebno/10)))\n",
        "\n",
        "ebnodbs = np.linspace(0,15,16)\n",
        "fig = plt.figure(figsize=(8, 5))\n",
        "plt.semilogy(bber_data[0], bber_data[1], 'o-')\n",
        "\n",
        "plt.semilogy(ebnodbs, SIXT_QAM_sim(ebnodbs), '^-');\n",
        "plt.gca().set_ylim(1e-5, 1)\n",
        "plt.gca().set_xlim(0, 15)\n",
        "plt.ylabel(\"Batch Symbol Error Rate\", fontsize=14, rotation=90)\n",
        "plt.xlabel(\"SNR [dB]\", fontsize=18)\n",
        "plt.legend(['AE with MINE', '16QAM'],\n",
        "           prop={'size': 14}, loc='upper right');\n",
        "plt.grid(True, which=\"both\")"
      ],
      "execution_count": 0,
      "outputs": [
        {
          "output_type": "display_data",
          "data": {
            "image/png": "[encoded data removed]",
            "text/plain": [
              "<Figure size 576x360 with 1 Axes>"
            ]
          },
          "metadata": {
            "tags": []
          }
        }
      ]
    },
    {
      "cell_type": "code",
      "metadata": {
        "id": "bBes21qLlcS8",
        "colab_type": "code",
        "colab": {}
      },
      "source": [
        ""
      ],
      "execution_count": 0,
      "outputs": []
    }
  ]
}