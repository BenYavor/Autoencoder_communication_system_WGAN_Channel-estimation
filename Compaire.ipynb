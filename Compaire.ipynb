{
  "nbformat": 4,
  "nbformat_minor": 0,
  "metadata": {
    "colab": {
      "name": "Compaire.ipynb",
      "provenance": [],
      "include_colab_link": true
    },
    "kernelspec": {
      "name": "python3",
      "display_name": "Python 3"
    }
  },
  "cells": [
    {
      "cell_type": "markdown",
      "metadata": {
        "id": "view-in-github",
        "colab_type": "text"
      },
      "source": [
        "<a href=\"https://colab.research.google.com/github/BenYavor/Compairison_MI_GAN/blob/master/Compaire.ipynb\" target=\"_parent\"><img src=\"https://colab.research.google.com/assets/colab-badge.svg\" alt=\"Open In Colab\"/></a>"
      ]
    },
    {
      "cell_type": "code",
      "metadata": {
        "id": "Y3Mvn1V30ejH",
        "colab_type": "code",
        "outputId": "d19fea0f-0a39-44e1-97d6-9116f37d476c",
        "colab": {
          "base_uri": "https://localhost:8080/",
          "height": 644
        }
      },
      "source": [
        "!pip install tensorflow==2.0.0\n",
        "import numpy as np\n",
        "%matplotlib inline\n",
        "import matplotlib.pyplot as plt   \n",
        "import warnings\n",
        "with warnings.catch_warnings():\n",
        "    warnings.filterwarnings(\"ignore\",category=FutureWarning)\n",
        "    import tensorflow as tf\n",
        "import os\n",
        "tf.__version__\n",
        "from tensorflow import keras\n",
        "import time\n",
        "from __future__ import absolute_import, division, print_function, unicode_literals\n",
        "import pandas as pd\n",
        "import sys\n",
        "assert sys.version_info >= (3, 5)\n",
        "%matplotlib inline\n",
        "import matplotlib as mpl\n",
        "mpl.rc('axes', labelsize=14)\n",
        "mpl.rc('xtick', labelsize=12)\n",
        "mpl.rc('ytick', labelsize=12)\n",
        "import tensorflow as tf\n",
        "from tensorflow import keras\n",
        "from sklearn.preprocessing import OneHotEncoder\n",
        "import pandas as pd\n",
        "from scipy import special\n",
        "#from Clustering_Equalgrps.equal_groups import EqualGroupsKMeans\n",
        "from tensorflow.keras import layers\n",
        "np.random.seed(42)\n",
        "tf.random.set_seed(42)"
      ],
      "execution_count": 1,
      "outputs": [
        {
          "output_type": "stream",
          "text": [
            "Requirement already satisfied: tensorflow==2.0.0 in /usr/local/lib/python3.6/dist-packages (2.0.0)\n",
            "Requirement already satisfied: google-pasta>=0.1.6 in /usr/local/lib/python3.6/dist-packages (from tensorflow==2.0.0) (0.1.7)\n",
            "Requirement already satisfied: absl-py>=0.7.0 in /usr/local/lib/python3.6/dist-packages (from tensorflow==2.0.0) (0.8.1)\n",
            "Requirement already satisfied: grpcio>=1.8.6 in /usr/local/lib/python3.6/dist-packages (from tensorflow==2.0.0) (1.15.0)\n",
            "Requirement already satisfied: keras-applications>=1.0.8 in /usr/local/lib/python3.6/dist-packages (from tensorflow==2.0.0) (1.0.8)\n",
            "Requirement already satisfied: wheel>=0.26 in /usr/local/lib/python3.6/dist-packages (from tensorflow==2.0.0) (0.33.6)\n",
            "Requirement already satisfied: six>=1.10.0 in /usr/local/lib/python3.6/dist-packages (from tensorflow==2.0.0) (1.12.0)\n",
            "Requirement already satisfied: protobuf>=3.6.1 in /usr/local/lib/python3.6/dist-packages (from tensorflow==2.0.0) (3.10.0)\n",
            "Requirement already satisfied: gast==0.2.2 in /usr/local/lib/python3.6/dist-packages (from tensorflow==2.0.0) (0.2.2)\n",
            "Requirement already satisfied: keras-preprocessing>=1.0.5 in /usr/local/lib/python3.6/dist-packages (from tensorflow==2.0.0) (1.1.0)\n",
            "Requirement already satisfied: termcolor>=1.1.0 in /usr/local/lib/python3.6/dist-packages (from tensorflow==2.0.0) (1.1.0)\n",
            "Requirement already satisfied: astor>=0.6.0 in /usr/local/lib/python3.6/dist-packages (from tensorflow==2.0.0) (0.8.0)\n",
            "Requirement already satisfied: opt-einsum>=2.3.2 in /usr/local/lib/python3.6/dist-packages (from tensorflow==2.0.0) (3.1.0)\n",
            "Requirement already satisfied: tensorflow-estimator<2.1.0,>=2.0.0 in /usr/local/lib/python3.6/dist-packages (from tensorflow==2.0.0) (2.0.1)\n",
            "Requirement already satisfied: tensorboard<2.1.0,>=2.0.0 in /usr/local/lib/python3.6/dist-packages (from tensorflow==2.0.0) (2.0.1)\n",
            "Requirement already satisfied: numpy<2.0,>=1.16.0 in /usr/local/lib/python3.6/dist-packages (from tensorflow==2.0.0) (1.17.3)\n",
            "Requirement already satisfied: wrapt>=1.11.1 in /usr/local/lib/python3.6/dist-packages (from tensorflow==2.0.0) (1.11.2)\n",
            "Requirement already satisfied: h5py in /usr/local/lib/python3.6/dist-packages (from keras-applications>=1.0.8->tensorflow==2.0.0) (2.8.0)\n",
            "Requirement already satisfied: setuptools in /usr/local/lib/python3.6/dist-packages (from protobuf>=3.6.1->tensorflow==2.0.0) (41.4.0)\n",
            "Requirement already satisfied: google-auth<2,>=1.6.3 in /usr/local/lib/python3.6/dist-packages (from tensorboard<2.1.0,>=2.0.0->tensorflow==2.0.0) (1.7.0)\n",
            "Requirement already satisfied: markdown>=2.6.8 in /usr/local/lib/python3.6/dist-packages (from tensorboard<2.1.0,>=2.0.0->tensorflow==2.0.0) (3.1.1)\n",
            "Requirement already satisfied: google-auth-oauthlib<0.5,>=0.4.1 in /usr/local/lib/python3.6/dist-packages (from tensorboard<2.1.0,>=2.0.0->tensorflow==2.0.0) (0.4.1)\n",
            "Requirement already satisfied: werkzeug>=0.11.15 in /usr/local/lib/python3.6/dist-packages (from tensorboard<2.1.0,>=2.0.0->tensorflow==2.0.0) (0.16.0)\n",
            "Requirement already satisfied: pyasn1-modules>=0.2.1 in /usr/local/lib/python3.6/dist-packages (from google-auth<2,>=1.6.3->tensorboard<2.1.0,>=2.0.0->tensorflow==2.0.0) (0.2.7)\n",
            "Requirement already satisfied: cachetools<3.2,>=2.0.0 in /usr/local/lib/python3.6/dist-packages (from google-auth<2,>=1.6.3->tensorboard<2.1.0,>=2.0.0->tensorflow==2.0.0) (3.1.1)\n",
            "Requirement already satisfied: rsa<4.1,>=3.1.4 in /usr/local/lib/python3.6/dist-packages (from google-auth<2,>=1.6.3->tensorboard<2.1.0,>=2.0.0->tensorflow==2.0.0) (4.0)\n",
            "Requirement already satisfied: requests-oauthlib>=0.7.0 in /usr/local/lib/python3.6/dist-packages (from google-auth-oauthlib<0.5,>=0.4.1->tensorboard<2.1.0,>=2.0.0->tensorflow==2.0.0) (1.2.0)\n",
            "Requirement already satisfied: pyasn1<0.5.0,>=0.4.6 in /usr/local/lib/python3.6/dist-packages (from pyasn1-modules>=0.2.1->google-auth<2,>=1.6.3->tensorboard<2.1.0,>=2.0.0->tensorflow==2.0.0) (0.4.7)\n",
            "Requirement already satisfied: oauthlib>=3.0.0 in /usr/local/lib/python3.6/dist-packages (from requests-oauthlib>=0.7.0->google-auth-oauthlib<0.5,>=0.4.1->tensorboard<2.1.0,>=2.0.0->tensorflow==2.0.0) (3.1.0)\n",
            "Requirement already satisfied: requests>=2.0.0 in /usr/local/lib/python3.6/dist-packages (from requests-oauthlib>=0.7.0->google-auth-oauthlib<0.5,>=0.4.1->tensorboard<2.1.0,>=2.0.0->tensorflow==2.0.0) (2.21.0)\n",
            "Requirement already satisfied: urllib3<1.25,>=1.21.1 in /usr/local/lib/python3.6/dist-packages (from requests>=2.0.0->requests-oauthlib>=0.7.0->google-auth-oauthlib<0.5,>=0.4.1->tensorboard<2.1.0,>=2.0.0->tensorflow==2.0.0) (1.24.3)\n",
            "Requirement already satisfied: idna<2.9,>=2.5 in /usr/local/lib/python3.6/dist-packages (from requests>=2.0.0->requests-oauthlib>=0.7.0->google-auth-oauthlib<0.5,>=0.4.1->tensorboard<2.1.0,>=2.0.0->tensorflow==2.0.0) (2.8)\n",
            "Requirement already satisfied: certifi>=2017.4.17 in /usr/local/lib/python3.6/dist-packages (from requests>=2.0.0->requests-oauthlib>=0.7.0->google-auth-oauthlib<0.5,>=0.4.1->tensorboard<2.1.0,>=2.0.0->tensorflow==2.0.0) (2019.9.11)\n",
            "Requirement already satisfied: chardet<3.1.0,>=3.0.2 in /usr/local/lib/python3.6/dist-packages (from requests>=2.0.0->requests-oauthlib>=0.7.0->google-auth-oauthlib<0.5,>=0.4.1->tensorboard<2.1.0,>=2.0.0->tensorflow==2.0.0) (3.0.4)\n"
          ],
          "name": "stdout"
        }
      ]
    },
    {
      "cell_type": "markdown",
      "metadata": {
        "id": "1wlZswcMF7Rt",
        "colab_type": "text"
      },
      "source": [
        "#### Vergleich\n",
        "Als erstes für feste $k$ und $n$, was sich ändert ist die Samplesize, Anzahl der Samples und SNR"
      ]
    },
    {
      "cell_type": "markdown",
      "metadata": {
        "id": "4qpY-gawAf-9",
        "colab_type": "text"
      },
      "source": [
        "###Systemparameter\n",
        "ACHTUNG: CHANNELANZAHL WURDE UNTERSCHIEDLICH VERWENDET \\\\\n",
        "$k$ - die Anzhal der bits \\\\\n",
        "$M$ - Anzahl der unterschiedlichen Nachrichten \\\\\n",
        "$n$ - channel uses\\\\\n",
        "$N$ - Länge des Rauschvektors"
      ]
    },
    {
      "cell_type": "code",
      "metadata": {
        "colab_type": "code",
        "id": "czeNNfpY1qc2",
        "colab": {
          "base_uri": "https://localhost:8080/",
          "height": 35
        },
        "outputId": "3504c36d-8dbe-47c3-f3c8-bd33cd92fb91"
      },
      "source": [
        "k = 4      # Number of information bits per message, i.e., M=2**k\n",
        "M = 2**k\n",
        "n = 4    # Number of real channel uses per message\n",
        "#k = int(np.log2(M))\n",
        "#n = 2\n",
        "print(M)\n",
        "\n",
        "SNR = 7\n"
      ],
      "execution_count": 2,
      "outputs": [
        {
          "output_type": "stream",
          "text": [
            "16\n"
          ],
          "name": "stdout"
        }
      ]
    },
    {
      "cell_type": "markdown",
      "metadata": {
        "id": "BA4TqJBOXXIg",
        "colab_type": "text"
      },
      "source": [
        "## Training Parameter"
      ]
    },
    {
      "cell_type": "code",
      "metadata": {
        "id": "aJZ_cnp9V-Q6",
        "colab_type": "code",
        "colab": {}
      },
      "source": [
        "gen_learning_rate=0.0001 \n",
        "disc_learning_rate = 0.0001"
      ],
      "execution_count": 0,
      "outputs": []
    },
    {
      "cell_type": "markdown",
      "metadata": {
        "id": "tb-DiBwSN255",
        "colab_type": "text"
      },
      "source": [
        "### Different Layers"
      ]
    },
    {
      "cell_type": "code",
      "metadata": {
        "id": "hFMMLrY0LthL",
        "colab_type": "code",
        "colab": {}
      },
      "source": [
        "randN_initial = keras.initializers.RandomNormal(mean=0.0, stddev=0.05, seed=None)\n",
        "\n",
        "EncIn = tf.keras.layers.Input(shape=(M,))#, dtype= tf.int32)\n",
        "e1 = tf.keras.layers.Dense(2*n, activation=None)\n",
        "e2 = tf.keras.layers.Lambda(lambda x:tf.reshape(x, shape=[-1,int(n/2),2]))\n",
        "EncOut = tf.keras.layers.Lambda(lambda x: x/tf.sqrt(2*tf.reduce_mean(tf.square(x))))\n",
        "GenIn = tf.keras.layers.Lambda(lambda x:tf.reshape(x,(tf.shape(x)[0],-1)))\n",
        "# = tf.keras.layers.Lambda(generator)\n",
        "DecIn = tf.keras.layers.Lambda(lambda x:tf.reshape(x, shape=[-1,int(n/2),2]))\n",
        "d1 = tf.keras.layers.Lambda(lambda x:tf.reshape(x, shape=[-1,n]))\n",
        "d2 = tf.keras.layers.Dense(M, activation='relu')\n",
        "DecOut = tf.keras.layers.Dense(M, activation='softmax')\n",
        "\n",
        "\n",
        "#noise_std = EbNo_to_noise(TRAINING_SNR)\n",
        "# custom functions / layers without weights\n",
        "norm_layer = keras.layers.Lambda(lambda x: tf.divide(x,tf.sqrt(2*tf.reduce_mean(tf.square(x)))))\n",
        "shape_layer = keras.layers.Lambda(lambda x: tf.reshape(x, shape=[-1,2,n]))\n",
        "shape_layer2 = keras.layers.Lambda(lambda x: tf.reshape(x, shape=[-1,n]))\n",
        "channel_layer = keras.layers.Lambda(lambda x: x + tf.random.normal(tf.shape(x), mean=0.0, stddev=noise_std))"
      ],
      "execution_count": 0,
      "outputs": []
    },
    {
      "cell_type": "markdown",
      "metadata": {
        "id": "7J96hJhKO9VJ",
        "colab_type": "text"
      },
      "source": [
        "### Help functions"
      ]
    },
    {
      "cell_type": "code",
      "metadata": {
        "id": "uV7pjryDv4M4",
        "colab_type": "code",
        "colab": {
          "base_uri": "https://localhost:8080/",
          "height": 53
        },
        "outputId": "94b84149-5249-4d6b-c6ff-1a631a0932db"
      },
      "source": [
        "def EbNo2Sigma(ebnodb):\n",
        "    '''Convert Eb/No in dB to noise standard deviation'''\n",
        "    ebno = 10**(ebnodb/10)\n",
        "    return 1/np.sqrt(2*(2*k/n)*ebno)\n",
        "\n",
        "def EbNo_to_noise(ebnodb):\n",
        "    '''Transform EbNo[dB]/snr to noise power'''\n",
        "    ebno = 10**(ebnodb/10)\n",
        "    noise_std = 1/np.sqrt(2*(2*k/n)*ebno) \n",
        "    return noise_std\n",
        "\n",
        "\n",
        "def real_channel(x,noise_std):\n",
        "    # Black-box Channel\n",
        "    #AWGN\n",
        "    return x + tf.random.normal(tf.shape(x), mean=0.0, stddev=noise_std)\n",
        "\n",
        "    #Rayleigh\n",
        "    #return x + tf.sqrt(tf.square(tf.random_normal(tf.shape(x), mean=0.0, stddev=noise_std)) + tf.square(tf.random_normal(tf.shape(x), mean=0.0, stddev=noise_std)))\n",
        "    \n",
        "    #Uniform U(-3;3)    \n",
        "    #return x + tf.random_uniform(tf.shape(x), minval=-2, maxval=2)\n",
        "\n",
        "def B_Ber(input_msg, msg):\n",
        "    '''Calculate the Batch Bit Error Rate'''\n",
        "    pred_error = tf.not_equal(tf.argmax(msg, 1), tf.argmax(input_msg, 1))\n",
        "    bber = tf.reduce_mean(tf.cast(pred_error, tf.float32))\n",
        "    return bber\n",
        "\n",
        "def random_sample(batch_size=32):\n",
        "    msg = np.random.randint(M, size=batch_size)\n",
        "    return msg\n",
        "\n",
        "\n",
        "\n",
        "\n",
        "def B_Ber_m(input_msg, msg):\n",
        "    '''Calculate the Batch Bit Error Rate'''\n",
        "    pred_error = tf.not_equal(input_msg, tf.argmax(msg, 1))      \n",
        "    bber = tf.reduce_mean(tf.cast(pred_error, tf.float32))\n",
        "    return bber\n",
        "\n",
        "def SNR_to_noise(snrdb):\n",
        "    '''Transform EbNo[dB]/snr to noise power'''\n",
        "    snr = 10**(snrdb/10)\n",
        "    noise_std = 1/np.sqrt(2*snr)\n",
        "    return noise_std\n",
        "\n",
        "noise_std = EbNo2Sigma(SNR)\n",
        "\n",
        "print(EbNo2Sigma(SNR))\n",
        "print(EbNo_to_noise(SNR))"
      ],
      "execution_count": 5,
      "outputs": [
        {
          "output_type": "stream",
          "text": [
            "0.22334179607548157\n",
            "0.22334179607548157\n"
          ],
          "name": "stdout"
        }
      ]
    },
    {
      "cell_type": "code",
      "metadata": {
        "id": "OBGMgdDEh7uX",
        "colab_type": "code",
        "colab": {}
      },
      "source": [
        "def test_encoding(M=16, n=1):\n",
        "    inp = np.arange(0,M)\n",
        "    coding = gan_encoder.predict(inp)\n",
        "    fig = plt.figure(figsize=(4,4))\n",
        "    plt.plot(coding[:,0], coding[:, 1], \"b.\")\n",
        "    plt.xlabel(\"$x_1$\", fontsize=18)\n",
        "    plt.ylabel(\"$x_2$\", fontsize=18, rotation=0)\n",
        "    plt.grid(True)\n",
        "    plt.gca().set_ylim(-2, 2)\n",
        "    plt.gca().set_xlim(-2, 2)\n",
        "    plt.show()\n",
        "\n",
        "def test_noisy_codeword(data):\n",
        "    rcvd_word = data[1:2000]\n",
        "    fig = plt.figure(figsize=(4,4))\n",
        "    plt.plot(rcvd_word[:,0], rcvd_word[:, 1], \"b.\")\n",
        "    plt.xlabel(\"$x_1$\", fontsize=18)\n",
        "    plt.ylabel(\"$x_2$\", fontsize=18, rotation=0)\n",
        "    plt.grid(True)\n",
        "    plt.gca().set_ylim(-2, 2)\n",
        "    plt.gca().set_xlim(-2, 2)\n",
        "    plt.show()"
      ],
      "execution_count": 0,
      "outputs": []
    },
    {
      "cell_type": "markdown",
      "metadata": {
        "id": "AOoYuK_jR9rH",
        "colab_type": "text"
      },
      "source": [
        "# Models"
      ]
    },
    {
      "cell_type": "markdown",
      "metadata": {
        "id": "PQxhmgOa0_7c",
        "colab_type": "text"
      },
      "source": [
        "#### Generator Model"
      ]
    },
    {
      "cell_type": "code",
      "metadata": {
        "id": "LXbS5lM9Tb9B",
        "colab_type": "code",
        "colab": {}
      },
      "source": [
        "def get_generator(n):\n",
        "  input1 = tf.keras.layers.Input(shape=(n,))\n",
        "  x1 = tf.keras.layers.Dense(n)(input1)\n",
        "  input2 =tf.random.normal([tf.shape(input1)[0],n])\n",
        "  x2 = tf.keras.layers.Dense(n)(input2)\n",
        "  subtracted = tf.keras.layers.Concatenate(1)([x1, x2])\n",
        "  h1 = tf.keras.layers.Dense(32,use_bias=True,  activation='relu')(subtracted)\n",
        "  h2 = tf.keras.layers.Dense(32,use_bias=True, activation='relu')(h1)\n",
        "  out = tf.keras.layers.Dense(n, use_bias= True, activation='linear')(h2)\n",
        "  generator = tf.keras.models.Model(inputs=[input1], outputs=out)\n",
        "  return generator\n",
        "#keras.utils.plot_model(generator, 'Structure_of_MI_estimation.png', show_shapes=True)"
      ],
      "execution_count": 0,
      "outputs": []
    },
    {
      "cell_type": "markdown",
      "metadata": {
        "id": "Vt2rTP7hSFt4",
        "colab_type": "text"
      },
      "source": [
        "#### Discriminator Model "
      ]
    },
    {
      "cell_type": "code",
      "metadata": {
        "id": "97h2eMLeXS68",
        "colab_type": "code",
        "colab": {}
      },
      "source": [
        "def get_discriminator(n):\n",
        "  model = tf.keras.Sequential()\n",
        "  model.add(tf.keras.layers.Dense(32,use_bias=True, kernel_initializer=randN_initial,activation='relu',input_shape=((2*n,))))\n",
        "  #model.add(tf.keras.layers.Dense(32,use_bias=True, kernel_initializer=randN_initial, activation='relu'))\n",
        "  model.add(tf.keras.layers.Dense(1,use_bias=False, activation='sigmoid'))\n",
        "  return model\n"
      ],
      "execution_count": 0,
      "outputs": []
    },
    {
      "cell_type": "markdown",
      "metadata": {
        "id": "lcIzLZj5Seh9",
        "colab_type": "text"
      },
      "source": [
        "#### Encoder GAN Model"
      ]
    },
    {
      "cell_type": "code",
      "metadata": {
        "id": "sNHtzAC4SPBq",
        "colab_type": "code",
        "colab": {}
      },
      "source": [
        "def get_gan_encoder(M):\n",
        "  model = keras.models.Sequential([\n",
        "            keras.layers.Embedding(M, M, embeddings_initializer='glorot_normal'),\n",
        "            keras.layers.Dense(M, activation=\"elu\"),\n",
        "            keras.layers.Dense(n, activation=None),\n",
        "            e2,\n",
        "            EncOut,\n",
        "            GenIn])\n",
        "  return model\n"
      ],
      "execution_count": 0,
      "outputs": []
    },
    {
      "cell_type": "markdown",
      "metadata": {
        "id": "G5iCDE4dSL35",
        "colab_type": "text"
      },
      "source": [
        "#### decoder GAN Model"
      ]
    },
    {
      "cell_type": "code",
      "metadata": {
        "id": "C5KjEhDvSWQR",
        "colab_type": "code",
        "colab": {}
      },
      "source": [
        "def get_gan_decoder(M):\n",
        "   model= keras.models.Sequential([\n",
        "                #DecIn,\n",
        "                #d1,\n",
        "                \n",
        "                keras.layers.Dense(M, activation=\"elu\"),\n",
        "                keras.layers.Dense(M, activation=\"softmax\")\n",
        "                ])\n",
        "   return model"
      ],
      "execution_count": 0,
      "outputs": []
    },
    {
      "cell_type": "markdown",
      "metadata": {
        "id": "s-t76sYBtlP1",
        "colab_type": "text"
      },
      "source": [
        "### MI estimator Model"
      ]
    },
    {
      "cell_type": "code",
      "metadata": {
        "id": "jL9PYSKjIoOI",
        "colab_type": "code",
        "colab": {}
      },
      "source": [
        "randN_05 = keras.initializers.RandomNormal(mean=0.0, stddev=0.05, seed=None)\n",
        "bias_init = keras.initializers.Constant(0.01)\n",
        "\n",
        "input_A = keras.layers.Input(shape=[2*n])\n",
        "input_B = keras.layers.Input(shape=[2*n])\n",
        "    \n",
        "transform = keras.models.Sequential([\n",
        "layers.Dense(256, bias_initializer=bias_init, kernel_initializer=randN_05, activation=\"relu\"),\n",
        "#keras.layers.Dropout(rate=0.3), # To regularize higher dimensionality\n",
        "layers.Dense(256, bias_initializer=bias_init, kernel_initializer=randN_05, activation=\"relu\"),\n",
        "#keras.layers.Dropout(rate=0.3), # To regularize higher dimensionality\n",
        "layers.Dense(1, bias_initializer=bias_init, kernel_initializer=randN_05, activation=None)])\n",
        "\n",
        "output_A = transform(input_A)\n",
        "output_B = transform(input_B)\n",
        "output_C = tf.reduce_mean(output_A) - tf.math.log(tf.reduce_mean(tf.exp(output_B))) # MINE\n",
        "MI_mod = keras.models.Model(inputs=[input_A, input_B], outputs=output_C)\n",
        "\n",
        "#keras.utils.plot_model(MI_mod, 'Structure_of_MI_estimation.png', show_shapes=True)\n",
        "\n"
      ],
      "execution_count": 0,
      "outputs": []
    },
    {
      "cell_type": "code",
      "metadata": {
        "id": "cf_rmCXIt6af",
        "colab_type": "code",
        "colab": {}
      },
      "source": [
        "mi_encoder = keras.models.Sequential([\n",
        "            keras.layers.Embedding(M, M, embeddings_initializer='glorot_normal'),\n",
        "            keras.layers.Dense(M, activation=\"elu\"),\n",
        "            keras.layers.Dense(n, activation=None),\n",
        "            shape_layer,\n",
        "            norm_layer])\n",
        "\n",
        "mi_channel = keras.models.Sequential([channel_layer])\n",
        "\n",
        "mi_decoder = keras.models.Sequential([\n",
        "                keras.layers.InputLayer(input_shape=[2,int(n/2)]),\n",
        "                shape_layer2,\n",
        "                keras.layers.Dense(M, activation=\"elu\"),\n",
        "                keras.layers.Dense(M, activation=\"softmax\")\n",
        "                ])\n",
        "\n",
        "autoencoder = keras.models.Sequential([mi_encoder, mi_channel, mi_decoder])"
      ],
      "execution_count": 0,
      "outputs": []
    },
    {
      "cell_type": "code",
      "metadata": {
        "id": "n15AvPFO05gd",
        "colab_type": "code",
        "colab": {}
      },
      "source": [
        "def gan_optimizers(gen_learning_rate  ,disc_learning_rate):\n",
        "  generator_optimizer = tf.keras.optimizers.RMSprop(gen_learning_rate)      #RMSprop   in oreder to test where the error comes from\n",
        "  discriminator_optimizer = tf.keras.optimizers.RMSprop(disc_learning_rate) \n",
        "  return generator_optimizer, discriminator_optimizer"
      ],
      "execution_count": 0,
      "outputs": []
    },
    {
      "cell_type": "code",
      "metadata": {
        "id": "U4cPlvbWIoO5",
        "colab_type": "code",
        "colab": {}
      },
      "source": [
        "def plot_loss(step, epoch, mean_loss, X_batch, y_pred, plot_encoding):\n",
        "    template = 'Iteration: {}, Epoch: {}, Loss: {:.5f}, Batch_BER: {:.5f}'\n",
        "    if step % 10 == 0:\n",
        "        print(template.format(step, epoch, mean_loss.result(), B_Ber_m(X_batch, y_pred)))\n",
        "        if plot_encoding:\n",
        "            test_encoding()"
      ],
      "execution_count": 0,
      "outputs": []
    },
    {
      "cell_type": "code",
      "metadata": {
        "id": "r-0gFRfXIoPB",
        "colab_type": "code",
        "colab": {}
      },
      "source": [
        "def plot_batch_loss(epoch, mean_loss, X_batch, y_pred):\n",
        "        template_outer_loop = 'Interim result for Epoch: {}, Loss: {:.5f}, Batch_BER: {:.5f}'\n",
        "        print(template_outer_loop.format(epoch, mean_loss.result(), B_Ber_m(X_batch, y_pred)))"
      ],
      "execution_count": 0,
      "outputs": []
    },
    {
      "cell_type": "code",
      "metadata": {
        "id": "FcXv9vthIoPG",
        "colab_type": "code",
        "colab": {}
      },
      "source": [
        "def split_train_data(x_sample, y_sample):\n",
        "    x_shaped = tf.reshape(x_sample, shape=[-1,n])\n",
        "    y_shaped = tf.reshape(y_sample, shape=[-1,n])\n",
        "    x_sample1, x_sample2 = tf.split(x_shaped, num_or_size_splits=2)\n",
        "    y_sample1, y_sample2 = tf.split(y_shaped, num_or_size_splits=2)\n",
        "    joint_sample = tf.concat([x_sample1, y_sample1], axis=1)\n",
        "    marg_sample = tf.concat([x_sample2, y_sample1], axis=1)\n",
        "    return joint_sample, marg_sample"
      ],
      "execution_count": 0,
      "outputs": []
    },
    {
      "cell_type": "code",
      "metadata": {
        "id": "B6NAzlIiIoPM",
        "colab_type": "code",
        "colab": {}
      },
      "source": [
        "def train_mi(n_epochs=5, n_steps=20, batch_size=200, learning_rate=0.005):\n",
        "    optimizer_mi = keras.optimizers.Nadam(lr=learning_rate)\n",
        "    for epoch in range(1, n_epochs + 1): \n",
        "        print(\"Training in Epoch {}/{}\".format(epoch, n_epochs)) \n",
        "        for step in range(1, n_steps + 1):\n",
        "            X_batch = random_sample(batch_size*2)\n",
        "            with tf.GradientTape() as tape:\n",
        "                x_enc = mi_encoder(X_batch, training=True)\n",
        "                y_recv = mi_channel(x_enc)\n",
        "                joint_marg_s = split_train_data(x_enc, y_recv)\n",
        "                loss = -MI_mod(joint_marg_s)\n",
        "                gradients = tape.gradient(loss, MI_mod.trainable_variables) \n",
        "                optimizer_mi.apply_gradients(zip(gradients, MI_mod.trainable_variables))\n",
        "            mi_avg = -mean_loss(loss)\n",
        "        print('Epoch: {}, Mi is {}'.format(epoch, mi_avg))\n",
        "        mean_loss.reset_states()"
      ],
      "execution_count": 0,
      "outputs": []
    },
    {
      "cell_type": "code",
      "metadata": {
        "id": "P-4O8w_HIoPS",
        "colab_type": "code",
        "colab": {}
      },
      "source": [
        "def train_decoder(n_epochs=5, n_steps=20, batch_size=200, learning_rate=0.005, plot_encoding=True):\n",
        "    optimizer_ae = keras.optimizers.Nadam(lr=learning_rate)\n",
        "    for epoch in range(1, n_epochs + 1): \n",
        "        print(\"Training Bob in Epoch {}/{}\".format(epoch, n_epochs)) \n",
        "        for step in range(1, n_steps + 1):\n",
        "            X_batch  = random_sample(batch_size)\n",
        "            with tf.GradientTape() as tape:\n",
        "                y_pred = autoencoder(X_batch, training=True)\n",
        "                loss = tf.reduce_mean(loss_fn(X_batch, y_pred))\n",
        "                gradients = tape.gradient(loss, mi_decoder.trainable_variables) \n",
        "                optimizer_ae.apply_gradients(zip(gradients, mi_decoder.trainable_variables)) \n",
        "            mean_loss(loss)\n",
        "            plot_loss(step, epoch, mean_loss, X_batch, y_pred, plot_encoding)\n",
        "        plot_batch_loss(epoch, mean_loss, X_batch, y_pred) \n",
        "        mean_loss.reset_states()"
      ],
      "execution_count": 0,
      "outputs": []
    },
    {
      "cell_type": "code",
      "metadata": {
        "id": "MDCIupPhIoPY",
        "colab_type": "code",
        "colab": {}
      },
      "source": [
        "def train_encoder(n_epochs=5, n_steps=20, batch_size=200, learning_rate=0.05):\n",
        "    optimizer_mi = keras.optimizers.Nadam(lr=0.005)\n",
        "    optimizer_ae = keras.optimizers.Nadam(lr=learning_rate)\n",
        "    for epoch in range(1, n_epochs + 1): \n",
        "        print(\"Training Bob in Epoch {}/{}\".format(epoch, n_epochs)) \n",
        "        for step in range(1, n_steps + 1):\n",
        "            X_batch  = random_sample(batch_size)\n",
        "            with tf.GradientTape() as tape:\n",
        "                x_enc = mi_encoder(X_batch, training=True)\n",
        "                y_recv = mi_channel(x_enc)\n",
        "                joint_marg_s = split_train_data(x_enc, y_recv)\n",
        "                loss = -MI_mod(joint_marg_s)\n",
        "                gradients = tape.gradient(loss, mi_encoder.trainable_variables) \n",
        "                optimizer_ae.apply_gradients(zip(gradients, mi_encoder.trainable_variables))\n",
        "            mi_avg = -mean_loss(loss)\n",
        "        with tf.GradientTape() as tape:\n",
        "            X_batch  = random_sample(batch_size) \n",
        "            x_enc = mi_encoder(X_batch, training=True)\n",
        "            y_recv = mi_channel(x_enc)\n",
        "            joint_marg_s = split_train_data(x_enc, y_recv)\n",
        "            loss = -MI_mod(joint_marg_s)\n",
        "            gradients = tape.gradient(loss, MI_mod.trainable_variables) \n",
        "            optimizer_mi.apply_gradients(zip(gradients, MI_mod.trainable_variables))\n",
        "        print('Epoch: {}, Mi is {}'.format(epoch, mi_avg))\n",
        "       # test_encoding(M, 1)"
      ],
      "execution_count": 0,
      "outputs": []
    },
    {
      "cell_type": "code",
      "metadata": {
        "id": "ooDukkHvmduJ",
        "colab_type": "code",
        "outputId": "d6932a7b-3706-47f5-b152-bbda67f4bf00",
        "colab": {
          "base_uri": "https://localhost:8080/",
          "height": 53
        }
      },
      "source": [
        "%%time\n",
        "def train_gan(epochs,n_steps, batch_size, SNR_level):\n",
        "  noise_std = EbNo2Sigma(SNR_level)\n",
        "  start = time.time()\n",
        "  x = tf.random.normal((batch_size,n),dtype=tf.dtypes.float32) \n",
        "  x = x/tf.sqrt(2*tf.reduce_mean(tf.square(x)))\n",
        "  counter = 0\n",
        "  epoch = 0\n",
        "  for epoch in range(epochs):\n",
        "    counter += 1\n",
        "    train_step(noise_std, n_steps,batch_size)\n",
        "    if counter%100==0:\n",
        "      tf.print(\"counter %d:\" % (counter))\n",
        "      fake_c = generator(x)\n",
        "      tf.print(fake_c[0])\n",
        "    #print ('Time for epoch {} is {} sec,'.format(epoch + 1, time.time()-start))\n",
        "      tf.print ('Time for epoch {},'.format(epoch + 1))\n",
        "      \n",
        "  tf.saved_model.save(generator,'/tmp/saved_model/')\n",
        "  tf.print ('Time for the training is {} sec,'.format( time.time()-start))\n",
        "    "
      ],
      "execution_count": 20,
      "outputs": [
        {
          "output_type": "stream",
          "text": [
            "CPU times: user 4 µs, sys: 0 ns, total: 4 µs\n",
            "Wall time: 6.91 µs\n"
          ],
          "name": "stdout"
        }
      ]
    },
    {
      "cell_type": "code",
      "metadata": {
        "colab_type": "code",
        "id": "WE_JS7kgA1W-",
        "colab": {}
      },
      "source": [
        "@tf.function\n",
        "def train_step(noise_std,n_steps,batch_size):\n",
        "  x = tf.random.normal((batch_size,n),dtype=tf.dtypes.float32) \n",
        "  x = x/tf.sqrt(2*tf.reduce_mean(tf.square(x)))\n",
        "  for i in range(n_steps):\n",
        "    with tf.GradientTape() as gen_tape, tf.GradientTape() as disc_tape:\n",
        "      real_training_data = tf.concat(values=[real_channel(x,noise_std), x], axis=1)\n",
        "      fake_training_data = tf.concat(values=[generator(x),x], axis=1)\n",
        "      real_output = discriminator(real_training_data)\n",
        "      fake_output = discriminator(fake_training_data)\n",
        "      \n",
        "      \n",
        "      disc_loss = -tf.reduce_mean(tf.math.log(real_output) + tf.math.log(1. - fake_output))\n",
        "      gen_loss =-tf.reduce_mean(tf.math.log(fake_output))\n",
        "      \n",
        "      #tf.print(disc_loss,gen_loss)\n",
        "      \n",
        "      if tf.math.is_nan(disc_loss) == False:\n",
        "        gradients_of_discriminator = disc_tape.gradient(disc_loss, discriminator.trainable_variables)\n",
        "        discriminator_optimizer.apply_gradients(zip(gradients_of_discriminator, discriminator.trainable_variables))\n",
        "    \n",
        "      if i == 4:  \n",
        "        gradients_of_generator = gen_tape.gradient(gen_loss, generator.trainable_variables)\n",
        "        generator_optimizer.apply_gradients(zip(gradients_of_generator, generator.trainable_variables))\n",
        "\n"
      ],
      "execution_count": 0,
      "outputs": []
    },
    {
      "cell_type": "code",
      "metadata": {
        "id": "y82FQj3Jmvxx",
        "colab_type": "code",
        "colab": {}
      },
      "source": [
        "def creating_and_train_gan(epochs,n_steps, batch_size, SNR_level , n ):  #optional Leraning Rates\n",
        "  train_gan(epochs, n_steps, batch_size, SNR_level)\n",
        "  #4 after GAN training\n",
        "  generator.trainable = False\n",
        "  tf.print(generator.trainable)"
      ],
      "execution_count": 0,
      "outputs": []
    },
    {
      "cell_type": "code",
      "metadata": {
        "id": "dLTtFoV0IoPj",
        "colab_type": "code",
        "colab": {}
      },
      "source": [
        "def mi_Test_AE(data):\n",
        "    '''Calculate Bit Error for varying SNRs'''\n",
        "    snr_range = np.linspace(0, 15, 31)\n",
        "    bber_vec = [None] * len(snr_range)\n",
        "        \n",
        "    for db in range(len(snr_range)):           \n",
        "        noise_std = EbNo_to_noise(snr_range[db])\n",
        "        code_word = mi_encoder(data)\n",
        "        rcvd_word = code_word + tf.random.normal(tf.shape(code_word), mean=0.0, stddev=noise_std)\n",
        "        dcoded_msg = mi_decoder(rcvd_word)\n",
        "        bber_vec[db] = B_Ber_m(data, dcoded_msg)\n",
        "        if (db % 6 == 0) & (db > 0):\n",
        "            print(f'Progress: {db} of {30} parts')\n",
        "\n",
        "    return (snr_range, bber_vec)\n",
        "\n",
        "\n",
        "def Test_AE(data):\n",
        "    '''Calculate Bit Error for varying SNRs'''\n",
        "    snr_range = np.linspace(0, 15, 31)\n",
        "    bber_vec = [None] * len(snr_range)\n",
        "        \n",
        "    for db in range(len(snr_range)):           \n",
        "        noise_std = EbNo_to_noise(snr_range[db])\n",
        "        code_word = gan_encoder(data)\n",
        "        rcvd_word = real_channel(code_word,noise_std)\n",
        "        dcoded_msg = gan_decoder(rcvd_word)\n",
        "        bber_vec[db] = B_Ber_m(data, dcoded_msg)\n",
        "        if (db % 6 == 0) & (db > 0):\n",
        "            print(f'Progress: {db} of {30} parts')\n",
        "\n",
        "    return (snr_range, bber_vec)\n"
      ],
      "execution_count": 0,
      "outputs": []
    },
    {
      "cell_type": "markdown",
      "metadata": {
        "id": "3m0fQ6OXgPf1",
        "colab_type": "text"
      },
      "source": [
        "# GAN Training"
      ]
    },
    {
      "cell_type": "code",
      "metadata": {
        "id": "nNFwwZrcgOkn",
        "colab_type": "code",
        "outputId": "99290cb9-2b94-4ad4-be05-2bd64999f7aa",
        "colab": {
          "base_uri": "https://localhost:8080/",
          "height": 1000
        }
      },
      "source": [
        "%%time\n",
        "generator = get_generator(n)\n",
        "discriminator = get_discriminator(n)\n",
        "generator_optimizer, discriminator_optimizer = gan_optimizers(gen_learning_rate=gen_learning_rate, disc_learning_rate = disc_learning_rate)\n",
        "start = time.time()\n",
        "creating_and_train_gan(epochs= 5000,n_steps=5, batch_size =200, SNR_level = 7, n = n)\n",
        "time_to_train_gan = time.time()-start\n",
        "tf.print ('Time for the training is {} sec,'.format( time.time()-start))"
      ],
      "execution_count": 24,
      "outputs": [
        {
          "output_type": "stream",
          "text": [
            "counter 100:\n",
            "[0.056819275 -0.134253219 -0.195222989 0.277423203]\n",
            "Time for epoch 100,\n",
            "counter 200:\n",
            "[-0.00697374903 0.0777660161 -0.404278696 0.30164]\n",
            "Time for epoch 200,\n",
            "counter 300:\n",
            "[0.326189369 0.256025821 -0.357626975 0.319310486]\n",
            "Time for epoch 300,\n",
            "counter 400:\n",
            "[0.00689598639 0.231423736 -0.35024488 0.286076367]\n",
            "Time for epoch 400,\n",
            "counter 500:\n",
            "[-0.0311538726 0.216919199 0.192682281 -0.00382222794]\n",
            "Time for epoch 500,\n",
            "counter 600:\n",
            "[-0.262541026 -0.018206507 -0.372545153 0.0288648158]\n",
            "Time for epoch 600,\n",
            "counter 700:\n",
            "[-0.196567729 -0.0672830939 -0.680922508 -0.0773949]\n",
            "Time for epoch 700,\n",
            "counter 800:\n",
            "[0.182669207 0.107908227 -0.509592772 -0.377894431]\n",
            "Time for epoch 800,\n",
            "counter 900:\n",
            "[0.579246461 0.211819604 -0.129477203 -1.99690688]\n",
            "Time for epoch 900,\n",
            "counter 1000:\n",
            "[0.0377236046 0.275624692 -0.130206585 -0.984331191]\n",
            "Time for epoch 1000,\n",
            "counter 1100:\n",
            "[-0.780117452 -1.31046188 -0.194923669 -0.55256623]\n",
            "Time for epoch 1100,\n",
            "counter 1200:\n",
            "[-0.0531442724 0.175201833 -0.317386508 -1.52394605]\n",
            "Time for epoch 1200,\n",
            "counter 1300:\n",
            "[-0.202504069 -1.01704991 -0.388033926 -0.815235734]\n",
            "Time for epoch 1300,\n",
            "counter 1400:\n",
            "[-0.0377930254 1.16034329 0.264120668 -0.525524795]\n",
            "Time for epoch 1400,\n",
            "counter 1500:\n",
            "[-0.00691621564 0.544323087 0.398206085 -0.997378707]\n",
            "Time for epoch 1500,\n",
            "counter 1600:\n",
            "[0.164445341 0.373180479 0.00699293613 -0.775876403]\n",
            "Time for epoch 1600,\n",
            "counter 1700:\n",
            "[-0.0590594113 0.870056152 0.798992813 -0.820670247]\n",
            "Time for epoch 1700,\n",
            "counter 1800:\n",
            "[0.233310938 0.469662726 0.385214388 -1.14183939]\n",
            "Time for epoch 1800,\n",
            "counter 1900:\n",
            "[0.186871991 0.597336233 0.650094867 -0.979706764]\n",
            "Time for epoch 1900,\n",
            "counter 2000:\n",
            "[-0.0674929619 0.747164 -0.0409663655 -0.947889149]\n",
            "Time for epoch 2000,\n",
            "counter 2100:\n",
            "[-0.088469252 0.789853513 0.379375786 -0.939828753]\n",
            "Time for epoch 2100,\n",
            "counter 2200:\n",
            "[-0.200192213 0.94607532 0.357625842 -0.836636901]\n",
            "Time for epoch 2200,\n",
            "counter 2300:\n",
            "[-0.100864202 0.846025944 0.421891809 -1.0066179]\n",
            "Time for epoch 2300,\n",
            "counter 2400:\n",
            "[0.0977838635 0.7627666 0.317373812 -0.962592423]\n",
            "Time for epoch 2400,\n",
            "counter 2500:\n",
            "[0.144350812 1.02323735 -0.0164258033 -0.96806854]\n",
            "Time for epoch 2500,\n",
            "counter 2600:\n",
            "[0.00198930129 0.944240868 0.403465956 -1.0438329]\n",
            "Time for epoch 2600,\n",
            "counter 2700:\n",
            "[-0.261722088 0.512192488 0.409861445 -1.42279553]\n",
            "Time for epoch 2700,\n",
            "counter 2800:\n",
            "[0.104200989 0.939232051 0.228125229 -0.871376693]\n",
            "Time for epoch 2800,\n",
            "counter 2900:\n",
            "[0.00236983225 0.903823495 0.526403 -0.965949118]\n",
            "Time for epoch 2900,\n",
            "counter 3000:\n",
            "[-0.227980822 0.551728904 0.597694337 -1.44088781]\n",
            "Time for epoch 3000,\n",
            "counter 3100:\n",
            "[0.125450641 0.855160594 0.0839351937 -0.77636075]\n",
            "Time for epoch 3100,\n",
            "counter 3200:\n",
            "[0.070762828 0.835723817 0.117459878 -0.881679893]\n",
            "Time for epoch 3200,\n",
            "counter 3300:\n",
            "[0.137298673 0.627628744 0.77559644 -1.15756357]\n",
            "Time for epoch 3300,\n",
            "counter 3400:\n",
            "[-0.0551659465 0.818849146 0.563234806 -0.882545292]\n",
            "Time for epoch 3400,\n",
            "counter 3500:\n",
            "[-0.165139079 1.29735196 -0.137128577 -0.69021]\n",
            "Time for epoch 3500,\n",
            "counter 3600:\n",
            "[0.0493272021 0.790312707 0.773016214 -1.06513107]\n",
            "Time for epoch 3600,\n",
            "counter 3700:\n",
            "[0.134086162 0.657911599 0.640688956 -1.12330651]\n",
            "Time for epoch 3700,\n",
            "counter 3800:\n",
            "[0.0891131684 0.770498216 0.533664644 -1.18962944]\n",
            "Time for epoch 3800,\n",
            "counter 3900:\n",
            "[-0.133013308 0.760315418 0.547677517 -1.01303232]\n",
            "Time for epoch 3900,\n",
            "counter 4000:\n",
            "[0.0283727907 0.665066838 0.146287695 -1.05799651]\n",
            "Time for epoch 4000,\n",
            "counter 4100:\n",
            "[-0.0882648379 0.96671778 0.678817213 -1.03710079]\n",
            "Time for epoch 4100,\n",
            "counter 4200:\n",
            "[-0.0998456851 0.673622787 0.221631691 -1.08034885]\n",
            "Time for epoch 4200,\n",
            "counter 4300:\n",
            "[-0.192773432 0.766954899 0.258718252 -1.09250534]\n",
            "Time for epoch 4300,\n",
            "counter 4400:\n",
            "[-0.0295100547 0.570915103 0.166887581 -1.0326339]\n",
            "Time for epoch 4400,\n",
            "counter 4500:\n",
            "[0.0639644265 0.664835811 0.515980601 -1.39395285]\n",
            "Time for epoch 4500,\n",
            "counter 4600:\n",
            "[0.0302223 0.789635122 0.422890693 -0.585119486]\n",
            "Time for epoch 4600,\n",
            "counter 4700:\n",
            "[0.0330180712 0.775316715 0.519663572 -1.41978681]\n",
            "Time for epoch 4700,\n",
            "counter 4800:\n",
            "[-0.244455218 0.727836132 0.11557696 -0.972948313]\n",
            "Time for epoch 4800,\n",
            "counter 4900:\n",
            "[-0.165174961 0.78158313 0.221823514 -0.98737371]\n",
            "Time for epoch 4900,\n",
            "counter 5000:\n",
            "[0.144103631 0.464591861 0.697490215 -1.15972197]\n",
            "Time for epoch 5000,\n",
            "WARNING:tensorflow:From /usr/local/lib/python3.6/dist-packages/tensorflow_core/python/ops/resource_variable_ops.py:1781: calling BaseResourceVariable.__init__ (from tensorflow.python.ops.resource_variable_ops) with constraint is deprecated and will be removed in a future version.\n",
            "Instructions for updating:\n",
            "If using Keras pass *_constraint arguments to layers.\n",
            "INFO:tensorflow:Assets written to: /tmp/saved_model/assets\n",
            "Time for the training is 17.543745279312134 sec,\n",
            "False\n",
            "Time for the training is 17.55109214782715 sec,\n",
            "CPU times: user 25.2 s, sys: 607 ms, total: 25.8 s\n",
            "Wall time: 17.7 s\n"
          ],
          "name": "stdout"
        }
      ]
    },
    {
      "cell_type": "markdown",
      "metadata": {
        "id": "6GW2opX7SwMo",
        "colab_type": "text"
      },
      "source": [
        "\n",
        "# AE training"
      ]
    },
    {
      "cell_type": "code",
      "metadata": {
        "id": "FiuN3SZYpeTU",
        "colab_type": "code",
        "outputId": "8df3f54a-ed78-42a1-ce40-7697d6650694",
        "colab": {
          "base_uri": "https://localhost:8080/",
          "height": 428
        }
      },
      "source": [
        "%%time\n",
        "\n",
        "gan_decoder = get_gan_decoder(M)\n",
        "gan_encoder = get_gan_encoder(M)\n",
        "\n",
        "\n",
        "\n",
        "gan_AE = tf.keras.models.Sequential([gan_encoder,generator,gan_decoder])\n",
        "data, test_data = random_sample(10000000), random_sample(10000)\n",
        "start = time.time()\n",
        "gan_AE.compile(optimizer=keras.optimizers.Nadam(lr=0.005),loss='sparse_categorical_crossentropy',metrics=['accuracy'])\n",
        "history = gan_AE.fit(data, data, batch_size=500,steps_per_epoch=400, epochs=5)\n",
        "time_to_train_gan += time.time()-start\n",
        "tf.print ('Time for the training is {} sec,'.format( time.time()-start))\n",
        "gan_AE.summary()  "
      ],
      "execution_count": 25,
      "outputs": [
        {
          "output_type": "stream",
          "text": [
            "Train on 10000000 samples\n",
            "Epoch 1/5\n",
            "  196000/10000000 [..............................] - ETA: 3:13 - loss: 0.4006 - accuracy: 0.9319Epoch 2/5\n",
            "  198000/10000000 [..............................] - ETA: 1:28 - loss: 0.0292 - accuracy: 0.9955Epoch 3/5\n",
            "  195000/10000000 [..............................] - ETA: 1:37 - loss: 0.0152 - accuracy: 0.9972Epoch 4/5\n",
            "  194500/10000000 [..............................] - ETA: 1:29 - loss: 0.0105 - accuracy: 0.9979Epoch 5/5\n",
            "  198500/10000000 [..............................] - ETA: 1:22 - loss: 0.0073 - accuracy: 0.9986Time for the training is 11.302703619003296 sec,\n",
            "Model: \"sequential_8\"\n",
            "_________________________________________________________________\n",
            "Layer (type)                 Output Shape              Param #   \n",
            "=================================================================\n",
            "sequential_7 (Sequential)    (None, None)              596       \n",
            "_________________________________________________________________\n",
            "model_1 (Model)              (None, 4)                 1516      \n",
            "_________________________________________________________________\n",
            "sequential_6 (Sequential)    (None, 16)                352       \n",
            "=================================================================\n",
            "Total params: 2,464\n",
            "Trainable params: 948\n",
            "Non-trainable params: 1,516\n",
            "_________________________________________________________________\n",
            "CPU times: user 14.7 s, sys: 594 ms, total: 15.3 s\n",
            "Wall time: 11.8 s\n"
          ],
          "name": "stdout"
        }
      ]
    },
    {
      "cell_type": "markdown",
      "metadata": {
        "id": "ngrucnfWBOHl",
        "colab_type": "text"
      },
      "source": [
        "### Training MI"
      ]
    },
    {
      "cell_type": "code",
      "metadata": {
        "id": "CTnDsMN2IoOz",
        "colab_type": "code",
        "colab": {}
      },
      "source": [
        "loss_fn = keras.losses.SparseCategoricalCrossentropy()\n",
        "mean_loss = keras.metrics.Mean()"
      ],
      "execution_count": 0,
      "outputs": []
    },
    {
      "cell_type": "code",
      "metadata": {
        "id": "TZTfQcWRIoPn",
        "colab_type": "code",
        "outputId": "185b497e-dd8e-4af3-9e33-6e49c1dc7ccd",
        "colab": {
          "base_uri": "https://localhost:8080/",
          "height": 1000
        }
      },
      "source": [
        "%%time\n",
        "start = time.time()\n",
        "train_mi(n_epochs=1, n_steps=500, batch_size=100)\n",
        "train_encoder(n_epochs=5, n_steps=100, batch_size=500, learning_rate=0.005)\n",
        "#test_encoding(M, n)\n",
        "train_encoder(n_epochs=5, n_steps=100, batch_size=500, learning_rate=0.0005)\n",
        "#test_encoding(M, n)\n",
        "train_decoder(n_epochs=5, n_steps=100, batch_size=500, learning_rate=0.005, plot_encoding=False)\n",
        "time_to_train_mi= time.time()-start\n",
        "tf.print ('Time for the training is {} sec,'.format( time.time()-start))"
      ],
      "execution_count": 27,
      "outputs": [
        {
          "output_type": "stream",
          "text": [
            "Training in Epoch 1/1\n",
            "Epoch: 1, Mi is 2.4702372550964355\n",
            "Training Bob in Epoch 1/5\n",
            "Epoch: 1, Mi is 2.6811532974243164\n",
            "Training Bob in Epoch 2/5\n",
            "Epoch: 2, Mi is 2.723503828048706\n",
            "Training Bob in Epoch 3/5\n",
            "Epoch: 3, Mi is 2.7426393032073975\n",
            "Training Bob in Epoch 4/5\n",
            "Epoch: 4, Mi is 2.735182762145996\n",
            "Training Bob in Epoch 5/5\n",
            "Epoch: 5, Mi is 2.7382009029388428\n",
            "Training Bob in Epoch 1/5\n",
            "Epoch: 1, Mi is 2.7448718547821045\n",
            "Training Bob in Epoch 2/5\n",
            "Epoch: 2, Mi is 2.744248628616333\n",
            "Training Bob in Epoch 3/5\n",
            "Epoch: 3, Mi is 2.747088670730591\n",
            "Training Bob in Epoch 4/5\n",
            "Epoch: 4, Mi is 2.7494776248931885\n",
            "Training Bob in Epoch 5/5\n",
            "Epoch: 5, Mi is 2.747781991958618\n",
            "Training Bob in Epoch 1/5\n",
            "Iteration: 10, Epoch: 1, Loss: -2.69468, Batch_BER: 0.73400\n",
            "Iteration: 20, Epoch: 1, Loss: -2.64543, Batch_BER: 0.55800\n",
            "Iteration: 30, Epoch: 1, Loss: -2.60015, Batch_BER: 0.38200\n",
            "Iteration: 40, Epoch: 1, Loss: -2.55856, Batch_BER: 0.19400\n",
            "Iteration: 50, Epoch: 1, Loss: -2.52057, Batch_BER: 0.13000\n",
            "Iteration: 60, Epoch: 1, Loss: -2.48582, Batch_BER: 0.05200\n",
            "Iteration: 70, Epoch: 1, Loss: -2.45382, Batch_BER: 0.03200\n",
            "Iteration: 80, Epoch: 1, Loss: -2.42416, Batch_BER: 0.02400\n",
            "Iteration: 90, Epoch: 1, Loss: -2.39635, Batch_BER: 0.03000\n",
            "Iteration: 100, Epoch: 1, Loss: -2.37010, Batch_BER: 0.01400\n",
            "Interim result for Epoch: 1, Loss: -2.37010, Batch_BER: 0.01400\n",
            "Training Bob in Epoch 2/5\n",
            "Iteration: 10, Epoch: 2, Loss: 0.40337, Batch_BER: 0.00600\n",
            "Iteration: 20, Epoch: 2, Loss: 0.37179, Batch_BER: 0.00600\n",
            "Iteration: 30, Epoch: 2, Loss: 0.34425, Batch_BER: 0.00600\n",
            "Iteration: 40, Epoch: 2, Loss: 0.32042, Batch_BER: 0.00400\n",
            "Iteration: 50, Epoch: 2, Loss: 0.29999, Batch_BER: 0.00600\n",
            "Iteration: 60, Epoch: 2, Loss: 0.28242, Batch_BER: 0.00600\n",
            "Iteration: 70, Epoch: 2, Loss: 0.26665, Batch_BER: 0.00600\n",
            "Iteration: 80, Epoch: 2, Loss: 0.25238, Batch_BER: 0.00200\n",
            "Iteration: 90, Epoch: 2, Loss: 0.24002, Batch_BER: 0.00600\n",
            "Iteration: 100, Epoch: 2, Loss: 0.22848, Batch_BER: 0.00600\n",
            "Interim result for Epoch: 2, Loss: 0.22848, Batch_BER: 0.00600\n",
            "Training Bob in Epoch 3/5\n",
            "Iteration: 10, Epoch: 3, Loss: 0.11534, Batch_BER: 0.00200\n",
            "Iteration: 20, Epoch: 3, Loss: 0.11027, Batch_BER: 0.00200\n",
            "Iteration: 30, Epoch: 3, Loss: 0.10584, Batch_BER: 0.00600\n",
            "Iteration: 40, Epoch: 3, Loss: 0.10205, Batch_BER: 0.00600\n",
            "Iteration: 50, Epoch: 3, Loss: 0.09879, Batch_BER: 0.00200\n",
            "Iteration: 60, Epoch: 3, Loss: 0.09601, Batch_BER: 0.00000\n",
            "Iteration: 70, Epoch: 3, Loss: 0.09312, Batch_BER: 0.00400\n",
            "Iteration: 80, Epoch: 3, Loss: 0.09034, Batch_BER: 0.00400\n",
            "Iteration: 90, Epoch: 3, Loss: 0.08822, Batch_BER: 0.00000\n",
            "Iteration: 100, Epoch: 3, Loss: 0.08569, Batch_BER: 0.00200\n",
            "Interim result for Epoch: 3, Loss: 0.08569, Batch_BER: 0.00200\n",
            "Training Bob in Epoch 4/5\n",
            "Iteration: 10, Epoch: 4, Loss: 0.06218, Batch_BER: 0.00400\n",
            "Iteration: 20, Epoch: 4, Loss: 0.06112, Batch_BER: 0.00400\n",
            "Iteration: 30, Epoch: 4, Loss: 0.05911, Batch_BER: 0.00400\n",
            "Iteration: 40, Epoch: 4, Loss: 0.05811, Batch_BER: 0.00200\n",
            "Iteration: 50, Epoch: 4, Loss: 0.05677, Batch_BER: 0.00000\n",
            "Iteration: 60, Epoch: 4, Loss: 0.05540, Batch_BER: 0.00600\n",
            "Iteration: 70, Epoch: 4, Loss: 0.05423, Batch_BER: 0.00000\n",
            "Iteration: 80, Epoch: 4, Loss: 0.05307, Batch_BER: 0.00600\n",
            "Iteration: 90, Epoch: 4, Loss: 0.05227, Batch_BER: 0.00800\n",
            "Iteration: 100, Epoch: 4, Loss: 0.05137, Batch_BER: 0.00200\n",
            "Interim result for Epoch: 4, Loss: 0.05137, Batch_BER: 0.00200\n",
            "Training Bob in Epoch 5/5\n",
            "Iteration: 10, Epoch: 5, Loss: 0.04185, Batch_BER: 0.00400\n",
            "Iteration: 20, Epoch: 5, Loss: 0.04145, Batch_BER: 0.00600\n",
            "Iteration: 30, Epoch: 5, Loss: 0.04066, Batch_BER: 0.00400\n",
            "Iteration: 40, Epoch: 5, Loss: 0.03955, Batch_BER: 0.00200\n",
            "Iteration: 50, Epoch: 5, Loss: 0.03865, Batch_BER: 0.00200\n",
            "Iteration: 60, Epoch: 5, Loss: 0.03784, Batch_BER: 0.00000\n",
            "Iteration: 70, Epoch: 5, Loss: 0.03752, Batch_BER: 0.00200\n",
            "Iteration: 80, Epoch: 5, Loss: 0.03698, Batch_BER: 0.00800\n",
            "Iteration: 90, Epoch: 5, Loss: 0.03688, Batch_BER: 0.00600\n",
            "Iteration: 100, Epoch: 5, Loss: 0.03662, Batch_BER: 0.01000\n",
            "Interim result for Epoch: 5, Loss: 0.03662, Batch_BER: 0.01000\n",
            "Time for the training is 63.574159383773804 sec,\n",
            "CPU times: user 1min 3s, sys: 5.88 s, total: 1min 9s\n",
            "Wall time: 1min 3s\n"
          ],
          "name": "stdout"
        }
      ]
    },
    {
      "cell_type": "code",
      "metadata": {
        "id": "D5B2TUanPC5d",
        "colab_type": "code",
        "outputId": "efa17702-075a-40c8-c41e-0b31ca6ceedd",
        "colab": {
          "base_uri": "https://localhost:8080/",
          "height": 295
        }
      },
      "source": [
        "gan_encoder.trainable = False\n",
        "gan_decoder.trainable = False\n",
        "\n",
        "test_encoding(M,n)   \n"
      ],
      "execution_count": 28,
      "outputs": [
        {
          "output_type": "display_data",
          "data": {
            "image/png": "[encoded data removed]",
            "text/plain": [
              "<Figure size 288x288 with 1 Axes>"
            ]
          },
          "metadata": {
            "tags": []
          }
        }
      ]
    },
    {
      "cell_type": "code",
      "metadata": {
        "id": "ukO76l6yIoPc",
        "colab_type": "code",
        "colab": {}
      },
      "source": [
        "# test msg sequence for normal encoding\n",
        "N_test = 500000\n",
        "test_msg = np.random.randint(M, size=N_test)"
      ],
      "execution_count": 0,
      "outputs": []
    },
    {
      "cell_type": "code",
      "metadata": {
        "colab_type": "code",
        "outputId": "146ad3fb-6c30-421c-804d-73faefb892df",
        "id": "RzC-yCM_wKW9",
        "colab": {
          "base_uri": "https://localhost:8080/",
          "height": 106
        }
      },
      "source": [
        "mi_bber_data = mi_Test_AE(test_msg)"
      ],
      "execution_count": 30,
      "outputs": [
        {
          "output_type": "stream",
          "text": [
            "Progress: 6 of 30 parts\n",
            "Progress: 12 of 30 parts\n",
            "Progress: 18 of 30 parts\n",
            "Progress: 24 of 30 parts\n",
            "Progress: 30 of 30 parts\n"
          ],
          "name": "stdout"
        }
      ]
    },
    {
      "cell_type": "code",
      "metadata": {
        "id": "7M-S0sbhIoPw",
        "colab_type": "code",
        "outputId": "6bc88c0b-bd67-45cc-c295-dcefe9adb716",
        "colab": {
          "base_uri": "https://localhost:8080/",
          "height": 106
        }
      },
      "source": [
        "gan_bber_data = Test_AE(test_msg)"
      ],
      "execution_count": 31,
      "outputs": [
        {
          "output_type": "stream",
          "text": [
            "Progress: 6 of 30 parts\n",
            "Progress: 12 of 30 parts\n",
            "Progress: 18 of 30 parts\n",
            "Progress: 24 of 30 parts\n",
            "Progress: 30 of 30 parts\n"
          ],
          "name": "stdout"
        }
      ]
    },
    {
      "cell_type": "code",
      "metadata": {
        "id": "UYdEm0eQIoP2",
        "colab_type": "code",
        "outputId": "9386081a-dea2-44cd-e8f4-fbf8b1d7327b",
        "colab": {
          "base_uri": "https://localhost:8080/",
          "height": 388
        }
      },
      "source": [
        "# Approximate 16 QAM Error\n",
        "def SIXT_QAM_sim(ebno):\n",
        "    return (3.0/2)*special.erfc(np.sqrt((4.0/10)*10.**(ebno/10)))\n",
        "\n",
        "ebnodbs = np.linspace(0,15,16)\n",
        "fig = plt.figure(figsize=(8, 5))\n",
        "plt.semilogy(mi_bber_data[0], mi_bber_data[1], 'o-')\n",
        "plt.semilogy(gan_bber_data[0], gan_bber_data[1], '^-')\n",
        "plt.semilogy(ebnodbs, SIXT_QAM_sim(ebnodbs), '*-');\n",
        "plt.gca().set_ylim(1e-5, 1)\n",
        "plt.gca().set_xlim(0, 15)\n",
        "plt.ylabel(\"Batch Symbol Error Rate\", fontsize=14, rotation=90)\n",
        "plt.xlabel(\"SNR [dB]\", fontsize=18)\n",
        "plt.legend(['AE with MINE','AE with GAN', '16QAM'],\n",
        "           prop={'size': 14}, loc='upper right');\n",
        "plt.grid(True, which=\"both\")\n",
        "\n",
        "print('time to train the AE Model with MI',time_to_train_mi)\n",
        "print('time to train the AE Model with GAN',time_to_train_gan)"
      ],
      "execution_count": 32,
      "outputs": [
        {
          "output_type": "stream",
          "text": [
            "time to train the AE Model with MI 63.57415509223938\n",
            "time to train the AE Model with GAN 28.8537859916687\n"
          ],
          "name": "stdout"
        },
        {
          "output_type": "display_data",
          "data": {
            "image/png": "[encoded data removed]",
            "text/plain": [
              "<Figure size 576x360 with 1 Axes>"
            ]
          },
          "metadata": {
            "tags": []
          }
        }
      ]
    },
    {
      "cell_type": "code",
      "metadata": {
        "id": "bBes21qLlcS8",
        "colab_type": "code",
        "colab": {}
      },
      "source": [
        ""
      ],
      "execution_count": 0,
      "outputs": []
    }
  ]
}